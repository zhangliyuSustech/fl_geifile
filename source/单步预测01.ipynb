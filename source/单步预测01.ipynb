{
 "cells": [
  {
   "cell_type": "code",
   "execution_count": null,
   "outputs": [],
   "source": [],
   "metadata": {
    "collapsed": false,
    "pycharm": {
     "name": "#%%\n"
    }
   }
  },
  {
   "cell_type": "code",
   "execution_count": 1,
   "metadata": {
    "collapsed": true
   },
   "outputs": [],
   "source": [
    "import numpy as np\n",
    "import matplotlib.pyplot as plt\n",
    "import pandas as pd\n",
    "import os\n",
    "import gmplot\n",
    "import torch\n",
    "from torch import nn\n",
    "from tqdm import tqdm\n",
    "from tqdm import trange\n",
    "import h3\n",
    "from collections import OrderedDict\n",
    "from sklearn.preprocessing import  OneHotEncoder\n",
    "import torch.nn.functional as F\n"
   ]
  },
  {
   "cell_type": "code",
   "execution_count": 2,
   "outputs": [],
   "source": [
    "\n",
    "def dataset(user,start,end,step):\n",
    "\n",
    "    userdata =  '../Geolife Trajectories 1.3/Data/'+user+'/Trajectory/'\n",
    "    filelist = os.listdir(userdata)  #返回指定路径下所有文件和文件夹的名字，并存放于一个列表中\n",
    "    filelist.sort()\n",
    "    names = ['lat','lng','zero','alt','days','date','time']\n",
    "    df_list = [# f为文件索引号，header为列数，names为列表列名，index_col为行索引的列编号或列名\n",
    "    pd.read_csv(userdata + f,header=6,names=names,index_col=False)\n",
    "    for f in filelist[start:end]]\n",
    "    df = pd.concat(df_list, ignore_index=True) #表格列字段不同的表合并\n",
    "    df.drop(['zero', 'days'], axis=1, inplace=True) #drop函数默认删除行，列需要加axis = 1\n",
    "    df_min = df.iloc[::step, :]\n",
    "    return df_min\n",
    "def synthetic_data(df_min):\n",
    "    a =df_min['lat'].tolist()\n",
    "    b = df_min['lng'].tolist()\n",
    "    a = torch.tensor(a,dtype=torch.float,requires_grad=True).reshape((-1, 1))\n",
    "    b = torch.tensor(b,dtype=torch.float,requires_grad=True).reshape((-1, 1))\n",
    "    features = torch.concat([a,b],1)\n",
    "    return features\n",
    "#返回（经度，纬度） shape：torch.Size([368, 2])\n",
    "\n",
    "# 这个提取出来有5个维度\n",
    "train_dataset = dataset(\"006\",0,20,20)\n",
    "test_dataset =  dataset(\"006\",20,25,20)\n",
    "# 这个提取出来有2个维度\n",
    "train_data = synthetic_data(train_dataset)\n",
    "test_data = synthetic_data(test_dataset)\n",
    "all_data =torch.concat([train_data,test_data],0)\n",
    "\n",
    "\n",
    "\n",
    "\n",
    "\n",
    "def draw(list,number,b,k):\n",
    "    new_list = torch.tensor(list)\n",
    "    lat = []\n",
    "    lng = []\n",
    "    for i in new_list:\n",
    "        lat.append(i[0])\n",
    "        lng.append(i[1])\n",
    "    old_lat = torch.stack(lat[:k-1])\n",
    "    old_lng =torch.stack(lng[:k-1])\n",
    "    print(old_lat)\n",
    "    print(old_lng)\n",
    "    lat_predict = (lat[k-1:])\n",
    "    lng_predict = (lng[k-1:])\n",
    "    print(lat_predict)\n",
    "    print(lng_predict)\n",
    "    lat = torch.stack(lat)\n",
    "    lng =torch.stack(lng)\n",
    "    gmap = gmplot.GoogleMapPlotter(lat[0], lng[0], b)\n",
    "    gmap.plot(lat, lng,color='b',lw=20)  #描绘轨迹点\n",
    "    gmap.plot(lat_predict, lng_predict,color='r',lw=20)  #描绘轨迹点\n",
    "    gmap.draw(\"user{}.html\".format(number))   #显示图\n",
    "    print(\"over\")\n",
    "def geo_t_h3_norepeat(data):\n",
    "        h3_list =OrderedDict()\n",
    "        for i in data:\n",
    "            a = h3.geo_to_h3(i[0], i[1], 10)\n",
    "            # print(a)\n",
    "            h3_list.setdefault(a)\n",
    "        #这这里去掉h3的重复\n",
    "        return h3_list\n",
    "def h3_t_geo(data):\n",
    "    new_list = []\n",
    "    for i in data:\n",
    "        i =h3.h3_to_geo(i)\n",
    "        new_list.append(i)\n",
    "    return new_list\n",
    "def generate_h3_list(data,label='repeat'):\n",
    "    if label=='no-repeat':\n",
    "        #不可重复的\n",
    "        alist = geo_t_h3_norepeat(data)\n",
    "        # print(type(alist))\n",
    "        LIST = list(alist.keys())\n",
    "        return np.array(LIST)\n",
    "    elif label=='repeat':\n",
    "        LIST=[]\n",
    "        for temp in data:\n",
    "            LIST.append(h3.geo_to_h3(temp[0],temp[1],10))\n",
    "        return np.array(LIST)\n",
    "    else:\n",
    "        return np.array([])\n",
    "    \n",
    "    \n",
    "    \n",
    "# 搞一个批量训练的模型"
   ],
   "metadata": {
    "collapsed": false,
    "pycharm": {
     "name": "#%%\n"
    }
   }
  },
  {
   "cell_type": "code",
   "execution_count": 3,
   "outputs": [],
   "source": [
    "Train_h3_list  = generate_h3_list(train_data,label='repeat')\n",
    "Test_h3_list   = generate_h3_list(test_data,label='repeat')\n",
    "#这个词典\n",
    "vocab = generate_h3_list(all_data,label='no-repeat')\n",
    "\n",
    "encoder = OneHotEncoder(sparse=False).fit(vocab.reshape(-1,1))\n",
    "\n",
    "\n",
    "def encoding(data):\n",
    "    return encoder.transform(data.reshape(-1,1))\n",
    "def decoding(one_hot_data):\n",
    "    return encoder.inverse_transform(one_hot_data)\n",
    "\n",
    "\n",
    "# 可以通过idnex找到对应的h3\n",
    "index_h  = dict(enumerate(vocab))\n",
    "# 可以通过h3编码找到对应的index\n",
    "h_index ={h3:i for i ,h3 in index_h.items()}\n",
    "\n",
    "\n",
    "def label_encode(data):\n",
    "    return np.array([h_index[ch] for ch in data])\n",
    "def label_decode(data):\n",
    "    return np.array([index_h[ch] for ch in data])\n",
    "\n",
    "\n"
   ],
   "metadata": {
    "collapsed": false,
    "pycharm": {
     "name": "#%%\n"
    }
   }
  },
  {
   "cell_type": "code",
   "execution_count": 4,
   "outputs": [],
   "source": [
    "#y是一个列表，k是步长\n",
    "def dataloader(y,k):\n",
    "    data =[]\n",
    "    for i in range(len(y)-k+1):\n",
    "        indata = y[i:i+k]\n",
    "        outdata = y[i+k:i+k+1]\n",
    "        data.append((indata,outdata))\n",
    "    return data\n",
    "\n",
    "# def test_dataloader(y,k):\n",
    "\n",
    "train_dataloader = dataloader(Train_h3_list,10)\n",
    "test_dataloader =dataloader(Test_h3_list,10)\n",
    "#暂时不加批量训练\n",
    "# def data_loader(dataset,batchsize,drop_last=True):\n",
    "#     for i in range(0,len(dataset)-batchsize+1,batchsize):\n",
    "#         batch = dataset[i:i+batchsize]\n",
    "#         batch"
   ],
   "metadata": {
    "collapsed": false,
    "pycharm": {
     "name": "#%%\n"
    }
   }
  },
  {
   "cell_type": "code",
   "execution_count": 5,
   "outputs": [],
   "source": [
    "\n",
    "device = 'cuda' if torch.cuda.is_available() else 'cpu'\n",
    "class RNN(nn.Module):\n",
    "    def __init__(self,vocab) -> None:\n",
    "        super().__init__()\n",
    "        self.vocab = vocab\n",
    "        self.model =nn.LSTM(\n",
    "            input_size=vocab,\n",
    "            hidden_size=320,\n",
    "            batch_first=True,\n",
    "            bias=True\n",
    "        )\n",
    "\n",
    "        self.output = nn.Sequential(\n",
    "            nn.Linear(320,vocab)\n",
    "            # nn.ReLU()\n",
    "        )\n",
    "\n",
    "    def forward(self,x):\n",
    "        r_out,(h_out,c_out) = self.model(x.view(1,10,self.vocab) ,None)\n",
    "        outdata = self.output(r_out[:,-1,:])\n",
    "        return outdata\n",
    "    # def forward(self, inputs, state):\n",
    "    #     X = F.one_hot(inputs.T.long(), self.vocab_size)\n",
    "    #     X = X.to(torch.float32)\n",
    "    #     Y, state = self.rnn(X, state)\n",
    "    #     # The fully connected layer will first change the shape of `Y` to\n",
    "    #     # (`num_steps` * `batch_size`, `num_hiddens`). Its output shape is\n",
    "    #     # (`num_steps` * `batch_size`, `vocab_size`).\n",
    "    #     output = self.linear(Y.reshape((-1, Y.shape[-1])))\n",
    "    #     return output, state\n",
    "\n",
    "\n",
    "net = RNN(len(vocab)).to(device)\n",
    "net=nn.DataParallel(net)\n",
    "optimizer = torch.optim.SGD(net.parameters(),lr = 0.1,momentum=0.8)\n",
    "optimizer_scheduler = torch.optim.lr_scheduler.StepLR(optimizer, step_size=20, gamma=0.5)\n",
    "loss_function = nn.CrossEntropyLoss()"
   ],
   "metadata": {
    "collapsed": false,
    "pycharm": {
     "name": "#%%\n"
    }
   }
  },
  {
   "cell_type": "code",
   "execution_count": 6,
   "outputs": [
    {
     "name": "stderr",
     "output_type": "stream",
     "text": [
      "  0%|          | 0/200 [00:00<?, ?it/s]C:\\Users\\zhangliyu\\.conda\\envs\\limuconda\\lib\\site-packages\\torch\\optim\\lr_scheduler.py:129: UserWarning: Detected call of `lr_scheduler.step()` before `optimizer.step()`. In PyTorch 1.1.0 and later, you should call them in the opposite order: `optimizer.step()` before `lr_scheduler.step()`.  Failure to do this will result in PyTorch skipping the first value of the learning rate schedule. See more details at https://pytorch.org/docs/stable/optim.html#how-to-adjust-learning-rate\n",
      "  warnings.warn(\"Detected call of `lr_scheduler.step()` before `optimizer.step()`. \"\n"
     ]
    },
    {
     "name": "stdout",
     "output_type": "stream",
     "text": [
      "--------------Epochs200 | 0---------------\n",
      "Train Loss : 6890.24169921875\n"
     ]
    },
    {
     "name": "stderr",
     "output_type": "stream",
     "text": [
      "  0%|          | 1/200 [00:10<35:57, 10.84s/it]"
     ]
    },
    {
     "name": "stdout",
     "output_type": "stream",
     "text": [
      "Val Loss : 4269.48876953125\n"
     ]
    },
    {
     "name": "stderr",
     "output_type": "stream",
     "text": [
      "  1%|          | 2/200 [00:16<25:30,  7.73s/it]"
     ]
    },
    {
     "name": "stdout",
     "output_type": "stream",
     "text": [
      "--------------Epochs200 | 1---------------\n",
      "Train Loss : 6085.83544921875\n"
     ]
    },
    {
     "name": "stderr",
     "output_type": "stream",
     "text": [
      "  2%|▏         | 3/200 [00:21<22:04,  6.72s/it]"
     ]
    },
    {
     "name": "stdout",
     "output_type": "stream",
     "text": [
      "--------------Epochs200 | 2---------------\n",
      "Train Loss : 5658.580078125\n"
     ]
    },
    {
     "name": "stderr",
     "output_type": "stream",
     "text": [
      "  2%|▏         | 4/200 [00:28<21:31,  6.59s/it]"
     ]
    },
    {
     "name": "stdout",
     "output_type": "stream",
     "text": [
      "--------------Epochs200 | 3---------------\n",
      "Train Loss : 5285.52294921875\n"
     ]
    },
    {
     "name": "stderr",
     "output_type": "stream",
     "text": [
      "  2%|▎         | 5/200 [00:34<21:18,  6.56s/it]"
     ]
    },
    {
     "name": "stdout",
     "output_type": "stream",
     "text": [
      "--------------Epochs200 | 4---------------\n",
      "Train Loss : 5482.9169921875\n",
      "--------------Epochs200 | 5---------------\n",
      "Train Loss : 5174.73388671875\n"
     ]
    },
    {
     "name": "stderr",
     "output_type": "stream",
     "text": [
      "  3%|▎         | 6/200 [00:41<21:44,  6.72s/it]"
     ]
    },
    {
     "name": "stdout",
     "output_type": "stream",
     "text": [
      "Val Loss : 4978.63623046875\n"
     ]
    },
    {
     "name": "stderr",
     "output_type": "stream",
     "text": [
      "  4%|▎         | 7/200 [00:48<21:03,  6.55s/it]"
     ]
    },
    {
     "name": "stdout",
     "output_type": "stream",
     "text": [
      "--------------Epochs200 | 6---------------\n",
      "Train Loss : 5060.25537109375\n"
     ]
    },
    {
     "name": "stderr",
     "output_type": "stream",
     "text": [
      "  4%|▍         | 8/200 [00:54<20:51,  6.52s/it]"
     ]
    },
    {
     "name": "stdout",
     "output_type": "stream",
     "text": [
      "--------------Epochs200 | 7---------------\n",
      "Train Loss : 5028.72998046875\n"
     ]
    },
    {
     "name": "stderr",
     "output_type": "stream",
     "text": [
      "  4%|▍         | 9/200 [01:01<20:51,  6.55s/it]"
     ]
    },
    {
     "name": "stdout",
     "output_type": "stream",
     "text": [
      "--------------Epochs200 | 8---------------\n",
      "Train Loss : 5118.19091796875\n"
     ]
    },
    {
     "name": "stderr",
     "output_type": "stream",
     "text": [
      "  5%|▌         | 10/200 [01:08<21:29,  6.79s/it]"
     ]
    },
    {
     "name": "stdout",
     "output_type": "stream",
     "text": [
      "--------------Epochs200 | 9---------------\n",
      "Train Loss : 5081.669921875\n",
      "--------------Epochs200 | 10---------------\n",
      "Train Loss : 4904.21728515625\n"
     ]
    },
    {
     "name": "stderr",
     "output_type": "stream",
     "text": [
      "  6%|▌         | 11/200 [01:16<22:27,  7.13s/it]"
     ]
    },
    {
     "name": "stdout",
     "output_type": "stream",
     "text": [
      "Val Loss : 5007.83837890625\n"
     ]
    },
    {
     "name": "stderr",
     "output_type": "stream",
     "text": [
      "  6%|▌         | 12/200 [01:21<20:52,  6.66s/it]"
     ]
    },
    {
     "name": "stdout",
     "output_type": "stream",
     "text": [
      "--------------Epochs200 | 11---------------\n",
      "Train Loss : 4697.98046875\n"
     ]
    },
    {
     "name": "stderr",
     "output_type": "stream",
     "text": [
      "  6%|▋         | 13/200 [01:27<19:27,  6.25s/it]"
     ]
    },
    {
     "name": "stdout",
     "output_type": "stream",
     "text": [
      "--------------Epochs200 | 12---------------\n",
      "Train Loss : 4647.92626953125\n"
     ]
    },
    {
     "name": "stderr",
     "output_type": "stream",
     "text": [
      "  7%|▋         | 14/200 [01:32<18:38,  6.02s/it]"
     ]
    },
    {
     "name": "stdout",
     "output_type": "stream",
     "text": [
      "--------------Epochs200 | 13---------------\n",
      "Train Loss : 4693.5888671875\n"
     ]
    },
    {
     "name": "stderr",
     "output_type": "stream",
     "text": [
      "  8%|▊         | 15/200 [01:38<18:20,  5.95s/it]"
     ]
    },
    {
     "name": "stdout",
     "output_type": "stream",
     "text": [
      "--------------Epochs200 | 14---------------\n",
      "Train Loss : 5351.73974609375\n",
      "--------------Epochs200 | 15---------------\n",
      "Train Loss : 10122.0439453125\n"
     ]
    },
    {
     "name": "stderr",
     "output_type": "stream",
     "text": [
      "  8%|▊         | 16/200 [01:46<20:07,  6.56s/it]"
     ]
    },
    {
     "name": "stdout",
     "output_type": "stream",
     "text": [
      "Val Loss : 9712.21484375\n"
     ]
    },
    {
     "name": "stderr",
     "output_type": "stream",
     "text": [
      "  8%|▊         | 17/200 [01:52<19:12,  6.30s/it]"
     ]
    },
    {
     "name": "stdout",
     "output_type": "stream",
     "text": [
      "--------------Epochs200 | 16---------------\n",
      "Train Loss : 9339.8984375\n"
     ]
    },
    {
     "name": "stderr",
     "output_type": "stream",
     "text": [
      "  9%|▉         | 18/200 [01:57<18:27,  6.09s/it]"
     ]
    },
    {
     "name": "stdout",
     "output_type": "stream",
     "text": [
      "--------------Epochs200 | 17---------------\n",
      "Train Loss : 8639.0537109375\n"
     ]
    },
    {
     "name": "stderr",
     "output_type": "stream",
     "text": [
      " 10%|▉         | 19/200 [02:03<18:15,  6.05s/it]"
     ]
    },
    {
     "name": "stdout",
     "output_type": "stream",
     "text": [
      "--------------Epochs200 | 18---------------\n",
      "Train Loss : 8387.6953125\n"
     ]
    },
    {
     "name": "stderr",
     "output_type": "stream",
     "text": [
      " 10%|█         | 20/200 [02:12<20:46,  6.93s/it]"
     ]
    },
    {
     "name": "stdout",
     "output_type": "stream",
     "text": [
      "--------------Epochs200 | 19---------------\n",
      "Train Loss : 7406.18310546875\n",
      "--------------Epochs200 | 20---------------\n",
      "Train Loss : 6924.1376953125\n"
     ]
    },
    {
     "name": "stderr",
     "output_type": "stream",
     "text": [
      " 10%|█         | 21/200 [02:20<21:45,  7.29s/it]"
     ]
    },
    {
     "name": "stdout",
     "output_type": "stream",
     "text": [
      "Val Loss : 5885.255859375\n"
     ]
    },
    {
     "name": "stderr",
     "output_type": "stream",
     "text": [
      " 11%|█         | 22/200 [02:26<20:18,  6.84s/it]"
     ]
    },
    {
     "name": "stdout",
     "output_type": "stream",
     "text": [
      "--------------Epochs200 | 21---------------\n",
      "Train Loss : 6879.08056640625\n"
     ]
    },
    {
     "name": "stderr",
     "output_type": "stream",
     "text": [
      " 12%|█▏        | 23/200 [02:32<18:55,  6.42s/it]"
     ]
    },
    {
     "name": "stdout",
     "output_type": "stream",
     "text": [
      "--------------Epochs200 | 22---------------\n",
      "Train Loss : 6678.2001953125\n"
     ]
    },
    {
     "name": "stderr",
     "output_type": "stream",
     "text": [
      " 12%|█▏        | 24/200 [02:37<17:59,  6.14s/it]"
     ]
    },
    {
     "name": "stdout",
     "output_type": "stream",
     "text": [
      "--------------Epochs200 | 23---------------\n",
      "Train Loss : 6685.74755859375\n"
     ]
    },
    {
     "name": "stderr",
     "output_type": "stream",
     "text": [
      " 12%|█▎        | 25/200 [02:43<17:20,  5.95s/it]"
     ]
    },
    {
     "name": "stdout",
     "output_type": "stream",
     "text": [
      "--------------Epochs200 | 24---------------\n",
      "Train Loss : 6547.73876953125\n",
      "--------------Epochs200 | 25---------------\n",
      "Train Loss : 6393.1171875\n"
     ]
    },
    {
     "name": "stderr",
     "output_type": "stream",
     "text": [
      " 13%|█▎        | 26/200 [02:49<18:02,  6.22s/it]"
     ]
    },
    {
     "name": "stdout",
     "output_type": "stream",
     "text": [
      "Val Loss : 5360.79248046875\n"
     ]
    },
    {
     "name": "stderr",
     "output_type": "stream",
     "text": [
      " 14%|█▎        | 27/200 [02:55<17:14,  5.98s/it]"
     ]
    },
    {
     "name": "stdout",
     "output_type": "stream",
     "text": [
      "--------------Epochs200 | 26---------------\n",
      "Train Loss : 6442.11474609375\n"
     ]
    },
    {
     "name": "stderr",
     "output_type": "stream",
     "text": [
      " 14%|█▍        | 28/200 [03:01<17:30,  6.11s/it]"
     ]
    },
    {
     "name": "stdout",
     "output_type": "stream",
     "text": [
      "--------------Epochs200 | 27---------------\n",
      "Train Loss : 6325.36181640625\n"
     ]
    },
    {
     "name": "stderr",
     "output_type": "stream",
     "text": [
      " 14%|█▍        | 29/200 [03:07<17:18,  6.07s/it]"
     ]
    },
    {
     "name": "stdout",
     "output_type": "stream",
     "text": [
      "--------------Epochs200 | 28---------------\n",
      "Train Loss : 6404.064453125\n"
     ]
    },
    {
     "name": "stderr",
     "output_type": "stream",
     "text": [
      " 15%|█▌        | 30/200 [03:13<17:13,  6.08s/it]"
     ]
    },
    {
     "name": "stdout",
     "output_type": "stream",
     "text": [
      "--------------Epochs200 | 29---------------\n",
      "Train Loss : 6197.69677734375\n",
      "--------------Epochs200 | 30---------------\n",
      "Train Loss : 5998.2724609375\n"
     ]
    },
    {
     "name": "stderr",
     "output_type": "stream",
     "text": [
      " 16%|█▌        | 31/200 [03:21<18:26,  6.55s/it]"
     ]
    },
    {
     "name": "stdout",
     "output_type": "stream",
     "text": [
      "Val Loss : 4946.92529296875\n"
     ]
    },
    {
     "name": "stderr",
     "output_type": "stream",
     "text": [
      " 16%|█▌        | 32/200 [03:27<17:54,  6.40s/it]"
     ]
    },
    {
     "name": "stdout",
     "output_type": "stream",
     "text": [
      "--------------Epochs200 | 31---------------\n",
      "Train Loss : 6127.79541015625\n"
     ]
    },
    {
     "name": "stderr",
     "output_type": "stream",
     "text": [
      " 16%|█▋        | 33/200 [03:34<18:01,  6.47s/it]"
     ]
    },
    {
     "name": "stdout",
     "output_type": "stream",
     "text": [
      "--------------Epochs200 | 32---------------\n",
      "Train Loss : 5988.189453125\n"
     ]
    },
    {
     "name": "stderr",
     "output_type": "stream",
     "text": [
      " 17%|█▋        | 34/200 [03:40<17:45,  6.42s/it]"
     ]
    },
    {
     "name": "stdout",
     "output_type": "stream",
     "text": [
      "--------------Epochs200 | 33---------------\n",
      "Train Loss : 6140.4716796875\n"
     ]
    },
    {
     "name": "stderr",
     "output_type": "stream",
     "text": [
      " 18%|█▊        | 35/200 [03:46<17:09,  6.24s/it]"
     ]
    },
    {
     "name": "stdout",
     "output_type": "stream",
     "text": [
      "--------------Epochs200 | 34---------------\n",
      "Train Loss : 6017.5986328125\n",
      "--------------Epochs200 | 35---------------\n",
      "Train Loss : 5856.45703125\n"
     ]
    },
    {
     "name": "stderr",
     "output_type": "stream",
     "text": [
      " 18%|█▊        | 36/200 [03:53<17:35,  6.44s/it]"
     ]
    },
    {
     "name": "stdout",
     "output_type": "stream",
     "text": [
      "Val Loss : 5202.83251953125\n"
     ]
    },
    {
     "name": "stderr",
     "output_type": "stream",
     "text": [
      " 18%|█▊        | 37/200 [03:58<16:41,  6.14s/it]"
     ]
    },
    {
     "name": "stdout",
     "output_type": "stream",
     "text": [
      "--------------Epochs200 | 36---------------\n",
      "Train Loss : 5865.16845703125\n"
     ]
    },
    {
     "name": "stderr",
     "output_type": "stream",
     "text": [
      " 19%|█▉        | 38/200 [04:04<16:08,  5.98s/it]"
     ]
    },
    {
     "name": "stdout",
     "output_type": "stream",
     "text": [
      "--------------Epochs200 | 37---------------\n",
      "Train Loss : 5841.283203125\n"
     ]
    },
    {
     "name": "stderr",
     "output_type": "stream",
     "text": [
      " 20%|█▉        | 39/200 [04:09<15:41,  5.85s/it]"
     ]
    },
    {
     "name": "stdout",
     "output_type": "stream",
     "text": [
      "--------------Epochs200 | 38---------------\n",
      "Train Loss : 5651.04931640625\n"
     ]
    },
    {
     "name": "stderr",
     "output_type": "stream",
     "text": [
      " 20%|██        | 40/200 [04:15<15:10,  5.69s/it]"
     ]
    },
    {
     "name": "stdout",
     "output_type": "stream",
     "text": [
      "--------------Epochs200 | 39---------------\n",
      "Train Loss : 5224.919921875\n",
      "--------------Epochs200 | 40---------------\n",
      "Train Loss : 4973.3642578125\n"
     ]
    },
    {
     "name": "stderr",
     "output_type": "stream",
     "text": [
      " 20%|██        | 41/200 [04:22<16:10,  6.10s/it]"
     ]
    },
    {
     "name": "stdout",
     "output_type": "stream",
     "text": [
      "Val Loss : 6207.7265625\n"
     ]
    },
    {
     "name": "stderr",
     "output_type": "stream",
     "text": [
      " 21%|██        | 42/200 [04:27<15:37,  5.93s/it]"
     ]
    },
    {
     "name": "stdout",
     "output_type": "stream",
     "text": [
      "--------------Epochs200 | 41---------------\n",
      "Train Loss : 4955.34130859375\n"
     ]
    },
    {
     "name": "stderr",
     "output_type": "stream",
     "text": [
      " 22%|██▏       | 43/200 [04:33<15:11,  5.81s/it]"
     ]
    },
    {
     "name": "stdout",
     "output_type": "stream",
     "text": [
      "--------------Epochs200 | 42---------------\n",
      "Train Loss : 4898.54248046875\n"
     ]
    },
    {
     "name": "stderr",
     "output_type": "stream",
     "text": [
      " 22%|██▏       | 44/200 [04:39<15:29,  5.96s/it]"
     ]
    },
    {
     "name": "stdout",
     "output_type": "stream",
     "text": [
      "--------------Epochs200 | 43---------------\n",
      "Train Loss : 4862.1748046875\n"
     ]
    },
    {
     "name": "stderr",
     "output_type": "stream",
     "text": [
      " 22%|██▎       | 45/200 [04:45<15:31,  6.01s/it]"
     ]
    },
    {
     "name": "stdout",
     "output_type": "stream",
     "text": [
      "--------------Epochs200 | 44---------------\n",
      "Train Loss : 4807.59716796875\n",
      "--------------Epochs200 | 45---------------\n",
      "Train Loss : 4719.33984375\n"
     ]
    },
    {
     "name": "stderr",
     "output_type": "stream",
     "text": [
      " 23%|██▎       | 46/200 [04:52<16:08,  6.29s/it]"
     ]
    },
    {
     "name": "stdout",
     "output_type": "stream",
     "text": [
      "Val Loss : 5089.7763671875\n"
     ]
    },
    {
     "name": "stderr",
     "output_type": "stream",
     "text": [
      " 24%|██▎       | 47/200 [04:58<15:33,  6.10s/it]"
     ]
    },
    {
     "name": "stdout",
     "output_type": "stream",
     "text": [
      "--------------Epochs200 | 46---------------\n",
      "Train Loss : 4540.75146484375\n"
     ]
    },
    {
     "name": "stderr",
     "output_type": "stream",
     "text": [
      " 24%|██▍       | 48/200 [05:03<15:11,  5.99s/it]"
     ]
    },
    {
     "name": "stdout",
     "output_type": "stream",
     "text": [
      "--------------Epochs200 | 47---------------\n",
      "Train Loss : 4554.98681640625\n"
     ]
    },
    {
     "name": "stderr",
     "output_type": "stream",
     "text": [
      " 24%|██▍       | 49/200 [05:09<14:46,  5.87s/it]"
     ]
    },
    {
     "name": "stdout",
     "output_type": "stream",
     "text": [
      "--------------Epochs200 | 48---------------\n",
      "Train Loss : 4702.697265625\n"
     ]
    },
    {
     "name": "stderr",
     "output_type": "stream",
     "text": [
      " 25%|██▌       | 50/200 [05:15<14:25,  5.77s/it]"
     ]
    },
    {
     "name": "stdout",
     "output_type": "stream",
     "text": [
      "--------------Epochs200 | 49---------------\n",
      "Train Loss : 4599.14697265625\n",
      "--------------Epochs200 | 50---------------\n",
      "Train Loss : 4793.14111328125\n"
     ]
    },
    {
     "name": "stderr",
     "output_type": "stream",
     "text": [
      " 26%|██▌       | 51/200 [05:22<15:13,  6.13s/it]"
     ]
    },
    {
     "name": "stdout",
     "output_type": "stream",
     "text": [
      "Val Loss : 6386.73583984375\n"
     ]
    },
    {
     "name": "stderr",
     "output_type": "stream",
     "text": [
      " 26%|██▌       | 52/200 [05:27<14:39,  5.94s/it]"
     ]
    },
    {
     "name": "stdout",
     "output_type": "stream",
     "text": [
      "--------------Epochs200 | 51---------------\n",
      "Train Loss : 4792.35595703125\n"
     ]
    },
    {
     "name": "stderr",
     "output_type": "stream",
     "text": [
      " 26%|██▋       | 53/200 [05:33<14:14,  5.81s/it]"
     ]
    },
    {
     "name": "stdout",
     "output_type": "stream",
     "text": [
      "--------------Epochs200 | 52---------------\n",
      "Train Loss : 4697.43994140625\n"
     ]
    },
    {
     "name": "stderr",
     "output_type": "stream",
     "text": [
      " 27%|██▋       | 54/200 [05:38<13:54,  5.71s/it]"
     ]
    },
    {
     "name": "stdout",
     "output_type": "stream",
     "text": [
      "--------------Epochs200 | 53---------------\n",
      "Train Loss : 4663.451171875\n"
     ]
    },
    {
     "name": "stderr",
     "output_type": "stream",
     "text": [
      " 28%|██▊       | 55/200 [05:44<14:01,  5.80s/it]"
     ]
    },
    {
     "name": "stdout",
     "output_type": "stream",
     "text": [
      "--------------Epochs200 | 54---------------\n",
      "Train Loss : 4429.36181640625\n",
      "--------------Epochs200 | 55---------------\n",
      "Train Loss : 4445.16455078125\n"
     ]
    },
    {
     "name": "stderr",
     "output_type": "stream",
     "text": [
      " 28%|██▊       | 56/200 [05:52<15:27,  6.44s/it]"
     ]
    },
    {
     "name": "stdout",
     "output_type": "stream",
     "text": [
      "Val Loss : 5711.28857421875\n"
     ]
    },
    {
     "name": "stderr",
     "output_type": "stream",
     "text": [
      " 28%|██▊       | 57/200 [05:58<14:42,  6.17s/it]"
     ]
    },
    {
     "name": "stdout",
     "output_type": "stream",
     "text": [
      "--------------Epochs200 | 56---------------\n",
      "Train Loss : 4528.0380859375\n"
     ]
    },
    {
     "name": "stderr",
     "output_type": "stream",
     "text": [
      " 29%|██▉       | 58/200 [06:03<14:12,  6.00s/it]"
     ]
    },
    {
     "name": "stdout",
     "output_type": "stream",
     "text": [
      "--------------Epochs200 | 57---------------\n",
      "Train Loss : 4352.22998046875\n"
     ]
    },
    {
     "name": "stderr",
     "output_type": "stream",
     "text": [
      " 30%|██▉       | 59/200 [06:09<14:01,  5.97s/it]"
     ]
    },
    {
     "name": "stdout",
     "output_type": "stream",
     "text": [
      "--------------Epochs200 | 58---------------\n",
      "Train Loss : 4415.80078125\n"
     ]
    },
    {
     "name": "stderr",
     "output_type": "stream",
     "text": [
      " 30%|███       | 60/200 [06:14<13:31,  5.80s/it]"
     ]
    },
    {
     "name": "stdout",
     "output_type": "stream",
     "text": [
      "--------------Epochs200 | 59---------------\n",
      "Train Loss : 4376.39306640625\n",
      "--------------Epochs200 | 60---------------\n",
      "Train Loss : 4114.89697265625\n"
     ]
    },
    {
     "name": "stderr",
     "output_type": "stream",
     "text": [
      " 30%|███       | 61/200 [06:23<15:07,  6.53s/it]"
     ]
    },
    {
     "name": "stdout",
     "output_type": "stream",
     "text": [
      "Val Loss : 4320.86474609375\n"
     ]
    },
    {
     "name": "stderr",
     "output_type": "stream",
     "text": [
      " 31%|███       | 62/200 [06:28<14:30,  6.31s/it]"
     ]
    },
    {
     "name": "stdout",
     "output_type": "stream",
     "text": [
      "--------------Epochs200 | 61---------------\n",
      "Train Loss : 4088.471923828125\n"
     ]
    },
    {
     "name": "stderr",
     "output_type": "stream",
     "text": [
      " 32%|███▏      | 63/200 [06:35<14:28,  6.34s/it]"
     ]
    },
    {
     "name": "stdout",
     "output_type": "stream",
     "text": [
      "--------------Epochs200 | 62---------------\n",
      "Train Loss : 4076.10888671875\n"
     ]
    },
    {
     "name": "stderr",
     "output_type": "stream",
     "text": [
      " 32%|███▏      | 64/200 [06:41<14:16,  6.30s/it]"
     ]
    },
    {
     "name": "stdout",
     "output_type": "stream",
     "text": [
      "--------------Epochs200 | 63---------------\n",
      "Train Loss : 4106.7490234375\n"
     ]
    },
    {
     "name": "stderr",
     "output_type": "stream",
     "text": [
      " 32%|███▎      | 65/200 [06:47<13:49,  6.15s/it]"
     ]
    },
    {
     "name": "stdout",
     "output_type": "stream",
     "text": [
      "--------------Epochs200 | 64---------------\n",
      "Train Loss : 4095.869873046875\n",
      "--------------Epochs200 | 65---------------\n",
      "Train Loss : 4019.665283203125\n"
     ]
    },
    {
     "name": "stderr",
     "output_type": "stream",
     "text": [
      " 33%|███▎      | 66/200 [06:54<14:33,  6.52s/it]"
     ]
    },
    {
     "name": "stdout",
     "output_type": "stream",
     "text": [
      "Val Loss : 4711.15380859375\n"
     ]
    },
    {
     "name": "stderr",
     "output_type": "stream",
     "text": [
      " 34%|███▎      | 67/200 [07:00<13:50,  6.24s/it]"
     ]
    },
    {
     "name": "stdout",
     "output_type": "stream",
     "text": [
      "--------------Epochs200 | 66---------------\n",
      "Train Loss : 4031.39697265625\n"
     ]
    },
    {
     "name": "stderr",
     "output_type": "stream",
     "text": [
      " 34%|███▍      | 68/200 [07:06<13:26,  6.11s/it]"
     ]
    },
    {
     "name": "stdout",
     "output_type": "stream",
     "text": [
      "--------------Epochs200 | 67---------------\n",
      "Train Loss : 3878.674560546875\n"
     ]
    },
    {
     "name": "stderr",
     "output_type": "stream",
     "text": [
      " 34%|███▍      | 69/200 [07:11<13:04,  5.99s/it]"
     ]
    },
    {
     "name": "stdout",
     "output_type": "stream",
     "text": [
      "--------------Epochs200 | 68---------------\n",
      "Train Loss : 3872.202392578125\n"
     ]
    },
    {
     "name": "stderr",
     "output_type": "stream",
     "text": [
      " 35%|███▌      | 70/200 [07:17<12:52,  5.94s/it]"
     ]
    },
    {
     "name": "stdout",
     "output_type": "stream",
     "text": [
      "--------------Epochs200 | 69---------------\n",
      "Train Loss : 3957.339111328125\n",
      "--------------Epochs200 | 70---------------\n",
      "Train Loss : 3894.28662109375\n"
     ]
    },
    {
     "name": "stderr",
     "output_type": "stream",
     "text": [
      " 36%|███▌      | 71/200 [07:24<13:28,  6.26s/it]"
     ]
    },
    {
     "name": "stdout",
     "output_type": "stream",
     "text": [
      "Val Loss : 4854.13916015625\n"
     ]
    },
    {
     "name": "stderr",
     "output_type": "stream",
     "text": [
      " 36%|███▌      | 72/200 [07:30<13:12,  6.19s/it]"
     ]
    },
    {
     "name": "stdout",
     "output_type": "stream",
     "text": [
      "--------------Epochs200 | 71---------------\n",
      "Train Loss : 3781.486572265625\n"
     ]
    },
    {
     "name": "stderr",
     "output_type": "stream",
     "text": [
      " 36%|███▋      | 73/200 [07:36<13:06,  6.20s/it]"
     ]
    },
    {
     "name": "stdout",
     "output_type": "stream",
     "text": [
      "--------------Epochs200 | 72---------------\n",
      "Train Loss : 3681.25146484375\n"
     ]
    },
    {
     "name": "stderr",
     "output_type": "stream",
     "text": [
      " 37%|███▋      | 74/200 [07:42<12:54,  6.14s/it]"
     ]
    },
    {
     "name": "stdout",
     "output_type": "stream",
     "text": [
      "--------------Epochs200 | 73---------------\n",
      "Train Loss : 3607.408447265625\n"
     ]
    },
    {
     "name": "stderr",
     "output_type": "stream",
     "text": [
      " 38%|███▊      | 75/200 [07:49<12:54,  6.20s/it]"
     ]
    },
    {
     "name": "stdout",
     "output_type": "stream",
     "text": [
      "--------------Epochs200 | 74---------------\n",
      "Train Loss : 3603.7275390625\n",
      "--------------Epochs200 | 75---------------\n",
      "Train Loss : 3597.359375\n"
     ]
    },
    {
     "name": "stderr",
     "output_type": "stream",
     "text": [
      " 38%|███▊      | 76/200 [07:56<13:11,  6.38s/it]"
     ]
    },
    {
     "name": "stdout",
     "output_type": "stream",
     "text": [
      "Val Loss : 5043.34423828125\n"
     ]
    },
    {
     "name": "stderr",
     "output_type": "stream",
     "text": [
      " 38%|███▊      | 77/200 [08:01<12:31,  6.11s/it]"
     ]
    },
    {
     "name": "stdout",
     "output_type": "stream",
     "text": [
      "--------------Epochs200 | 76---------------\n",
      "Train Loss : 3427.17919921875\n"
     ]
    },
    {
     "name": "stderr",
     "output_type": "stream",
     "text": [
      " 39%|███▉      | 78/200 [08:07<12:07,  5.96s/it]"
     ]
    },
    {
     "name": "stdout",
     "output_type": "stream",
     "text": [
      "--------------Epochs200 | 77---------------\n",
      "Train Loss : 3431.927001953125\n"
     ]
    },
    {
     "name": "stderr",
     "output_type": "stream",
     "text": [
      " 40%|███▉      | 79/200 [08:12<11:42,  5.81s/it]"
     ]
    },
    {
     "name": "stdout",
     "output_type": "stream",
     "text": [
      "--------------Epochs200 | 78---------------\n",
      "Train Loss : 3394.296630859375\n"
     ]
    },
    {
     "name": "stderr",
     "output_type": "stream",
     "text": [
      " 40%|████      | 80/200 [08:18<11:26,  5.72s/it]"
     ]
    },
    {
     "name": "stdout",
     "output_type": "stream",
     "text": [
      "--------------Epochs200 | 79---------------\n",
      "Train Loss : 3448.91943359375\n",
      "--------------Epochs200 | 80---------------\n",
      "Train Loss : 3279.546142578125\n"
     ]
    },
    {
     "name": "stderr",
     "output_type": "stream",
     "text": [
      " 40%|████      | 81/200 [08:25<12:00,  6.06s/it]"
     ]
    },
    {
     "name": "stdout",
     "output_type": "stream",
     "text": [
      "Val Loss : 4960.49365234375\n"
     ]
    },
    {
     "name": "stderr",
     "output_type": "stream",
     "text": [
      " 41%|████      | 82/200 [08:30<11:33,  5.88s/it]"
     ]
    },
    {
     "name": "stdout",
     "output_type": "stream",
     "text": [
      "--------------Epochs200 | 81---------------\n",
      "Train Loss : 3306.321533203125\n"
     ]
    },
    {
     "name": "stderr",
     "output_type": "stream",
     "text": [
      " 42%|████▏     | 83/200 [08:35<11:15,  5.77s/it]"
     ]
    },
    {
     "name": "stdout",
     "output_type": "stream",
     "text": [
      "--------------Epochs200 | 82---------------\n",
      "Train Loss : 3217.56689453125\n"
     ]
    },
    {
     "name": "stderr",
     "output_type": "stream",
     "text": [
      " 42%|████▏     | 84/200 [08:41<11:00,  5.70s/it]"
     ]
    },
    {
     "name": "stdout",
     "output_type": "stream",
     "text": [
      "--------------Epochs200 | 83---------------\n",
      "Train Loss : 3254.520751953125\n"
     ]
    },
    {
     "name": "stderr",
     "output_type": "stream",
     "text": [
      " 42%|████▎     | 85/200 [08:47<10:48,  5.64s/it]"
     ]
    },
    {
     "name": "stdout",
     "output_type": "stream",
     "text": [
      "--------------Epochs200 | 84---------------\n",
      "Train Loss : 3232.14404296875\n",
      "--------------Epochs200 | 85---------------\n",
      "Train Loss : 3154.624755859375\n"
     ]
    },
    {
     "name": "stderr",
     "output_type": "stream",
     "text": [
      " 43%|████▎     | 86/200 [08:54<11:33,  6.08s/it]"
     ]
    },
    {
     "name": "stdout",
     "output_type": "stream",
     "text": [
      "Val Loss : 4937.6669921875\n"
     ]
    },
    {
     "name": "stderr",
     "output_type": "stream",
     "text": [
      " 44%|████▎     | 87/200 [08:59<11:17,  6.00s/it]"
     ]
    },
    {
     "name": "stdout",
     "output_type": "stream",
     "text": [
      "--------------Epochs200 | 86---------------\n",
      "Train Loss : 3049.013427734375\n"
     ]
    },
    {
     "name": "stderr",
     "output_type": "stream",
     "text": [
      " 44%|████▍     | 88/200 [09:10<13:53,  7.44s/it]"
     ]
    },
    {
     "name": "stdout",
     "output_type": "stream",
     "text": [
      "--------------Epochs200 | 87---------------\n",
      "Train Loss : 3075.3310546875\n"
     ]
    },
    {
     "name": "stderr",
     "output_type": "stream",
     "text": [
      " 44%|████▍     | 89/200 [09:16<12:54,  6.97s/it]"
     ]
    },
    {
     "name": "stdout",
     "output_type": "stream",
     "text": [
      "--------------Epochs200 | 88---------------\n",
      "Train Loss : 3007.89111328125\n"
     ]
    },
    {
     "name": "stderr",
     "output_type": "stream",
     "text": [
      " 45%|████▌     | 90/200 [09:22<12:08,  6.62s/it]"
     ]
    },
    {
     "name": "stdout",
     "output_type": "stream",
     "text": [
      "--------------Epochs200 | 89---------------\n",
      "Train Loss : 2963.2412109375\n",
      "--------------Epochs200 | 90---------------\n",
      "Train Loss : 2820.751708984375\n"
     ]
    },
    {
     "name": "stderr",
     "output_type": "stream",
     "text": [
      " 46%|████▌     | 91/200 [09:29<12:10,  6.71s/it]"
     ]
    },
    {
     "name": "stdout",
     "output_type": "stream",
     "text": [
      "Val Loss : 4943.529296875\n"
     ]
    },
    {
     "name": "stderr",
     "output_type": "stream",
     "text": [
      " 46%|████▌     | 92/200 [09:34<11:29,  6.39s/it]"
     ]
    },
    {
     "name": "stdout",
     "output_type": "stream",
     "text": [
      "--------------Epochs200 | 91---------------\n",
      "Train Loss : 2755.08837890625\n"
     ]
    },
    {
     "name": "stderr",
     "output_type": "stream",
     "text": [
      " 46%|████▋     | 93/200 [09:40<11:06,  6.23s/it]"
     ]
    },
    {
     "name": "stdout",
     "output_type": "stream",
     "text": [
      "--------------Epochs200 | 92---------------\n",
      "Train Loss : 2730.71923828125\n"
     ]
    },
    {
     "name": "stderr",
     "output_type": "stream",
     "text": [
      " 47%|████▋     | 94/200 [09:47<10:58,  6.21s/it]"
     ]
    },
    {
     "name": "stdout",
     "output_type": "stream",
     "text": [
      "--------------Epochs200 | 93---------------\n",
      "Train Loss : 2691.304931640625\n"
     ]
    },
    {
     "name": "stderr",
     "output_type": "stream",
     "text": [
      " 48%|████▊     | 95/200 [09:52<10:31,  6.02s/it]"
     ]
    },
    {
     "name": "stdout",
     "output_type": "stream",
     "text": [
      "--------------Epochs200 | 94---------------\n",
      "Train Loss : 2614.3759765625\n",
      "--------------Epochs200 | 95---------------\n",
      "Train Loss : 2591.392333984375\n"
     ]
    },
    {
     "name": "stderr",
     "output_type": "stream",
     "text": [
      " 48%|████▊     | 96/200 [09:59<10:54,  6.29s/it]"
     ]
    },
    {
     "name": "stdout",
     "output_type": "stream",
     "text": [
      "Val Loss : 4776.89892578125\n"
     ]
    },
    {
     "name": "stderr",
     "output_type": "stream",
     "text": [
      " 48%|████▊     | 97/200 [10:05<10:27,  6.09s/it]"
     ]
    },
    {
     "name": "stdout",
     "output_type": "stream",
     "text": [
      "--------------Epochs200 | 96---------------\n",
      "Train Loss : 2632.703857421875\n"
     ]
    },
    {
     "name": "stderr",
     "output_type": "stream",
     "text": [
      " 49%|████▉     | 98/200 [10:11<10:19,  6.08s/it]"
     ]
    },
    {
     "name": "stdout",
     "output_type": "stream",
     "text": [
      "--------------Epochs200 | 97---------------\n",
      "Train Loss : 2639.569091796875\n"
     ]
    },
    {
     "name": "stderr",
     "output_type": "stream",
     "text": [
      " 50%|████▉     | 99/200 [10:17<10:31,  6.26s/it]"
     ]
    },
    {
     "name": "stdout",
     "output_type": "stream",
     "text": [
      "--------------Epochs200 | 98---------------\n",
      "Train Loss : 2565.979248046875\n"
     ]
    },
    {
     "name": "stderr",
     "output_type": "stream",
     "text": [
      " 50%|█████     | 100/200 [10:24<10:29,  6.29s/it]"
     ]
    },
    {
     "name": "stdout",
     "output_type": "stream",
     "text": [
      "--------------Epochs200 | 99---------------\n",
      "Train Loss : 2646.681884765625\n",
      "--------------Epochs200 | 100---------------\n",
      "Train Loss : 2621.6171875\n"
     ]
    },
    {
     "name": "stderr",
     "output_type": "stream",
     "text": [
      " 50%|█████     | 101/200 [10:32<11:17,  6.85s/it]"
     ]
    },
    {
     "name": "stdout",
     "output_type": "stream",
     "text": [
      "Val Loss : 5517.373046875\n"
     ]
    },
    {
     "name": "stderr",
     "output_type": "stream",
     "text": [
      " 51%|█████     | 102/200 [10:38<10:42,  6.55s/it]"
     ]
    },
    {
     "name": "stdout",
     "output_type": "stream",
     "text": [
      "--------------Epochs200 | 101---------------\n",
      "Train Loss : 2566.31298828125\n"
     ]
    },
    {
     "name": "stderr",
     "output_type": "stream",
     "text": [
      " 52%|█████▏    | 103/200 [10:45<10:45,  6.65s/it]"
     ]
    },
    {
     "name": "stdout",
     "output_type": "stream",
     "text": [
      "--------------Epochs200 | 102---------------\n",
      "Train Loss : 2555.04541015625\n"
     ]
    },
    {
     "name": "stderr",
     "output_type": "stream",
     "text": [
      " 52%|█████▏    | 104/200 [10:50<10:14,  6.40s/it]"
     ]
    },
    {
     "name": "stdout",
     "output_type": "stream",
     "text": [
      "--------------Epochs200 | 103---------------\n",
      "Train Loss : 2556.798095703125\n"
     ]
    },
    {
     "name": "stderr",
     "output_type": "stream",
     "text": [
      " 52%|█████▎    | 105/200 [10:56<09:48,  6.19s/it]"
     ]
    },
    {
     "name": "stdout",
     "output_type": "stream",
     "text": [
      "--------------Epochs200 | 104---------------\n",
      "Train Loss : 2568.56982421875\n",
      "--------------Epochs200 | 105---------------\n",
      "Train Loss : 2500.18212890625\n"
     ]
    },
    {
     "name": "stderr",
     "output_type": "stream",
     "text": [
      " 53%|█████▎    | 106/200 [11:03<10:06,  6.46s/it]"
     ]
    },
    {
     "name": "stdout",
     "output_type": "stream",
     "text": [
      "Val Loss : 5664.255859375\n"
     ]
    },
    {
     "name": "stderr",
     "output_type": "stream",
     "text": [
      " 54%|█████▎    | 107/200 [11:09<09:46,  6.30s/it]"
     ]
    },
    {
     "name": "stdout",
     "output_type": "stream",
     "text": [
      "--------------Epochs200 | 106---------------\n",
      "Train Loss : 2527.209716796875\n"
     ]
    },
    {
     "name": "stderr",
     "output_type": "stream",
     "text": [
      " 54%|█████▍    | 108/200 [11:15<09:22,  6.11s/it]"
     ]
    },
    {
     "name": "stdout",
     "output_type": "stream",
     "text": [
      "--------------Epochs200 | 107---------------\n",
      "Train Loss : 2637.491943359375\n"
     ]
    },
    {
     "name": "stderr",
     "output_type": "stream",
     "text": [
      " 55%|█████▍    | 109/200 [11:21<09:10,  6.05s/it]"
     ]
    },
    {
     "name": "stdout",
     "output_type": "stream",
     "text": [
      "--------------Epochs200 | 108---------------\n",
      "Train Loss : 2552.24560546875\n"
     ]
    },
    {
     "name": "stderr",
     "output_type": "stream",
     "text": [
      " 55%|█████▌    | 110/200 [11:27<09:11,  6.13s/it]"
     ]
    },
    {
     "name": "stdout",
     "output_type": "stream",
     "text": [
      "--------------Epochs200 | 109---------------\n",
      "Train Loss : 2480.624267578125\n",
      "--------------Epochs200 | 110---------------\n",
      "Train Loss : 2484.34765625\n"
     ]
    },
    {
     "name": "stderr",
     "output_type": "stream",
     "text": [
      " 56%|█████▌    | 111/200 [11:35<09:51,  6.64s/it]"
     ]
    },
    {
     "name": "stdout",
     "output_type": "stream",
     "text": [
      "Val Loss : 5550.40966796875\n"
     ]
    },
    {
     "name": "stderr",
     "output_type": "stream",
     "text": [
      " 56%|█████▌    | 112/200 [11:41<09:18,  6.34s/it]"
     ]
    },
    {
     "name": "stdout",
     "output_type": "stream",
     "text": [
      "--------------Epochs200 | 111---------------\n",
      "Train Loss : 2439.185791015625\n"
     ]
    },
    {
     "name": "stderr",
     "output_type": "stream",
     "text": [
      " 56%|█████▋    | 113/200 [11:46<08:55,  6.15s/it]"
     ]
    },
    {
     "name": "stdout",
     "output_type": "stream",
     "text": [
      "--------------Epochs200 | 112---------------\n",
      "Train Loss : 2370.487060546875\n"
     ]
    },
    {
     "name": "stderr",
     "output_type": "stream",
     "text": [
      " 57%|█████▋    | 114/200 [11:52<08:35,  5.99s/it]"
     ]
    },
    {
     "name": "stdout",
     "output_type": "stream",
     "text": [
      "--------------Epochs200 | 113---------------\n",
      "Train Loss : 2333.458984375\n"
     ]
    },
    {
     "name": "stderr",
     "output_type": "stream",
     "text": [
      " 57%|█████▊    | 115/200 [11:58<08:20,  5.89s/it]"
     ]
    },
    {
     "name": "stdout",
     "output_type": "stream",
     "text": [
      "--------------Epochs200 | 114---------------\n",
      "Train Loss : 2286.28515625\n",
      "--------------Epochs200 | 115---------------\n",
      "Train Loss : 2250.095703125\n"
     ]
    },
    {
     "name": "stderr",
     "output_type": "stream",
     "text": [
      " 58%|█████▊    | 116/200 [12:05<08:42,  6.22s/it]"
     ]
    },
    {
     "name": "stdout",
     "output_type": "stream",
     "text": [
      "Val Loss : 5602.3115234375\n"
     ]
    },
    {
     "name": "stderr",
     "output_type": "stream",
     "text": [
      " 58%|█████▊    | 117/200 [12:11<08:35,  6.21s/it]"
     ]
    },
    {
     "name": "stdout",
     "output_type": "stream",
     "text": [
      "--------------Epochs200 | 116---------------\n",
      "Train Loss : 2209.224853515625\n"
     ]
    },
    {
     "name": "stderr",
     "output_type": "stream",
     "text": [
      " 59%|█████▉    | 118/200 [12:16<08:12,  6.01s/it]"
     ]
    },
    {
     "name": "stdout",
     "output_type": "stream",
     "text": [
      "--------------Epochs200 | 117---------------\n",
      "Train Loss : 2161.310302734375\n"
     ]
    },
    {
     "name": "stderr",
     "output_type": "stream",
     "text": [
      " 60%|█████▉    | 119/200 [12:22<08:00,  5.93s/it]"
     ]
    },
    {
     "name": "stdout",
     "output_type": "stream",
     "text": [
      "--------------Epochs200 | 118---------------\n",
      "Train Loss : 2150.5625\n"
     ]
    },
    {
     "name": "stderr",
     "output_type": "stream",
     "text": [
      " 60%|██████    | 120/200 [12:28<07:47,  5.85s/it]"
     ]
    },
    {
     "name": "stdout",
     "output_type": "stream",
     "text": [
      "--------------Epochs200 | 119---------------\n",
      "Train Loss : 2235.106689453125\n",
      "--------------Epochs200 | 120---------------\n",
      "Train Loss : 2210.90380859375\n"
     ]
    },
    {
     "name": "stderr",
     "output_type": "stream",
     "text": [
      " 60%|██████    | 121/200 [12:39<09:43,  7.39s/it]"
     ]
    },
    {
     "name": "stdout",
     "output_type": "stream",
     "text": [
      "Val Loss : 5928.740234375\n"
     ]
    },
    {
     "name": "stderr",
     "output_type": "stream",
     "text": [
      " 61%|██████    | 122/200 [12:46<09:29,  7.30s/it]"
     ]
    },
    {
     "name": "stdout",
     "output_type": "stream",
     "text": [
      "--------------Epochs200 | 121---------------\n",
      "Train Loss : 2184.877197265625\n"
     ]
    },
    {
     "name": "stderr",
     "output_type": "stream",
     "text": [
      " 62%|██████▏   | 123/200 [12:54<09:46,  7.62s/it]"
     ]
    },
    {
     "name": "stdout",
     "output_type": "stream",
     "text": [
      "--------------Epochs200 | 122---------------\n",
      "Train Loss : 2164.9091796875\n"
     ]
    },
    {
     "name": "stderr",
     "output_type": "stream",
     "text": [
      " 62%|██████▏   | 124/200 [13:00<08:55,  7.05s/it]"
     ]
    },
    {
     "name": "stdout",
     "output_type": "stream",
     "text": [
      "--------------Epochs200 | 123---------------\n",
      "Train Loss : 2151.84228515625\n"
     ]
    },
    {
     "name": "stderr",
     "output_type": "stream",
     "text": [
      " 62%|██████▎   | 125/200 [13:06<08:34,  6.86s/it]"
     ]
    },
    {
     "name": "stdout",
     "output_type": "stream",
     "text": [
      "--------------Epochs200 | 124---------------\n",
      "Train Loss : 2142.17724609375\n",
      "--------------Epochs200 | 125---------------\n",
      "Train Loss : 2126.9345703125\n"
     ]
    },
    {
     "name": "stderr",
     "output_type": "stream",
     "text": [
      " 63%|██████▎   | 126/200 [13:13<08:32,  6.92s/it]"
     ]
    },
    {
     "name": "stdout",
     "output_type": "stream",
     "text": [
      "Val Loss : 5729.39404296875\n"
     ]
    },
    {
     "name": "stderr",
     "output_type": "stream",
     "text": [
      " 64%|██████▎   | 127/200 [13:19<08:03,  6.62s/it]"
     ]
    },
    {
     "name": "stdout",
     "output_type": "stream",
     "text": [
      "--------------Epochs200 | 126---------------\n",
      "Train Loss : 2099.2373046875\n"
     ]
    },
    {
     "name": "stderr",
     "output_type": "stream",
     "text": [
      " 64%|██████▍   | 128/200 [13:30<09:17,  7.75s/it]"
     ]
    },
    {
     "name": "stdout",
     "output_type": "stream",
     "text": [
      "--------------Epochs200 | 127---------------\n",
      "Train Loss : 2078.7041015625\n"
     ]
    },
    {
     "name": "stderr",
     "output_type": "stream",
     "text": [
      " 64%|██████▍   | 129/200 [13:41<10:30,  8.88s/it]"
     ]
    },
    {
     "name": "stdout",
     "output_type": "stream",
     "text": [
      "--------------Epochs200 | 128---------------\n",
      "Train Loss : 2113.076416015625\n"
     ]
    },
    {
     "name": "stderr",
     "output_type": "stream",
     "text": [
      " 65%|██████▌   | 130/200 [13:48<09:39,  8.27s/it]"
     ]
    },
    {
     "name": "stdout",
     "output_type": "stream",
     "text": [
      "--------------Epochs200 | 129---------------\n",
      "Train Loss : 2113.1435546875\n",
      "--------------Epochs200 | 130---------------\n",
      "Train Loss : 2057.3408203125\n"
     ]
    },
    {
     "name": "stderr",
     "output_type": "stream",
     "text": [
      " 66%|██████▌   | 131/200 [13:55<09:12,  8.01s/it]"
     ]
    },
    {
     "name": "stdout",
     "output_type": "stream",
     "text": [
      "Val Loss : 5815.2373046875\n"
     ]
    },
    {
     "name": "stderr",
     "output_type": "stream",
     "text": [
      " 66%|██████▌   | 132/200 [14:01<08:21,  7.37s/it]"
     ]
    },
    {
     "name": "stdout",
     "output_type": "stream",
     "text": [
      "--------------Epochs200 | 131---------------\n",
      "Train Loss : 2024.9918212890625\n"
     ]
    },
    {
     "name": "stderr",
     "output_type": "stream",
     "text": [
      " 66%|██████▋   | 133/200 [14:07<07:41,  6.89s/it]"
     ]
    },
    {
     "name": "stdout",
     "output_type": "stream",
     "text": [
      "--------------Epochs200 | 132---------------\n",
      "Train Loss : 2001.7149658203125\n"
     ]
    },
    {
     "name": "stderr",
     "output_type": "stream",
     "text": [
      " 67%|██████▋   | 134/200 [14:13<07:11,  6.53s/it]"
     ]
    },
    {
     "name": "stdout",
     "output_type": "stream",
     "text": [
      "--------------Epochs200 | 133---------------\n",
      "Train Loss : 2194.49755859375\n"
     ]
    },
    {
     "name": "stderr",
     "output_type": "stream",
     "text": [
      " 68%|██████▊   | 135/200 [14:18<06:48,  6.29s/it]"
     ]
    },
    {
     "name": "stdout",
     "output_type": "stream",
     "text": [
      "--------------Epochs200 | 134---------------\n",
      "Train Loss : 2080.25927734375\n",
      "--------------Epochs200 | 135---------------\n",
      "Train Loss : 2027.333740234375\n"
     ]
    },
    {
     "name": "stderr",
     "output_type": "stream",
     "text": [
      " 68%|██████▊   | 136/200 [14:26<07:08,  6.69s/it]"
     ]
    },
    {
     "name": "stdout",
     "output_type": "stream",
     "text": [
      "Val Loss : 5788.078125\n"
     ]
    },
    {
     "name": "stderr",
     "output_type": "stream",
     "text": [
      " 68%|██████▊   | 137/200 [14:33<07:00,  6.68s/it]"
     ]
    },
    {
     "name": "stdout",
     "output_type": "stream",
     "text": [
      "--------------Epochs200 | 136---------------\n",
      "Train Loss : 1981.7449951171875\n"
     ]
    },
    {
     "name": "stderr",
     "output_type": "stream",
     "text": [
      " 69%|██████▉   | 138/200 [14:40<07:03,  6.82s/it]"
     ]
    },
    {
     "name": "stdout",
     "output_type": "stream",
     "text": [
      "--------------Epochs200 | 137---------------\n",
      "Train Loss : 1959.2271728515625\n"
     ]
    },
    {
     "name": "stderr",
     "output_type": "stream",
     "text": [
      " 70%|██████▉   | 139/200 [14:49<07:44,  7.61s/it]"
     ]
    },
    {
     "name": "stdout",
     "output_type": "stream",
     "text": [
      "--------------Epochs200 | 138---------------\n",
      "Train Loss : 1937.4891357421875\n"
     ]
    },
    {
     "name": "stderr",
     "output_type": "stream",
     "text": [
      " 70%|███████   | 140/200 [14:55<07:04,  7.08s/it]"
     ]
    },
    {
     "name": "stdout",
     "output_type": "stream",
     "text": [
      "--------------Epochs200 | 139---------------\n",
      "Train Loss : 2019.6851806640625\n",
      "--------------Epochs200 | 140---------------\n",
      "Train Loss : 2003.693603515625\n"
     ]
    },
    {
     "name": "stderr",
     "output_type": "stream",
     "text": [
      " 70%|███████   | 141/200 [15:02<06:57,  7.08s/it]"
     ]
    },
    {
     "name": "stdout",
     "output_type": "stream",
     "text": [
      "Val Loss : 5588.44189453125\n"
     ]
    },
    {
     "name": "stderr",
     "output_type": "stream",
     "text": [
      " 71%|███████   | 142/200 [15:09<06:39,  6.88s/it]"
     ]
    },
    {
     "name": "stdout",
     "output_type": "stream",
     "text": [
      "--------------Epochs200 | 141---------------\n",
      "Train Loss : 2017.1522216796875\n"
     ]
    },
    {
     "name": "stderr",
     "output_type": "stream",
     "text": [
      " 72%|███████▏  | 143/200 [15:14<06:08,  6.46s/it]"
     ]
    },
    {
     "name": "stdout",
     "output_type": "stream",
     "text": [
      "--------------Epochs200 | 142---------------\n",
      "Train Loss : 1978.8453369140625\n"
     ]
    },
    {
     "name": "stderr",
     "output_type": "stream",
     "text": [
      " 72%|███████▏  | 144/200 [15:20<05:43,  6.14s/it]"
     ]
    },
    {
     "name": "stdout",
     "output_type": "stream",
     "text": [
      "--------------Epochs200 | 143---------------\n",
      "Train Loss : 1950.4234619140625\n"
     ]
    },
    {
     "name": "stderr",
     "output_type": "stream",
     "text": [
      " 72%|███████▎  | 145/200 [15:25<05:30,  6.01s/it]"
     ]
    },
    {
     "name": "stdout",
     "output_type": "stream",
     "text": [
      "--------------Epochs200 | 144---------------\n",
      "Train Loss : 1924.4149169921875\n",
      "--------------Epochs200 | 145---------------\n",
      "Train Loss : 1903.265869140625\n"
     ]
    },
    {
     "name": "stderr",
     "output_type": "stream",
     "text": [
      " 73%|███████▎  | 146/200 [15:35<06:23,  7.10s/it]"
     ]
    },
    {
     "name": "stdout",
     "output_type": "stream",
     "text": [
      "Val Loss : 5714.0234375\n"
     ]
    },
    {
     "name": "stderr",
     "output_type": "stream",
     "text": [
      " 74%|███████▎  | 147/200 [15:42<06:13,  7.04s/it]"
     ]
    },
    {
     "name": "stdout",
     "output_type": "stream",
     "text": [
      "--------------Epochs200 | 146---------------\n",
      "Train Loss : 1888.9263916015625\n"
     ]
    },
    {
     "name": "stderr",
     "output_type": "stream",
     "text": [
      " 74%|███████▍  | 148/200 [15:49<06:02,  6.98s/it]"
     ]
    },
    {
     "name": "stdout",
     "output_type": "stream",
     "text": [
      "--------------Epochs200 | 147---------------\n",
      "Train Loss : 1871.0828857421875\n"
     ]
    },
    {
     "name": "stderr",
     "output_type": "stream",
     "text": [
      " 74%|███████▍  | 149/200 [15:56<06:05,  7.16s/it]"
     ]
    },
    {
     "name": "stdout",
     "output_type": "stream",
     "text": [
      "--------------Epochs200 | 148---------------\n",
      "Train Loss : 1856.3046875\n"
     ]
    },
    {
     "name": "stderr",
     "output_type": "stream",
     "text": [
      " 75%|███████▌  | 150/200 [16:03<05:45,  6.91s/it]"
     ]
    },
    {
     "name": "stdout",
     "output_type": "stream",
     "text": [
      "--------------Epochs200 | 149---------------\n",
      "Train Loss : 1840.0977783203125\n",
      "--------------Epochs200 | 150---------------\n",
      "Train Loss : 1832.834716796875\n"
     ]
    },
    {
     "name": "stderr",
     "output_type": "stream",
     "text": [
      " 76%|███████▌  | 151/200 [16:10<05:41,  6.98s/it]"
     ]
    },
    {
     "name": "stdout",
     "output_type": "stream",
     "text": [
      "Val Loss : 5686.56103515625\n"
     ]
    },
    {
     "name": "stderr",
     "output_type": "stream",
     "text": [
      " 76%|███████▌  | 152/200 [16:15<05:15,  6.58s/it]"
     ]
    },
    {
     "name": "stdout",
     "output_type": "stream",
     "text": [
      "--------------Epochs200 | 151---------------\n",
      "Train Loss : 1850.936279296875\n"
     ]
    },
    {
     "name": "stderr",
     "output_type": "stream",
     "text": [
      " 76%|███████▋  | 153/200 [16:21<04:56,  6.32s/it]"
     ]
    },
    {
     "name": "stdout",
     "output_type": "stream",
     "text": [
      "--------------Epochs200 | 152---------------\n",
      "Train Loss : 1821.9046630859375\n"
     ]
    },
    {
     "name": "stderr",
     "output_type": "stream",
     "text": [
      " 77%|███████▋  | 154/200 [16:27<04:40,  6.10s/it]"
     ]
    },
    {
     "name": "stdout",
     "output_type": "stream",
     "text": [
      "--------------Epochs200 | 153---------------\n",
      "Train Loss : 1823.93408203125\n"
     ]
    },
    {
     "name": "stderr",
     "output_type": "stream",
     "text": [
      " 78%|███████▊  | 155/200 [16:33<04:32,  6.05s/it]"
     ]
    },
    {
     "name": "stdout",
     "output_type": "stream",
     "text": [
      "--------------Epochs200 | 154---------------\n",
      "Train Loss : 1802.981201171875\n",
      "--------------Epochs200 | 155---------------\n",
      "Train Loss : 1793.5740966796875\n"
     ]
    },
    {
     "name": "stderr",
     "output_type": "stream",
     "text": [
      " 78%|███████▊  | 156/200 [16:40<04:41,  6.39s/it]"
     ]
    },
    {
     "name": "stdout",
     "output_type": "stream",
     "text": [
      "Val Loss : 5867.2548828125\n"
     ]
    },
    {
     "name": "stderr",
     "output_type": "stream",
     "text": [
      " 78%|███████▊  | 157/200 [16:46<04:27,  6.22s/it]"
     ]
    },
    {
     "name": "stdout",
     "output_type": "stream",
     "text": [
      "--------------Epochs200 | 156---------------\n",
      "Train Loss : 1776.763671875\n"
     ]
    },
    {
     "name": "stderr",
     "output_type": "stream",
     "text": [
      " 79%|███████▉  | 158/200 [16:51<04:13,  6.03s/it]"
     ]
    },
    {
     "name": "stdout",
     "output_type": "stream",
     "text": [
      "--------------Epochs200 | 157---------------\n",
      "Train Loss : 1764.0455322265625\n"
     ]
    },
    {
     "name": "stderr",
     "output_type": "stream",
     "text": [
      " 80%|███████▉  | 159/200 [16:57<04:02,  5.92s/it]"
     ]
    },
    {
     "name": "stdout",
     "output_type": "stream",
     "text": [
      "--------------Epochs200 | 158---------------\n",
      "Train Loss : 1754.1322021484375\n"
     ]
    },
    {
     "name": "stderr",
     "output_type": "stream",
     "text": [
      " 80%|████████  | 160/200 [17:03<03:56,  5.90s/it]"
     ]
    },
    {
     "name": "stdout",
     "output_type": "stream",
     "text": [
      "--------------Epochs200 | 159---------------\n",
      "Train Loss : 1886.7689208984375\n",
      "--------------Epochs200 | 160---------------\n",
      "Train Loss : 1884.6776123046875\n"
     ]
    },
    {
     "name": "stderr",
     "output_type": "stream",
     "text": [
      " 80%|████████  | 161/200 [17:10<04:04,  6.28s/it]"
     ]
    },
    {
     "name": "stdout",
     "output_type": "stream",
     "text": [
      "Val Loss : 5864.7197265625\n"
     ]
    },
    {
     "name": "stderr",
     "output_type": "stream",
     "text": [
      " 81%|████████  | 162/200 [17:16<03:54,  6.18s/it]"
     ]
    },
    {
     "name": "stdout",
     "output_type": "stream",
     "text": [
      "--------------Epochs200 | 161---------------\n",
      "Train Loss : 1875.5567626953125\n"
     ]
    },
    {
     "name": "stderr",
     "output_type": "stream",
     "text": [
      " 82%|████████▏ | 163/200 [17:22<03:45,  6.09s/it]"
     ]
    },
    {
     "name": "stdout",
     "output_type": "stream",
     "text": [
      "--------------Epochs200 | 162---------------\n",
      "Train Loss : 1870.7242431640625\n"
     ]
    },
    {
     "name": "stderr",
     "output_type": "stream",
     "text": [
      " 82%|████████▏ | 164/200 [17:27<03:36,  6.00s/it]"
     ]
    },
    {
     "name": "stdout",
     "output_type": "stream",
     "text": [
      "--------------Epochs200 | 163---------------\n",
      "Train Loss : 1865.512451171875\n"
     ]
    },
    {
     "name": "stderr",
     "output_type": "stream",
     "text": [
      " 82%|████████▎ | 165/200 [17:34<03:31,  6.05s/it]"
     ]
    },
    {
     "name": "stdout",
     "output_type": "stream",
     "text": [
      "--------------Epochs200 | 164---------------\n",
      "Train Loss : 1865.34912109375\n",
      "--------------Epochs200 | 165---------------\n",
      "Train Loss : 1870.282958984375\n"
     ]
    },
    {
     "name": "stderr",
     "output_type": "stream",
     "text": [
      " 83%|████████▎ | 166/200 [17:41<03:38,  6.43s/it]"
     ]
    },
    {
     "name": "stdout",
     "output_type": "stream",
     "text": [
      "Val Loss : 5702.86083984375\n"
     ]
    },
    {
     "name": "stderr",
     "output_type": "stream",
     "text": [
      " 84%|████████▎ | 167/200 [17:47<03:32,  6.44s/it]"
     ]
    },
    {
     "name": "stdout",
     "output_type": "stream",
     "text": [
      "--------------Epochs200 | 166---------------\n",
      "Train Loss : 1871.513671875\n"
     ]
    },
    {
     "name": "stderr",
     "output_type": "stream",
     "text": [
      " 84%|████████▍ | 168/200 [17:53<03:22,  6.33s/it]"
     ]
    },
    {
     "name": "stdout",
     "output_type": "stream",
     "text": [
      "--------------Epochs200 | 167---------------\n",
      "Train Loss : 1879.0931396484375\n"
     ]
    },
    {
     "name": "stderr",
     "output_type": "stream",
     "text": [
      " 84%|████████▍ | 169/200 [18:00<03:14,  6.28s/it]"
     ]
    },
    {
     "name": "stdout",
     "output_type": "stream",
     "text": [
      "--------------Epochs200 | 168---------------\n",
      "Train Loss : 1870.53857421875\n"
     ]
    },
    {
     "name": "stderr",
     "output_type": "stream",
     "text": [
      " 85%|████████▌ | 170/200 [18:06<03:09,  6.32s/it]"
     ]
    },
    {
     "name": "stdout",
     "output_type": "stream",
     "text": [
      "--------------Epochs200 | 169---------------\n",
      "Train Loss : 1888.224853515625\n",
      "--------------Epochs200 | 170---------------\n",
      "Train Loss : 1901.6492919921875\n"
     ]
    },
    {
     "name": "stderr",
     "output_type": "stream",
     "text": [
      " 86%|████████▌ | 171/200 [18:14<03:18,  6.83s/it]"
     ]
    },
    {
     "name": "stdout",
     "output_type": "stream",
     "text": [
      "Val Loss : 5423.4189453125\n"
     ]
    },
    {
     "name": "stderr",
     "output_type": "stream",
     "text": [
      " 86%|████████▌ | 172/200 [18:21<03:10,  6.79s/it]"
     ]
    },
    {
     "name": "stdout",
     "output_type": "stream",
     "text": [
      "--------------Epochs200 | 171---------------\n",
      "Train Loss : 1904.2191162109375\n"
     ]
    },
    {
     "name": "stderr",
     "output_type": "stream",
     "text": [
      " 86%|████████▋ | 173/200 [18:27<03:00,  6.67s/it]"
     ]
    },
    {
     "name": "stdout",
     "output_type": "stream",
     "text": [
      "--------------Epochs200 | 172---------------\n",
      "Train Loss : 1935.2940673828125\n"
     ]
    },
    {
     "name": "stderr",
     "output_type": "stream",
     "text": [
      " 87%|████████▋ | 174/200 [18:34<02:56,  6.80s/it]"
     ]
    },
    {
     "name": "stdout",
     "output_type": "stream",
     "text": [
      "--------------Epochs200 | 173---------------\n",
      "Train Loss : 1932.962890625\n"
     ]
    },
    {
     "name": "stderr",
     "output_type": "stream",
     "text": [
      " 88%|████████▊ | 175/200 [18:42<02:56,  7.05s/it]"
     ]
    },
    {
     "name": "stdout",
     "output_type": "stream",
     "text": [
      "--------------Epochs200 | 174---------------\n",
      "Train Loss : 2107.56591796875\n",
      "--------------Epochs200 | 175---------------\n",
      "Train Loss : 2305.346923828125\n"
     ]
    },
    {
     "name": "stderr",
     "output_type": "stream",
     "text": [
      " 88%|████████▊ | 176/200 [18:50<02:57,  7.39s/it]"
     ]
    },
    {
     "name": "stdout",
     "output_type": "stream",
     "text": [
      "Val Loss : 5411.01318359375\n"
     ]
    },
    {
     "name": "stderr",
     "output_type": "stream",
     "text": [
      " 88%|████████▊ | 177/200 [18:56<02:42,  7.08s/it]"
     ]
    },
    {
     "name": "stdout",
     "output_type": "stream",
     "text": [
      "--------------Epochs200 | 176---------------\n",
      "Train Loss : 2151.18359375\n"
     ]
    },
    {
     "name": "stderr",
     "output_type": "stream",
     "text": [
      " 89%|████████▉ | 178/200 [19:02<02:29,  6.78s/it]"
     ]
    },
    {
     "name": "stdout",
     "output_type": "stream",
     "text": [
      "--------------Epochs200 | 177---------------\n",
      "Train Loss : 2239.77880859375\n"
     ]
    },
    {
     "name": "stderr",
     "output_type": "stream",
     "text": [
      " 90%|████████▉ | 179/200 [19:09<02:19,  6.65s/it]"
     ]
    },
    {
     "name": "stdout",
     "output_type": "stream",
     "text": [
      "--------------Epochs200 | 178---------------\n",
      "Train Loss : 2191.36572265625\n"
     ]
    },
    {
     "name": "stderr",
     "output_type": "stream",
     "text": [
      " 90%|█████████ | 180/200 [19:15<02:11,  6.57s/it]"
     ]
    },
    {
     "name": "stdout",
     "output_type": "stream",
     "text": [
      "--------------Epochs200 | 179---------------\n",
      "Train Loss : 2608.417236328125\n",
      "--------------Epochs200 | 180---------------\n",
      "Train Loss : 2612.795166015625\n"
     ]
    },
    {
     "name": "stderr",
     "output_type": "stream",
     "text": [
      " 90%|█████████ | 181/200 [19:23<02:12,  6.96s/it]"
     ]
    },
    {
     "name": "stdout",
     "output_type": "stream",
     "text": [
      "Val Loss : 5347.9384765625\n"
     ]
    },
    {
     "name": "stderr",
     "output_type": "stream",
     "text": [
      " 91%|█████████ | 182/200 [19:29<02:00,  6.67s/it]"
     ]
    },
    {
     "name": "stdout",
     "output_type": "stream",
     "text": [
      "--------------Epochs200 | 181---------------\n",
      "Train Loss : 2627.801513671875\n"
     ]
    },
    {
     "name": "stderr",
     "output_type": "stream",
     "text": [
      " 92%|█████████▏| 183/200 [19:35<01:51,  6.55s/it]"
     ]
    },
    {
     "name": "stdout",
     "output_type": "stream",
     "text": [
      "--------------Epochs200 | 182---------------\n",
      "Train Loss : 2943.38623046875\n"
     ]
    },
    {
     "name": "stderr",
     "output_type": "stream",
     "text": [
      " 92%|█████████▏| 184/200 [19:42<01:46,  6.63s/it]"
     ]
    },
    {
     "name": "stdout",
     "output_type": "stream",
     "text": [
      "--------------Epochs200 | 183---------------\n",
      "Train Loss : 2938.6044921875\n"
     ]
    },
    {
     "name": "stderr",
     "output_type": "stream",
     "text": [
      " 92%|█████████▎| 185/200 [19:49<01:38,  6.60s/it]"
     ]
    },
    {
     "name": "stdout",
     "output_type": "stream",
     "text": [
      "--------------Epochs200 | 184---------------\n",
      "Train Loss : 3024.655029296875\n",
      "--------------Epochs200 | 185---------------\n",
      "Train Loss : 2966.392822265625\n"
     ]
    },
    {
     "name": "stderr",
     "output_type": "stream",
     "text": [
      " 93%|█████████▎| 186/200 [19:56<01:36,  6.87s/it]"
     ]
    },
    {
     "name": "stdout",
     "output_type": "stream",
     "text": [
      "Val Loss : 5315.7626953125\n"
     ]
    },
    {
     "name": "stderr",
     "output_type": "stream",
     "text": [
      " 94%|█████████▎| 187/200 [20:03<01:27,  6.71s/it]"
     ]
    },
    {
     "name": "stdout",
     "output_type": "stream",
     "text": [
      "--------------Epochs200 | 186---------------\n",
      "Train Loss : 2936.283935546875\n"
     ]
    },
    {
     "name": "stderr",
     "output_type": "stream",
     "text": [
      " 94%|█████████▍| 188/200 [20:09<01:18,  6.56s/it]"
     ]
    },
    {
     "name": "stdout",
     "output_type": "stream",
     "text": [
      "--------------Epochs200 | 187---------------\n",
      "Train Loss : 2901.342041015625\n"
     ]
    },
    {
     "name": "stderr",
     "output_type": "stream",
     "text": [
      " 94%|█████████▍| 189/200 [20:15<01:10,  6.43s/it]"
     ]
    },
    {
     "name": "stdout",
     "output_type": "stream",
     "text": [
      "--------------Epochs200 | 188---------------\n",
      "Train Loss : 2875.1015625\n"
     ]
    },
    {
     "name": "stderr",
     "output_type": "stream",
     "text": [
      " 95%|█████████▌| 190/200 [20:21<01:03,  6.31s/it]"
     ]
    },
    {
     "name": "stdout",
     "output_type": "stream",
     "text": [
      "--------------Epochs200 | 189---------------\n",
      "Train Loss : 2873.852783203125\n",
      "--------------Epochs200 | 190---------------\n",
      "Train Loss : 2832.70361328125\n"
     ]
    },
    {
     "name": "stderr",
     "output_type": "stream",
     "text": [
      " 96%|█████████▌| 191/200 [20:29<01:00,  6.74s/it]"
     ]
    },
    {
     "name": "stdout",
     "output_type": "stream",
     "text": [
      "Val Loss : 5062.2138671875\n"
     ]
    },
    {
     "name": "stderr",
     "output_type": "stream",
     "text": [
      " 96%|█████████▌| 192/200 [20:35<00:53,  6.68s/it]"
     ]
    },
    {
     "name": "stdout",
     "output_type": "stream",
     "text": [
      "--------------Epochs200 | 191---------------\n",
      "Train Loss : 2817.88916015625\n"
     ]
    },
    {
     "name": "stderr",
     "output_type": "stream",
     "text": [
      " 96%|█████████▋| 193/200 [20:41<00:45,  6.49s/it]"
     ]
    },
    {
     "name": "stdout",
     "output_type": "stream",
     "text": [
      "--------------Epochs200 | 192---------------\n",
      "Train Loss : 2821.847412109375\n"
     ]
    },
    {
     "name": "stderr",
     "output_type": "stream",
     "text": [
      " 97%|█████████▋| 194/200 [20:47<00:37,  6.33s/it]"
     ]
    },
    {
     "name": "stdout",
     "output_type": "stream",
     "text": [
      "--------------Epochs200 | 193---------------\n",
      "Train Loss : 2821.00244140625\n"
     ]
    },
    {
     "name": "stderr",
     "output_type": "stream",
     "text": [
      " 98%|█████████▊| 195/200 [20:53<00:30,  6.18s/it]"
     ]
    },
    {
     "name": "stdout",
     "output_type": "stream",
     "text": [
      "--------------Epochs200 | 194---------------\n",
      "Train Loss : 2803.9228515625\n",
      "--------------Epochs200 | 195---------------\n",
      "Train Loss : 2788.936767578125\n"
     ]
    },
    {
     "name": "stderr",
     "output_type": "stream",
     "text": [
      " 98%|█████████▊| 196/200 [21:01<00:26,  6.62s/it]"
     ]
    },
    {
     "name": "stdout",
     "output_type": "stream",
     "text": [
      "Val Loss : 4964.5361328125\n"
     ]
    },
    {
     "name": "stderr",
     "output_type": "stream",
     "text": [
      " 98%|█████████▊| 197/200 [21:07<00:19,  6.57s/it]"
     ]
    },
    {
     "name": "stdout",
     "output_type": "stream",
     "text": [
      "--------------Epochs200 | 196---------------\n",
      "Train Loss : 2767.548095703125\n"
     ]
    },
    {
     "name": "stderr",
     "output_type": "stream",
     "text": [
      " 99%|█████████▉| 198/200 [21:14<00:13,  6.59s/it]"
     ]
    },
    {
     "name": "stdout",
     "output_type": "stream",
     "text": [
      "--------------Epochs200 | 197---------------\n",
      "Train Loss : 2752.4912109375\n"
     ]
    },
    {
     "name": "stderr",
     "output_type": "stream",
     "text": [
      "100%|█████████▉| 199/200 [21:20<00:06,  6.54s/it]"
     ]
    },
    {
     "name": "stdout",
     "output_type": "stream",
     "text": [
      "--------------Epochs200 | 198---------------\n",
      "Train Loss : 2749.249755859375\n"
     ]
    },
    {
     "name": "stderr",
     "output_type": "stream",
     "text": [
      "100%|██████████| 200/200 [21:27<00:00,  6.44s/it]"
     ]
    },
    {
     "name": "stdout",
     "output_type": "stream",
     "text": [
      "--------------Epochs200 | 199---------------\n",
      "Train Loss : 3046.6259765625\n"
     ]
    },
    {
     "name": "stderr",
     "output_type": "stream",
     "text": [
      "\n"
     ]
    },
    {
     "data": {
      "text/plain": "<Figure size 432x288 with 1 Axes>",
      "image/png": "[encoded data removed]"
     },
     "metadata": {
      "needs_background": "light"
     },
     "output_type": "display_data"
    }
   ],
   "source": [
    "top_k = 5\n",
    "\n",
    "epoches = 200\n",
    "\n",
    "\n",
    "\n",
    "train_loss = []\n",
    "test_acc = []\n",
    "\n",
    "\n",
    "for epoch in trange(epoches):\n",
    "    loss_ =0\n",
    "    how_many_instance = 0\n",
    "    val_loss_ =0\n",
    "    optimizer_scheduler.step()\n",
    "    optimizer.step()\n",
    "    for i , k in train_dataloader[:-1]:\n",
    "        optimizer.zero_grad()\n",
    "        a = encoder.transform(i.reshape(-1,1))\n",
    "        a =torch.tensor(a).to(torch.float32).to(device)\n",
    "        k = label_encode(k)\n",
    "        k =torch.tensor(k).to(torch.long).to(device)\n",
    "        loss = loss_function(net(a),k)\n",
    "        loss.backward()\n",
    "        optimizer.step()\n",
    "        loss_ = loss_+loss\n",
    "        how_many_instance = how_many_instance + 1\n",
    "    train_loss.append(loss_.cpu().detach().numpy() / how_many_instance)\n",
    "    print(f'--------------Epochs{epoches} | {epoch}---------------')\n",
    "    print(f'average Train Loss : {train_loss[-1]}')\n",
    "\n",
    "    if(epoch%5==0):\n",
    "        val_ls = 0\n",
    "        how_many_instance = 0\n",
    "        how_many_instance_right = 0\n",
    "        with torch.no_grad():\n",
    "            for i , k in test_dataloader[:-1]:\n",
    "                a = encoder.transform(i.reshape(-1,1))\n",
    "                a =torch.tensor(a).to(torch.float32).to(device)\n",
    "                k = label_encode(k)\n",
    "                k =torch.tensor(k).to(torch.long).to(device)#k的size确实是1，然后out的size是884的向量\n",
    "                out = net(a)\n",
    "                loss = loss_function(out,k)\n",
    "                val_ls +=loss\n",
    "                probs = F.softmax(out, dim=1).squeeze()\n",
    "                probs, indices = probs.topk(5,largest=True) # 选取概率最大的前top_k个\n",
    "                indices = indices.cpu().numpy()\n",
    "                probs = probs.cpu().numpy()\n",
    "                char_index = np.random.choice(indices,size=1, p = probs / probs.sum()) # 随机选取一个索引\n",
    "                how_many_instance = how_many_instance +1\n",
    "                if char_index == k:\n",
    "                    how_many_instance_right = how_many_instance_right + 1\n",
    "\n",
    "                #这个取索引的方法是取出前5个然后只根据这5个概率去看\n",
    "                # h3_value = label_decode([char_index])\n",
    "                # predict = h3_t_geo(h3_value.tolist())\n",
    "\n",
    "        test_acc.append(how_many_instance_right / how_many_instance )\n",
    "        print(f'test accuracy : { test_acc[-1]} ')\n",
    "\n",
    "\n",
    "\n",
    "plt.plot(train_loss, label='Average Train Loss')\n",
    "plt.plot(test_acc, label='test_acc')\n",
    "plt.title('Loss vs Epochs')\n",
    "plt.legend()\n",
    "plt.show()\n",
    "\n",
    "\n",
    "\n",
    "\n"
   ],
   "metadata": {
    "collapsed": false,
    "pycharm": {
     "name": "#%%\n"
    }
   }
  },
  {
   "cell_type": "code",
   "execution_count": 7,
   "outputs": [
    {
     "name": "stdout",
     "output_type": "stream",
     "text": [
      "[(39.98137390358118, 116.34317185914841), (39.98173344990935, 116.34206849815882), (39.98140648799353, 116.33991445203374), (39.98176601295398, 116.33881101147735), (39.98212553489541, 116.33770753646104), (39.98176601295398, 116.33881101147735), (39.981079476276854, 116.33776036111833), (39.98212553489541, 116.33770753646104), (39.98212553489541, 116.33770753646104), (39.981079476276854, 116.33776036111833), (39.98140648799353, 116.33991445203374)]\n",
      "tensor([39.9814, 39.9817, 39.9814, 39.9818, 39.9821, 39.9818, 39.9811, 39.9821,\n",
      "        39.9821])\n",
      "tensor([116.3432, 116.3421, 116.3399, 116.3388, 116.3377, 116.3388, 116.3378,\n",
      "        116.3377, 116.3377])\n",
      "[tensor(39.9811), tensor(39.9814)]\n",
      "[tensor(116.3378), tensor(116.3399)]\n",
      "over\n",
      "[(39.98173344990935, 116.34206849815882), (39.98140648799353, 116.33991445203374), (39.98176601295398, 116.33881101147735), (39.98212553489541, 116.33770753646104), (39.98176601295398, 116.33881101147735), (39.981079476276854, 116.33776036111833), (39.98212553489541, 116.33770753646104), (39.98212553489541, 116.33770753646104), (39.981079476276854, 116.33776036111833), (39.98176601295398, 116.33881101147735), (39.98212553489541, 116.33770753646104)]\n",
      "tensor([39.9817, 39.9814, 39.9818, 39.9821, 39.9818, 39.9811, 39.9821, 39.9821,\n",
      "        39.9811])\n",
      "tensor([116.3421, 116.3399, 116.3388, 116.3377, 116.3388, 116.3378, 116.3377,\n",
      "        116.3377, 116.3378])\n",
      "[tensor(39.9818), tensor(39.9821)]\n",
      "[tensor(116.3388), tensor(116.3377)]\n",
      "over\n",
      "[(39.98140648799353, 116.33991445203374), (39.98176601295398, 116.33881101147735), (39.98212553489541, 116.33770753646104), (39.98176601295398, 116.33881101147735), (39.981079476276854, 116.33776036111833), (39.98212553489541, 116.33770753646104), (39.98212553489541, 116.33770753646104), (39.981079476276854, 116.33776036111833), (39.98176601295398, 116.33881101147735), (39.981079476276854, 116.33776036111833), (39.98036045400415, 116.33996722906653)]\n",
      "tensor([39.9814, 39.9818, 39.9821, 39.9818, 39.9811, 39.9821, 39.9821, 39.9811,\n",
      "        39.9818])\n",
      "tensor([116.3399, 116.3388, 116.3377, 116.3388, 116.3378, 116.3377, 116.3377,\n",
      "        116.3378, 116.3388])\n",
      "[tensor(39.9811), tensor(39.9804)]\n",
      "[tensor(116.3378), tensor(116.3400)]\n",
      "over\n",
      "[(39.98176601295398, 116.33881101147735), (39.98212553489541, 116.33770753646104), (39.98176601295398, 116.33881101147735), (39.981079476276854, 116.33776036111833), (39.98212553489541, 116.33770753646104), (39.98212553489541, 116.33770753646104), (39.981079476276854, 116.33776036111833), (39.98176601295398, 116.33881101147735), (39.981079476276854, 116.33776036111833), (39.97967393187778, 116.33891661096617), (39.98241992368721, 116.34311914914967)]\n",
      "tensor([39.9818, 39.9821, 39.9818, 39.9811, 39.9821, 39.9821, 39.9811, 39.9818,\n",
      "        39.9811])\n",
      "tensor([116.3388, 116.3377, 116.3388, 116.3378, 116.3377, 116.3377, 116.3378,\n",
      "        116.3388, 116.3378])\n",
      "[tensor(39.9797), tensor(39.9824)]\n",
      "[tensor(116.3389), tensor(116.3431)]\n",
      "over\n",
      "[(39.98212553489541, 116.33770753646104), (39.98176601295398, 116.33881101147735), (39.981079476276854, 116.33776036111833), (39.98212553489541, 116.33770753646104), (39.98212553489541, 116.33770753646104), (39.981079476276854, 116.33776036111833), (39.98176601295398, 116.33881101147735), (39.981079476276854, 116.33776036111833), (39.97967393187778, 116.33891661096617), (39.98000093834051, 116.34107061135364), (39.97964141965984, 116.3421739591838)]\n",
      "tensor([39.9821, 39.9818, 39.9811, 39.9821, 39.9821, 39.9811, 39.9818, 39.9811,\n",
      "        39.9797])\n",
      "tensor([116.3377, 116.3388, 116.3378, 116.3377, 116.3377, 116.3378, 116.3388,\n",
      "        116.3378, 116.3389])\n",
      "[tensor(39.9800), tensor(39.9796)]\n",
      "[tensor(116.3411), tensor(116.3422)]\n",
      "over\n",
      "[(39.98176601295398, 116.33881101147735), (39.981079476276854, 116.33776036111833), (39.98212553489541, 116.33770753646104), (39.98212553489541, 116.33770753646104), (39.981079476276854, 116.33776036111833), (39.98176601295398, 116.33881101147735), (39.981079476276854, 116.33776036111833), (39.97967393187778, 116.33891661096617), (39.98000093834051, 116.34107061135364), (39.97964141965984, 116.3421739591838), (39.98241992368721, 116.34311914914967)]\n",
      "tensor([39.9818, 39.9811, 39.9821, 39.9821, 39.9811, 39.9818, 39.9811, 39.9797,\n",
      "        39.9800])\n",
      "tensor([116.3388, 116.3378, 116.3377, 116.3377, 116.3378, 116.3388, 116.3378,\n",
      "        116.3389, 116.3411])\n",
      "[tensor(39.9796), tensor(39.9824)]\n",
      "[tensor(116.3422), tensor(116.3431)]\n",
      "over\n",
      "[(39.981079476276854, 116.33776036111833), (39.98212553489541, 116.33770753646104), (39.98212553489541, 116.33770753646104), (39.981079476276854, 116.33776036111833), (39.98176601295398, 116.33881101147735), (39.981079476276854, 116.33776036111833), (39.97967393187778, 116.33891661096617), (39.98000093834051, 116.34107061135364), (39.97964141965984, 116.3421739591838), (39.97996835797807, 116.34432786967562), (39.97924927487805, 116.34653437175753)]\n",
      "tensor([39.9811, 39.9821, 39.9821, 39.9811, 39.9818, 39.9811, 39.9797, 39.9800,\n",
      "        39.9796])\n",
      "tensor([116.3378, 116.3377, 116.3377, 116.3378, 116.3388, 116.3378, 116.3389,\n",
      "        116.3411, 116.3422])\n",
      "[tensor(39.9800), tensor(39.9792)]\n",
      "[tensor(116.3443), tensor(116.3465)]\n",
      "over\n",
      "[(39.98212553489541, 116.33770753646104), (39.98212553489541, 116.33770753646104), (39.981079476276854, 116.33776036111833), (39.98176601295398, 116.33881101147735), (39.981079476276854, 116.33776036111833), (39.97967393187778, 116.33891661096617), (39.98000093834051, 116.34107061135364), (39.97964141965984, 116.3421739591838), (39.97996835797807, 116.34432786967562), (39.98140648799353, 116.33991445203374), (39.942647536563825, 116.34837526474693)]\n",
      "tensor([39.9821, 39.9821, 39.9811, 39.9818, 39.9811, 39.9797, 39.9800, 39.9796,\n",
      "        39.9800])\n",
      "tensor([116.3377, 116.3377, 116.3378, 116.3388, 116.3378, 116.3389, 116.3411,\n",
      "        116.3422, 116.3443])\n",
      "[tensor(39.9814), tensor(39.9426)]\n",
      "[tensor(116.3399), tensor(116.3484)]\n",
      "over\n",
      "[(39.98212553489541, 116.33770753646104), (39.981079476276854, 116.33776036111833), (39.98176601295398, 116.33881101147735), (39.981079476276854, 116.33776036111833), (39.97967393187778, 116.33891661096617), (39.98000093834051, 116.34107061135364), (39.97964141965984, 116.3421739591838), (39.97996835797807, 116.34432786967562), (39.98140648799353, 116.33991445203374), (39.98140648799353, 116.33991445203374), (39.98170079735157, 116.34532581536946)]\n",
      "tensor([39.9821, 39.9811, 39.9818, 39.9811, 39.9797, 39.9800, 39.9796, 39.9800,\n",
      "        39.9814])\n",
      "tensor([116.3377, 116.3378, 116.3388, 116.3378, 116.3389, 116.3411, 116.3422,\n",
      "        116.3443, 116.3399])\n",
      "[tensor(39.9814), tensor(39.9817)]\n",
      "[tensor(116.3399), tensor(116.3453)]\n",
      "over\n",
      "[(39.981079476276854, 116.33776036111833), (39.98176601295398, 116.33881101147735), (39.981079476276854, 116.33776036111833), (39.97967393187778, 116.33891661096617), (39.98000093834051, 116.34107061135364), (39.97964141965984, 116.3421739591838), (39.97996835797807, 116.34432786967562), (39.98140648799353, 116.33991445203374), (39.98140648799353, 116.33991445203374), (39.98104696001483, 116.34101785813094), (39.98134122966143, 116.34642909679191)]\n",
      "tensor([39.9811, 39.9818, 39.9811, 39.9797, 39.9800, 39.9796, 39.9800, 39.9814,\n",
      "        39.9814])\n",
      "tensor([116.3378, 116.3388, 116.3378, 116.3389, 116.3411, 116.3422, 116.3443,\n",
      "        116.3399, 116.3399])\n",
      "[tensor(39.9810), tensor(39.9813)]\n",
      "[tensor(116.3410), tensor(116.3464)]\n",
      "over\n",
      "[(39.98176601295398, 116.33881101147735), (39.981079476276854, 116.33776036111833), (39.97967393187778, 116.33891661096617), (39.98000093834051, 116.34107061135364), (39.97964141965984, 116.3421739591838), (39.97996835797807, 116.34432786967562), (39.98140648799353, 116.33991445203374), (39.98140648799353, 116.33991445203374), (39.98104696001483, 116.34101785813094), (39.98140648799353, 116.33991445203374), (39.98173344990935, 116.34206849815882)]\n",
      "tensor([39.9818, 39.9811, 39.9797, 39.9800, 39.9796, 39.9800, 39.9814, 39.9814,\n",
      "        39.9810])\n",
      "tensor([116.3388, 116.3378, 116.3389, 116.3411, 116.3422, 116.3443, 116.3399,\n",
      "        116.3399, 116.3410])\n",
      "[tensor(39.9814), tensor(39.9817)]\n",
      "[tensor(116.3399), tensor(116.3421)]\n",
      "over\n",
      "[(39.981079476276854, 116.33776036111833), (39.97967393187778, 116.33891661096617), (39.98000093834051, 116.34107061135364), (39.97964141965984, 116.3421739591838), (39.97996835797807, 116.34432786967562), (39.98140648799353, 116.33991445203374), (39.98140648799353, 116.33991445203374), (39.98104696001483, 116.34101785813094), (39.98140648799353, 116.33991445203374), (39.98176601295398, 116.33881101147735), (39.98212553489541, 116.33770753646104)]\n",
      "tensor([39.9811, 39.9797, 39.9800, 39.9796, 39.9800, 39.9814, 39.9814, 39.9810,\n",
      "        39.9814])\n",
      "tensor([116.3378, 116.3389, 116.3411, 116.3422, 116.3443, 116.3399, 116.3399,\n",
      "        116.3410, 116.3399])\n",
      "[tensor(39.9818), tensor(39.9821)]\n",
      "[tensor(116.3388), tensor(116.3377)]\n",
      "over\n",
      "[(39.97967393187778, 116.33891661096617), (39.98000093834051, 116.34107061135364), (39.97964141965984, 116.3421739591838), (39.97996835797807, 116.34432786967562), (39.98140648799353, 116.33991445203374), (39.98140648799353, 116.33991445203374), (39.98104696001483, 116.34101785813094), (39.98140648799353, 116.33991445203374), (39.98176601295398, 116.33881101147735), (39.98140648799353, 116.33991445203374), (39.98000093834051, 116.34107061135364)]\n",
      "tensor([39.9797, 39.9800, 39.9796, 39.9800, 39.9814, 39.9814, 39.9810, 39.9814,\n",
      "        39.9818])\n",
      "tensor([116.3389, 116.3411, 116.3422, 116.3443, 116.3399, 116.3399, 116.3410,\n",
      "        116.3399, 116.3388])\n",
      "[tensor(39.9814), tensor(39.9800)]\n",
      "[tensor(116.3399), tensor(116.3411)]\n",
      "over\n",
      "[(39.98000093834051, 116.34107061135364), (39.97964141965984, 116.3421739591838), (39.97996835797807, 116.34432786967562), (39.98140648799353, 116.33991445203374), (39.98140648799353, 116.33991445203374), (39.98104696001483, 116.34101785813094), (39.98140648799353, 116.33991445203374), (39.98176601295398, 116.33881101147735), (39.98140648799353, 116.33991445203374), (39.98140648799353, 116.33991445203374), (39.98000093834051, 116.34107061135364)]\n",
      "tensor([39.9800, 39.9796, 39.9800, 39.9814, 39.9814, 39.9810, 39.9814, 39.9818,\n",
      "        39.9814])\n",
      "tensor([116.3411, 116.3422, 116.3443, 116.3399, 116.3399, 116.3410, 116.3399,\n",
      "        116.3388, 116.3399])\n",
      "[tensor(39.9814), tensor(39.9800)]\n",
      "[tensor(116.3399), tensor(116.3411)]\n",
      "over\n",
      "[(39.97964141965984, 116.3421739591838), (39.97996835797807, 116.34432786967562), (39.98140648799353, 116.33991445203374), (39.98140648799353, 116.33991445203374), (39.98104696001483, 116.34101785813094), (39.98140648799353, 116.33991445203374), (39.98176601295398, 116.33881101147735), (39.98140648799353, 116.33991445203374), (39.98140648799353, 116.33991445203374), (39.98140648799353, 116.33991445203374), (39.981471388239264, 116.33339912942208)]\n",
      "tensor([39.9796, 39.9800, 39.9814, 39.9814, 39.9810, 39.9814, 39.9818, 39.9814,\n",
      "        39.9814])\n",
      "tensor([116.3422, 116.3443, 116.3399, 116.3399, 116.3410, 116.3399, 116.3388,\n",
      "        116.3399, 116.3399])\n",
      "[tensor(39.9814), tensor(39.9815)]\n",
      "[tensor(116.3399), tensor(116.3334)]\n",
      "over\n",
      "[(39.97996835797807, 116.34432786967562), (39.98140648799353, 116.33991445203374), (39.98140648799353, 116.33991445203374), (39.98104696001483, 116.34101785813094), (39.98140648799353, 116.33991445203374), (39.98176601295398, 116.33881101147735), (39.98140648799353, 116.33991445203374), (39.98140648799353, 116.33991445203374), (39.98140648799353, 116.33991445203374), (39.98104696001483, 116.34101785813094), (39.98241992368721, 116.34311914914967)]\n",
      "tensor([39.9800, 39.9814, 39.9814, 39.9810, 39.9814, 39.9818, 39.9814, 39.9814,\n",
      "        39.9814])\n",
      "tensor([116.3443, 116.3399, 116.3399, 116.3410, 116.3399, 116.3388, 116.3399,\n",
      "        116.3399, 116.3399])\n",
      "[tensor(39.9810), tensor(39.9824)]\n",
      "[tensor(116.3410), tensor(116.3431)]\n",
      "over\n",
      "[(39.98140648799353, 116.33991445203374), (39.98140648799353, 116.33991445203374), (39.98104696001483, 116.34101785813094), (39.98140648799353, 116.33991445203374), (39.98176601295398, 116.33881101147735), (39.98140648799353, 116.33991445203374), (39.98140648799353, 116.33991445203374), (39.98140648799353, 116.33991445203374), (39.98104696001483, 116.34101785813094), (39.98140648799353, 116.33991445203374), (39.98493677080426, 116.33539473186082)]\n",
      "tensor([39.9814, 39.9814, 39.9810, 39.9814, 39.9818, 39.9814, 39.9814, 39.9814,\n",
      "        39.9810])\n",
      "tensor([116.3399, 116.3399, 116.3410, 116.3399, 116.3388, 116.3399, 116.3399,\n",
      "        116.3399, 116.3410])\n",
      "[tensor(39.9814), tensor(39.9849)]\n",
      "[tensor(116.3399), tensor(116.3354)]\n",
      "over\n",
      "[(39.98140648799353, 116.33991445203374), (39.98104696001483, 116.34101785813094), (39.98140648799353, 116.33991445203374), (39.98176601295398, 116.33881101147735), (39.98140648799353, 116.33991445203374), (39.98140648799353, 116.33991445203374), (39.98140648799353, 116.33991445203374), (39.98104696001483, 116.34101785813094), (39.98140648799353, 116.33991445203374), (39.98140648799353, 116.33991445203374), (40.068383510482185, 116.29093064503411)]\n",
      "tensor([39.9814, 39.9810, 39.9814, 39.9818, 39.9814, 39.9814, 39.9814, 39.9810,\n",
      "        39.9814])\n",
      "tensor([116.3399, 116.3410, 116.3399, 116.3388, 116.3399, 116.3399, 116.3399,\n",
      "        116.3410, 116.3399])\n",
      "[tensor(39.9814), tensor(40.0684)]\n",
      "[tensor(116.3399), tensor(116.2909)]\n",
      "over\n",
      "[(39.98104696001483, 116.34101785813094), (39.98140648799353, 116.33991445203374), (39.98176601295398, 116.33881101147735), (39.98140648799353, 116.33991445203374), (39.98140648799353, 116.33991445203374), (39.98140648799353, 116.33991445203374), (39.98104696001483, 116.34101785813094), (39.98140648799353, 116.33991445203374), (39.98140648799353, 116.33991445203374), (39.98140648799353, 116.33991445203374), (39.95316761951483, 116.34133866051467)]\n",
      "tensor([39.9810, 39.9814, 39.9818, 39.9814, 39.9814, 39.9814, 39.9810, 39.9814,\n",
      "        39.9814])\n",
      "tensor([116.3410, 116.3399, 116.3388, 116.3399, 116.3399, 116.3399, 116.3410,\n",
      "        116.3399, 116.3399])\n",
      "[tensor(39.9814), tensor(39.9532)]\n",
      "[tensor(116.3399), tensor(116.3413)]\n",
      "over\n",
      "[(39.98140648799353, 116.33991445203374), (39.98176601295398, 116.33881101147735), (39.98140648799353, 116.33991445203374), (39.98140648799353, 116.33991445203374), (39.98140648799353, 116.33991445203374), (39.98104696001483, 116.34101785813094), (39.98140648799353, 116.33991445203374), (39.98140648799353, 116.33991445203374), (39.98140648799353, 116.33991445203374), (39.98140648799353, 116.33991445203374), (39.97964141965984, 116.3421739591838)]\n",
      "tensor([39.9814, 39.9818, 39.9814, 39.9814, 39.9814, 39.9810, 39.9814, 39.9814,\n",
      "        39.9814])\n",
      "tensor([116.3399, 116.3388, 116.3399, 116.3399, 116.3399, 116.3410, 116.3399,\n",
      "        116.3399, 116.3399])\n",
      "[tensor(39.9814), tensor(39.9796)]\n",
      "[tensor(116.3399), tensor(116.3422)]\n",
      "over\n",
      "[(39.98176601295398, 116.33881101147735), (39.98140648799353, 116.33991445203374), (39.98140648799353, 116.33991445203374), (39.98140648799353, 116.33991445203374), (39.98104696001483, 116.34101785813094), (39.98140648799353, 116.33991445203374), (39.98140648799353, 116.33991445203374), (39.98140648799353, 116.33991445203374), (39.98140648799353, 116.33991445203374), (39.98140648799353, 116.33991445203374), (39.98000093834051, 116.34107061135364)]\n",
      "tensor([39.9818, 39.9814, 39.9814, 39.9814, 39.9810, 39.9814, 39.9814, 39.9814,\n",
      "        39.9814])\n",
      "tensor([116.3388, 116.3399, 116.3399, 116.3399, 116.3410, 116.3399, 116.3399,\n",
      "        116.3399, 116.3399])\n",
      "[tensor(39.9814), tensor(39.9800)]\n",
      "[tensor(116.3399), tensor(116.3411)]\n",
      "over\n",
      "[(39.98140648799353, 116.33991445203374), (39.98140648799353, 116.33991445203374), (39.98140648799353, 116.33991445203374), (39.98104696001483, 116.34101785813094), (39.98140648799353, 116.33991445203374), (39.98140648799353, 116.33991445203374), (39.98140648799353, 116.33991445203374), (39.98140648799353, 116.33991445203374), (39.98140648799353, 116.33991445203374), (39.98140648799353, 116.33991445203374), (39.97964141965984, 116.3421739591838)]\n",
      "tensor([39.9814, 39.9814, 39.9814, 39.9810, 39.9814, 39.9814, 39.9814, 39.9814,\n",
      "        39.9814])\n",
      "tensor([116.3399, 116.3399, 116.3399, 116.3410, 116.3399, 116.3399, 116.3399,\n",
      "        116.3399, 116.3399])\n",
      "[tensor(39.9814), tensor(39.9796)]\n",
      "[tensor(116.3399), tensor(116.3422)]\n",
      "over\n",
      "[(39.98140648799353, 116.33991445203374), (39.98140648799353, 116.33991445203374), (39.98104696001483, 116.34101785813094), (39.98140648799353, 116.33991445203374), (39.98140648799353, 116.33991445203374), (39.98140648799353, 116.33991445203374), (39.98140648799353, 116.33991445203374), (39.98140648799353, 116.33991445203374), (39.98140648799353, 116.33991445203374), (39.97650346077756, 116.34233213424538), (39.97516279947738, 116.33697392004969)]\n",
      "tensor([39.9814, 39.9814, 39.9810, 39.9814, 39.9814, 39.9814, 39.9814, 39.9814,\n",
      "        39.9814])\n",
      "tensor([116.3399, 116.3399, 116.3410, 116.3399, 116.3399, 116.3399, 116.3399,\n",
      "        116.3399, 116.3399])\n",
      "[tensor(39.9765), tensor(39.9752)]\n",
      "[tensor(116.3423), tensor(116.3370)]\n",
      "over\n",
      "[(39.98140648799353, 116.33991445203374), (39.98104696001483, 116.34101785813094), (39.98140648799353, 116.33991445203374), (39.98140648799353, 116.33991445203374), (39.98140648799353, 116.33991445203374), (39.98140648799353, 116.33991445203374), (39.98140648799353, 116.33991445203374), (39.98140648799353, 116.33991445203374), (39.97650346077756, 116.34233213424538), (39.97545749754998, 116.34238485487288), (39.94228842160193, 116.34947763165921)]\n",
      "tensor([39.9814, 39.9810, 39.9814, 39.9814, 39.9814, 39.9814, 39.9814, 39.9814,\n",
      "        39.9765])\n",
      "tensor([116.3399, 116.3410, 116.3399, 116.3399, 116.3399, 116.3399, 116.3399,\n",
      "        116.3399, 116.3423])\n",
      "[tensor(39.9755), tensor(39.9423)]\n",
      "[tensor(116.3424), tensor(116.3495)]\n",
      "over\n",
      "[(39.98104696001483, 116.34101785813094), (39.98140648799353, 116.33991445203374), (39.98140648799353, 116.33991445203374), (39.98140648799353, 116.33991445203374), (39.98140648799353, 116.33991445203374), (39.98140648799353, 116.33991445203374), (39.98140648799353, 116.33991445203374), (39.97650346077756, 116.34233213424538), (39.97545749754998, 116.34238485487288), (39.97408449225854, 116.34028384509179), (39.942647536563825, 116.34837526474693)]\n",
      "tensor([39.9810, 39.9814, 39.9814, 39.9814, 39.9814, 39.9814, 39.9814, 39.9765,\n",
      "        39.9755])\n",
      "tensor([116.3410, 116.3399, 116.3399, 116.3399, 116.3399, 116.3399, 116.3399,\n",
      "        116.3423, 116.3424])\n",
      "[tensor(39.9741), tensor(39.9426)]\n",
      "[tensor(116.3403), tensor(116.3484)]\n",
      "over\n",
      "[(39.98140648799353, 116.33991445203374), (39.98140648799353, 116.33991445203374), (39.98140648799353, 116.33991445203374), (39.98140648799353, 116.33991445203374), (39.98140648799353, 116.33991445203374), (39.98140648799353, 116.33991445203374), (39.97650346077756, 116.34233213424538), (39.97545749754998, 116.34238485487288), (39.97408449225854, 116.34028384509179), (39.973725050485754, 116.34138708453968), (39.94199276706474, 116.34407075606411)]\n",
      "tensor([39.9814, 39.9814, 39.9814, 39.9814, 39.9814, 39.9814, 39.9765, 39.9755,\n",
      "        39.9741])\n",
      "tensor([116.3399, 116.3399, 116.3399, 116.3399, 116.3399, 116.3399, 116.3423,\n",
      "        116.3424, 116.3403])\n",
      "[tensor(39.9737), tensor(39.9420)]\n",
      "[tensor(116.3414), tensor(116.3441)]\n",
      "over\n",
      "[(39.98140648799353, 116.33991445203374), (39.98140648799353, 116.33991445203374), (39.98140648799353, 116.33991445203374), (39.98140648799353, 116.33991445203374), (39.98140648799353, 116.33991445203374), (39.97650346077756, 116.34233213424538), (39.97545749754998, 116.34238485487288), (39.97408449225854, 116.34028384509179), (39.973725050485754, 116.34138708453968), (39.901506825315785, 116.42407274343589), (39.942647536563825, 116.34837526474693)]\n",
      "tensor([39.9814, 39.9814, 39.9814, 39.9814, 39.9814, 39.9765, 39.9755, 39.9741,\n",
      "        39.9737])\n",
      "tensor([116.3399, 116.3399, 116.3399, 116.3399, 116.3399, 116.3423, 116.3424,\n",
      "        116.3403, 116.3414])\n",
      "[tensor(39.9015), tensor(39.9426)]\n",
      "[tensor(116.4241), tensor(116.3484)]\n",
      "over\n",
      "[(39.98140648799353, 116.33991445203374), (39.98140648799353, 116.33991445203374), (39.98140648799353, 116.33991445203374), (39.98140648799353, 116.33991445203374), (39.97650346077756, 116.34233213424538), (39.97545749754998, 116.34238485487288), (39.97408449225854, 116.34028384509179), (39.973725050485754, 116.34138708453968), (39.901506825315785, 116.42407274343589), (39.90568507272842, 116.42386907905708), (39.942647536563825, 116.34837526474693)]\n",
      "tensor([39.9814, 39.9814, 39.9814, 39.9814, 39.9765, 39.9755, 39.9741, 39.9737,\n",
      "        39.9015])\n",
      "tensor([116.3399, 116.3399, 116.3399, 116.3399, 116.3423, 116.3424, 116.3403,\n",
      "        116.3414, 116.4241])\n",
      "[tensor(39.9057), tensor(39.9426)]\n",
      "[tensor(116.4239), tensor(116.3484)]\n",
      "over\n",
      "[(39.98140648799353, 116.33991445203374), (39.98140648799353, 116.33991445203374), (39.98140648799353, 116.33991445203374), (39.97650346077756, 116.34233213424538), (39.97545749754998, 116.34238485487288), (39.97408449225854, 116.34028384509179), (39.973725050485754, 116.34138708453968), (39.901506825315785, 116.42407274343589), (39.90568507272842, 116.42386907905708), (39.90568507272842, 116.42386907905708), (39.942647536563825, 116.34837526474693)]\n",
      "tensor([39.9814, 39.9814, 39.9814, 39.9765, 39.9755, 39.9741, 39.9737, 39.9015,\n",
      "        39.9057])\n",
      "tensor([116.3399, 116.3399, 116.3399, 116.3423, 116.3424, 116.3403, 116.3414,\n",
      "        116.4241, 116.4239])\n",
      "[tensor(39.9057), tensor(39.9426)]\n",
      "[tensor(116.4239), tensor(116.3484)]\n",
      "over\n",
      "[(39.98140648799353, 116.33991445203374), (39.98140648799353, 116.33991445203374), (39.97650346077756, 116.34233213424538), (39.97545749754998, 116.34238485487288), (39.97408449225854, 116.34028384509179), (39.973725050485754, 116.34138708453968), (39.901506825315785, 116.42407274343589), (39.90568507272842, 116.42386907905708), (39.90568507272842, 116.42386907905708), (39.90359592590557, 116.42397091548041), (39.942647536563825, 116.34837526474693)]\n",
      "tensor([39.9814, 39.9814, 39.9765, 39.9755, 39.9741, 39.9737, 39.9015, 39.9057,\n",
      "        39.9057])\n",
      "tensor([116.3399, 116.3399, 116.3423, 116.3424, 116.3403, 116.3414, 116.4241,\n",
      "        116.4239, 116.4239])\n",
      "[tensor(39.9036), tensor(39.9426)]\n",
      "[tensor(116.4240), tensor(116.3484)]\n",
      "over\n",
      "[(39.98140648799353, 116.33991445203374), (39.97650346077756, 116.34233213424538), (39.97545749754998, 116.34238485487288), (39.97408449225854, 116.34028384509179), (39.973725050485754, 116.34138708453968), (39.901506825315785, 116.42407274343589), (39.90568507272842, 116.42386907905708), (39.90568507272842, 116.42386907905708), (39.90359592590557, 116.42397091548041), (39.90183310279678, 116.4262211448428), (39.98421768672636, 116.33760188054308)]\n",
      "tensor([39.9814, 39.9765, 39.9755, 39.9741, 39.9737, 39.9015, 39.9057, 39.9057,\n",
      "        39.9036])\n",
      "tensor([116.3399, 116.3423, 116.3424, 116.3403, 116.3414, 116.4241, 116.4239,\n",
      "        116.4239, 116.4240])\n",
      "[tensor(39.9018), tensor(39.9842)]\n",
      "[tensor(116.4262), tensor(116.3376)]\n",
      "over\n",
      "[(39.97650346077756, 116.34233213424538), (39.97545749754998, 116.34238485487288), (39.97408449225854, 116.34028384509179), (39.973725050485754, 116.34138708453968), (39.901506825315785, 116.42407274343589), (39.90568507272842, 116.42386907905708), (39.90568507272842, 116.42386907905708), (39.90359592590557, 116.42397091548041), (39.90183310279678, 116.4262211448428), (39.89931907565345, 116.43391766370404), (40.285582004066995, 116.07285983821609)]\n",
      "tensor([39.9765, 39.9755, 39.9741, 39.9737, 39.9015, 39.9057, 39.9057, 39.9036,\n",
      "        39.9018])\n",
      "tensor([116.3423, 116.3424, 116.3403, 116.3414, 116.4241, 116.4239, 116.4239,\n",
      "        116.4240, 116.4262])\n",
      "[tensor(39.8993), tensor(40.2856)]\n",
      "[tensor(116.4339), tensor(116.0729)]\n",
      "over\n",
      "[(39.97545749754998, 116.34238485487288), (39.97408449225854, 116.34028384509179), (39.973725050485754, 116.34138708453968), (39.901506825315785, 116.42407274343589), (39.90568507272842, 116.42386907905708), (39.90568507272842, 116.42386907905708), (39.90359592590557, 116.42397091548041), (39.90183310279678, 116.4262211448428), (39.89931907565345, 116.43391766370404), (39.889267005079844, 116.43007848404733), (39.94405222855523, 116.3472202799445)]\n",
      "tensor([39.9755, 39.9741, 39.9737, 39.9015, 39.9057, 39.9057, 39.9036, 39.9018,\n",
      "        39.8993])\n",
      "tensor([116.3424, 116.3403, 116.3414, 116.4241, 116.4239, 116.4239, 116.4240,\n",
      "        116.4262, 116.4339])\n",
      "[tensor(39.8893), tensor(39.9441)]\n",
      "[tensor(116.4301), tensor(116.3472)]\n",
      "over\n",
      "[(39.97408449225854, 116.34028384509179), (39.973725050485754, 116.34138708453968), (39.901506825315785, 116.42407274343589), (39.90568507272842, 116.42386907905708), (39.90568507272842, 116.42386907905708), (39.90359592590557, 116.42397091548041), (39.90183310279678, 116.4262211448428), (39.89931907565345, 116.43391766370404), (39.889267005079844, 116.43007848404733), (39.87301383001613, 116.42005295783362), (40.239505571548214, 116.12908055888796)]\n",
      "tensor([39.9741, 39.9737, 39.9015, 39.9057, 39.9057, 39.9036, 39.9018, 39.8993,\n",
      "        39.8893])\n",
      "tensor([116.3403, 116.3414, 116.4241, 116.4239, 116.4239, 116.4240, 116.4262,\n",
      "        116.4339, 116.4301])\n",
      "[tensor(39.8730), tensor(40.2395)]\n",
      "[tensor(116.4201), tensor(116.1291)]\n",
      "over\n",
      "[(39.973725050485754, 116.34138708453968), (39.901506825315785, 116.42407274343589), (39.90568507272842, 116.42386907905708), (39.90568507272842, 116.42386907905708), (39.90359592590557, 116.42397091548041), (39.90183310279678, 116.4262211448428), (39.89931907565345, 116.43391766370404), (39.889267005079844, 116.43007848404733), (39.87301383001613, 116.42005295783362), (39.86804456493886, 116.3943331809697), (40.230873505736604, 116.11751679404945)]\n",
      "tensor([39.9737, 39.9015, 39.9057, 39.9057, 39.9036, 39.9018, 39.8993, 39.8893,\n",
      "        39.8730])\n",
      "tensor([116.3414, 116.4241, 116.4239, 116.4239, 116.4240, 116.4262, 116.4339,\n",
      "        116.4301, 116.4201])\n",
      "[tensor(39.8680), tensor(40.2309)]\n",
      "[tensor(116.3943), tensor(116.1175)]\n",
      "over\n",
      "[(39.901506825315785, 116.42407274343589), (39.90568507272842, 116.42386907905708), (39.90568507272842, 116.42386907905708), (39.90359592590557, 116.42397091548041), (39.90183310279678, 116.4262211448428), (39.89931907565345, 116.43391766370404), (39.889267005079844, 116.43007848404733), (39.87301383001613, 116.42005295783362), (39.86804456493886, 116.3943331809697), (39.86545447731481, 116.37390080757801), (40.285582004066995, 116.07285983821609)]\n",
      "tensor([39.9015, 39.9057, 39.9057, 39.9036, 39.9018, 39.8993, 39.8893, 39.8730,\n",
      "        39.8680])\n",
      "tensor([116.4241, 116.4239, 116.4239, 116.4240, 116.4262, 116.4339, 116.4301,\n",
      "        116.4201, 116.3943])\n",
      "[tensor(39.8655), tensor(40.2856)]\n",
      "[tensor(116.3739), tensor(116.0729)]\n",
      "over\n",
      "[(39.90568507272842, 116.42386907905708), (39.90568507272842, 116.42386907905708), (39.90359592590557, 116.42397091548041), (39.90183310279678, 116.4262211448428), (39.89931907565345, 116.43391766370404), (39.889267005079844, 116.43007848404733), (39.87301383001613, 116.42005295783362), (39.86804456493886, 116.3943331809697), (39.86545447731481, 116.37390080757801), (39.85480165996195, 116.35927974276191), (40.247581087749836, 116.1264489803427)]\n",
      "tensor([39.9057, 39.9057, 39.9036, 39.9018, 39.8993, 39.8893, 39.8730, 39.8680,\n",
      "        39.8655])\n",
      "tensor([116.4239, 116.4239, 116.4240, 116.4262, 116.4339, 116.4301, 116.4201,\n",
      "        116.3943, 116.3739])\n",
      "[tensor(39.8548), tensor(40.2476)]\n",
      "[tensor(116.3593), tensor(116.1264)]\n",
      "over\n",
      "[(39.90568507272842, 116.42386907905708), (39.90359592590557, 116.42397091548041), (39.90183310279678, 116.4262211448428), (39.89931907565345, 116.43391766370404), (39.889267005079844, 116.43007848404733), (39.87301383001613, 116.42005295783362), (39.86804456493886, 116.3943331809697), (39.86545447731481, 116.37390080757801), (39.85480165996195, 116.35927974276191), (39.85294794103922, 116.33339222898425), (40.20090981811669, 116.17491826410459)]\n",
      "tensor([39.9057, 39.9036, 39.9018, 39.8993, 39.8893, 39.8730, 39.8680, 39.8655,\n",
      "        39.8548])\n",
      "tensor([116.4239, 116.4240, 116.4262, 116.4339, 116.4301, 116.4201, 116.3943,\n",
      "        116.3739, 116.3593])\n",
      "[tensor(39.8529), tensor(40.2009)]\n",
      "[tensor(116.3334), tensor(116.1749)]\n",
      "over\n",
      "[(39.90359592590557, 116.42397091548041), (39.90183310279678, 116.4262211448428), (39.89931907565345, 116.43391766370404), (39.889267005079844, 116.43007848404733), (39.87301383001613, 116.42005295783362), (39.86804456493886, 116.3943331809697), (39.86545447731481, 116.37390080757801), (39.85480165996195, 116.35927974276191), (39.85294794103922, 116.33339222898425), (39.85111600038254, 116.30424515343697), (40.20090981811669, 116.17491826410459)]\n",
      "tensor([39.9036, 39.9018, 39.8993, 39.8893, 39.8730, 39.8680, 39.8655, 39.8548,\n",
      "        39.8529])\n",
      "tensor([116.4240, 116.4262, 116.4339, 116.4301, 116.4201, 116.3943, 116.3739,\n",
      "        116.3593, 116.3334])\n",
      "[tensor(39.8511), tensor(40.2009)]\n",
      "[tensor(116.3042), tensor(116.1749)]\n",
      "over\n",
      "[(39.90183310279678, 116.4262211448428), (39.89931907565345, 116.43391766370404), (39.889267005079844, 116.43007848404733), (39.87301383001613, 116.42005295783362), (39.86804456493886, 116.3943331809697), (39.86545447731481, 116.37390080757801), (39.85480165996195, 116.35927974276191), (39.85294794103922, 116.33339222898425), (39.85111600038254, 116.30424515343697), (39.84300539975117, 116.27541096076436), (40.21731845384066, 116.14342059179461)]\n",
      "tensor([39.9018, 39.8993, 39.8893, 39.8730, 39.8680, 39.8655, 39.8548, 39.8529,\n",
      "        39.8511])\n",
      "tensor([116.4262, 116.4339, 116.4301, 116.4201, 116.3943, 116.3739, 116.3593,\n",
      "        116.3334, 116.3042])\n",
      "[tensor(39.8430), tensor(40.2173)]\n",
      "[tensor(116.2754), tensor(116.1434)]\n",
      "over\n",
      "[(39.89931907565345, 116.43391766370404), (39.889267005079844, 116.43007848404733), (39.87301383001613, 116.42005295783362), (39.86804456493886, 116.3943331809697), (39.86545447731481, 116.37390080757801), (39.85480165996195, 116.35927974276191), (39.85294794103922, 116.33339222898425), (39.85111600038254, 116.30424515343697), (39.84300539975117, 116.27541096076436), (39.81798034424354, 116.2702053309208), (40.247581087749836, 116.1264489803427)]\n",
      "tensor([39.8993, 39.8893, 39.8730, 39.8680, 39.8655, 39.8548, 39.8529, 39.8511,\n",
      "        39.8430])\n",
      "tensor([116.4339, 116.4301, 116.4201, 116.3943, 116.3739, 116.3593, 116.3334,\n",
      "        116.3042, 116.2754])\n",
      "[tensor(39.8180), tensor(40.2476)]\n",
      "[tensor(116.2702), tensor(116.1264)]\n",
      "over\n",
      "[(39.889267005079844, 116.43007848404733), (39.87301383001613, 116.42005295783362), (39.86804456493886, 116.3943331809697), (39.86545447731481, 116.37390080757801), (39.85480165996195, 116.35927974276191), (39.85294794103922, 116.33339222898425), (39.85111600038254, 116.30424515343697), (39.84300539975117, 116.27541096076436), (39.81798034424354, 116.2702053309208), (39.788755311678266, 116.26847003798392), (40.20090981811669, 116.17491826410459)]\n",
      "tensor([39.8893, 39.8730, 39.8680, 39.8655, 39.8548, 39.8529, 39.8511, 39.8430,\n",
      "        39.8180])\n",
      "tensor([116.4301, 116.4201, 116.3943, 116.3739, 116.3593, 116.3334, 116.3042,\n",
      "        116.2754, 116.2702])\n",
      "[tensor(39.7888), tensor(40.2009)]\n",
      "[tensor(116.2685), tensor(116.1749)]\n",
      "over\n",
      "[(39.87301383001613, 116.42005295783362), (39.86804456493886, 116.3943331809697), (39.86545447731481, 116.37390080757801), (39.85480165996195, 116.35927974276191), (39.85294794103922, 116.33339222898425), (39.85111600038254, 116.30424515343697), (39.84300539975117, 116.27541096076436), (39.81798034424354, 116.2702053309208), (39.788755311678266, 116.26847003798392), (39.76076253084218, 116.28830926719382), (40.247581087749836, 116.1264489803427)]\n",
      "tensor([39.8730, 39.8680, 39.8655, 39.8548, 39.8529, 39.8511, 39.8430, 39.8180,\n",
      "        39.7888])\n",
      "tensor([116.4201, 116.3943, 116.3739, 116.3593, 116.3334, 116.3042, 116.2754,\n",
      "        116.2702, 116.2685])\n",
      "[tensor(39.7608), tensor(40.2476)]\n",
      "[tensor(116.2883), tensor(116.1264)]\n",
      "over\n",
      "[(39.86804456493886, 116.3943331809697), (39.86545447731481, 116.37390080757801), (39.85480165996195, 116.35927974276191), (39.85294794103922, 116.33339222898425), (39.85111600038254, 116.30424515343697), (39.84300539975117, 116.27541096076436), (39.81798034424354, 116.2702053309208), (39.788755311678266, 116.26847003798392), (39.76076253084218, 116.28830926719382), (39.73171388806061, 116.31141715414105), (40.247581087749836, 116.1264489803427)]\n",
      "tensor([39.8680, 39.8655, 39.8548, 39.8529, 39.8511, 39.8430, 39.8180, 39.7888,\n",
      "        39.7608])\n",
      "tensor([116.3943, 116.3739, 116.3593, 116.3334, 116.3042, 116.2754, 116.2702,\n",
      "        116.2685, 116.2883])\n",
      "[tensor(39.7317), tensor(40.2476)]\n",
      "[tensor(116.3114), tensor(116.1264)]\n",
      "over\n",
      "[(39.86545447731481, 116.37390080757801), (39.85480165996195, 116.35927974276191), (39.85294794103922, 116.33339222898425), (39.85111600038254, 116.30424515343697), (39.84300539975117, 116.27541096076436), (39.81798034424354, 116.2702053309208), (39.788755311678266, 116.26847003798392), (39.76076253084218, 116.28830926719382), (39.73171388806061, 116.31141715414105), (39.705071172390795, 116.33976805705429), (40.20090981811669, 116.17491826410459)]\n",
      "tensor([39.8655, 39.8548, 39.8529, 39.8511, 39.8430, 39.8180, 39.7888, 39.7608,\n",
      "        39.7317])\n",
      "tensor([116.3739, 116.3593, 116.3334, 116.3042, 116.2754, 116.2702, 116.2685,\n",
      "        116.2883, 116.3114])\n",
      "[tensor(39.7051), tensor(40.2009)]\n",
      "[tensor(116.3398), tensor(116.1749)]\n",
      "over\n",
      "[(39.85480165996195, 116.35927974276191), (39.85294794103922, 116.33339222898425), (39.85111600038254, 116.30424515343697), (39.84300539975117, 116.27541096076436), (39.81798034424354, 116.2702053309208), (39.788755311678266, 116.26847003798392), (39.76076253084218, 116.28830926719382), (39.73171388806061, 116.31141715414105), (39.705071172390795, 116.33976805705429), (39.681542566368634, 116.37115836224952), (40.247581087749836, 116.1264489803427)]\n",
      "tensor([39.8548, 39.8529, 39.8511, 39.8430, 39.8180, 39.7888, 39.7608, 39.7317,\n",
      "        39.7051])\n",
      "tensor([116.3593, 116.3334, 116.3042, 116.2754, 116.2702, 116.2685, 116.2883,\n",
      "        116.3114, 116.3398])\n",
      "[tensor(39.6815), tensor(40.2476)]\n",
      "[tensor(116.3712), tensor(116.1264)]\n",
      "over\n",
      "[(39.85294794103922, 116.33339222898425), (39.85111600038254, 116.30424515343697), (39.84300539975117, 116.27541096076436), (39.81798034424354, 116.2702053309208), (39.788755311678266, 116.26847003798392), (39.76076253084218, 116.28830926719382), (39.73171388806061, 116.31141715414105), (39.705071172390795, 116.33976805705429), (39.681542566368634, 116.37115836224952), (39.66602970751629, 116.39995621091298), (40.35092827535528, 116.02088328344657)]\n",
      "tensor([39.8529, 39.8511, 39.8430, 39.8180, 39.7888, 39.7608, 39.7317, 39.7051,\n",
      "        39.6815])\n",
      "tensor([116.3334, 116.3042, 116.2754, 116.2702, 116.2685, 116.2883, 116.3114,\n",
      "        116.3398, 116.3712])\n",
      "[tensor(39.6660), tensor(40.3509)]\n",
      "[tensor(116.4000), tensor(116.0209)]\n",
      "over\n",
      "[(39.85111600038254, 116.30424515343697), (39.84300539975117, 116.27541096076436), (39.81798034424354, 116.2702053309208), (39.788755311678266, 116.26847003798392), (39.76076253084218, 116.28830926719382), (39.73171388806061, 116.31141715414105), (39.705071172390795, 116.33976805705429), (39.681542566368634, 116.37115836224952), (39.66602970751629, 116.39995621091298), (39.66038446662036, 116.41100853510632), (40.230873505736604, 116.11751679404945)]\n",
      "tensor([39.8511, 39.8430, 39.8180, 39.7888, 39.7608, 39.7317, 39.7051, 39.6815,\n",
      "        39.6660])\n",
      "tensor([116.3042, 116.2754, 116.2702, 116.2685, 116.2883, 116.3114, 116.3398,\n",
      "        116.3712, 116.4000])\n",
      "[tensor(39.6604), tensor(40.2309)]\n",
      "[tensor(116.4110), tensor(116.1175)]\n",
      "over\n",
      "[(39.84300539975117, 116.27541096076436), (39.81798034424354, 116.2702053309208), (39.788755311678266, 116.26847003798392), (39.76076253084218, 116.28830926719382), (39.73171388806061, 116.31141715414105), (39.705071172390795, 116.33976805705429), (39.681542566368634, 116.37115836224952), (39.66602970751629, 116.39995621091298), (39.66038446662036, 116.41100853510632), (39.654027258393874, 116.42424532076001), (40.247581087749836, 116.1264489803427)]\n",
      "tensor([39.8430, 39.8180, 39.7888, 39.7608, 39.7317, 39.7051, 39.6815, 39.6660,\n",
      "        39.6604])\n",
      "tensor([116.2754, 116.2702, 116.2685, 116.2883, 116.3114, 116.3398, 116.3712,\n",
      "        116.4000, 116.4110])\n",
      "[tensor(39.6540), tensor(40.2476)]\n",
      "[tensor(116.4242), tensor(116.1264)]\n",
      "over\n",
      "[(39.81798034424354, 116.2702053309208), (39.788755311678266, 116.26847003798392), (39.76076253084218, 116.28830926719382), (39.73171388806061, 116.31141715414105), (39.705071172390795, 116.33976805705429), (39.681542566368634, 116.37115836224952), (39.66602970751629, 116.39995621091298), (39.66038446662036, 116.41100853510632), (39.654027258393874, 116.42424532076001), (39.63821572130597, 116.44762090897045), (40.21731845384066, 116.14342059179461)]\n",
      "tensor([39.8180, 39.7888, 39.7608, 39.7317, 39.7051, 39.6815, 39.6660, 39.6604,\n",
      "        39.6540])\n",
      "tensor([116.2702, 116.2685, 116.2883, 116.3114, 116.3398, 116.3712, 116.4000,\n",
      "        116.4110, 116.4242])\n",
      "[tensor(39.6382), tensor(40.2173)]\n",
      "[tensor(116.4476), tensor(116.1434)]\n",
      "over\n",
      "[(39.788755311678266, 116.26847003798392), (39.76076253084218, 116.28830926719382), (39.73171388806061, 116.31141715414105), (39.705071172390795, 116.33976805705429), (39.681542566368634, 116.37115836224952), (39.66602970751629, 116.39995621091298), (39.66038446662036, 116.41100853510632), (39.654027258393874, 116.42424532076001), (39.63821572130597, 116.44762090897045), (39.618162342095516, 116.4808547108102), (40.285582004066995, 116.07285983821609)]\n",
      "tensor([39.7888, 39.7608, 39.7317, 39.7051, 39.6815, 39.6660, 39.6604, 39.6540,\n",
      "        39.6382])\n",
      "tensor([116.2685, 116.2883, 116.3114, 116.3398, 116.3712, 116.4000, 116.4110,\n",
      "        116.4242, 116.4476])\n",
      "[tensor(39.6182), tensor(40.2856)]\n",
      "[tensor(116.4809), tensor(116.0729)]\n",
      "over\n",
      "[(39.76076253084218, 116.28830926719382), (39.73171388806061, 116.31141715414105), (39.705071172390795, 116.33976805705429), (39.681542566368634, 116.37115836224952), (39.66602970751629, 116.39995621091298), (39.66038446662036, 116.41100853510632), (39.654027258393874, 116.42424532076001), (39.63821572130597, 116.44762090897045), (39.618162342095516, 116.4808547108102), (39.60224876940591, 116.51707482573195), (40.20090981811669, 116.17491826410459)]\n",
      "tensor([39.7608, 39.7317, 39.7051, 39.6815, 39.6660, 39.6604, 39.6540, 39.6382,\n",
      "        39.6182])\n",
      "tensor([116.2883, 116.3114, 116.3398, 116.3712, 116.4000, 116.4110, 116.4242,\n",
      "        116.4476, 116.4809])\n",
      "[tensor(39.6022), tensor(40.2009)]\n",
      "[tensor(116.5171), tensor(116.1749)]\n",
      "over\n",
      "[(39.73171388806061, 116.31141715414105), (39.705071172390795, 116.33976805705429), (39.681542566368634, 116.37115836224952), (39.66602970751629, 116.39995621091298), (39.66038446662036, 116.41100853510632), (39.654027258393874, 116.42424532076001), (39.63821572130597, 116.44762090897045), (39.618162342095516, 116.4808547108102), (39.60224876940591, 116.51707482573195), (39.58803135360735, 116.5574674589845), (40.230873505736604, 116.11751679404945)]\n",
      "tensor([39.7317, 39.7051, 39.6815, 39.6660, 39.6604, 39.6540, 39.6382, 39.6182,\n",
      "        39.6022])\n",
      "tensor([116.3114, 116.3398, 116.3712, 116.4000, 116.4110, 116.4242, 116.4476,\n",
      "        116.4809, 116.5171])\n",
      "[tensor(39.5880), tensor(40.2309)]\n",
      "[tensor(116.5575), tensor(116.1175)]\n",
      "over\n",
      "[(39.705071172390795, 116.33976805705429), (39.681542566368634, 116.37115836224952), (39.66602970751629, 116.39995621091298), (39.66038446662036, 116.41100853510632), (39.654027258393874, 116.42424532076001), (39.63821572130597, 116.44762090897045), (39.618162342095516, 116.4808547108102), (39.60224876940591, 116.51707482573195), (39.58803135360735, 116.5574674589845), (39.571433635240226, 116.59255738784003), (40.247581087749836, 116.1264489803427)]\n",
      "tensor([39.7051, 39.6815, 39.6660, 39.6604, 39.6540, 39.6382, 39.6182, 39.6022,\n",
      "        39.5880])\n",
      "tensor([116.3398, 116.3712, 116.4000, 116.4110, 116.4242, 116.4476, 116.4809,\n",
      "        116.5171, 116.5575])\n",
      "[tensor(39.5714), tensor(40.2476)]\n",
      "[tensor(116.5926), tensor(116.1264)]\n",
      "over\n",
      "[(39.681542566368634, 116.37115836224952), (39.66602970751629, 116.39995621091298), (39.66038446662036, 116.41100853510632), (39.654027258393874, 116.42424532076001), (39.63821572130597, 116.44762090897045), (39.618162342095516, 116.4808547108102), (39.60224876940591, 116.51707482573195), (39.58803135360735, 116.5574674589845), (39.571433635240226, 116.59255738784003), (39.5597951243863, 116.61559571692932), (40.247581087749836, 116.1264489803427)]\n",
      "tensor([39.6815, 39.6660, 39.6604, 39.6540, 39.6382, 39.6182, 39.6022, 39.5880,\n",
      "        39.5714])\n",
      "tensor([116.3712, 116.4000, 116.4110, 116.4242, 116.4476, 116.4809, 116.5171,\n",
      "        116.5575, 116.5926])\n",
      "[tensor(39.5598), tensor(40.2476)]\n",
      "[tensor(116.6156), tensor(116.1264)]\n",
      "over\n",
      "[(39.66602970751629, 116.39995621091298), (39.66038446662036, 116.41100853510632), (39.654027258393874, 116.42424532076001), (39.63821572130597, 116.44762090897045), (39.618162342095516, 116.4808547108102), (39.60224876940591, 116.51707482573195), (39.58803135360735, 116.5574674589845), (39.571433635240226, 116.59255738784003), (39.5597951243863, 116.61559571692932), (39.55133410698957, 116.63204673352679), (40.247581087749836, 116.1264489803427)]\n",
      "tensor([39.6660, 39.6604, 39.6540, 39.6382, 39.6182, 39.6022, 39.5880, 39.5714,\n",
      "        39.5598])\n",
      "tensor([116.4000, 116.4110, 116.4242, 116.4476, 116.4809, 116.5171, 116.5575,\n",
      "        116.5926, 116.6156])\n",
      "[tensor(39.5513), tensor(40.2476)]\n",
      "[tensor(116.6320), tensor(116.1264)]\n",
      "over\n",
      "[(39.66038446662036, 116.41100853510632), (39.654027258393874, 116.42424532076001), (39.63821572130597, 116.44762090897045), (39.618162342095516, 116.4808547108102), (39.60224876940591, 116.51707482573195), (39.58803135360735, 116.5574674589845), (39.571433635240226, 116.59255738784003), (39.5597951243863, 116.61559571692932), (39.55133410698957, 116.63204673352679), (39.54219099785682, 116.64744729853984), (40.230873505736604, 116.11751679404945)]\n",
      "tensor([39.6604, 39.6540, 39.6382, 39.6182, 39.6022, 39.5880, 39.5714, 39.5598,\n",
      "        39.5513])\n",
      "tensor([116.4110, 116.4242, 116.4476, 116.4809, 116.5171, 116.5575, 116.5926,\n",
      "        116.6156, 116.6320])\n",
      "[tensor(39.5422), tensor(40.2309)]\n",
      "[tensor(116.6474), tensor(116.1175)]\n",
      "over\n",
      "[(39.654027258393874, 116.42424532076001), (39.63821572130597, 116.44762090897045), (39.618162342095516, 116.4808547108102), (39.60224876940591, 116.51707482573195), (39.58803135360735, 116.5574674589845), (39.571433635240226, 116.59255738784003), (39.5597951243863, 116.61559571692932), (39.55133410698957, 116.63204673352679), (39.54219099785682, 116.64744729853984), (39.52987309343208, 116.66939965526359), (40.26104455199116, 116.1103807847248)]\n",
      "tensor([39.6540, 39.6382, 39.6182, 39.6022, 39.5880, 39.5714, 39.5598, 39.5513,\n",
      "        39.5422])\n",
      "tensor([116.4242, 116.4476, 116.4809, 116.5171, 116.5575, 116.5926, 116.6156,\n",
      "        116.6320, 116.6474])\n",
      "[tensor(39.5299), tensor(40.2610)]\n",
      "[tensor(116.6694), tensor(116.1104)]\n",
      "over\n",
      "[(39.63821572130597, 116.44762090897045), (39.618162342095516, 116.4808547108102), (39.60224876940591, 116.51707482573195), (39.58803135360735, 116.5574674589845), (39.571433635240226, 116.59255738784003), (39.5597951243863, 116.61559571692932), (39.55133410698957, 116.63204673352679), (39.54219099785682, 116.64744729853984), (39.52987309343208, 116.66939965526359), (39.51019838186136, 116.70127654972313), (40.239505571548214, 116.12908055888796)]\n",
      "tensor([39.6382, 39.6182, 39.6022, 39.5880, 39.5714, 39.5598, 39.5513, 39.5422,\n",
      "        39.5299])\n",
      "tensor([116.4476, 116.4809, 116.5171, 116.5575, 116.5926, 116.6156, 116.6320,\n",
      "        116.6474, 116.6694])\n",
      "[tensor(39.5102), tensor(40.2395)]\n",
      "[tensor(116.7013), tensor(116.1291)]\n",
      "over\n",
      "[(39.618162342095516, 116.4808547108102), (39.60224876940591, 116.51707482573195), (39.58803135360735, 116.5574674589845), (39.571433635240226, 116.59255738784003), (39.5597951243863, 116.61559571692932), (39.55133410698957, 116.63204673352679), (39.54219099785682, 116.64744729853984), (39.52987309343208, 116.66939965526359), (39.51019838186136, 116.70127654972313), (39.49117961102277, 116.73735855179581), (40.20090981811669, 116.17491826410459)]\n",
      "tensor([39.6182, 39.6022, 39.5880, 39.5714, 39.5598, 39.5513, 39.5422, 39.5299,\n",
      "        39.5102])\n",
      "tensor([116.4809, 116.5171, 116.5575, 116.5926, 116.6156, 116.6320, 116.6474,\n",
      "        116.6694, 116.7013])\n",
      "[tensor(39.4912), tensor(40.2009)]\n",
      "[tensor(116.7374), tensor(116.1749)]\n",
      "over\n",
      "[(39.60224876940591, 116.51707482573195), (39.58803135360735, 116.5574674589845), (39.571433635240226, 116.59255738784003), (39.5597951243863, 116.61559571692932), (39.55133410698957, 116.63204673352679), (39.54219099785682, 116.64744729853984), (39.52987309343208, 116.66939965526359), (39.51019838186136, 116.70127654972313), (39.49117961102277, 116.73735855179581), (39.47148328833794, 116.77235424932825), (40.247581087749836, 116.1264489803427)]\n",
      "tensor([39.6022, 39.5880, 39.5714, 39.5598, 39.5513, 39.5422, 39.5299, 39.5102,\n",
      "        39.4912])\n",
      "tensor([116.5171, 116.5575, 116.5926, 116.6156, 116.6320, 116.6474, 116.6694,\n",
      "        116.7013, 116.7374])\n",
      "[tensor(39.4715), tensor(40.2476)]\n",
      "[tensor(116.7724), tensor(116.1264)]\n",
      "over\n",
      "[(39.58803135360735, 116.5574674589845), (39.571433635240226, 116.59255738784003), (39.5597951243863, 116.61559571692932), (39.55133410698957, 116.63204673352679), (39.54219099785682, 116.64744729853984), (39.52987309343208, 116.66939965526359), (39.51019838186136, 116.70127654972313), (39.49117961102277, 116.73735855179581), (39.47148328833794, 116.77235424932825), (39.451435286616594, 116.80838445335797), (40.247581087749836, 116.1264489803427)]\n",
      "tensor([39.5880, 39.5714, 39.5598, 39.5513, 39.5422, 39.5299, 39.5102, 39.4912,\n",
      "        39.4715])\n",
      "tensor([116.5575, 116.5926, 116.6156, 116.6320, 116.6474, 116.6694, 116.7013,\n",
      "        116.7374, 116.7724])\n",
      "[tensor(39.4514), tensor(40.2476)]\n",
      "[tensor(116.8084), tensor(116.1264)]\n",
      "over\n",
      "[(39.571433635240226, 116.59255738784003), (39.5597951243863, 116.61559571692932), (39.55133410698957, 116.63204673352679), (39.54219099785682, 116.64744729853984), (39.52987309343208, 116.66939965526359), (39.51019838186136, 116.70127654972313), (39.49117961102277, 116.73735855179581), (39.47148328833794, 116.77235424932825), (39.451435286616594, 116.80838445335797), (39.43692890833114, 116.84307794913404), (40.239505571548214, 116.12908055888796)]\n",
      "tensor([39.5714, 39.5598, 39.5513, 39.5422, 39.5299, 39.5102, 39.4912, 39.4715,\n",
      "        39.4514])\n",
      "tensor([116.5926, 116.6156, 116.6320, 116.6474, 116.6694, 116.7013, 116.7374,\n",
      "        116.7724, 116.8084])\n",
      "[tensor(39.4369), tensor(40.2395)]\n",
      "[tensor(116.8431), tensor(116.1291)]\n",
      "over\n",
      "[(39.5597951243863, 116.61559571692932), (39.55133410698957, 116.63204673352679), (39.54219099785682, 116.64744729853984), (39.52987309343208, 116.66939965526359), (39.51019838186136, 116.70127654972313), (39.49117961102277, 116.73735855179581), (39.47148328833794, 116.77235424932825), (39.451435286616594, 116.80838445335797), (39.43692890833114, 116.84307794913404), (39.42174284584214, 116.87669509110073), (40.20090981811669, 116.17491826410459)]\n",
      "tensor([39.5598, 39.5513, 39.5422, 39.5299, 39.5102, 39.4912, 39.4715, 39.4514,\n",
      "        39.4369])\n",
      "tensor([116.6156, 116.6320, 116.6474, 116.6694, 116.7013, 116.7374, 116.7724,\n",
      "        116.8084, 116.8431])\n",
      "[tensor(39.4217), tensor(40.2009)]\n",
      "[tensor(116.8767), tensor(116.1749)]\n",
      "over\n",
      "[(39.55133410698957, 116.63204673352679), (39.54219099785682, 116.64744729853984), (39.52987309343208, 116.66939965526359), (39.51019838186136, 116.70127654972313), (39.49117961102277, 116.73735855179581), (39.47148328833794, 116.77235424932825), (39.451435286616594, 116.80838445335797), (39.43692890833114, 116.84307794913404), (39.42174284584214, 116.87669509110073), (39.40649077199513, 116.91665783394868), (40.247581087749836, 116.1264489803427)]\n",
      "tensor([39.5513, 39.5422, 39.5299, 39.5102, 39.4912, 39.4715, 39.4514, 39.4369,\n",
      "        39.4217])\n",
      "tensor([116.6320, 116.6474, 116.6694, 116.7013, 116.7374, 116.7724, 116.8084,\n",
      "        116.8431, 116.8767])\n",
      "[tensor(39.4065), tensor(40.2476)]\n",
      "[tensor(116.9167), tensor(116.1264)]\n",
      "over\n",
      "[(39.54219099785682, 116.64744729853984), (39.52987309343208, 116.66939965526359), (39.51019838186136, 116.70127654972313), (39.49117961102277, 116.73735855179581), (39.47148328833794, 116.77235424932825), (39.451435286616594, 116.80838445335797), (39.43692890833114, 116.84307794913404), (39.42174284584214, 116.87669509110073), (39.40649077199513, 116.91665783394868), (39.39123718577343, 116.95657131203619), (40.239505571548214, 116.12908055888796)]\n",
      "tensor([39.5422, 39.5299, 39.5102, 39.4912, 39.4715, 39.4514, 39.4369, 39.4217,\n",
      "        39.4065])\n",
      "tensor([116.6474, 116.6694, 116.7013, 116.7374, 116.7724, 116.8084, 116.8431,\n",
      "        116.8767, 116.9167])\n",
      "[tensor(39.3912), tensor(40.2395)]\n",
      "[tensor(116.9566), tensor(116.1291)]\n",
      "over\n",
      "[(39.52987309343208, 116.66939965526359), (39.51019838186136, 116.70127654972313), (39.49117961102277, 116.73735855179581), (39.47148328833794, 116.77235424932825), (39.451435286616594, 116.80838445335797), (39.43692890833114, 116.84307794913404), (39.42174284584214, 116.87669509110073), (39.40649077199513, 116.91665783394868), (39.39123718577343, 116.95657131203619), (39.375660584204205, 116.9943246534616), (40.21731845384066, 116.14342059179461)]\n",
      "tensor([39.5299, 39.5102, 39.4912, 39.4715, 39.4514, 39.4369, 39.4217, 39.4065,\n",
      "        39.3912])\n",
      "tensor([116.6694, 116.7013, 116.7374, 116.7724, 116.8084, 116.8431, 116.8767,\n",
      "        116.9167, 116.9566])\n",
      "[tensor(39.3757), tensor(40.2173)]\n",
      "[tensor(116.9943), tensor(116.1434)]\n",
      "over\n",
      "[(39.51019838186136, 116.70127654972313), (39.49117961102277, 116.73735855179581), (39.47148328833794, 116.77235424932825), (39.451435286616594, 116.80838445335797), (39.43692890833114, 116.84307794913404), (39.42174284584214, 116.87669509110073), (39.40649077199513, 116.91665783394868), (39.39123718577343, 116.95657131203619), (39.375660584204205, 116.9943246534616), (39.362115987376285, 117.03513965610234), (40.230873505736604, 116.11751679404945)]\n",
      "tensor([39.5102, 39.4912, 39.4715, 39.4514, 39.4369, 39.4217, 39.4065, 39.3912,\n",
      "        39.3757])\n",
      "tensor([116.7013, 116.7374, 116.7724, 116.8084, 116.8431, 116.8767, 116.9167,\n",
      "        116.9566, 116.9943])\n",
      "[tensor(39.3621), tensor(40.2309)]\n",
      "[tensor(117.0351), tensor(116.1175)]\n",
      "over\n",
      "[(39.49117961102277, 116.73735855179581), (39.47148328833794, 116.77235424932825), (39.451435286616594, 116.80838445335797), (39.43692890833114, 116.84307794913404), (39.42174284584214, 116.87669509110073), (39.40649077199513, 116.91665783394868), (39.39123718577343, 116.95657131203619), (39.375660584204205, 116.9943246534616), (39.362115987376285, 117.03513965610234), (39.34311680520471, 117.07080322110592), (40.20090981811669, 116.17491826410459)]\n",
      "tensor([39.4912, 39.4715, 39.4514, 39.4369, 39.4217, 39.4065, 39.3912, 39.3757,\n",
      "        39.3621])\n",
      "tensor([116.7374, 116.7724, 116.8084, 116.8431, 116.8767, 116.9167, 116.9566,\n",
      "        116.9943, 117.0351])\n",
      "[tensor(39.3431), tensor(40.2009)]\n",
      "[tensor(117.0708), tensor(116.1749)]\n",
      "over\n",
      "[(39.47148328833794, 116.77235424932825), (39.451435286616594, 116.80838445335797), (39.43692890833114, 116.84307794913404), (39.42174284584214, 116.87669509110073), (39.40649077199513, 116.91665783394868), (39.39123718577343, 116.95657131203619), (39.375660584204205, 116.9943246534616), (39.362115987376285, 117.03513965610234), (39.34311680520471, 117.07080322110592), (39.31361705518179, 117.09197003164866), (40.247581087749836, 116.1264489803427)]\n",
      "tensor([39.4715, 39.4514, 39.4369, 39.4217, 39.4065, 39.3912, 39.3757, 39.3621,\n",
      "        39.3431])\n",
      "tensor([116.7724, 116.8084, 116.8431, 116.8767, 116.9167, 116.9566, 116.9943,\n",
      "        117.0351, 117.0708])\n",
      "[tensor(39.3136), tensor(40.2476)]\n",
      "[tensor(117.0920), tensor(116.1264)]\n",
      "over\n",
      "[(39.451435286616594, 116.80838445335797), (39.43692890833114, 116.84307794913404), (39.42174284584214, 116.87669509110073), (39.40649077199513, 116.91665783394868), (39.39123718577343, 116.95657131203619), (39.375660584204205, 116.9943246534616), (39.362115987376285, 117.03513965610234), (39.34311680520471, 117.07080322110592), (39.31361705518179, 117.09197003164866), (39.28413260027222, 117.11310529728449), (40.21731845384066, 116.14342059179461)]\n",
      "tensor([39.4514, 39.4369, 39.4217, 39.4065, 39.3912, 39.3757, 39.3621, 39.3431,\n",
      "        39.3136])\n",
      "tensor([116.8084, 116.8431, 116.8767, 116.9167, 116.9566, 116.9943, 117.0351,\n",
      "        117.0708, 117.0920])\n",
      "[tensor(39.2841), tensor(40.2173)]\n",
      "[tensor(117.1131), tensor(116.1434)]\n",
      "over\n",
      "[(39.43692890833114, 116.84307794913404), (39.42174284584214, 116.87669509110073), (39.40649077199513, 116.91665783394868), (39.39123718577343, 116.95657131203619), (39.375660584204205, 116.9943246534616), (39.362115987376285, 117.03513965610234), (39.34311680520471, 117.07080322110592), (39.31361705518179, 117.09197003164866), (39.28413260027222, 117.11310529728449), (39.2553395610074, 117.1352423979706), (40.247581087749836, 116.1264489803427)]\n",
      "tensor([39.4369, 39.4217, 39.4065, 39.3912, 39.3757, 39.3621, 39.3431, 39.3136,\n",
      "        39.2841])\n",
      "tensor([116.8431, 116.8767, 116.9167, 116.9566, 116.9943, 117.0351, 117.0708,\n",
      "        117.0920, 117.1131])\n",
      "[tensor(39.2553), tensor(40.2476)]\n",
      "[tensor(117.1352), tensor(116.1264)]\n",
      "over\n",
      "[(39.42174284584214, 116.87669509110073), (39.40649077199513, 116.91665783394868), (39.39123718577343, 116.95657131203619), (39.375660584204205, 116.9943246534616), (39.362115987376285, 117.03513965610234), (39.34311680520471, 117.07080322110592), (39.31361705518179, 117.09197003164866), (39.28413260027222, 117.11310529728449), (39.2553395610074, 117.1352423979706), (39.22552991564874, 117.15738175241506), (40.239505571548214, 116.12908055888796)]\n",
      "tensor([39.4217, 39.4065, 39.3912, 39.3757, 39.3621, 39.3431, 39.3136, 39.2841,\n",
      "        39.2553])\n",
      "tensor([116.8767, 116.9167, 116.9566, 116.9943, 117.0351, 117.0708, 117.0920,\n",
      "        117.1131, 117.1352])\n",
      "[tensor(39.2255), tensor(40.2395)]\n",
      "[tensor(117.1574), tensor(116.1291)]\n",
      "over\n",
      "[(39.40649077199513, 116.91665783394868), (39.39123718577343, 116.95657131203619), (39.375660584204205, 116.9943246534616), (39.362115987376285, 117.03513965610234), (39.34311680520471, 117.07080322110592), (39.31361705518179, 117.09197003164866), (39.28413260027222, 117.11310529728449), (39.2553395610074, 117.1352423979706), (39.22552991564874, 117.15738175241506), (39.20369855571399, 117.1739468796788), (40.285582004066995, 116.07285983821609)]\n",
      "tensor([39.4065, 39.3912, 39.3757, 39.3621, 39.3431, 39.3136, 39.2841, 39.2553,\n",
      "        39.2255])\n",
      "tensor([116.9167, 116.9566, 116.9943, 117.0351, 117.0708, 117.0920, 117.1131,\n",
      "        117.1352, 117.1574])\n",
      "[tensor(39.2037), tensor(40.2856)]\n",
      "[tensor(117.1740), tensor(116.0729)]\n",
      "over\n",
      "[(39.39123718577343, 116.95657131203619), (39.375660584204205, 116.9943246534616), (39.362115987376285, 117.03513965610234), (39.34311680520471, 117.07080322110592), (39.31361705518179, 117.09197003164866), (39.28413260027222, 117.11310529728449), (39.2553395610074, 117.1352423979706), (39.22552991564874, 117.15738175241506), (39.20369855571399, 117.1739468796788), (39.18912562219337, 117.18708945535562), (40.20090981811669, 116.17491826410459)]\n",
      "tensor([39.3912, 39.3757, 39.3621, 39.3431, 39.3136, 39.2841, 39.2553, 39.2255,\n",
      "        39.2037])\n",
      "tensor([116.9566, 116.9943, 117.0351, 117.0708, 117.0920, 117.1131, 117.1352,\n",
      "        117.1574, 117.1740])\n",
      "[tensor(39.1891), tensor(40.2009)]\n",
      "[tensor(117.1871), tensor(116.1749)]\n",
      "over\n",
      "[(39.375660584204205, 116.9943246534616), (39.362115987376285, 117.03513965610234), (39.34311680520471, 117.07080322110592), (39.31361705518179, 117.09197003164866), (39.28413260027222, 117.11310529728449), (39.2553395610074, 117.1352423979706), (39.22552991564874, 117.15738175241506), (39.20369855571399, 117.1739468796788), (39.18912562219337, 117.18708945535562), (39.176402459738306, 117.1885674719156), (40.20090981811669, 116.17491826410459)]\n",
      "tensor([39.3757, 39.3621, 39.3431, 39.3136, 39.2841, 39.2553, 39.2255, 39.2037,\n",
      "        39.1891])\n",
      "tensor([116.9943, 117.0351, 117.0708, 117.0920, 117.1131, 117.1352, 117.1574,\n",
      "        117.1740, 117.1871])\n",
      "[tensor(39.1764), tensor(40.2009)]\n",
      "[tensor(117.1886), tensor(116.1749)]\n",
      "over\n",
      "[(39.362115987376285, 117.03513965610234), (39.34311680520471, 117.07080322110592), (39.31361705518179, 117.09197003164866), (39.28413260027222, 117.11310529728449), (39.2553395610074, 117.1352423979706), (39.22552991564874, 117.15738175241506), (39.20369855571399, 117.1739468796788), (39.18912562219337, 117.18708945535562), (39.176402459738306, 117.1885674719156), (39.16381896807426, 117.17739378935131), (40.230873505736604, 116.11751679404945)]\n",
      "tensor([39.3621, 39.3431, 39.3136, 39.2841, 39.2553, 39.2255, 39.2037, 39.1891,\n",
      "        39.1764])\n",
      "tensor([117.0351, 117.0708, 117.0920, 117.1131, 117.1352, 117.1574, 117.1740,\n",
      "        117.1871, 117.1886])\n",
      "[tensor(39.1638), tensor(40.2309)]\n",
      "[tensor(117.1774), tensor(116.1175)]\n",
      "over\n",
      "[(39.34311680520471, 117.07080322110592), (39.31361705518179, 117.09197003164866), (39.28413260027222, 117.11310529728449), (39.2553395610074, 117.1352423979706), (39.22552991564874, 117.15738175241506), (39.20369855571399, 117.1739468796788), (39.18912562219337, 117.18708945535562), (39.176402459738306, 117.1885674719156), (39.16381896807426, 117.17739378935131), (39.15809268615445, 117.1670462392421), (40.21731845384066, 116.14342059179461)]\n",
      "tensor([39.3431, 39.3136, 39.2841, 39.2553, 39.2255, 39.2037, 39.1891, 39.1764,\n",
      "        39.1638])\n",
      "tensor([117.0708, 117.0920, 117.1131, 117.1352, 117.1574, 117.1740, 117.1871,\n",
      "        117.1886, 117.1774])\n",
      "[tensor(39.1581), tensor(40.2173)]\n",
      "[tensor(117.1670), tensor(116.1434)]\n",
      "over\n",
      "[(39.31361705518179, 117.09197003164866), (39.28413260027222, 117.11310529728449), (39.2553395610074, 117.1352423979706), (39.22552991564874, 117.15738175241506), (39.20369855571399, 117.1739468796788), (39.18912562219337, 117.18708945535562), (39.176402459738306, 117.1885674719156), (39.16381896807426, 117.17739378935131), (39.15809268615445, 117.1670462392421), (39.157163162763645, 117.15759069242488), (40.21731845384066, 116.14342059179461)]\n",
      "tensor([39.3136, 39.2841, 39.2553, 39.2255, 39.2037, 39.1891, 39.1764, 39.1638,\n",
      "        39.1581])\n",
      "tensor([117.0920, 117.1131, 117.1352, 117.1574, 117.1740, 117.1871, 117.1886,\n",
      "        117.1774, 117.1670])\n",
      "[tensor(39.1572), tensor(40.2173)]\n",
      "[tensor(117.1576), tensor(116.1434)]\n",
      "over\n",
      "[(39.28413260027222, 117.11310529728449), (39.2553395610074, 117.1352423979706), (39.22552991564874, 117.15738175241506), (39.20369855571399, 117.1739468796788), (39.18912562219337, 117.18708945535562), (39.176402459738306, 117.1885674719156), (39.16381896807426, 117.17739378935131), (39.15809268615445, 117.1670462392421), (39.157163162763645, 117.15759069242488), (39.157163162763645, 117.15759069242488), (40.247581087749836, 116.1264489803427)]\n",
      "tensor([39.2841, 39.2553, 39.2255, 39.2037, 39.1891, 39.1764, 39.1638, 39.1581,\n",
      "        39.1572])\n",
      "tensor([117.1131, 117.1352, 117.1574, 117.1740, 117.1871, 117.1886, 117.1774,\n",
      "        117.1670, 117.1576])\n",
      "[tensor(39.1572), tensor(40.2476)]\n",
      "[tensor(117.1576), tensor(116.1264)]\n",
      "over\n",
      "[(39.2553395610074, 117.1352423979706), (39.22552991564874, 117.15738175241506), (39.20369855571399, 117.1739468796788), (39.18912562219337, 117.18708945535562), (39.176402459738306, 117.1885674719156), (39.16381896807426, 117.17739378935131), (39.15809268615445, 117.1670462392421), (39.157163162763645, 117.15759069242488), (39.157163162763645, 117.15759069242488), (39.15645371362974, 117.15972304033967), (40.247581087749836, 116.1264489803427)]\n",
      "tensor([39.2553, 39.2255, 39.2037, 39.1891, 39.1764, 39.1638, 39.1581, 39.1572,\n",
      "        39.1572])\n",
      "tensor([117.1352, 117.1574, 117.1740, 117.1871, 117.1886, 117.1774, 117.1670,\n",
      "        117.1576, 117.1576])\n",
      "[tensor(39.1565), tensor(40.2476)]\n",
      "[tensor(117.1597), tensor(116.1264)]\n",
      "over\n",
      "[(39.22552991564874, 117.15738175241506), (39.20369855571399, 117.1739468796788), (39.18912562219337, 117.18708945535562), (39.176402459738306, 117.1885674719156), (39.16381896807426, 117.17739378935131), (39.15809268615445, 117.1670462392421), (39.157163162763645, 117.15759069242488), (39.157163162763645, 117.15759069242488), (39.15645371362974, 117.15972304033967), (39.15609898565742, 117.16078916461382), (40.20090981811669, 116.17491826410459)]\n",
      "tensor([39.2255, 39.2037, 39.1891, 39.1764, 39.1638, 39.1581, 39.1572, 39.1572,\n",
      "        39.1565])\n",
      "tensor([117.1574, 117.1740, 117.1871, 117.1886, 117.1774, 117.1670, 117.1576,\n",
      "        117.1576, 117.1597])\n",
      "[tensor(39.1561), tensor(40.2009)]\n",
      "[tensor(117.1608), tensor(116.1749)]\n",
      "over\n",
      "[(39.20369855571399, 117.1739468796788), (39.18912562219337, 117.18708945535562), (39.176402459738306, 117.1885674719156), (39.16381896807426, 117.17739378935131), (39.15809268615445, 117.1670462392421), (39.157163162763645, 117.15759069242488), (39.157163162763645, 117.15759069242488), (39.15645371362974, 117.15972304033967), (39.15609898565742, 117.16078916461382), (39.154426045018916, 117.15662935345465), (40.20090981811669, 116.17491826410459)]\n",
      "tensor([39.2037, 39.1891, 39.1764, 39.1638, 39.1581, 39.1572, 39.1572, 39.1565,\n",
      "        39.1561])\n",
      "tensor([117.1740, 117.1871, 117.1886, 117.1774, 117.1670, 117.1576, 117.1576,\n",
      "        117.1597, 117.1608])\n",
      "[tensor(39.1544), tensor(40.2009)]\n",
      "[tensor(117.1566), tensor(116.1749)]\n",
      "over\n",
      "[(39.18912562219337, 117.18708945535562), (39.176402459738306, 117.1885674719156), (39.16381896807426, 117.17739378935131), (39.15809268615445, 117.1670462392421), (39.157163162763645, 117.15759069242488), (39.157163162763645, 117.15759069242488), (39.15645371362974, 117.15972304033967), (39.15609898565742, 117.16078916461382), (39.154426045018916, 117.15662935345465), (39.15111257216664, 117.14514583824759), (40.247581087749836, 116.1264489803427)]\n",
      "tensor([39.1891, 39.1764, 39.1638, 39.1581, 39.1572, 39.1572, 39.1565, 39.1561,\n",
      "        39.1544])\n",
      "tensor([117.1871, 117.1886, 117.1774, 117.1670, 117.1576, 117.1576, 117.1597,\n",
      "        117.1608, 117.1566])\n",
      "[tensor(39.1511), tensor(40.2476)]\n",
      "[tensor(117.1451), tensor(116.1264)]\n",
      "over\n",
      "[(39.176402459738306, 117.1885674719156), (39.16381896807426, 117.17739378935131), (39.15809268615445, 117.1670462392421), (39.157163162763645, 117.15759069242488), (39.157163162763645, 117.15759069242488), (39.15645371362974, 117.15972304033967), (39.15609898565742, 117.16078916461382), (39.154426045018916, 117.15662935345465), (39.15111257216664, 117.14514583824759), (39.144607268137555, 117.14325964604801), (40.21731845384066, 116.14342059179461)]\n",
      "tensor([39.1764, 39.1638, 39.1581, 39.1572, 39.1572, 39.1565, 39.1561, 39.1544,\n",
      "        39.1511])\n",
      "tensor([117.1886, 117.1774, 117.1670, 117.1576, 117.1576, 117.1597, 117.1608,\n",
      "        117.1566, 117.1451])\n",
      "[tensor(39.1446), tensor(40.2173)]\n",
      "[tensor(117.1433), tensor(116.1434)]\n",
      "over\n",
      "[(39.16381896807426, 117.17739378935131), (39.15809268615445, 117.1670462392421), (39.157163162763645, 117.15759069242488), (39.157163162763645, 117.15759069242488), (39.15645371362974, 117.15972304033967), (39.15609898565742, 117.16078916461382), (39.154426045018916, 117.15662935345465), (39.15111257216664, 117.14514583824759), (39.144607268137555, 117.14325964604801), (39.13156487330764, 117.1426514816004), (40.239505571548214, 116.12908055888796)]\n",
      "tensor([39.1638, 39.1581, 39.1572, 39.1572, 39.1565, 39.1561, 39.1544, 39.1511,\n",
      "        39.1446])\n",
      "tensor([117.1774, 117.1670, 117.1576, 117.1576, 117.1597, 117.1608, 117.1566,\n",
      "        117.1451, 117.1433])\n",
      "[tensor(39.1316), tensor(40.2395)]\n",
      "[tensor(117.1427), tensor(116.1291)]\n",
      "over\n",
      "[(39.15809268615445, 117.1670462392421), (39.157163162763645, 117.15759069242488), (39.157163162763645, 117.15759069242488), (39.15645371362974, 117.15972304033967), (39.15609898565742, 117.16078916461382), (39.154426045018916, 117.15662935345465), (39.15111257216664, 117.14514583824759), (39.144607268137555, 117.14325964604801), (39.13156487330764, 117.1426514816004), (39.11920030297309, 117.14307416863406), (40.21731845384066, 116.14342059179461)]\n",
      "tensor([39.1581, 39.1572, 39.1572, 39.1565, 39.1561, 39.1544, 39.1511, 39.1446,\n",
      "        39.1316])\n",
      "tensor([117.1670, 117.1576, 117.1576, 117.1597, 117.1608, 117.1566, 117.1451,\n",
      "        117.1433, 117.1427])\n",
      "[tensor(39.1192), tensor(40.2173)]\n",
      "[tensor(117.1431), tensor(116.1434)]\n",
      "over\n",
      "[(39.157163162763645, 117.15759069242488), (39.157163162763645, 117.15759069242488), (39.15645371362974, 117.15972304033967), (39.15609898565742, 117.16078916461382), (39.154426045018916, 117.15662935345465), (39.15111257216664, 117.14514583824759), (39.144607268137555, 117.14325964604801), (39.13156487330764, 117.1426514816004), (39.11920030297309, 117.14307416863406), (39.10719144563799, 117.14243113090255), (40.230873505736604, 116.11751679404945)]\n",
      "tensor([39.1572, 39.1572, 39.1565, 39.1561, 39.1544, 39.1511, 39.1446, 39.1316,\n",
      "        39.1192])\n",
      "tensor([117.1576, 117.1576, 117.1597, 117.1608, 117.1566, 117.1451, 117.1433,\n",
      "        117.1427, 117.1431])\n",
      "[tensor(39.1072), tensor(40.2309)]\n",
      "[tensor(117.1424), tensor(116.1175)]\n",
      "over\n",
      "[(39.157163162763645, 117.15759069242488), (39.15645371362974, 117.15972304033967), (39.15609898565742, 117.16078916461382), (39.154426045018916, 117.15662935345465), (39.15111257216664, 117.14514583824759), (39.144607268137555, 117.14325964604801), (39.13156487330764, 117.1426514816004), (39.11920030297309, 117.14307416863406), (39.10719144563799, 117.14243113090255), (39.10683743488911, 117.14349664911876), (40.18713196673265, 116.18876784718599)]\n",
      "tensor([39.1572, 39.1565, 39.1561, 39.1544, 39.1511, 39.1446, 39.1316, 39.1192,\n",
      "        39.1072])\n",
      "tensor([117.1576, 117.1597, 117.1608, 117.1566, 117.1451, 117.1433, 117.1427,\n",
      "        117.1431, 117.1424])\n",
      "[tensor(39.1068), tensor(40.1871)]\n",
      "[tensor(117.1435), tensor(116.1888)]\n",
      "over\n",
      "[(39.15645371362974, 117.15972304033967), (39.15609898565742, 117.16078916461382), (39.154426045018916, 117.15662935345465), (39.15111257216664, 117.14514583824759), (39.144607268137555, 117.14325964604801), (39.13156487330764, 117.1426514816004), (39.11920030297309, 117.14307416863406), (39.10719144563799, 117.14243113090255), (39.10683743488911, 117.14349664911876), (39.123321637318604, 117.14293329591355), (40.26104455199116, 116.1103807847248)]\n",
      "tensor([39.1565, 39.1561, 39.1544, 39.1511, 39.1446, 39.1316, 39.1192, 39.1072,\n",
      "        39.1068])\n",
      "tensor([117.1597, 117.1608, 117.1566, 117.1451, 117.1433, 117.1427, 117.1431,\n",
      "        117.1424, 117.1435])\n",
      "[tensor(39.1233), tensor(40.2610)]\n",
      "[tensor(117.1429), tensor(116.1104)]\n",
      "over\n",
      "[(39.15609898565742, 117.16078916461382), (39.154426045018916, 117.15662935345465), (39.15111257216664, 117.14514583824759), (39.144607268137555, 117.14325964604801), (39.13156487330764, 117.1426514816004), (39.11920030297309, 117.14307416863406), (39.10719144563799, 117.14243113090255), (39.10683743488911, 117.14349664911876), (39.123321637318604, 117.14293329591355), (39.12914970487997, 117.14378791844285), (40.285582004066995, 116.07285983821609)]\n",
      "tensor([39.1561, 39.1544, 39.1511, 39.1446, 39.1316, 39.1192, 39.1072, 39.1068,\n",
      "        39.1233])\n",
      "tensor([117.1608, 117.1566, 117.1451, 117.1433, 117.1427, 117.1431, 117.1424,\n",
      "        117.1435, 117.1429])\n",
      "[tensor(39.1292), tensor(40.2856)]\n",
      "[tensor(117.1438), tensor(116.0729)]\n",
      "over\n",
      "[(39.154426045018916, 117.15662935345465), (39.15111257216664, 117.14514583824759), (39.144607268137555, 117.14325964604801), (39.13156487330764, 117.1426514816004), (39.11920030297309, 117.14307416863406), (39.10719144563799, 117.14243113090255), (39.10683743488911, 117.14349664911876), (39.123321637318604, 117.14293329591355), (39.12914970487997, 117.14378791844285), (39.12840858704491, 117.14908219851529), (40.21731845384066, 116.14342059179461)]\n",
      "tensor([39.1544, 39.1511, 39.1446, 39.1316, 39.1192, 39.1072, 39.1068, 39.1233,\n",
      "        39.1292])\n",
      "tensor([117.1566, 117.1451, 117.1433, 117.1427, 117.1431, 117.1424, 117.1435,\n",
      "        117.1429, 117.1438])\n",
      "[tensor(39.1284), tensor(40.2173)]\n",
      "[tensor(117.1491), tensor(116.1434)]\n",
      "over\n",
      "[(39.15111257216664, 117.14514583824759), (39.144607268137555, 117.14325964604801), (39.13156487330764, 117.1426514816004), (39.11920030297309, 117.14307416863406), (39.10719144563799, 117.14243113090255), (39.10683743488911, 117.14349664911876), (39.123321637318604, 117.14293329591355), (39.12914970487997, 117.14378791844285), (39.12840858704491, 117.14908219851529), (39.12805427235951, 117.15014799688231), (39.98421768672636, 116.33760188054308)]\n",
      "tensor([39.1511, 39.1446, 39.1316, 39.1192, 39.1072, 39.1068, 39.1233, 39.1292,\n",
      "        39.1284])\n",
      "tensor([117.1451, 117.1433, 117.1427, 117.1431, 117.1424, 117.1435, 117.1429,\n",
      "        117.1438, 117.1491])\n",
      "[tensor(39.1281), tensor(39.9842)]\n",
      "[tensor(117.1501), tensor(116.3376)]\n",
      "over\n",
      "[(39.144607268137555, 117.14325964604801), (39.13156487330764, 117.1426514816004), (39.11920030297309, 117.14307416863406), (39.10719144563799, 117.14243113090255), (39.10683743488911, 117.14349664911876), (39.123321637318604, 117.14293329591355), (39.12914970487997, 117.14378791844285), (39.12840858704491, 117.14908219851529), (39.12805427235951, 117.15014799688231), (39.129084630549244, 117.15011292087327), (40.230873505736604, 116.11751679404945)]\n",
      "tensor([39.1446, 39.1316, 39.1192, 39.1072, 39.1068, 39.1233, 39.1292, 39.1284,\n",
      "        39.1281])\n",
      "tensor([117.1433, 117.1427, 117.1431, 117.1424, 117.1435, 117.1429, 117.1438,\n",
      "        117.1491, 117.1501])\n",
      "[tensor(39.1291), tensor(40.2309)]\n",
      "[tensor(117.1501), tensor(116.1175)]\n",
      "over\n",
      "[(39.13156487330764, 117.1426514816004), (39.11920030297309, 117.14307416863406), (39.10719144563799, 117.14243113090255), (39.10683743488911, 117.14349664911876), (39.123321637318604, 117.14293329591355), (39.12914970487997, 117.14378791844285), (39.12840858704491, 117.14908219851529), (39.12805427235951, 117.15014799688231), (39.129084630549244, 117.15011292087327), (39.12873030106898, 117.15117870840415), (40.336097718552324, 116.03161187786154)]\n",
      "tensor([39.1316, 39.1192, 39.1072, 39.1068, 39.1233, 39.1292, 39.1284, 39.1281,\n",
      "        39.1291])\n",
      "tensor([117.1427, 117.1431, 117.1424, 117.1435, 117.1429, 117.1438, 117.1491,\n",
      "        117.1501, 117.1501])\n",
      "[tensor(39.1287), tensor(40.3361)]\n",
      "[tensor(117.1512), tensor(116.0316)]\n",
      "over\n",
      "[(39.11920030297309, 117.14307416863406), (39.10719144563799, 117.14243113090255), (39.10683743488911, 117.14349664911876), (39.123321637318604, 117.14293329591355), (39.12914970487997, 117.14378791844285), (39.12840858704491, 117.14908219851529), (39.12805427235951, 117.15014799688231), (39.129084630549244, 117.15011292087327), (39.12873030106898, 117.15117870840415), (39.128375969319485, 117.15224446284608), (40.21731845384066, 116.14342059179461)]\n",
      "tensor([39.1192, 39.1072, 39.1068, 39.1233, 39.1292, 39.1284, 39.1281, 39.1291,\n",
      "        39.1287])\n",
      "tensor([117.1431, 117.1424, 117.1435, 117.1429, 117.1438, 117.1491, 117.1501,\n",
      "        117.1501, 117.1512])\n",
      "[tensor(39.1284), tensor(40.2173)]\n",
      "[tensor(117.1522), tensor(116.1434)]\n",
      "over\n",
      "[(39.10719144563799, 117.14243113090255), (39.10683743488911, 117.14349664911876), (39.123321637318604, 117.14293329591355), (39.12914970487997, 117.14378791844285), (39.12840858704491, 117.14908219851529), (39.12805427235951, 117.15014799688231), (39.129084630549244, 117.15011292087327), (39.12873030106898, 117.15117870840415), (39.128375969319485, 117.15224446284608), (39.128375969319485, 117.15224446284608), (40.247581087749836, 116.1264489803427)]\n",
      "tensor([39.1072, 39.1068, 39.1233, 39.1292, 39.1284, 39.1281, 39.1291, 39.1287,\n",
      "        39.1284])\n",
      "tensor([117.1424, 117.1435, 117.1429, 117.1438, 117.1491, 117.1501, 117.1501,\n",
      "        117.1512, 117.1522])\n",
      "[tensor(39.1284), tensor(40.2476)]\n",
      "[tensor(117.1522), tensor(116.1264)]\n",
      "over\n",
      "[(39.10683743488911, 117.14349664911876), (39.123321637318604, 117.14293329591355), (39.12914970487997, 117.14378791844285), (39.12840858704491, 117.14908219851529), (39.12805427235951, 117.15014799688231), (39.129084630549244, 117.15011292087327), (39.12873030106898, 117.15117870840415), (39.128375969319485, 117.15224446284608), (39.128375969319485, 117.15224446284608), (39.128375969319485, 117.15224446284608), (40.43520562640392, 115.97754634550735)]\n",
      "tensor([39.1068, 39.1233, 39.1292, 39.1284, 39.1281, 39.1291, 39.1287, 39.1284,\n",
      "        39.1284])\n",
      "tensor([117.1435, 117.1429, 117.1438, 117.1491, 117.1501, 117.1501, 117.1512,\n",
      "        117.1522, 117.1522])\n",
      "[tensor(39.1284), tensor(40.4352)]\n",
      "[tensor(117.1522), tensor(115.9775)]\n",
      "over\n",
      "[(39.123321637318604, 117.14293329591355), (39.12914970487997, 117.14378791844285), (39.12840858704491, 117.14908219851529), (39.12805427235951, 117.15014799688231), (39.129084630549244, 117.15011292087327), (39.12873030106898, 117.15117870840415), (39.128375969319485, 117.15224446284608), (39.128375969319485, 117.15224446284608), (39.128375969319485, 117.15224446284608), (39.128375969319485, 117.15224446284608), (40.230873505736604, 116.11751679404945)]\n",
      "tensor([39.1233, 39.1292, 39.1284, 39.1281, 39.1291, 39.1287, 39.1284, 39.1284,\n",
      "        39.1284])\n",
      "tensor([117.1429, 117.1438, 117.1491, 117.1501, 117.1501, 117.1512, 117.1522,\n",
      "        117.1522, 117.1522])\n",
      "[tensor(39.1284), tensor(40.2309)]\n",
      "[tensor(117.1522), tensor(116.1175)]\n",
      "over\n",
      "[(39.12914970487997, 117.14378791844285), (39.12840858704491, 117.14908219851529), (39.12805427235951, 117.15014799688231), (39.129084630549244, 117.15011292087327), (39.12873030106898, 117.15117870840415), (39.128375969319485, 117.15224446284608), (39.128375969319485, 117.15224446284608), (39.128375969319485, 117.15224446284608), (39.128375969319485, 117.15224446284608), (39.128375969319485, 117.15224446284608), (40.247581087749836, 116.1264489803427)]\n",
      "tensor([39.1292, 39.1284, 39.1281, 39.1291, 39.1287, 39.1284, 39.1284, 39.1284,\n",
      "        39.1284])\n",
      "tensor([117.1438, 117.1491, 117.1501, 117.1501, 117.1512, 117.1522, 117.1522,\n",
      "        117.1522, 117.1522])\n",
      "[tensor(39.1284), tensor(40.2476)]\n",
      "[tensor(117.1522), tensor(116.1264)]\n",
      "over\n",
      "[(39.12840858704491, 117.14908219851529), (39.12805427235951, 117.15014799688231), (39.129084630549244, 117.15011292087327), (39.12873030106898, 117.15117870840415), (39.128375969319485, 117.15224446284608), (39.128375969319485, 117.15224446284608), (39.128375969319485, 117.15224446284608), (39.128375969319485, 117.15224446284608), (39.128375969319485, 117.15224446284608), (39.128375969319485, 117.15224446284608), (40.230873505736604, 116.11751679404945)]\n",
      "tensor([39.1284, 39.1281, 39.1291, 39.1287, 39.1284, 39.1284, 39.1284, 39.1284,\n",
      "        39.1284])\n",
      "tensor([117.1491, 117.1501, 117.1501, 117.1512, 117.1522, 117.1522, 117.1522,\n",
      "        117.1522, 117.1522])\n",
      "[tensor(39.1284), tensor(40.2309)]\n",
      "[tensor(117.1522), tensor(116.1175)]\n",
      "over\n",
      "[(39.12805427235951, 117.15014799688231), (39.129084630549244, 117.15011292087327), (39.12873030106898, 117.15117870840415), (39.128375969319485, 117.15224446284608), (39.128375969319485, 117.15224446284608), (39.128375969319485, 117.15224446284608), (39.128375969319485, 117.15224446284608), (39.128375969319485, 117.15224446284608), (39.128375969319485, 117.15224446284608), (39.124865338144616, 117.15973869330537), (40.247581087749836, 116.1264489803427)]\n",
      "tensor([39.1281, 39.1291, 39.1287, 39.1284, 39.1284, 39.1284, 39.1284, 39.1284,\n",
      "        39.1284])\n",
      "tensor([117.1501, 117.1501, 117.1512, 117.1522, 117.1522, 117.1522, 117.1522,\n",
      "        117.1522, 117.1522])\n",
      "[tensor(39.1249), tensor(40.2476)]\n",
      "[tensor(117.1597), tensor(116.1264)]\n",
      "over\n",
      "[(39.129084630549244, 117.15011292087327), (39.12873030106898, 117.15117870840415), (39.128375969319485, 117.15224446284608), (39.128375969319485, 117.15224446284608), (39.128375969319485, 117.15224446284608), (39.128375969319485, 117.15224446284608), (39.128375969319485, 117.15224446284608), (39.128375969319485, 117.15224446284608), (39.124865338144616, 117.15973869330537), (39.12167622064254, 117.16932671015664), (40.247581087749836, 116.1264489803427)]\n",
      "tensor([39.1291, 39.1287, 39.1284, 39.1284, 39.1284, 39.1284, 39.1284, 39.1284,\n",
      "        39.1249])\n",
      "tensor([117.1501, 117.1512, 117.1522, 117.1522, 117.1522, 117.1522, 117.1522,\n",
      "        117.1522, 117.1597])\n",
      "[tensor(39.1217), tensor(40.2476)]\n",
      "[tensor(117.1693), tensor(116.1264)]\n",
      "over\n",
      "[(39.12873030106898, 117.15117870840415), (39.128375969319485, 117.15224446284608), (39.128375969319485, 117.15224446284608), (39.128375969319485, 117.15224446284608), (39.128375969319485, 117.15224446284608), (39.128375969319485, 117.15224446284608), (39.128375969319485, 117.15224446284608), (39.124865338144616, 117.15973869330537), (39.12167622064254, 117.16932671015664), (39.11716859955991, 117.17369094288175), (40.20090981811669, 116.17491826410459)]\n",
      "tensor([39.1287, 39.1284, 39.1284, 39.1284, 39.1284, 39.1284, 39.1284, 39.1249,\n",
      "        39.1217])\n",
      "tensor([117.1512, 117.1522, 117.1522, 117.1522, 117.1522, 117.1522, 117.1522,\n",
      "        117.1597, 117.1693])\n",
      "[tensor(39.1172), tensor(40.2009)]\n",
      "[tensor(117.1737), tensor(116.1749)]\n",
      "over\n",
      "[(39.128375969319485, 117.15224446284608), (39.128375969319485, 117.15224446284608), (39.128375969319485, 117.15224446284608), (39.128375969319485, 117.15224446284608), (39.128375969319485, 117.15224446284608), (39.128375969319485, 117.15224446284608), (39.124865338144616, 117.15973869330537), (39.12167622064254, 117.16932671015664), (39.11716859955991, 117.17369094288175), (39.11407852907391, 117.17379468206657), (40.230873505736604, 116.11751679404945)]\n",
      "tensor([39.1284, 39.1284, 39.1284, 39.1284, 39.1284, 39.1284, 39.1249, 39.1217,\n",
      "        39.1172])\n",
      "tensor([117.1522, 117.1522, 117.1522, 117.1522, 117.1522, 117.1522, 117.1597,\n",
      "        117.1693, 117.1737])\n",
      "[tensor(39.1141), tensor(40.2309)]\n",
      "[tensor(117.1738), tensor(116.1175)]\n",
      "over\n",
      "[(39.128375969319485, 117.15224446284608), (39.128375969319485, 117.15224446284608), (39.128375969319485, 117.15224446284608), (39.128375969319485, 117.15224446284608), (39.128375969319485, 117.15224446284608), (39.124865338144616, 117.15973869330537), (39.12167622064254, 117.16932671015664), (39.11716859955991, 117.17369094288175), (39.11407852907391, 117.17379468206657), (39.11304852921502, 117.1738292589789), (39.94405222855523, 116.3472202799445)]\n",
      "tensor([39.1284, 39.1284, 39.1284, 39.1284, 39.1284, 39.1249, 39.1217, 39.1172,\n",
      "        39.1141])\n",
      "tensor([117.1522, 117.1522, 117.1522, 117.1522, 117.1522, 117.1597, 117.1693,\n",
      "        117.1737, 117.1738])\n",
      "[tensor(39.1130), tensor(39.9441)]\n",
      "[tensor(117.1738), tensor(116.3472)]\n",
      "over\n",
      "[(39.128375969319485, 117.15224446284608), (39.128375969319485, 117.15224446284608), (39.128375969319485, 117.15224446284608), (39.128375969319485, 117.15224446284608), (39.124865338144616, 117.15973869330537), (39.12167622064254, 117.16932671015664), (39.11716859955991, 117.17369094288175), (39.11407852907391, 117.17379468206657), (39.11304852921502, 117.1738292589789), (39.113691311085375, 117.17801961112279), (40.239505571548214, 116.12908055888796)]\n",
      "tensor([39.1284, 39.1284, 39.1284, 39.1284, 39.1249, 39.1217, 39.1172, 39.1141,\n",
      "        39.1130])\n",
      "tensor([117.1522, 117.1522, 117.1522, 117.1522, 117.1597, 117.1693, 117.1737,\n",
      "        117.1738, 117.1738])\n",
      "[tensor(39.1137), tensor(40.2395)]\n",
      "[tensor(117.1780), tensor(116.1291)]\n",
      "over\n",
      "[(39.128375969319485, 117.15224446284608), (39.128375969319485, 117.15224446284608), (39.128375969319485, 117.15224446284608), (39.124865338144616, 117.15973869330537), (39.12167622064254, 117.16932671015664), (39.11716859955991, 117.17369094288175), (39.11407852907391, 117.17379468206657), (39.11304852921502, 117.1738292589789), (39.113691311085375, 117.17801961112279), (39.109538628807535, 117.18131715879399), (40.21731845384066, 116.14342059179461)]\n",
      "tensor([39.1284, 39.1284, 39.1284, 39.1249, 39.1217, 39.1172, 39.1141, 39.1130,\n",
      "        39.1137])\n",
      "tensor([117.1522, 117.1522, 117.1522, 117.1597, 117.1693, 117.1737, 117.1738,\n",
      "        117.1738, 117.1780])\n",
      "[tensor(39.1095), tensor(40.2173)]\n",
      "[tensor(117.1813), tensor(116.1434)]\n",
      "over\n",
      "[(39.128375969319485, 117.15224446284608), (39.128375969319485, 117.15224446284608), (39.124865338144616, 117.15973869330537), (39.12167622064254, 117.16932671015664), (39.11716859955991, 117.17369094288175), (39.11407852907391, 117.17379468206657), (39.11304852921502, 117.1738292589789), (39.113691311085375, 117.17801961112279), (39.109538628807535, 117.18131715879399), (39.105032006961395, 117.18567845928698), (40.247581087749836, 116.1264489803427)]\n",
      "tensor([39.1284, 39.1284, 39.1249, 39.1217, 39.1172, 39.1141, 39.1130, 39.1137,\n",
      "        39.1095])\n",
      "tensor([117.1522, 117.1522, 117.1597, 117.1693, 117.1737, 117.1738, 117.1738,\n",
      "        117.1780, 117.1813])\n",
      "[tensor(39.1050), tensor(40.2476)]\n",
      "[tensor(117.1857), tensor(116.1264)]\n",
      "over\n",
      "[(39.128375969319485, 117.15224446284608), (39.124865338144616, 117.15973869330537), (39.12167622064254, 117.16932671015664), (39.11716859955991, 117.17369094288175), (39.11407852907391, 117.17379468206657), (39.11304852921502, 117.1738292589789), (39.113691311085375, 117.17801961112279), (39.109538628807535, 117.18131715879399), (39.105032006961395, 117.18567845928698), (39.10155548556648, 117.19000445164421), (40.239505571548214, 116.12908055888796)]\n",
      "tensor([39.1284, 39.1249, 39.1217, 39.1172, 39.1141, 39.1130, 39.1137, 39.1095,\n",
      "        39.1050])\n",
      "tensor([117.1522, 117.1597, 117.1693, 117.1737, 117.1738, 117.1738, 117.1780,\n",
      "        117.1813, 117.1857])\n",
      "[tensor(39.1016), tensor(40.2395)]\n",
      "[tensor(117.1900), tensor(116.1291)]\n",
      "over\n",
      "[(39.124865338144616, 117.15973869330537), (39.12167622064254, 117.16932671015664), (39.11716859955991, 117.17369094288175), (39.11407852907391, 117.17379468206657), (39.11304852921502, 117.1738292589789), (39.113691311085375, 117.17801961112279), (39.109538628807535, 117.18131715879399), (39.105032006961395, 117.18567845928698), (39.10155548556648, 117.19000445164421), (39.103581912027856, 117.19309460078745), (40.21731845384066, 116.14342059179461)]\n",
      "tensor([39.1249, 39.1217, 39.1172, 39.1141, 39.1130, 39.1137, 39.1095, 39.1050,\n",
      "        39.1016])\n",
      "tensor([117.1597, 117.1693, 117.1737, 117.1738, 117.1738, 117.1780, 117.1813,\n",
      "        117.1857, 117.1900])\n",
      "[tensor(39.1036), tensor(40.2173)]\n",
      "[tensor(117.1931), tensor(116.1434)]\n",
      "over\n",
      "[(39.12167622064254, 117.16932671015664), (39.11716859955991, 117.17369094288175), (39.11407852907391, 117.17379468206657), (39.11304852921502, 117.1738292589789), (39.113691311085375, 117.17801961112279), (39.109538628807535, 117.18131715879399), (39.105032006961395, 117.18567845928698), (39.10155548556648, 117.19000445164421), (39.103581912027856, 117.19309460078745), (39.103515526956876, 117.1994113467244), (40.230873505736604, 116.11751679404945)]\n",
      "tensor([39.1217, 39.1172, 39.1141, 39.1130, 39.1137, 39.1095, 39.1050, 39.1016,\n",
      "        39.1036])\n",
      "tensor([117.1693, 117.1737, 117.1738, 117.1738, 117.1780, 117.1813, 117.1857,\n",
      "        117.1900, 117.1931])\n",
      "[tensor(39.1035), tensor(40.2309)]\n",
      "[tensor(117.1994), tensor(116.1175)]\n",
      "over\n",
      "[(39.11716859955991, 117.17369094288175), (39.11407852907391, 117.17379468206657), (39.11304852921502, 117.1738292589789), (39.113691311085375, 117.17801961112279), (39.109538628807535, 117.18131715879399), (39.105032006961395, 117.18567845928698), (39.10155548556648, 117.19000445164421), (39.103581912027856, 117.19309460078745), (39.103515526956876, 117.1994113467244), (39.10277352801714, 117.20469741748751), (40.230873505736604, 116.11751679404945)]\n",
      "tensor([39.1172, 39.1141, 39.1130, 39.1137, 39.1095, 39.1050, 39.1016, 39.1036,\n",
      "        39.1035])\n",
      "tensor([117.1737, 117.1738, 117.1738, 117.1780, 117.1813, 117.1857, 117.1900,\n",
      "        117.1931, 117.1994])\n",
      "[tensor(39.1028), tensor(40.2309)]\n",
      "[tensor(117.2047), tensor(116.1175)]\n",
      "over\n",
      "[(39.11407852907391, 117.17379468206657), (39.11304852921502, 117.1738292589789), (39.113691311085375, 117.17801961112279), (39.109538628807535, 117.18131715879399), (39.105032006961395, 117.18567845928698), (39.10155548556648, 117.19000445164421), (39.103581912027856, 117.19309460078745), (39.103515526956876, 117.1994113467244), (39.10277352801714, 117.20469741748751), (39.09997222426821, 117.21005052594057), (40.247581087749836, 116.1264489803427)]\n",
      "tensor([39.1141, 39.1130, 39.1137, 39.1095, 39.1050, 39.1016, 39.1036, 39.1035,\n",
      "        39.1028])\n",
      "tensor([117.1738, 117.1738, 117.1780, 117.1813, 117.1857, 117.1900, 117.1931,\n",
      "        117.1994, 117.2047])\n",
      "[tensor(39.1000), tensor(40.2476)]\n",
      "[tensor(117.2101), tensor(116.1264)]\n",
      "over\n",
      "[(39.11304852921502, 117.1738292589789), (39.113691311085375, 117.17801961112279), (39.109538628807535, 117.18131715879399), (39.105032006961395, 117.18567845928698), (39.10155548556648, 117.19000445164421), (39.103581912027856, 117.19309460078745), (39.103515526956876, 117.1994113467244), (39.10277352801714, 117.20469741748751), (39.09997222426821, 117.21005052594057), (39.09791313601221, 117.210118163679), (40.21731845384066, 116.14342059179461)]\n",
      "tensor([39.1130, 39.1137, 39.1095, 39.1050, 39.1016, 39.1036, 39.1035, 39.1028,\n",
      "        39.1000])\n",
      "tensor([117.1738, 117.1780, 117.1813, 117.1857, 117.1900, 117.1931, 117.1994,\n",
      "        117.2047, 117.2101])\n",
      "[tensor(39.0979), tensor(40.2173)]\n",
      "[tensor(117.2101), tensor(116.1434)]\n",
      "over\n",
      "[(39.113691311085375, 117.17801961112279), (39.109538628807535, 117.18131715879399), (39.105032006961395, 117.18567845928698), (39.10155548556648, 117.19000445164421), (39.103581912027856, 117.19309460078745), (39.103515526956876, 117.1994113467244), (39.10277352801714, 117.20469741748751), (39.09997222426821, 117.21005052594057), (39.09791313601221, 117.210118163679), (39.09823401205172, 117.21221174058753), (40.247581087749836, 116.1264489803427)]\n",
      "tensor([39.1137, 39.1095, 39.1050, 39.1016, 39.1036, 39.1035, 39.1028, 39.1000,\n",
      "        39.0979])\n",
      "tensor([117.1780, 117.1813, 117.1857, 117.1900, 117.1931, 117.1994, 117.2047,\n",
      "        117.2101, 117.2101])\n",
      "[tensor(39.0982), tensor(40.2476)]\n",
      "[tensor(117.2122), tensor(116.1264)]\n",
      "over\n",
      "[(39.109538628807535, 117.18131715879399), (39.105032006961395, 117.18567845928698), (39.10155548556648, 117.19000445164421), (39.103581912027856, 117.19309460078745), (39.103515526956876, 117.1994113467244), (39.10277352801714, 117.20469741748751), (39.09997222426821, 117.21005052594057), (39.09791313601221, 117.210118163679), (39.09823401205172, 117.21221174058753), (39.097846135825264, 117.21643244785336), (40.21731845384066, 116.14342059179461)]\n",
      "tensor([39.1095, 39.1050, 39.1016, 39.1036, 39.1035, 39.1028, 39.1000, 39.0979,\n",
      "        39.0982])\n",
      "tensor([117.1813, 117.1857, 117.1900, 117.1931, 117.1994, 117.2047, 117.2101,\n",
      "        117.2101, 117.2122])\n",
      "[tensor(39.0978), tensor(40.2173)]\n",
      "[tensor(117.2164), tensor(116.1434)]\n",
      "over\n",
      "[(39.105032006961395, 117.18567845928698), (39.10155548556648, 117.19000445164421), (39.103581912027856, 117.19309460078745), (39.103515526956876, 117.1994113467244), (39.10277352801714, 117.20469741748751), (39.09997222426821, 117.21005052594057), (39.09791313601221, 117.210118163679), (39.09823401205172, 117.21221174058753), (39.097846135825264, 117.21643244785336), (39.09887562244284, 117.21639875991873), (40.21731845384066, 116.14342059179461)]\n",
      "tensor([39.1050, 39.1016, 39.1036, 39.1035, 39.1028, 39.1000, 39.0979, 39.0982,\n",
      "        39.0978])\n",
      "tensor([117.1857, 117.1900, 117.1931, 117.1994, 117.2047, 117.2101, 117.2101,\n",
      "        117.2122, 117.2164])\n",
      "[tensor(39.0989), tensor(40.2173)]\n",
      "[tensor(117.2164), tensor(116.1434)]\n",
      "over\n",
      "[(39.10155548556648, 117.19000445164421), (39.103581912027856, 117.19309460078745), (39.103515526956876, 117.1994113467244), (39.10277352801714, 117.20469741748751), (39.09997222426821, 117.21005052594057), (39.09791313601221, 117.210118163679), (39.09823401205172, 117.21221174058753), (39.097846135825264, 117.21643244785336), (39.09887562244284, 117.21639875991873), (39.10263926854129, 117.21732764333909), (40.230873505736604, 116.11751679404945)]\n",
      "tensor([39.1016, 39.1036, 39.1035, 39.1028, 39.1000, 39.0979, 39.0982, 39.0978,\n",
      "        39.0989])\n",
      "tensor([117.1900, 117.1931, 117.1994, 117.2047, 117.2101, 117.2101, 117.2122,\n",
      "        117.2164, 117.2164])\n",
      "[tensor(39.1026), tensor(40.2309)]\n",
      "[tensor(117.2173), tensor(116.1175)]\n",
      "over\n",
      "[(39.103581912027856, 117.19309460078745), (39.103515526956876, 117.1994113467244), (39.10277352801714, 117.20469741748751), (39.09997222426821, 117.21005052594057), (39.09791313601221, 117.210118163679), (39.09823401205172, 117.21221174058753), (39.097846135825264, 117.21643244785336), (39.09887562244284, 117.21639875991873), (39.10263926854129, 117.21732764333909), (39.10366880170588, 117.21729397071566), (40.20090981811669, 116.17491826410459)]\n",
      "tensor([39.1036, 39.1035, 39.1028, 39.1000, 39.0979, 39.0982, 39.0978, 39.0989,\n",
      "        39.1026])\n",
      "tensor([117.1931, 117.1994, 117.2047, 117.2101, 117.2101, 117.2122, 117.2164,\n",
      "        117.2164, 117.2173])\n",
      "[tensor(39.1037), tensor(40.2009)]\n",
      "[tensor(117.2173), tensor(116.1749)]\n",
      "over\n",
      "[(39.103515526956876, 117.1994113467244), (39.10277352801714, 117.20469741748751), (39.09997222426821, 117.21005052594057), (39.09791313601221, 117.210118163679), (39.09823401205172, 117.21221174058753), (39.097846135825264, 117.21643244785336), (39.09887562244284, 117.21639875991873), (39.10263926854129, 117.21732764333909), (39.10366880170588, 117.21729397071566), (39.10952563013365, 117.2149979902367), (40.239505571548214, 116.12908055888796)]\n",
      "tensor([39.1035, 39.1028, 39.1000, 39.0979, 39.0982, 39.0978, 39.0989, 39.1026,\n",
      "        39.1037])\n",
      "tensor([117.1994, 117.2047, 117.2101, 117.2101, 117.2122, 117.2164, 117.2164,\n",
      "        117.2173, 117.2173])\n",
      "[tensor(39.1095), tensor(40.2395)]\n",
      "[tensor(117.2150), tensor(116.1291)]\n",
      "over\n",
      "[(39.10277352801714, 117.20469741748751), (39.09997222426821, 117.21005052594057), (39.09791313601221, 117.210118163679), (39.09823401205172, 117.21221174058753), (39.097846135825264, 117.21643244785336), (39.09887562244284, 117.21639875991873), (39.10263926854129, 117.21732764333909), (39.10366880170588, 117.21729397071566), (39.10952563013365, 117.2149979902367), (39.112648436839294, 117.21173876238734), (40.21731845384066, 116.14342059179461)]\n",
      "tensor([39.1028, 39.1000, 39.0979, 39.0982, 39.0978, 39.0989, 39.1026, 39.1037,\n",
      "        39.1095])\n",
      "tensor([117.2047, 117.2101, 117.2101, 117.2122, 117.2164, 117.2164, 117.2173,\n",
      "        117.2173, 117.2150])\n",
      "[tensor(39.1126), tensor(40.2173)]\n",
      "[tensor(117.2117), tensor(116.1434)]\n",
      "over\n",
      "[(39.09997222426821, 117.21005052594057), (39.09791313601221, 117.210118163679), (39.09823401205172, 117.21221174058753), (39.097846135825264, 117.21643244785336), (39.09887562244284, 117.21639875991873), (39.10263926854129, 117.21732764333909), (39.10366880170588, 117.21729397071566), (39.10952563013365, 117.2149979902367), (39.112648436839294, 117.21173876238734), (39.114387165584155, 117.20957690758496), (40.21731845384066, 116.14342059179461)]\n",
      "tensor([39.1000, 39.0979, 39.0982, 39.0978, 39.0989, 39.1026, 39.1037, 39.1095,\n",
      "        39.1126])\n",
      "tensor([117.2101, 117.2101, 117.2122, 117.2164, 117.2164, 117.2173, 117.2173,\n",
      "        117.2150, 117.2117])\n",
      "[tensor(39.1144), tensor(40.2173)]\n",
      "[tensor(117.2096), tensor(116.1434)]\n",
      "over\n",
      "[(39.09791313601221, 117.210118163679), (39.09823401205172, 117.21221174058753), (39.097846135825264, 117.21643244785336), (39.09887562244284, 117.21639875991873), (39.10263926854129, 117.21732764333909), (39.10366880170588, 117.21729397071566), (39.10952563013365, 117.2149979902367), (39.112648436839294, 117.21173876238734), (39.114387165584155, 117.20957690758496), (39.11886071154905, 117.20837736999047), (40.239505571548214, 116.12908055888796)]\n",
      "tensor([39.0979, 39.0982, 39.0978, 39.0989, 39.1026, 39.1037, 39.1095, 39.1126,\n",
      "        39.1144])\n",
      "tensor([117.2101, 117.2122, 117.2164, 117.2164, 117.2173, 117.2173, 117.2150,\n",
      "        117.2117, 117.2096])\n",
      "[tensor(39.1189), tensor(40.2395)]\n",
      "[tensor(117.2084), tensor(116.1291)]\n",
      "over\n",
      "[(39.09823401205172, 117.21221174058753), (39.097846135825264, 117.21643244785336), (39.09887562244284, 117.21639875991873), (39.10263926854129, 117.21732764333909), (39.10366880170588, 117.21729397071566), (39.10952563013365, 117.2149979902367), (39.112648436839294, 117.21173876238734), (39.114387165584155, 117.20957690758496), (39.11886071154905, 117.20837736999047), (39.120599648987195, 117.20621502155946), (40.285582004066995, 116.07285983821609)]\n",
      "tensor([39.0982, 39.0978, 39.0989, 39.1026, 39.1037, 39.1095, 39.1126, 39.1144,\n",
      "        39.1189])\n",
      "tensor([117.2122, 117.2164, 117.2164, 117.2173, 117.2173, 117.2150, 117.2117,\n",
      "        117.2096, 117.2084])\n",
      "[tensor(39.1206), tensor(40.2856)]\n",
      "[tensor(117.2062), tensor(116.0729)]\n",
      "over\n",
      "[(39.097846135825264, 117.21643244785336), (39.09887562244284, 117.21639875991873), (39.10263926854129, 117.21732764333909), (39.10366880170588, 117.21729397071566), (39.10952563013365, 117.2149979902367), (39.112648436839294, 117.21173876238734), (39.114387165584155, 117.20957690758496), (39.11886071154905, 117.20837736999047), (39.120599648987195, 117.20621502155946), (39.125107580686056, 117.20185565228412), (40.285582004066995, 116.07285983821609)]\n",
      "tensor([39.0978, 39.0989, 39.1026, 39.1037, 39.1095, 39.1126, 39.1144, 39.1189,\n",
      "        39.1206])\n",
      "tensor([117.2164, 117.2164, 117.2173, 117.2173, 117.2150, 117.2117, 117.2096,\n",
      "        117.2084, 117.2062])\n",
      "[tensor(39.1251), tensor(40.2856)]\n",
      "[tensor(117.2019), tensor(116.0729)]\n",
      "over\n",
      "[(39.09887562244284, 117.21639875991873), (39.10263926854129, 117.21732764333909), (39.10366880170588, 117.21729397071566), (39.10952563013365, 117.2149979902367), (39.112648436839294, 117.21173876238734), (39.114387165584155, 117.20957690758496), (39.11886071154905, 117.20837736999047), (39.120599648987195, 117.20621502155946), (39.125107580686056, 117.20185565228412), (39.127555929021476, 117.1975634036641), (40.239505571548214, 116.12908055888796)]\n",
      "tensor([39.0989, 39.1026, 39.1037, 39.1095, 39.1126, 39.1144, 39.1189, 39.1206,\n",
      "        39.1251])\n",
      "tensor([117.2164, 117.2173, 117.2173, 117.2150, 117.2117, 117.2096, 117.2084,\n",
      "        117.2062, 117.2019])\n",
      "[tensor(39.1276), tensor(40.2395)]\n",
      "[tensor(117.1976), tensor(116.1291)]\n",
      "over\n",
      "[(39.10263926854129, 117.21732764333909), (39.10366880170588, 117.21729397071566), (39.10952563013365, 117.2149979902367), (39.112648436839294, 117.21173876238734), (39.114387165584155, 117.20957690758496), (39.11886071154905, 117.20837736999047), (39.120599648987195, 117.20621502155946), (39.125107580686056, 117.20185565228412), (39.127555929021476, 117.1975634036641), (39.13302656966967, 117.1994882556572), (40.230873505736604, 116.11751679404945)]\n",
      "tensor([39.1026, 39.1037, 39.1095, 39.1126, 39.1144, 39.1189, 39.1206, 39.1251,\n",
      "        39.1276])\n",
      "tensor([117.2173, 117.2173, 117.2150, 117.2117, 117.2096, 117.2084, 117.2062,\n",
      "        117.2019, 117.1976])\n",
      "[tensor(39.1330), tensor(40.2309)]\n",
      "[tensor(117.1995), tensor(116.1175)]\n",
      "over\n",
      "[(39.10366880170588, 117.21729397071566), (39.10952563013365, 117.2149979902367), (39.112648436839294, 117.21173876238734), (39.114387165584155, 117.20957690758496), (39.11886071154905, 117.20837736999047), (39.120599648987195, 117.20621502155946), (39.125107580686056, 117.20185565228412), (39.127555929021476, 117.1975634036641), (39.13302656966967, 117.1994882556572), (39.13576193318512, 117.20045081318436), (40.247581087749836, 116.1264489803427)]\n",
      "tensor([39.1037, 39.1095, 39.1126, 39.1144, 39.1189, 39.1206, 39.1251, 39.1276,\n",
      "        39.1330])\n",
      "tensor([117.2173, 117.2150, 117.2117, 117.2096, 117.2084, 117.2062, 117.2019,\n",
      "        117.1976, 117.1995])\n",
      "[tensor(39.1358), tensor(40.2476)]\n",
      "[tensor(117.2004), tensor(116.1264)]\n",
      "over\n",
      "[(39.10952563013365, 117.2149979902367), (39.112648436839294, 117.21173876238734), (39.114387165584155, 117.20957690758496), (39.11886071154905, 117.20837736999047), (39.120599648987195, 117.20621502155946), (39.125107580686056, 117.20185565228412), (39.127555929021476, 117.1975634036641), (39.13302656966967, 117.1994882556572), (39.13576193318512, 117.20045081318436), (39.1347319048602, 117.20048485446203), (40.239505571548214, 116.12908055888796)]\n",
      "tensor([39.1095, 39.1126, 39.1144, 39.1189, 39.1206, 39.1251, 39.1276, 39.1330,\n",
      "        39.1358])\n",
      "tensor([117.2150, 117.2117, 117.2096, 117.2084, 117.2062, 117.2019, 117.1976,\n",
      "        117.1995, 117.2004])\n",
      "[tensor(39.1347), tensor(40.2395)]\n",
      "[tensor(117.2005), tensor(116.1291)]\n",
      "over\n",
      "[(39.112648436839294, 117.21173876238734), (39.114387165584155, 117.20957690758496), (39.11886071154905, 117.20837736999047), (39.120599648987195, 117.20621502155946), (39.125107580686056, 117.20185565228412), (39.127555929021476, 117.1975634036641), (39.13302656966967, 117.1994882556572), (39.13576193318512, 117.20045081318436), (39.1347319048602, 117.20048485446203), (39.13437719150238, 117.20154954300112), (40.239505571548214, 116.12908055888796)]\n",
      "tensor([39.1126, 39.1144, 39.1189, 39.1206, 39.1251, 39.1276, 39.1330, 39.1358,\n",
      "        39.1347])\n",
      "tensor([117.2117, 117.2096, 117.2084, 117.2062, 117.2019, 117.1976, 117.1995,\n",
      "        117.2004, 117.2005])\n",
      "[tensor(39.1344), tensor(40.2395)]\n",
      "[tensor(117.2016), tensor(116.1291)]\n",
      "over\n",
      "[(39.114387165584155, 117.20957690758496), (39.11886071154905, 117.20837736999047), (39.120599648987195, 117.20621502155946), (39.125107580686056, 117.20185565228412), (39.127555929021476, 117.1975634036641), (39.13302656966967, 117.1994882556572), (39.13576193318512, 117.20045081318436), (39.1347319048602, 117.20048485446203), (39.13437719150238, 117.20154954300112), (39.13402247590668, 117.20261419846037), (40.239505571548214, 116.12908055888796)]\n",
      "tensor([39.1144, 39.1189, 39.1206, 39.1251, 39.1276, 39.1330, 39.1358, 39.1347,\n",
      "        39.1344])\n",
      "tensor([117.2096, 117.2084, 117.2062, 117.2019, 117.1976, 117.1995, 117.2004,\n",
      "        117.2005, 117.2016])\n",
      "[tensor(39.1340), tensor(40.2395)]\n",
      "[tensor(117.2026), tensor(116.1291)]\n",
      "over\n",
      "[(39.11886071154905, 117.20837736999047), (39.120599648987195, 117.20621502155946), (39.125107580686056, 117.20185565228412), (39.127555929021476, 117.1975634036641), (39.13302656966967, 117.1994882556572), (39.13576193318512, 117.20045081318436), (39.1347319048602, 117.20048485446203), (39.13437719150238, 117.20154954300112), (39.13402247590668, 117.20261419846037), (39.13402247590668, 117.20261419846037), (39.94405222855523, 116.3472202799445)]\n",
      "tensor([39.1189, 39.1206, 39.1251, 39.1276, 39.1330, 39.1358, 39.1347, 39.1344,\n",
      "        39.1340])\n",
      "tensor([117.2084, 117.2062, 117.2019, 117.1976, 117.1995, 117.2004, 117.2005,\n",
      "        117.2016, 117.2026])\n",
      "[tensor(39.1340), tensor(39.9441)]\n",
      "[tensor(117.2026), tensor(116.3472)]\n",
      "over\n",
      "[(39.120599648987195, 117.20621502155946), (39.125107580686056, 117.20185565228412), (39.127555929021476, 117.1975634036641), (39.13302656966967, 117.1994882556572), (39.13576193318512, 117.20045081318436), (39.1347319048602, 117.20048485446203), (39.13437719150238, 117.20154954300112), (39.13402247590668, 117.20261419846037), (39.13402247590668, 117.20261419846037), (39.1347319048602, 117.20048485446203), (40.247581087749836, 116.1264489803427)]\n",
      "tensor([39.1206, 39.1251, 39.1276, 39.1330, 39.1358, 39.1347, 39.1344, 39.1340,\n",
      "        39.1340])\n",
      "tensor([117.2062, 117.2019, 117.1976, 117.1995, 117.2004, 117.2005, 117.2016,\n",
      "        117.2026, 117.2026])\n",
      "[tensor(39.1347), tensor(40.2476)]\n",
      "[tensor(117.2005), tensor(116.1264)]\n",
      "over\n",
      "[(39.125107580686056, 117.20185565228412), (39.127555929021476, 117.1975634036641), (39.13302656966967, 117.1994882556572), (39.13576193318512, 117.20045081318436), (39.1347319048602, 117.20048485446203), (39.13437719150238, 117.20154954300112), (39.13402247590668, 117.20261419846037), (39.13402247590668, 117.20261419846037), (39.1347319048602, 117.20048485446203), (39.13508661597943, 117.19942013284243), (40.21731845384066, 116.14342059179461)]\n",
      "tensor([39.1251, 39.1276, 39.1330, 39.1358, 39.1347, 39.1344, 39.1340, 39.1340,\n",
      "        39.1347])\n",
      "tensor([117.2019, 117.1976, 117.1995, 117.2004, 117.2005, 117.2016, 117.2026,\n",
      "        117.2026, 117.2005])\n",
      "[tensor(39.1351), tensor(40.2173)]\n",
      "[tensor(117.1994), tensor(116.1434)]\n",
      "over\n",
      "[(39.127555929021476, 117.1975634036641), (39.13302656966967, 117.1994882556572), (39.13576193318512, 117.20045081318436), (39.1347319048602, 117.20048485446203), (39.13437719150238, 117.20154954300112), (39.13402247590668, 117.20261419846037), (39.13402247590668, 117.20261419846037), (39.1347319048602, 117.20048485446203), (39.13508661597943, 117.19942013284243), (39.13508661597943, 117.19942013284243), (40.239505571548214, 116.12908055888796)]\n",
      "tensor([39.1276, 39.1330, 39.1358, 39.1347, 39.1344, 39.1340, 39.1340, 39.1347,\n",
      "        39.1351])\n",
      "tensor([117.1976, 117.1995, 117.2004, 117.2005, 117.2016, 117.2026, 117.2026,\n",
      "        117.2005, 117.1994])\n",
      "[tensor(39.1351), tensor(40.2395)]\n",
      "[tensor(117.1994), tensor(116.1291)]\n",
      "over\n",
      "[(39.13302656966967, 117.1994882556572), (39.13576193318512, 117.20045081318436), (39.1347319048602, 117.20048485446203), (39.13437719150238, 117.20154954300112), (39.13402247590668, 117.20261419846037), (39.13402247590668, 117.20261419846037), (39.1347319048602, 117.20048485446203), (39.13508661597943, 117.19942013284243), (39.13508661597943, 117.19942013284243), (39.13100052061547, 117.19639639928283), (40.239505571548214, 116.12908055888796)]\n",
      "tensor([39.1330, 39.1358, 39.1347, 39.1344, 39.1340, 39.1340, 39.1347, 39.1351,\n",
      "        39.1351])\n",
      "tensor([117.1995, 117.2004, 117.2005, 117.2016, 117.2026, 117.2026, 117.2005,\n",
      "        117.1994, 117.1994])\n",
      "[tensor(39.1310), tensor(40.2395)]\n",
      "[tensor(117.1964), tensor(116.1291)]\n",
      "over\n",
      "[(39.13576193318512, 117.20045081318436), (39.1347319048602, 117.20048485446203), (39.13437719150238, 117.20154954300112), (39.13402247590668, 117.20261419846037), (39.13402247590668, 117.20261419846037), (39.1347319048602, 117.20048485446203), (39.13508661597943, 117.19942013284243), (39.13508661597943, 117.19942013284243), (39.13100052061547, 117.19639639928283), (39.12858590050622, 117.1975293068613), (40.21731845384066, 116.14342059179461)]\n",
      "tensor([39.1358, 39.1347, 39.1344, 39.1340, 39.1340, 39.1347, 39.1351, 39.1351,\n",
      "        39.1310])\n",
      "tensor([117.2004, 117.2005, 117.2016, 117.2026, 117.2026, 117.2005, 117.1994,\n",
      "        117.1994, 117.1964])\n",
      "[tensor(39.1286), tensor(40.2173)]\n",
      "[tensor(117.1975), tensor(116.1434)]\n",
      "over\n",
      "[(39.1347319048602, 117.20048485446203), (39.13437719150238, 117.20154954300112), (39.13402247590668, 117.20261419846037), (39.13402247590668, 117.20261419846037), (39.1347319048602, 117.20048485446203), (39.13508661597943, 117.19942013284243), (39.13508661597943, 117.19942013284243), (39.13100052061547, 117.19639639928283), (39.12858590050622, 117.1975293068613), (39.12581677948983, 117.19972664181992), (40.247581087749836, 116.1264489803427)]\n",
      "tensor([39.1347, 39.1344, 39.1340, 39.1340, 39.1347, 39.1351, 39.1351, 39.1310,\n",
      "        39.1286])\n",
      "tensor([117.2005, 117.2016, 117.2026, 117.2026, 117.2005, 117.1994, 117.1994,\n",
      "        117.1964, 117.1975])\n",
      "[tensor(39.1258), tensor(40.2476)]\n",
      "[tensor(117.1997), tensor(116.1264)]\n",
      "over\n",
      "[(39.13437719150238, 117.20154954300112), (39.13402247590668, 117.20261419846037), (39.13402247590668, 117.20261419846037), (39.1347319048602, 117.20048485446203), (39.13508661597943, 117.19942013284243), (39.13508661597943, 117.19942013284243), (39.13100052061547, 117.19639639928283), (39.12858590050622, 117.1975293068613), (39.12581677948983, 117.19972664181992), (39.12311532934515, 117.19560476946499), (40.230873505736604, 116.11751679404945)]\n",
      "tensor([39.1344, 39.1340, 39.1340, 39.1347, 39.1351, 39.1351, 39.1310, 39.1286,\n",
      "        39.1258])\n",
      "tensor([117.2016, 117.2026, 117.2026, 117.2005, 117.1994, 117.1994, 117.1964,\n",
      "        117.1975, 117.1997])\n",
      "[tensor(39.1231), tensor(40.2309)]\n",
      "[tensor(117.1956), tensor(116.1175)]\n",
      "over\n",
      "[(39.13402247590668, 117.20261419846037), (39.13402247590668, 117.20261419846037), (39.1347319048602, 117.20048485446203), (39.13508661597943, 117.19942013284243), (39.13508661597943, 117.19942013284243), (39.13100052061547, 117.19639639928283), (39.12858590050622, 117.1975293068613), (39.12581677948983, 117.19972664181992), (39.12311532934515, 117.19560476946499), (39.121410001632995, 117.19460847994439), (40.247581087749836, 116.1264489803427)]\n",
      "tensor([39.1340, 39.1340, 39.1347, 39.1351, 39.1351, 39.1310, 39.1286, 39.1258,\n",
      "        39.1231])\n",
      "tensor([117.2026, 117.2026, 117.2005, 117.1994, 117.1994, 117.1964, 117.1975,\n",
      "        117.1997, 117.1956])\n",
      "[tensor(39.1214), tensor(40.2476)]\n",
      "[tensor(117.1946), tensor(116.1264)]\n",
      "over\n",
      "[(39.13402247590668, 117.20261419846037), (39.1347319048602, 117.20048485446203), (39.13508661597943, 117.19942013284243), (39.13508661597943, 117.19942013284243), (39.13100052061547, 117.19639639928283), (39.12858590050622, 117.1975293068613), (39.12581677948983, 117.19972664181992), (39.12311532934515, 117.19560476946499), (39.121410001632995, 117.19460847994439), (39.11725686371888, 117.19790429534233), (40.43451459331309, 115.97648531343592)]\n",
      "tensor([39.1340, 39.1347, 39.1351, 39.1351, 39.1310, 39.1286, 39.1258, 39.1231,\n",
      "        39.1214])\n",
      "tensor([117.2026, 117.2005, 117.1994, 117.1994, 117.1964, 117.1975, 117.1997,\n",
      "        117.1956, 117.1946])\n",
      "[tensor(39.1173), tensor(40.4345)]\n",
      "[tensor(117.1979), tensor(115.9765)]\n",
      "over\n",
      "[(39.1347319048602, 117.20048485446203), (39.13508661597943, 117.19942013284243), (39.13508661597943, 117.19942013284243), (39.13100052061547, 117.19639639928283), (39.12858590050622, 117.1975293068613), (39.12581677948983, 117.19972664181992), (39.12311532934515, 117.19560476946499), (39.121410001632995, 117.19460847994439), (39.11725686371888, 117.19790429534233), (39.11626054670019, 117.194779227545), (40.230873505736604, 116.11751679404945)]\n",
      "tensor([39.1347, 39.1351, 39.1351, 39.1310, 39.1286, 39.1258, 39.1231, 39.1214,\n",
      "        39.1173])\n",
      "tensor([117.2005, 117.1994, 117.1994, 117.1964, 117.1975, 117.1997, 117.1956,\n",
      "        117.1946, 117.1979])\n",
      "[tensor(39.1163), tensor(40.2309)]\n",
      "[tensor(117.1948), tensor(116.1175)]\n",
      "over\n",
      "[(39.13508661597943, 117.19942013284243), (39.13508661597943, 117.19942013284243), (39.13100052061547, 117.19639639928283), (39.12858590050622, 117.1975293068613), (39.12581677948983, 117.19972664181992), (39.12311532934515, 117.19560476946499), (39.121410001632995, 117.19460847994439), (39.11725686371888, 117.19790429534233), (39.11626054670019, 117.194779227545), (39.118387194847074, 117.1883918759825), (40.43451459331309, 115.97648531343592)]\n",
      "tensor([39.1351, 39.1351, 39.1310, 39.1286, 39.1258, 39.1231, 39.1214, 39.1173,\n",
      "        39.1163])\n",
      "tensor([117.1994, 117.1994, 117.1964, 117.1975, 117.1997, 117.1956, 117.1946,\n",
      "        117.1979, 117.1948])\n",
      "[tensor(39.1184), tensor(40.4345)]\n",
      "[tensor(117.1884), tensor(115.9765)]\n",
      "over\n",
      "[(39.13508661597943, 117.19942013284243), (39.13100052061547, 117.19639639928283), (39.12858590050622, 117.1975293068613), (39.12581677948983, 117.19972664181992), (39.12311532934515, 117.19560476946499), (39.121410001632995, 117.19460847994439), (39.11725686371888, 117.19790429534233), (39.11626054670019, 117.194779227545), (39.118387194847074, 117.1883918759825), (39.11874162835973, 117.18732720167147), (40.20090981811669, 116.17491826410459)]\n",
      "tensor([39.1351, 39.1310, 39.1286, 39.1258, 39.1231, 39.1214, 39.1173, 39.1163,\n",
      "        39.1184])\n",
      "tensor([117.1994, 117.1964, 117.1975, 117.1997, 117.1956, 117.1946, 117.1979,\n",
      "        117.1948, 117.1884])\n",
      "[tensor(39.1187), tensor(40.2009)]\n",
      "[tensor(117.1873), tensor(116.1749)]\n",
      "over\n",
      "[(39.13100052061547, 117.19639639928283), (39.12858590050622, 117.1975293068613), (39.12581677948983, 117.19972664181992), (39.12311532934515, 117.19560476946499), (39.121410001632995, 117.19460847994439), (39.11725686371888, 117.19790429534233), (39.11626054670019, 117.194779227545), (39.118387194847074, 117.1883918759825), (39.11874162835973, 117.18732720167147), (39.11813254246847, 117.17997692021879), (40.247581087749836, 116.1264489803427)]\n",
      "tensor([39.1310, 39.1286, 39.1258, 39.1231, 39.1214, 39.1173, 39.1163, 39.1184,\n",
      "        39.1187])\n",
      "tensor([117.1964, 117.1975, 117.1997, 117.1956, 117.1946, 117.1979, 117.1948,\n",
      "        117.1884, 117.1873])\n",
      "[tensor(39.1181), tensor(40.2476)]\n",
      "[tensor(117.1800), tensor(116.1264)]\n",
      "over\n",
      "[(39.12858590050622, 117.1975293068613), (39.12581677948983, 117.19972664181992), (39.12311532934515, 117.19560476946499), (39.121410001632995, 117.19460847994439), (39.11725686371888, 117.19790429534233), (39.11626054670019, 117.194779227545), (39.118387194847074, 117.1883918759825), (39.11874162835973, 117.18732720167147), (39.11813254246847, 117.17997692021879), (39.115075607779254, 117.17692027079393), (40.239505571548214, 116.12908055888796)]\n",
      "tensor([39.1286, 39.1258, 39.1231, 39.1214, 39.1173, 39.1163, 39.1184, 39.1187,\n",
      "        39.1181])\n",
      "tensor([117.1975, 117.1997, 117.1956, 117.1946, 117.1979, 117.1948, 117.1884,\n",
      "        117.1873, 117.1800])\n",
      "[tensor(39.1151), tensor(40.2395)]\n",
      "[tensor(117.1769), tensor(116.1291)]\n",
      "over\n",
      "[(39.12581677948983, 117.19972664181992), (39.12311532934515, 117.19560476946499), (39.121410001632995, 117.19460847994439), (39.11725686371888, 117.19790429534233), (39.11626054670019, 117.194779227545), (39.118387194847074, 117.1883918759825), (39.11874162835973, 117.18732720167147), (39.11813254246847, 117.17997692021879), (39.115075607779254, 117.17692027079393), (39.11382251522191, 117.16537851780299), (40.43451459331309, 115.97648531343592)]\n",
      "tensor([39.1258, 39.1231, 39.1214, 39.1173, 39.1163, 39.1184, 39.1187, 39.1181,\n",
      "        39.1151])\n",
      "tensor([117.1997, 117.1956, 117.1946, 117.1979, 117.1948, 117.1884, 117.1873,\n",
      "        117.1800, 117.1769])\n",
      "[tensor(39.1138), tensor(40.4345)]\n",
      "[tensor(117.1654), tensor(115.9765)]\n",
      "over\n",
      "[(39.12311532934515, 117.19560476946499), (39.121410001632995, 117.19460847994439), (39.11725686371888, 117.19790429534233), (39.11626054670019, 117.194779227545), (39.118387194847074, 117.1883918759825), (39.11874162835973, 117.18732720167147), (39.11813254246847, 117.17997692021879), (39.115075607779254, 117.17692027079393), (39.11382251522191, 117.16537851780299), (39.11317921854571, 117.16118745617082), (39.94405222855523, 116.3472202799445)]\n",
      "tensor([39.1231, 39.1214, 39.1173, 39.1163, 39.1184, 39.1187, 39.1181, 39.1151,\n",
      "        39.1138])\n",
      "tensor([117.1956, 117.1946, 117.1979, 117.1948, 117.1884, 117.1873, 117.1800,\n",
      "        117.1769, 117.1654])\n",
      "[tensor(39.1132), tensor(39.9441)]\n",
      "[tensor(117.1612), tensor(116.3472)]\n",
      "over\n",
      "[(39.121410001632995, 117.19460847994439), (39.11725686371888, 117.19790429534233), (39.11626054670019, 117.194779227545), (39.118387194847074, 117.1883918759825), (39.11874162835973, 117.18732720167147), (39.11813254246847, 117.17997692021879), (39.115075607779254, 117.17692027079393), (39.11382251522191, 117.16537851780299), (39.11317921854571, 117.16118745617082), (39.11395238079201, 117.15273477410578), (40.230873505736604, 116.11751679404945)]\n",
      "tensor([39.1214, 39.1173, 39.1163, 39.1184, 39.1187, 39.1181, 39.1151, 39.1138,\n",
      "        39.1132])\n",
      "tensor([117.1946, 117.1979, 117.1948, 117.1884, 117.1873, 117.1800, 117.1769,\n",
      "        117.1654, 117.1612])\n",
      "[tensor(39.1140), tensor(40.2309)]\n",
      "[tensor(117.1527), tensor(116.1175)]\n",
      "over\n",
      "[(39.11725686371888, 117.19790429534233), (39.11626054670019, 117.194779227545), (39.118387194847074, 117.1883918759825), (39.11874162835973, 117.18732720167147), (39.11813254246847, 117.17997692021879), (39.115075607779254, 117.17692027079393), (39.11382251522191, 117.16537851780299), (39.11317921854571, 117.16118745617082), (39.11395238079201, 117.15273477410578), (39.11395238079201, 117.15273477410578), (40.247581087749836, 116.1264489803427)]\n",
      "tensor([39.1173, 39.1163, 39.1184, 39.1187, 39.1181, 39.1151, 39.1138, 39.1132,\n",
      "        39.1140])\n",
      "tensor([117.1979, 117.1948, 117.1884, 117.1873, 117.1800, 117.1769, 117.1654,\n",
      "        117.1612, 117.1527])\n",
      "[tensor(39.1140), tensor(40.2476)]\n",
      "[tensor(117.1527), tensor(116.1264)]\n",
      "over\n",
      "[(39.11626054670019, 117.194779227545), (39.118387194847074, 117.1883918759825), (39.11874162835973, 117.18732720167147), (39.11813254246847, 117.17997692021879), (39.115075607779254, 117.17692027079393), (39.11382251522191, 117.16537851780299), (39.11317921854571, 117.16118745617082), (39.11395238079201, 117.15273477410578), (39.11395238079201, 117.15273477410578), (39.11536899277804, 117.14847280362595), (40.247581087749836, 116.1264489803427)]\n",
      "tensor([39.1163, 39.1184, 39.1187, 39.1181, 39.1151, 39.1138, 39.1132, 39.1140,\n",
      "        39.1140])\n",
      "tensor([117.1948, 117.1884, 117.1873, 117.1800, 117.1769, 117.1654, 117.1612,\n",
      "        117.1527, 117.1527])\n",
      "[tensor(39.1154), tensor(40.2476)]\n",
      "[tensor(117.1485), tensor(116.1264)]\n",
      "over\n",
      "[(39.118387194847074, 117.1883918759825), (39.11874162835973, 117.18732720167147), (39.11813254246847, 117.17997692021879), (39.115075607779254, 117.17692027079393), (39.11382251522191, 117.16537851780299), (39.11317921854571, 117.16118745617082), (39.11395238079201, 117.15273477410578), (39.11395238079201, 117.15273477410578), (39.11536899277804, 117.14847280362595), (39.11575530060899, 117.14424549346225), (40.285582004066995, 116.07285983821609)]\n",
      "tensor([39.1184, 39.1187, 39.1181, 39.1151, 39.1138, 39.1132, 39.1140, 39.1140,\n",
      "        39.1154])\n",
      "tensor([117.1884, 117.1873, 117.1800, 117.1769, 117.1654, 117.1612, 117.1527,\n",
      "        117.1527, 117.1485])\n",
      "[tensor(39.1158), tensor(40.2856)]\n",
      "[tensor(117.1442), tensor(116.0729)]\n",
      "over\n",
      "[(39.11874162835973, 117.18732720167147), (39.11813254246847, 117.17997692021879), (39.115075607779254, 117.17692027079393), (39.11382251522191, 117.16537851780299), (39.11317921854571, 117.16118745617082), (39.11395238079201, 117.15273477410578), (39.11395238079201, 117.15273477410578), (39.11536899277804, 117.14847280362595), (39.11575530060899, 117.14424549346225), (39.11507915776656, 117.14321501840473), (40.239505571548214, 116.12908055888796)]\n",
      "tensor([39.1187, 39.1181, 39.1151, 39.1138, 39.1132, 39.1140, 39.1140, 39.1154,\n",
      "        39.1158])\n",
      "tensor([117.1873, 117.1800, 117.1769, 117.1654, 117.1612, 117.1527, 117.1527,\n",
      "        117.1485, 117.1442])\n",
      "[tensor(39.1151), tensor(40.2395)]\n",
      "[tensor(117.1432), tensor(116.1291)]\n",
      "over\n",
      "[(39.11813254246847, 117.17997692021879), (39.115075607779254, 117.17692027079393), (39.11382251522191, 117.16537851780299), (39.11317921854571, 117.16118745617082), (39.11395238079201, 117.15273477410578), (39.11395238079201, 117.15273477410578), (39.11536899277804, 117.14847280362595), (39.11575530060899, 117.14424549346225), (39.11507915776656, 117.14321501840473), (39.10889779465725, 117.14342625004193), (40.20090981811669, 116.17491826410459)]\n",
      "tensor([39.1181, 39.1151, 39.1138, 39.1132, 39.1140, 39.1140, 39.1154, 39.1158,\n",
      "        39.1151])\n",
      "tensor([117.1800, 117.1769, 117.1654, 117.1612, 117.1527, 117.1527, 117.1485,\n",
      "        117.1442, 117.1432])\n",
      "[tensor(39.1089), tensor(40.2009)]\n",
      "[tensor(117.1434), tensor(116.1749)]\n",
      "over\n",
      "[(39.115075607779254, 117.17692027079393), (39.11382251522191, 117.16537851780299), (39.11317921854571, 117.16118745617082), (39.11395238079201, 117.15273477410578), (39.11395238079201, 117.15273477410578), (39.11536899277804, 117.14847280362595), (39.11575530060899, 117.14424549346225), (39.11507915776656, 117.14321501840473), (39.10889779465725, 117.14342625004193), (39.10410095711934, 117.14253678548747), (40.20090981811669, 116.17491826410459)]\n",
      "tensor([39.1151, 39.1138, 39.1132, 39.1140, 39.1140, 39.1154, 39.1158, 39.1151,\n",
      "        39.1089])\n",
      "tensor([117.1769, 117.1654, 117.1612, 117.1527, 117.1527, 117.1485, 117.1442,\n",
      "        117.1432, 117.1434])\n",
      "[tensor(39.1041), tensor(40.2009)]\n",
      "[tensor(117.1425), tensor(116.1749)]\n",
      "over\n",
      "[(39.11382251522191, 117.16537851780299), (39.11317921854571, 117.16118745617082), (39.11395238079201, 117.15273477410578), (39.11395238079201, 117.15273477410578), (39.11536899277804, 117.14847280362595), (39.11575530060899, 117.14424549346225), (39.11507915776656, 117.14321501840473), (39.10889779465725, 117.14342625004193), (39.10410095711934, 117.14253678548747), (39.10410095711934, 117.14253678548747), (40.239505571548214, 116.12908055888796)]\n",
      "tensor([39.1138, 39.1132, 39.1140, 39.1140, 39.1154, 39.1158, 39.1151, 39.1089,\n",
      "        39.1041])\n",
      "tensor([117.1654, 117.1612, 117.1527, 117.1527, 117.1485, 117.1442, 117.1432,\n",
      "        117.1434, 117.1425])\n",
      "[tensor(39.1041), tensor(40.2395)]\n",
      "[tensor(117.1425), tensor(116.1291)]\n",
      "over\n",
      "[(39.11317921854571, 117.16118745617082), (39.11395238079201, 117.15273477410578), (39.11395238079201, 117.15273477410578), (39.11536899277804, 117.14847280362595), (39.11575530060899, 117.14424549346225), (39.11507915776656, 117.14321501840473), (39.10889779465725, 117.14342625004193), (39.10410095711934, 117.14253678548747), (39.10410095711934, 117.14253678548747), (39.094830130333655, 117.14285367181665), (40.247581087749836, 116.1264489803427)]\n",
      "tensor([39.1132, 39.1140, 39.1140, 39.1154, 39.1158, 39.1151, 39.1089, 39.1041,\n",
      "        39.1041])\n",
      "tensor([117.1612, 117.1527, 117.1527, 117.1485, 117.1442, 117.1432, 117.1434,\n",
      "        117.1425, 117.1425])\n",
      "[tensor(39.0948), tensor(40.2476)]\n",
      "[tensor(117.1429), tensor(116.1264)]\n",
      "over\n",
      "[(39.11395238079201, 117.15273477410578), (39.11395238079201, 117.15273477410578), (39.11536899277804, 117.14847280362595), (39.11575530060899, 117.14424549346225), (39.11507915776656, 117.14321501840473), (39.10889779465725, 117.14342625004193), (39.10410095711934, 117.14253678548747), (39.10410095711934, 117.14253678548747), (39.094830130333655, 117.14285367181665), (39.09138624479489, 117.14402445949567), (40.21731845384066, 116.14342059179461)]\n",
      "tensor([39.1140, 39.1140, 39.1154, 39.1158, 39.1151, 39.1089, 39.1041, 39.1041,\n",
      "        39.0948])\n",
      "tensor([117.1527, 117.1527, 117.1485, 117.1442, 117.1432, 117.1434, 117.1425,\n",
      "        117.1425, 117.1429])\n",
      "[tensor(39.0914), tensor(40.2173)]\n",
      "[tensor(117.1440), tensor(116.1434)]\n",
      "over\n",
      "[(39.11395238079201, 117.15273477410578), (39.11536899277804, 117.14847280362595), (39.11575530060899, 117.14424549346225), (39.11507915776656, 117.14321501840473), (39.10889779465725, 117.14342625004193), (39.10410095711934, 117.14253678548747), (39.10410095711934, 117.14253678548747), (39.094830130333655, 117.14285367181665), (39.09138624479489, 117.14402445949567), (39.09035626010759, 117.14405963539484), (40.230873505736604, 116.11751679404945)]\n",
      "tensor([39.1140, 39.1154, 39.1158, 39.1151, 39.1089, 39.1041, 39.1041, 39.0948,\n",
      "        39.0914])\n",
      "tensor([117.1527, 117.1485, 117.1442, 117.1432, 117.1434, 117.1425, 117.1425,\n",
      "        117.1429, 117.1440])\n",
      "[tensor(39.0904), tensor(40.2309)]\n",
      "[tensor(117.1441), tensor(116.1175)]\n",
      "over\n",
      "[(39.11536899277804, 117.14847280362595), (39.11575530060899, 117.14424549346225), (39.11507915776656, 117.14321501840473), (39.10889779465725, 117.14342625004193), (39.10410095711934, 117.14253678548747), (39.10410095711934, 117.14253678548747), (39.094830130333655, 117.14285367181665), (39.09138624479489, 117.14402445949567), (39.09035626010759, 117.14405963539484), (39.09138624479489, 117.14402445949567), (40.21731845384066, 116.14342059179461)]\n",
      "tensor([39.1154, 39.1158, 39.1151, 39.1089, 39.1041, 39.1041, 39.0948, 39.0914,\n",
      "        39.0904])\n",
      "tensor([117.1485, 117.1442, 117.1432, 117.1434, 117.1425, 117.1425, 117.1429,\n",
      "        117.1440, 117.1441])\n",
      "[tensor(39.0914), tensor(40.2173)]\n",
      "[tensor(117.1440), tensor(116.1434)]\n",
      "over\n",
      "[(39.11575530060899, 117.14424549346225), (39.11507915776656, 117.14321501840473), (39.10889779465725, 117.14342625004193), (39.10410095711934, 117.14253678548747), (39.10410095711934, 117.14253678548747), (39.094830130333655, 117.14285367181665), (39.09138624479489, 117.14402445949567), (39.09035626010759, 117.14405963539484), (39.09138624479489, 117.14402445949567), (39.09174006770357, 117.14295927479246), (40.230873505736604, 116.11751679404945)]\n",
      "tensor([39.1158, 39.1151, 39.1089, 39.1041, 39.1041, 39.0948, 39.0914, 39.0904,\n",
      "        39.0914])\n",
      "tensor([117.1442, 117.1432, 117.1434, 117.1425, 117.1425, 117.1429, 117.1440,\n",
      "        117.1441, 117.1440])\n",
      "[tensor(39.0917), tensor(40.2309)]\n",
      "[tensor(117.1430), tensor(116.1175)]\n",
      "over\n",
      "[(39.11507915776656, 117.14321501840473), (39.10889779465725, 117.14342625004193), (39.10410095711934, 117.14253678548747), (39.10410095711934, 117.14253678548747), (39.094830130333655, 117.14285367181665), (39.09138624479489, 117.14402445949567), (39.09035626010759, 117.14405963539484), (39.09138624479489, 117.14402445949567), (39.09174006770357, 117.14295927479246), (39.09344624967016, 117.14395410340126), (40.239505571548214, 116.12908055888796)]\n",
      "tensor([39.1151, 39.1089, 39.1041, 39.1041, 39.0948, 39.0914, 39.0904, 39.0914,\n",
      "        39.0917])\n",
      "tensor([117.1432, 117.1434, 117.1425, 117.1425, 117.1429, 117.1440, 117.1441,\n",
      "        117.1440, 117.1430])\n",
      "[tensor(39.0934), tensor(40.2395)]\n",
      "[tensor(117.1440), tensor(116.1291)]\n",
      "over\n",
      "[(39.10889779465725, 117.14342625004193), (39.10410095711934, 117.14253678548747), (39.10410095711934, 117.14253678548747), (39.094830130333655, 117.14285367181665), (39.09138624479489, 117.14402445949567), (39.09035626010759, 117.14405963539484), (39.09138624479489, 117.14402445949567), (39.09174006770357, 117.14295927479246), (39.09344624967016, 117.14395410340126), (39.10374698393871, 117.1436022369844), (40.239505571548214, 116.12908055888796)]\n",
      "tensor([39.1089, 39.1041, 39.1041, 39.0948, 39.0914, 39.0904, 39.0914, 39.0917,\n",
      "        39.0934])\n",
      "tensor([117.1434, 117.1425, 117.1425, 117.1429, 117.1440, 117.1441, 117.1440,\n",
      "        117.1430, 117.1440])\n",
      "[tensor(39.1037), tensor(40.2395)]\n",
      "[tensor(117.1436), tensor(116.1291)]\n",
      "over\n",
      "[(39.10410095711934, 117.14253678548747), (39.10410095711934, 117.14253678548747), (39.094830130333655, 117.14285367181665), (39.09138624479489, 117.14402445949567), (39.09035626010759, 117.14405963539484), (39.09138624479489, 117.14402445949567), (39.09174006770357, 117.14295927479246), (39.09344624967016, 117.14395410340126), (39.10374698393871, 117.1436022369844), (39.10683743488911, 117.14349664911876), (40.21731845384066, 116.14342059179461)]\n",
      "tensor([39.1041, 39.1041, 39.0948, 39.0914, 39.0904, 39.0914, 39.0917, 39.0934,\n",
      "        39.1037])\n",
      "tensor([117.1425, 117.1425, 117.1429, 117.1440, 117.1441, 117.1440, 117.1430,\n",
      "        117.1440, 117.1436])\n",
      "[tensor(39.1068), tensor(40.2173)]\n",
      "[tensor(117.1435), tensor(116.1434)]\n",
      "over\n",
      "[(39.10410095711934, 117.14253678548747), (39.094830130333655, 117.14285367181665), (39.09138624479489, 117.14402445949567), (39.09035626010759, 117.14405963539484), (39.09138624479489, 117.14402445949567), (39.09174006770357, 117.14295927479246), (39.09344624967016, 117.14395410340126), (39.10374698393871, 117.1436022369844), (39.10683743488911, 117.14349664911876), (39.10580727274495, 117.14353184650719), (40.247581087749836, 116.1264489803427)]\n",
      "tensor([39.1041, 39.0948, 39.0914, 39.0904, 39.0914, 39.0917, 39.0934, 39.1037,\n",
      "        39.1068])\n",
      "tensor([117.1425, 117.1429, 117.1440, 117.1441, 117.1440, 117.1430, 117.1440,\n",
      "        117.1436, 117.1435])\n",
      "[tensor(39.1058), tensor(40.2476)]\n",
      "[tensor(117.1435), tensor(116.1264)]\n",
      "over\n",
      "[(39.094830130333655, 117.14285367181665), (39.09138624479489, 117.14402445949567), (39.09035626010759, 117.14405963539484), (39.09138624479489, 117.14402445949567), (39.09174006770357, 117.14295927479246), (39.09344624967016, 117.14395410340126), (39.10374698393871, 117.1436022369844), (39.10683743488911, 117.14349664911876), (39.10580727274495, 117.14353184650719), (39.10683743488911, 117.14349664911876), (40.20090981811669, 116.17491826410459)]\n",
      "tensor([39.0948, 39.0914, 39.0904, 39.0914, 39.0917, 39.0934, 39.1037, 39.1068,\n",
      "        39.1058])\n",
      "tensor([117.1429, 117.1440, 117.1441, 117.1440, 117.1430, 117.1440, 117.1436,\n",
      "        117.1435, 117.1435])\n",
      "[tensor(39.1068), tensor(40.2009)]\n",
      "[tensor(117.1435), tensor(116.1749)]\n",
      "over\n",
      "[(39.09138624479489, 117.14402445949567), (39.09035626010759, 117.14405963539484), (39.09138624479489, 117.14402445949567), (39.09174006770357, 117.14295927479246), (39.09344624967016, 117.14395410340126), (39.10374698393871, 117.1436022369844), (39.10683743488911, 117.14349664911876), (39.10580727274495, 117.14353184650719), (39.10683743488911, 117.14349664911876), (39.108221632131674, 117.14239590983918), (40.20090981811669, 116.17491826410459)]\n",
      "tensor([39.0914, 39.0904, 39.0914, 39.0917, 39.0934, 39.1037, 39.1068, 39.1058,\n",
      "        39.1068])\n",
      "tensor([117.1440, 117.1441, 117.1440, 117.1430, 117.1440, 117.1436, 117.1435,\n",
      "        117.1435, 117.1435])\n",
      "[tensor(39.1082), tensor(40.2009)]\n",
      "[tensor(117.1424), tensor(116.1749)]\n",
      "over\n",
      "[(39.09035626010759, 117.14405963539484), (39.09138624479489, 117.14402445949567), (39.09174006770357, 117.14295927479246), (39.09344624967016, 117.14395410340126), (39.10374698393871, 117.1436022369844), (39.10683743488911, 117.14349664911876), (39.10580727274495, 117.14353184650719), (39.10683743488911, 117.14349664911876), (39.108221632131674, 117.14239590983918), (39.113018656099676, 117.14328543468557), (39.98317160504538, 116.33765470960265)]\n",
      "tensor([39.0904, 39.0914, 39.0917, 39.0934, 39.1037, 39.1068, 39.1058, 39.1068,\n",
      "        39.1082])\n",
      "tensor([117.1441, 117.1440, 117.1430, 117.1440, 117.1436, 117.1435, 117.1435,\n",
      "        117.1435, 117.1424])\n",
      "[tensor(39.1130), tensor(39.9832)]\n",
      "[tensor(117.1433), tensor(116.3377)]\n",
      "over\n",
      "[(39.09138624479489, 117.14402445949567), (39.09174006770357, 117.14295927479246), (39.09344624967016, 117.14395410340126), (39.10374698393871, 117.1436022369844), (39.10683743488911, 117.14349664911876), (39.10580727274495, 117.14353184650719), (39.10683743488911, 117.14349664911876), (39.108221632131674, 117.14239590983918), (39.113018656099676, 117.14328543468557), (39.115723140106574, 117.14740722832661), (39.94405222855523, 116.3472202799445)]\n",
      "tensor([39.0914, 39.0917, 39.0934, 39.1037, 39.1068, 39.1058, 39.1068, 39.1082,\n",
      "        39.1130])\n",
      "tensor([117.1440, 117.1430, 117.1440, 117.1436, 117.1435, 117.1435, 117.1435,\n",
      "        117.1424, 117.1433])\n",
      "[tensor(39.1157), tensor(39.9441)]\n",
      "[tensor(117.1474), tensor(116.3472)]\n",
      "over\n",
      "[(39.09174006770357, 117.14295927479246), (39.09344624967016, 117.14395410340126), (39.10374698393871, 117.1436022369844), (39.10683743488911, 117.14349664911876), (39.10580727274495, 117.14353184650719), (39.10683743488911, 117.14349664911876), (39.108221632131674, 117.14239590983918), (39.113018656099676, 117.14328543468557), (39.115723140106574, 117.14740722832661), (39.11466069131786, 117.15060385500773), (40.239505571548214, 116.12908055888796)]\n",
      "tensor([39.0917, 39.0934, 39.1037, 39.1068, 39.1058, 39.1068, 39.1082, 39.1130,\n",
      "        39.1157])\n",
      "tensor([117.1430, 117.1440, 117.1436, 117.1435, 117.1435, 117.1435, 117.1424,\n",
      "        117.1433, 117.1474])\n",
      "[tensor(39.1147), tensor(40.2395)]\n",
      "[tensor(117.1506), tensor(116.1291)]\n",
      "over\n",
      "[(39.09344624967016, 117.14395410340126), (39.10374698393871, 117.1436022369844), (39.10683743488911, 117.14349664911876), (39.10580727274495, 117.14353184650719), (39.10683743488911, 117.14349664911876), (39.108221632131674, 117.14239590983918), (39.113018656099676, 117.14328543468557), (39.115723140106574, 117.14740722832661), (39.11466069131786, 117.15060385500773), (39.11395238079201, 117.15273477410578), (40.20090981811669, 116.17491826410459)]\n",
      "tensor([39.0934, 39.1037, 39.1068, 39.1058, 39.1068, 39.1082, 39.1130, 39.1157,\n",
      "        39.1147])\n",
      "tensor([117.1440, 117.1436, 117.1435, 117.1435, 117.1435, 117.1424, 117.1433,\n",
      "        117.1474, 117.1506])\n",
      "[tensor(39.1140), tensor(40.2009)]\n",
      "[tensor(117.1527), tensor(116.1749)]\n",
      "over\n",
      "[(39.10374698393871, 117.1436022369844), (39.10683743488911, 117.14349664911876), (39.10580727274495, 117.14353184650719), (39.10683743488911, 117.14349664911876), (39.108221632131674, 117.14239590983918), (39.113018656099676, 117.14328543468557), (39.115723140106574, 117.14740722832661), (39.11466069131786, 117.15060385500773), (39.11395238079201, 117.15273477410578), (39.11285749922079, 117.15909185820419), (40.285582004066995, 116.07285983821609)]\n",
      "tensor([39.1037, 39.1068, 39.1058, 39.1068, 39.1082, 39.1130, 39.1157, 39.1147,\n",
      "        39.1140])\n",
      "tensor([117.1436, 117.1435, 117.1435, 117.1435, 117.1424, 117.1433, 117.1474,\n",
      "        117.1506, 117.1527])\n",
      "[tensor(39.1129), tensor(40.2856)]\n",
      "[tensor(117.1591), tensor(116.0729)]\n",
      "over\n",
      "[(39.10683743488911, 117.14349664911876), (39.10580727274495, 117.14353184650719), (39.10683743488911, 117.14349664911876), (39.108221632131674, 117.14239590983918), (39.113018656099676, 117.14328543468557), (39.115723140106574, 117.14740722832661), (39.11466069131786, 117.15060385500773), (39.11395238079201, 117.15273477410578), (39.11285749922079, 117.15909185820419), (39.1127598007754, 117.16857372481024), (40.35092827535528, 116.02088328344657)]\n",
      "tensor([39.1068, 39.1058, 39.1068, 39.1082, 39.1130, 39.1157, 39.1147, 39.1140,\n",
      "        39.1129])\n",
      "tensor([117.1435, 117.1435, 117.1435, 117.1424, 117.1433, 117.1474, 117.1506,\n",
      "        117.1527, 117.1591])\n",
      "[tensor(39.1128), tensor(40.3509)]\n",
      "[tensor(117.1686), tensor(116.0209)]\n",
      "over\n",
      "[(39.10580727274495, 117.14353184650719), (39.10683743488911, 117.14349664911876), (39.108221632131674, 117.14239590983918), (39.113018656099676, 117.14328543468557), (39.115723140106574, 117.14740722832661), (39.11466069131786, 117.15060385500773), (39.11395238079201, 117.15273477410578), (39.11285749922079, 117.15909185820419), (39.1127598007754, 117.16857372481024), (39.11340280594391, 117.17276434391295), (40.151714292370386, 116.23430600338001)]\n",
      "tensor([39.1058, 39.1068, 39.1082, 39.1130, 39.1157, 39.1147, 39.1140, 39.1129,\n",
      "        39.1128])\n",
      "tensor([117.1435, 117.1435, 117.1424, 117.1433, 117.1474, 117.1506, 117.1527,\n",
      "        117.1591, 117.1686])\n",
      "[tensor(39.1134), tensor(40.1517)]\n",
      "[tensor(117.1728), tensor(116.2343)]\n",
      "over\n",
      "[(39.10683743488911, 117.14349664911876), (39.108221632131674, 117.14239590983918), (39.113018656099676, 117.14328543468557), (39.115723140106574, 117.14740722832661), (39.11466069131786, 117.15060385500773), (39.11395238079201, 117.15273477410578), (39.11285749922079, 117.15909185820419), (39.1127598007754, 117.16857372481024), (39.11340280594391, 117.17276434391295), (39.115075607779254, 117.17692027079393), (40.43520562640392, 115.97754634550735)]\n",
      "tensor([39.1068, 39.1082, 39.1130, 39.1157, 39.1147, 39.1140, 39.1129, 39.1128,\n",
      "        39.1134])\n",
      "tensor([117.1435, 117.1424, 117.1433, 117.1474, 117.1506, 117.1527, 117.1591,\n",
      "        117.1686, 117.1728])\n",
      "[tensor(39.1151), tensor(40.4352)]\n",
      "[tensor(117.1769), tensor(115.9775)]\n",
      "over\n",
      "[(39.108221632131674, 117.14239590983918), (39.113018656099676, 117.14328543468557), (39.115723140106574, 117.14740722832661), (39.11466069131786, 117.15060385500773), (39.11395238079201, 117.15273477410578), (39.11285749922079, 117.15909185820419), (39.1127598007754, 117.16857372481024), (39.11340280594391, 117.17276434391295), (39.115075607779254, 117.17692027079393), (39.11710254689329, 117.18001137226908), (40.17260164720138, 116.20810529199224)]\n",
      "tensor([39.1082, 39.1130, 39.1157, 39.1147, 39.1140, 39.1129, 39.1128, 39.1134,\n",
      "        39.1151])\n",
      "tensor([117.1424, 117.1433, 117.1474, 117.1506, 117.1527, 117.1591, 117.1686,\n",
      "        117.1728, 117.1769])\n",
      "[tensor(39.1171), tensor(40.1726)]\n",
      "[tensor(117.1800), tensor(116.2081)]\n",
      "over\n",
      "[(39.113018656099676, 117.14328543468557), (39.115723140106574, 117.14740722832661), (39.11466069131786, 117.15060385500773), (39.11395238079201, 117.15273477410578), (39.11285749922079, 117.15909185820419), (39.1127598007754, 117.16857372481024), (39.11340280594391, 117.17276434391295), (39.115075607779254, 117.17692027079393), (39.11710254689329, 117.18001137226908), (39.119129346543964, 117.18310256339026), (39.975489908119705, 116.33912778354768)]\n",
      "tensor([39.1130, 39.1157, 39.1147, 39.1140, 39.1129, 39.1128, 39.1134, 39.1151,\n",
      "        39.1171])\n",
      "tensor([117.1433, 117.1474, 117.1506, 117.1527, 117.1591, 117.1686, 117.1728,\n",
      "        117.1769, 117.1800])\n",
      "[tensor(39.1191), tensor(39.9755)]\n",
      "[tensor(117.1831), tensor(116.3391)]\n",
      "over\n",
      "[(39.115723140106574, 117.14740722832661), (39.11466069131786, 117.15060385500773), (39.11395238079201, 117.15273477410578), (39.11285749922079, 117.15909185820419), (39.1127598007754, 117.16857372481024), (39.11340280594391, 117.17276434391295), (39.115075607779254, 117.17692027079393), (39.11710254689329, 117.18001137226908), (39.119129346543964, 117.18310256339026), (39.118066103805376, 117.18629681727609), (40.43451459331309, 115.97648531343592)]\n",
      "tensor([39.1157, 39.1147, 39.1140, 39.1129, 39.1128, 39.1134, 39.1151, 39.1171,\n",
      "        39.1191])\n",
      "tensor([117.1474, 117.1506, 117.1527, 117.1591, 117.1686, 117.1728, 117.1769,\n",
      "        117.1800, 117.1831])\n",
      "[tensor(39.1181), tensor(40.4345)]\n",
      "[tensor(117.1863), tensor(115.9765)]\n",
      "over\n",
      "[(39.11466069131786, 117.15060385500773), (39.11395238079201, 117.15273477410578), (39.11285749922079, 117.15909185820419), (39.1127598007754, 117.16857372481024), (39.11340280594391, 117.17276434391295), (39.115075607779254, 117.17692027079393), (39.11710254689329, 117.18001137226908), (39.119129346543964, 117.18310256339026), (39.118066103805376, 117.18629681727609), (39.11803275909171, 117.18945651723017), (40.4155861615499, 115.93904724436425)]\n",
      "tensor([39.1147, 39.1140, 39.1129, 39.1128, 39.1134, 39.1151, 39.1171, 39.1191,\n",
      "        39.1181])\n",
      "tensor([117.1506, 117.1527, 117.1591, 117.1686, 117.1728, 117.1769, 117.1800,\n",
      "        117.1831, 117.1863])\n",
      "[tensor(39.1180), tensor(40.4156)]\n",
      "[tensor(117.1895), tensor(115.9390)]\n",
      "over\n",
      "[(39.11395238079201, 117.15273477410578), (39.11285749922079, 117.15909185820419), (39.1127598007754, 117.16857372481024), (39.11340280594391, 117.17276434391295), (39.115075607779254, 117.17692027079393), (39.11710254689329, 117.18001137226908), (39.119129346543964, 117.18310256339026), (39.118066103805376, 117.18629681727609), (39.11803275909171, 117.18945651723017), (39.11693595232873, 117.19580954588828), (40.230873505736604, 116.11751679404945)]\n",
      "tensor([39.1140, 39.1129, 39.1128, 39.1134, 39.1151, 39.1171, 39.1191, 39.1181,\n",
      "        39.1180])\n",
      "tensor([117.1527, 117.1591, 117.1686, 117.1728, 117.1769, 117.1800, 117.1831,\n",
      "        117.1863, 117.1895])\n",
      "[tensor(39.1169), tensor(40.2309)]\n",
      "[tensor(117.1958), tensor(116.1175)]\n",
      "over\n",
      "[(39.11285749922079, 117.15909185820419), (39.1127598007754, 117.16857372481024), (39.11340280594391, 117.17276434391295), (39.115075607779254, 117.17692027079393), (39.11710254689329, 117.18001137226908), (39.119129346543964, 117.18310256339026), (39.118066103805376, 117.18629681727609), (39.11803275909171, 117.18945651723017), (39.11693595232873, 117.19580954588828), (39.11761134246136, 117.19683987418011), (40.230873505736604, 116.11751679404945)]\n",
      "tensor([39.1129, 39.1128, 39.1134, 39.1151, 39.1171, 39.1191, 39.1181, 39.1180,\n",
      "        39.1169])\n",
      "tensor([117.1591, 117.1686, 117.1728, 117.1769, 117.1800, 117.1831, 117.1863,\n",
      "        117.1895, 117.1958])\n",
      "[tensor(39.1176), tensor(40.2309)]\n",
      "[tensor(117.1968), tensor(116.1175)]\n",
      "over\n",
      "[(39.1127598007754, 117.16857372481024), (39.11340280594391, 117.17276434391295), (39.115075607779254, 117.17692027079393), (39.11710254689329, 117.18001137226908), (39.119129346543964, 117.18310256339026), (39.118066103805376, 117.18629681727609), (39.11803275909171, 117.18945651723017), (39.11693595232873, 117.19580954588828), (39.11761134246136, 117.19683987418011), (39.12070097564425, 117.19673755465367), (40.230873505736604, 116.11751679404945)]\n",
      "tensor([39.1128, 39.1134, 39.1151, 39.1171, 39.1191, 39.1181, 39.1180, 39.1169,\n",
      "        39.1176])\n",
      "tensor([117.1686, 117.1728, 117.1769, 117.1800, 117.1831, 117.1863, 117.1895,\n",
      "        117.1958, 117.1968])\n",
      "[tensor(39.1207), tensor(40.2309)]\n",
      "[tensor(117.1967), tensor(116.1175)]\n",
      "over\n",
      "[(39.11340280594391, 117.17276434391295), (39.115075607779254, 117.17692027079393), (39.11710254689329, 117.18001137226908), (39.119129346543964, 117.18310256339026), (39.118066103805376, 117.18629681727609), (39.11803275909171, 117.18945651723017), (39.11693595232873, 117.19580954588828), (39.11761134246136, 117.19683987418011), (39.12070097564425, 117.19673755465367), (39.12272704653782, 117.19982878651905), (40.247581087749836, 116.1264489803427)]\n",
      "tensor([39.1134, 39.1151, 39.1171, 39.1191, 39.1181, 39.1180, 39.1169, 39.1176,\n",
      "        39.1207])\n",
      "tensor([117.1728, 117.1769, 117.1800, 117.1831, 117.1863, 117.1895, 117.1958,\n",
      "        117.1968, 117.1967])\n",
      "[tensor(39.1227), tensor(40.2476)]\n",
      "[tensor(117.1998), tensor(116.1264)]\n",
      "over\n",
      "[(39.115075607779254, 117.17692027079393), (39.11710254689329, 117.18001137226908), (39.119129346543964, 117.18310256339026), (39.118066103805376, 117.18629681727609), (39.11803275909171, 117.18945651723017), (39.11693595232873, 117.19580954588828), (39.11761134246136, 117.19683987418011), (39.12070097564425, 117.19673755465367), (39.12272704653782, 117.19982878651905), (39.12407768296717, 117.20188965750233), (40.21731845384066, 116.14342059179461)]\n",
      "tensor([39.1151, 39.1171, 39.1191, 39.1181, 39.1180, 39.1169, 39.1176, 39.1207,\n",
      "        39.1227])\n",
      "tensor([117.1769, 117.1800, 117.1831, 117.1863, 117.1895, 117.1958, 117.1968,\n",
      "        117.1967, 117.1998])\n",
      "[tensor(39.1241), tensor(40.2173)]\n",
      "[tensor(117.2019), tensor(116.1434)]\n",
      "over\n",
      "[(39.11710254689329, 117.18001137226908), (39.119129346543964, 117.18310256339026), (39.118066103805376, 117.18629681727609), (39.11803275909171, 117.18945651723017), (39.11693595232873, 117.19580954588828), (39.11761134246136, 117.19683987418011), (39.12070097564425, 117.19673755465367), (39.12272704653782, 117.19982878651905), (39.12407768296717, 117.20188965750233), (39.12581677948983, 117.19972664181992), (40.20090981811669, 116.17491826410459)]\n",
      "tensor([39.1171, 39.1191, 39.1181, 39.1180, 39.1169, 39.1176, 39.1207, 39.1227,\n",
      "        39.1241])\n",
      "tensor([117.1800, 117.1831, 117.1863, 117.1895, 117.1958, 117.1968, 117.1967,\n",
      "        117.1998, 117.2019])\n",
      "[tensor(39.1258), tensor(40.2009)]\n",
      "[tensor(117.1997), tensor(116.1749)]\n",
      "over\n",
      "[(39.119129346543964, 117.18310256339026), (39.118066103805376, 117.18629681727609), (39.11803275909171, 117.18945651723017), (39.11693595232873, 117.19580954588828), (39.11761134246136, 117.19683987418011), (39.12070097564425, 117.19673755465367), (39.12272704653782, 117.19982878651905), (39.12407768296717, 117.20188965750233), (39.12581677948983, 117.19972664181992), (39.129970512978566, 117.19643052107179), (40.230873505736604, 116.11751679404945)]\n",
      "tensor([39.1191, 39.1181, 39.1180, 39.1169, 39.1176, 39.1207, 39.1227, 39.1241,\n",
      "        39.1258])\n",
      "tensor([117.1831, 117.1863, 117.1895, 117.1958, 117.1968, 117.1967, 117.1998,\n",
      "        117.2019, 117.1997])\n",
      "[tensor(39.1300), tensor(40.2309)]\n",
      "[tensor(117.1964), tensor(116.1175)]\n",
      "over\n",
      "[(39.118066103805376, 117.18629681727609), (39.11803275909171, 117.18945651723017), (39.11693595232873, 117.19580954588828), (39.11761134246136, 117.19683987418011), (39.12070097564425, 117.19673755465367), (39.12272704653782, 117.19982878651905), (39.12407768296717, 117.20188965750233), (39.12581677948983, 117.19972664181992), (39.129970512978566, 117.19643052107179), (39.1344112832647, 117.19838946245339), (40.247581087749836, 116.1264489803427)]\n",
      "tensor([39.1181, 39.1180, 39.1169, 39.1176, 39.1207, 39.1227, 39.1241, 39.1258,\n",
      "        39.1300])\n",
      "tensor([117.1863, 117.1895, 117.1958, 117.1968, 117.1967, 117.1998, 117.2019,\n",
      "        117.1997, 117.1964])\n",
      "[tensor(39.1344), tensor(40.2476)]\n",
      "[tensor(117.1984), tensor(116.1264)]\n",
      "over\n",
      "[(39.11803275909171, 117.18945651723017), (39.11693595232873, 117.19580954588828), (39.11761134246136, 117.19683987418011), (39.12070097564425, 117.19673755465367), (39.12272704653782, 117.19982878651905), (39.12407768296717, 117.20188965750233), (39.12581677948983, 117.19972664181992), (39.129970512978566, 117.19643052107179), (39.1344112832647, 117.19838946245339), (39.13508661597943, 117.19942013284243), (40.247581087749836, 116.1264489803427)]\n",
      "tensor([39.1180, 39.1169, 39.1176, 39.1207, 39.1227, 39.1241, 39.1258, 39.1300,\n",
      "        39.1344])\n",
      "tensor([117.1895, 117.1958, 117.1968, 117.1967, 117.1998, 117.2019, 117.1997,\n",
      "        117.1964, 117.1984])\n",
      "[tensor(39.1351), tensor(40.2476)]\n",
      "[tensor(117.1994), tensor(116.1264)]\n",
      "over\n",
      "[(39.11693595232873, 117.19580954588828), (39.11761134246136, 117.19683987418011), (39.12070097564425, 117.19673755465367), (39.12272704653782, 117.19982878651905), (39.12407768296717, 117.20188965750233), (39.12581677948983, 117.19972664181992), (39.129970512978566, 117.19643052107179), (39.1344112832647, 117.19838946245339), (39.13508661597943, 117.19942013284243), (39.134056586921936, 117.19945419494341), (40.239505571548214, 116.12908055888796)]\n",
      "tensor([39.1169, 39.1176, 39.1207, 39.1227, 39.1241, 39.1258, 39.1300, 39.1344,\n",
      "        39.1351])\n",
      "tensor([117.1958, 117.1968, 117.1967, 117.1998, 117.2019, 117.1997, 117.1964,\n",
      "        117.1984, 117.1994])\n",
      "[tensor(39.1341), tensor(40.2395)]\n",
      "[tensor(117.1995), tensor(116.1291)]\n",
      "over\n",
      "[(39.11761134246136, 117.19683987418011), (39.12070097564425, 117.19673755465367), (39.12272704653782, 117.19982878651905), (39.12407768296717, 117.20188965750233), (39.12581677948983, 117.19972664181992), (39.129970512978566, 117.19643052107179), (39.1344112832647, 117.19838946245339), (39.13508661597943, 117.19942013284243), (39.134056586921936, 117.19945419494341), (39.1347319048602, 117.20048485446203), (40.239505571548214, 116.12908055888796)]\n",
      "tensor([39.1176, 39.1207, 39.1227, 39.1241, 39.1258, 39.1300, 39.1344, 39.1351,\n",
      "        39.1341])\n",
      "tensor([117.1968, 117.1967, 117.1998, 117.2019, 117.1997, 117.1964, 117.1984,\n",
      "        117.1994, 117.1995])\n",
      "[tensor(39.1347), tensor(40.2395)]\n",
      "[tensor(117.2005), tensor(116.1291)]\n",
      "over\n",
      "[(39.12070097564425, 117.19673755465367), (39.12272704653782, 117.19982878651905), (39.12407768296717, 117.20188965750233), (39.12581677948983, 117.19972664181992), (39.129970512978566, 117.19643052107179), (39.1344112832647, 117.19838946245339), (39.13508661597943, 117.19942013284243), (39.134056586921936, 117.19945419494341), (39.1347319048602, 117.20048485446203), (39.13334718751979, 117.20158356068417), (40.21731845384066, 116.14342059179461)]\n",
      "tensor([39.1207, 39.1227, 39.1241, 39.1258, 39.1300, 39.1344, 39.1351, 39.1341,\n",
      "        39.1347])\n",
      "tensor([117.1967, 117.1998, 117.2019, 117.1997, 117.1964, 117.1984, 117.1994,\n",
      "        117.1995, 117.2005])\n",
      "[tensor(39.1333), tensor(40.2173)]\n",
      "[tensor(117.2016), tensor(116.1434)]\n",
      "over\n",
      "[(39.12272704653782, 117.19982878651905), (39.12407768296717, 117.20188965750233), (39.12581677948983, 117.19972664181992), (39.129970512978566, 117.19643052107179), (39.1344112832647, 117.19838946245339), (39.13508661597943, 117.19942013284243), (39.134056586921936, 117.19945419494341), (39.1347319048602, 117.20048485446203), (39.13334718751979, 117.20158356068417), (39.13299248446197, 117.20264819393654), (40.20090981811669, 116.17491826410459)]\n",
      "tensor([39.1227, 39.1241, 39.1258, 39.1300, 39.1344, 39.1351, 39.1341, 39.1347,\n",
      "        39.1333])\n",
      "tensor([117.1998, 117.2019, 117.1997, 117.1964, 117.1984, 117.1994, 117.1995,\n",
      "        117.2005, 117.2016])\n",
      "[tensor(39.1330), tensor(40.2009)]\n",
      "[tensor(117.2027), tensor(116.1749)]\n",
      "over\n",
      "[(39.12407768296717, 117.20188965750233), (39.12581677948983, 117.19972664181992), (39.129970512978566, 117.19643052107179), (39.1344112832647, 117.19838946245339), (39.13508661597943, 117.19942013284243), (39.134056586921936, 117.19945419494341), (39.1347319048602, 117.20048485446203), (39.13334718751979, 117.20158356068417), (39.13299248446197, 117.20264819393654), (39.14769921196688, 117.20742854703494), (40.21731845384066, 116.14342059179461)]\n",
      "tensor([39.1241, 39.1258, 39.1300, 39.1344, 39.1351, 39.1341, 39.1347, 39.1333,\n",
      "        39.1330])\n",
      "tensor([117.2019, 117.1997, 117.1964, 117.1984, 117.1994, 117.1995, 117.2005,\n",
      "        117.2016, 117.2027])\n",
      "[tensor(39.1477), tensor(40.2173)]\n",
      "[tensor(117.2074), tensor(116.1434)]\n",
      "over\n",
      "[(39.12581677948983, 117.19972664181992), (39.129970512978566, 117.19643052107179), (39.1344112832647, 117.19838946245339), (39.13508661597943, 117.19942013284243), (39.134056586921936, 117.19945419494341), (39.1347319048602, 117.20048485446203), (39.13334718751979, 117.20158356068417), (39.13299248446197, 117.20264819393654), (39.14769921196688, 117.20742854703494), (39.158355958753404, 117.2060243739965), (40.21731845384066, 116.14342059179461)]\n",
      "tensor([39.1258, 39.1300, 39.1344, 39.1351, 39.1341, 39.1347, 39.1333, 39.1330,\n",
      "        39.1477])\n",
      "tensor([117.1997, 117.1964, 117.1984, 117.1994, 117.1995, 117.2005, 117.2016,\n",
      "        117.2027, 117.2074])\n",
      "[tensor(39.1584), tensor(40.2173)]\n",
      "[tensor(117.2060), tensor(116.1434)]\n",
      "over\n",
      "[(39.129970512978566, 117.19643052107179), (39.1344112832647, 117.19838946245339), (39.13508661597943, 117.19942013284243), (39.134056586921936, 117.19945419494341), (39.1347319048602, 117.20048485446203), (39.13334718751979, 117.20158356068417), (39.13299248446197, 117.20264819393654), (39.14769921196688, 117.20742854703494), (39.158355958753404, 117.2060243739965), (39.1717852724325, 117.20242083647383), (40.20090981811669, 116.17491826410459)]\n",
      "tensor([39.1300, 39.1344, 39.1351, 39.1341, 39.1347, 39.1333, 39.1330, 39.1477,\n",
      "        39.1584])\n",
      "tensor([117.1964, 117.1984, 117.1994, 117.1995, 117.2005, 117.2016, 117.2027,\n",
      "        117.2074, 117.2060])\n",
      "[tensor(39.1718), tensor(40.2009)]\n",
      "[tensor(117.2024), tensor(116.1749)]\n",
      "over\n",
      "[(39.1344112832647, 117.19838946245339), (39.13508661597943, 117.19942013284243), (39.134056586921936, 117.19945419494341), (39.1347319048602, 117.20048485446203), (39.13334718751979, 117.20158356068417), (39.13299248446197, 117.20264819393654), (39.14769921196688, 117.20742854703494), (39.158355958753404, 117.2060243739965), (39.1717852724325, 117.20242083647383), (39.185998329067004, 117.19035635409386), (40.230873505736604, 116.11751679404945)]\n",
      "tensor([39.1344, 39.1351, 39.1341, 39.1347, 39.1333, 39.1330, 39.1477, 39.1584,\n",
      "        39.1718])\n",
      "tensor([117.1984, 117.1994, 117.1995, 117.2005, 117.2016, 117.2027, 117.2074,\n",
      "        117.2060, 117.2024])\n",
      "[tensor(39.1860), tensor(40.2309)]\n",
      "[tensor(117.1904), tensor(116.1175)]\n",
      "over\n",
      "[(39.13508661597943, 117.19942013284243), (39.134056586921936, 117.19945419494341), (39.1347319048602, 117.20048485446203), (39.13334718751979, 117.20158356068417), (39.13299248446197, 117.20264819393654), (39.14769921196688, 117.20742854703494), (39.158355958753404, 117.2060243739965), (39.1717852724325, 117.20242083647383), (39.185998329067004, 117.19035635409386), (39.20405395450807, 117.17288008315397), (40.247581087749836, 116.1264489803427)]\n",
      "tensor([39.1351, 39.1341, 39.1347, 39.1333, 39.1330, 39.1477, 39.1584, 39.1718,\n",
      "        39.1860])\n",
      "tensor([117.1994, 117.1995, 117.2005, 117.2016, 117.2027, 117.2074, 117.2060,\n",
      "        117.2024, 117.1904])\n",
      "[tensor(39.2041), tensor(40.2476)]\n",
      "[tensor(117.1729), tensor(116.1264)]\n",
      "over\n",
      "[(39.134056586921936, 117.19945419494341), (39.1347319048602, 117.20048485446203), (39.13334718751979, 117.20158356068417), (39.13299248446197, 117.20264819393654), (39.14769921196688, 117.20742854703494), (39.158355958753404, 117.2060243739965), (39.1717852724325, 117.20242083647383), (39.185998329067004, 117.19035635409386), (39.20405395450807, 117.17288008315397), (39.2283038826611, 117.15517633933023), (40.21731845384066, 116.14342059179461)]\n",
      "tensor([39.1341, 39.1347, 39.1333, 39.1330, 39.1477, 39.1584, 39.1718, 39.1860,\n",
      "        39.2041])\n",
      "tensor([117.1995, 117.2005, 117.2016, 117.2027, 117.2074, 117.2060, 117.2024,\n",
      "        117.1904, 117.1729])\n",
      "[tensor(39.2283), tensor(40.2173)]\n",
      "[tensor(117.1552), tensor(116.1434)]\n",
      "over\n",
      "[(39.1347319048602, 117.20048485446203), (39.13334718751979, 117.20158356068417), (39.13299248446197, 117.20264819393654), (39.14769921196688, 117.20742854703494), (39.158355958753404, 117.2060243739965), (39.1717852724325, 117.20242083647383), (39.185998329067004, 117.19035635409386), (39.20405395450807, 117.17288008315397), (39.2283038826611, 117.15517633933023), (39.251888178220604, 117.13641751233132), (40.20090981811669, 116.17491826410459)]\n",
      "tensor([39.1347, 39.1333, 39.1330, 39.1477, 39.1584, 39.1718, 39.1860, 39.2041,\n",
      "        39.2283])\n",
      "tensor([117.2005, 117.2016, 117.2027, 117.2074, 117.2060, 117.2024, 117.1904,\n",
      "        117.1729, 117.1552])\n",
      "[tensor(39.2519), tensor(40.2009)]\n",
      "[tensor(117.1364), tensor(116.1749)]\n",
      "over\n",
      "[(39.13334718751979, 117.20158356068417), (39.13299248446197, 117.20264819393654), (39.14769921196688, 117.20742854703494), (39.158355958753404, 117.2060243739965), (39.1717852724325, 117.20242083647383), (39.185998329067004, 117.19035635409386), (39.20405395450807, 117.17288008315397), (39.2283038826611, 117.15517633933023), (39.251888178220604, 117.13641751233132), (39.27961156702229, 117.11749231399025), (40.239505571548214, 116.12908055888796)]\n",
      "tensor([39.1333, 39.1330, 39.1477, 39.1584, 39.1718, 39.1860, 39.2041, 39.2283,\n",
      "        39.2519])\n",
      "tensor([117.2016, 117.2027, 117.2074, 117.2060, 117.2024, 117.1904, 117.1729,\n",
      "        117.1552, 117.1364])\n",
      "[tensor(39.2796), tensor(40.2395)]\n",
      "[tensor(117.1175), tensor(116.1291)]\n",
      "over\n",
      "[(39.13299248446197, 117.20264819393654), (39.14769921196688, 117.20742854703494), (39.158355958753404, 117.2060243739965), (39.1717852724325, 117.20242083647383), (39.185998329067004, 117.19035635409386), (39.20405395450807, 117.17288008315397), (39.2283038826611, 117.15517633933023), (39.251888178220604, 117.13641751233132), (39.27961156702229, 117.11749231399025), (39.30425016738344, 117.09864963950209), (40.230873505736604, 116.11751679404945)]\n",
      "tensor([39.1330, 39.1477, 39.1584, 39.1718, 39.1860, 39.2041, 39.2283, 39.2519,\n",
      "        39.2796])\n",
      "tensor([117.2027, 117.2074, 117.2060, 117.2024, 117.1904, 117.1729, 117.1552,\n",
      "        117.1364, 117.1175])\n",
      "[tensor(39.3042), tensor(40.2309)]\n",
      "[tensor(117.0986), tensor(116.1175)]\n",
      "over\n",
      "[(39.14769921196688, 117.20742854703494), (39.158355958753404, 117.2060243739965), (39.1717852724325, 117.20242083647383), (39.185998329067004, 117.19035635409386), (39.20405395450807, 117.17288008315397), (39.2283038826611, 117.15517633933023), (39.251888178220604, 117.13641751233132), (39.27961156702229, 117.11749231399025), (39.30425016738344, 117.09864963950209), (39.326797369930496, 117.08303456826201), (40.21731845384066, 116.14342059179461)]\n",
      "tensor([39.1477, 39.1584, 39.1718, 39.1860, 39.2041, 39.2283, 39.2519, 39.2796,\n",
      "        39.3042])\n",
      "tensor([117.2074, 117.2060, 117.2024, 117.1904, 117.1729, 117.1552, 117.1364,\n",
      "        117.1175, 117.0986])\n",
      "[tensor(39.3268), tensor(40.2173)]\n",
      "[tensor(117.0830), tensor(116.1434)]\n",
      "over\n",
      "[(39.158355958753404, 117.2060243739965), (39.1717852724325, 117.20242083647383), (39.185998329067004, 117.19035635409386), (39.20405395450807, 117.17288008315397), (39.2283038826611, 117.15517633933023), (39.251888178220604, 117.13641751233132), (39.27961156702229, 117.11749231399025), (39.30425016738344, 117.09864963950209), (39.326797369930496, 117.08303456826201), (39.341726967250594, 117.07191223361738), (40.230873505736604, 116.11751679404945)]\n",
      "tensor([39.1584, 39.1718, 39.1860, 39.2041, 39.2283, 39.2519, 39.2796, 39.3042,\n",
      "        39.3268])\n",
      "tensor([117.2060, 117.2024, 117.1904, 117.1729, 117.1552, 117.1364, 117.1175,\n",
      "        117.0986, 117.0830])\n",
      "[tensor(39.3417), tensor(40.2309)]\n",
      "[tensor(117.0719), tensor(116.1175)]\n",
      "over\n",
      "[(39.1717852724325, 117.20242083647383), (39.185998329067004, 117.19035635409386), (39.20405395450807, 117.17288008315397), (39.2283038826611, 117.15517633933023), (39.251888178220604, 117.13641751233132), (39.27961156702229, 117.11749231399025), (39.30425016738344, 117.09864963950209), (39.326797369930496, 117.08303456826201), (39.341726967250594, 117.07191223361738), (39.35042303375285, 117.06418447972601), (40.21731845384066, 116.14342059179461)]\n",
      "tensor([39.1718, 39.1860, 39.2041, 39.2283, 39.2519, 39.2796, 39.3042, 39.3268,\n",
      "        39.3417])\n",
      "tensor([117.2024, 117.1904, 117.1729, 117.1552, 117.1364, 117.1175, 117.0986,\n",
      "        117.0830, 117.0719])\n",
      "[tensor(39.3504), tensor(40.2173)]\n",
      "[tensor(117.0642), tensor(116.1434)]\n",
      "over\n",
      "[(39.185998329067004, 117.19035635409386), (39.20405395450807, 117.17288008315397), (39.2283038826611, 117.15517633933023), (39.251888178220604, 117.13641751233132), (39.27961156702229, 117.11749231399025), (39.30425016738344, 117.09864963950209), (39.326797369930496, 117.08303456826201), (39.341726967250594, 117.07191223361738), (39.35042303375285, 117.06418447972601), (39.35220561396336, 117.05882158056771), (40.247581087749836, 116.1264489803427)]\n",
      "tensor([39.1860, 39.2041, 39.2283, 39.2519, 39.2796, 39.3042, 39.3268, 39.3417,\n",
      "        39.3504])\n",
      "tensor([117.1904, 117.1729, 117.1552, 117.1364, 117.1175, 117.0986, 117.0830,\n",
      "        117.0719, 117.0642])\n",
      "[tensor(39.3522), tensor(40.2476)]\n",
      "[tensor(117.0588), tensor(116.1264)]\n",
      "over\n",
      "[(39.20405395450807, 117.17288008315397), (39.2283038826611, 117.15517633933023), (39.251888178220604, 117.13641751233132), (39.27961156702229, 117.11749231399025), (39.30425016738344, 117.09864963950209), (39.326797369930496, 117.08303456826201), (39.341726967250594, 117.07191223361738), (39.35042303375285, 117.06418447972601), (39.35220561396336, 117.05882158056771), (39.353239197499896, 117.05878445526258), (40.20090981811669, 116.17491826410459)]\n",
      "tensor([39.2041, 39.2283, 39.2519, 39.2796, 39.3042, 39.3268, 39.3417, 39.3504,\n",
      "        39.3522])\n",
      "tensor([117.1729, 117.1552, 117.1364, 117.1175, 117.0986, 117.0830, 117.0719,\n",
      "        117.0642, 117.0588])\n",
      "[tensor(39.3532), tensor(40.2009)]\n",
      "[tensor(117.0588), tensor(116.1749)]\n",
      "over\n",
      "[(39.2283038826611, 117.15517633933023), (39.251888178220604, 117.13641751233132), (39.27961156702229, 117.11749231399025), (39.30425016738344, 117.09864963950209), (39.326797369930496, 117.08303456826201), (39.341726967250594, 117.07191223361738), (39.35042303375285, 117.06418447972601), (39.35220561396336, 117.05882158056771), (39.353239197499896, 117.05878445526258), (39.35466526883854, 117.05449344442542), (40.247581087749836, 116.1264489803427)]\n",
      "tensor([39.2283, 39.2519, 39.2796, 39.3042, 39.3268, 39.3417, 39.3504, 39.3522,\n",
      "        39.3532])\n",
      "tensor([117.1552, 117.1364, 117.1175, 117.0986, 117.0830, 117.0719, 117.0642,\n",
      "        117.0588, 117.0588])\n",
      "[tensor(39.3547), tensor(40.2476)]\n",
      "[tensor(117.0545), tensor(116.1264)]\n",
      "over\n",
      "[(39.251888178220604, 117.13641751233132), (39.27961156702229, 117.11749231399025), (39.30425016738344, 117.09864963950209), (39.326797369930496, 117.08303456826201), (39.341726967250594, 117.07191223361738), (39.35042303375285, 117.06418447972601), (39.35220561396336, 117.05882158056771), (39.353239197499896, 117.05878445526258), (39.35466526883854, 117.05449344442542), (39.35997704908503, 117.04157971642756), (40.230873505736604, 116.11751679404945)]\n",
      "tensor([39.2519, 39.2796, 39.3042, 39.3268, 39.3417, 39.3504, 39.3522, 39.3532,\n",
      "        39.3547])\n",
      "tensor([117.1364, 117.1175, 117.0986, 117.0830, 117.0719, 117.0642, 117.0588,\n",
      "        117.0588, 117.0545])\n",
      "[tensor(39.3600), tensor(40.2309)]\n",
      "[tensor(117.0416), tensor(116.1175)]\n",
      "over\n",
      "[(39.27961156702229, 117.11749231399025), (39.30425016738344, 117.09864963950209), (39.326797369930496, 117.08303456826201), (39.341726967250594, 117.07191223361738), (39.35042303375285, 117.06418447972601), (39.35220561396336, 117.05882158056771), (39.353239197499896, 117.05878445526258), (39.35466526883854, 117.05449344442542), (39.35997704908503, 117.04157971642756), (39.36781940018488, 117.01796027790928), (40.247581087749836, 116.1264489803427)]\n",
      "tensor([39.2796, 39.3042, 39.3268, 39.3417, 39.3504, 39.3522, 39.3532, 39.3547,\n",
      "        39.3600])\n",
      "tensor([117.1175, 117.0986, 117.0830, 117.0719, 117.0642, 117.0588, 117.0588,\n",
      "        117.0545, 117.0416])\n",
      "[tensor(39.3678), tensor(40.2476)]\n",
      "[tensor(117.0180), tensor(116.1264)]\n",
      "over\n",
      "[(39.30425016738344, 117.09864963950209), (39.326797369930496, 117.08303456826201), (39.341726967250594, 117.07191223361738), (39.35042303375285, 117.06418447972601), (39.35220561396336, 117.05882158056771), (39.353239197499896, 117.05878445526258), (39.35466526883854, 117.05449344442542), (39.35997704908503, 117.04157971642756), (39.36781940018488, 117.01796027790928), (39.37815526028076, 116.9868008317452), (40.247581087749836, 116.1264489803427)]\n",
      "tensor([39.3042, 39.3268, 39.3417, 39.3504, 39.3522, 39.3532, 39.3547, 39.3600,\n",
      "        39.3678])\n",
      "tensor([117.0986, 117.0830, 117.0719, 117.0642, 117.0588, 117.0588, 117.0545,\n",
      "        117.0416, 117.0180])\n",
      "[tensor(39.3782), tensor(40.2476)]\n",
      "[tensor(116.9868), tensor(116.1264)]\n",
      "over\n",
      "[(39.326797369930496, 117.08303456826201), (39.341726967250594, 117.07191223361738), (39.35042303375285, 117.06418447972601), (39.35220561396336, 117.05882158056771), (39.353239197499896, 117.05878445526258), (39.35466526883854, 117.05449344442542), (39.35997704908503, 117.04157971642756), (39.36781940018488, 117.01796027790928), (39.37815526028076, 116.9868008317452), (39.39194986636937, 116.95441933674626), (40.230873505736604, 116.11751679404945)]\n",
      "tensor([39.3268, 39.3417, 39.3504, 39.3522, 39.3532, 39.3547, 39.3600, 39.3678,\n",
      "        39.3782])\n",
      "tensor([117.0830, 117.0719, 117.0642, 117.0588, 117.0588, 117.0545, 117.0416,\n",
      "        117.0180, 116.9868])\n",
      "[tensor(39.3919), tensor(40.2309)]\n",
      "[tensor(116.9544), tensor(116.1175)]\n",
      "over\n",
      "[(39.341726967250594, 117.07191223361738), (39.35042303375285, 117.06418447972601), (39.35220561396336, 117.05882158056771), (39.353239197499896, 117.05878445526258), (39.35466526883854, 117.05449344442542), (39.35997704908503, 117.04157971642756), (39.36781940018488, 117.01796027790928), (39.37815526028076, 116.9868008317452), (39.39194986636937, 116.95441933674626), (39.40506564715967, 116.92096652317703), (40.239505571548214, 116.12908055888796)]\n",
      "tensor([39.3417, 39.3504, 39.3522, 39.3532, 39.3547, 39.3600, 39.3678, 39.3782,\n",
      "        39.3919])\n",
      "tensor([117.0719, 117.0642, 117.0588, 117.0588, 117.0545, 117.0416, 117.0180,\n",
      "        116.9868, 116.9544])\n",
      "[tensor(39.4051), tensor(40.2395)]\n",
      "[tensor(116.9210), tensor(116.1291)]\n",
      "over\n",
      "[(39.35042303375285, 117.06418447972601), (39.35220561396336, 117.05882158056771), (39.353239197499896, 117.05878445526258), (39.35466526883854, 117.05449344442542), (39.35997704908503, 117.04157971642756), (39.36781940018488, 117.01796027790928), (39.37815526028076, 116.9868008317452), (39.39194986636937, 116.95441933674626), (39.40506564715967, 116.92096652317703), (39.4188930966483, 116.88532222423851), (40.20090981811669, 116.17491826410459)]\n",
      "tensor([39.3504, 39.3522, 39.3532, 39.3547, 39.3600, 39.3678, 39.3782, 39.3919,\n",
      "        39.4051])\n",
      "tensor([117.0642, 117.0588, 117.0588, 117.0545, 117.0416, 117.0180, 116.9868,\n",
      "        116.9544, 116.9210])\n",
      "[tensor(39.4189), tensor(40.2009)]\n",
      "[tensor(116.8853), tensor(116.1749)]\n",
      "over\n",
      "[(39.35220561396336, 117.05882158056771), (39.353239197499896, 117.05878445526258), (39.35466526883854, 117.05449344442542), (39.35997704908503, 117.04157971642756), (39.36781940018488, 117.01796027790928), (39.37815526028076, 116.9868008317452), (39.39194986636937, 116.95441933674626), (39.40506564715967, 116.92096652317703), (39.4188930966483, 116.88532222423851), (39.4855427857959, 116.74827783501537), (40.230873505736604, 116.11751679404945)]\n",
      "tensor([39.3522, 39.3532, 39.3547, 39.3600, 39.3678, 39.3782, 39.3919, 39.4051,\n",
      "        39.4189])\n",
      "tensor([117.0588, 117.0588, 117.0545, 117.0416, 117.0180, 116.9868, 116.9544,\n",
      "        116.9210, 116.8853])\n",
      "[tensor(39.4855), tensor(40.2309)]\n",
      "[tensor(116.7483), tensor(116.1175)]\n",
      "over\n",
      "[(39.353239197499896, 117.05878445526258), (39.35466526883854, 117.05449344442542), (39.35997704908503, 117.04157971642756), (39.36781940018488, 117.01796027790928), (39.37815526028076, 116.9868008317452), (39.39194986636937, 116.95441933674626), (39.40506564715967, 116.92096652317703), (39.4188930966483, 116.88532222423851), (39.4855427857959, 116.74827783501537), (39.49999153788383, 116.71988762562877), (40.230873505736604, 116.11751679404945)]\n",
      "tensor([39.3532, 39.3547, 39.3600, 39.3678, 39.3782, 39.3919, 39.4051, 39.4189,\n",
      "        39.4855])\n",
      "tensor([117.0588, 117.0545, 117.0416, 117.0180, 116.9868, 116.9544, 116.9210,\n",
      "        116.8853, 116.7483])\n",
      "[tensor(39.5000), tensor(40.2309)]\n",
      "[tensor(116.7199), tensor(116.1175)]\n",
      "over\n",
      "[(39.35466526883854, 117.05449344442542), (39.35997704908503, 117.04157971642756), (39.36781940018488, 117.01796027790928), (39.37815526028076, 116.9868008317452), (39.39194986636937, 116.95441933674626), (39.40506564715967, 116.92096652317703), (39.4188930966483, 116.88532222423851), (39.4855427857959, 116.74827783501537), (39.49999153788383, 116.71988762562877), (39.509129873684714, 116.70453028568518), (40.239505571548214, 116.12908055888796)]\n",
      "tensor([39.3547, 39.3600, 39.3678, 39.3782, 39.3919, 39.4051, 39.4189, 39.4855,\n",
      "        39.5000])\n",
      "tensor([117.0545, 117.0416, 117.0180, 116.9868, 116.9544, 116.9210, 116.8853,\n",
      "        116.7483, 116.7199])\n",
      "[tensor(39.5091), tensor(40.2395)]\n",
      "[tensor(116.7045), tensor(116.1291)]\n",
      "over\n",
      "[(39.35997704908503, 117.04157971642756), (39.36781940018488, 117.01796027790928), (39.37815526028076, 116.9868008317452), (39.39194986636937, 116.95441933674626), (39.40506564715967, 116.92096652317703), (39.4188930966483, 116.88532222423851), (39.4855427857959, 116.74827783501537), (39.49999153788383, 116.71988762562877), (39.509129873684714, 116.70453028568518), (39.51055454594512, 116.70019190361664), (40.43451459331309, 115.97648531343592)]\n",
      "tensor([39.3600, 39.3678, 39.3782, 39.3919, 39.4051, 39.4189, 39.4855, 39.5000,\n",
      "        39.5091])\n",
      "tensor([117.0416, 117.0180, 116.9868, 116.9544, 116.9210, 116.8853, 116.7483,\n",
      "        116.7199, 116.7045])\n",
      "[tensor(39.5106), tensor(40.4345)]\n",
      "[tensor(116.7002), tensor(115.9765)]\n",
      "over\n",
      "[(39.36781940018488, 117.01796027790928), (39.37815526028076, 116.9868008317452), (39.39194986636937, 116.95441933674626), (39.40506564715967, 116.92096652317703), (39.4188930966483, 116.88532222423851), (39.4855427857959, 116.74827783501537), (39.49999153788383, 116.71988762562877), (39.509129873684714, 116.70453028568518), (39.51055454594512, 116.70019190361664), (39.51055454594512, 116.70019190361664), (40.230873505736604, 116.11751679404945)]\n",
      "tensor([39.3678, 39.3782, 39.3919, 39.4051, 39.4189, 39.4855, 39.5000, 39.5091,\n",
      "        39.5106])\n",
      "tensor([117.0180, 116.9868, 116.9544, 116.9210, 116.8853, 116.7483, 116.7199,\n",
      "        116.7045, 116.7002])\n",
      "[tensor(39.5106), tensor(40.2309)]\n",
      "[tensor(116.7002), tensor(116.1175)]\n",
      "over\n",
      "[(39.37815526028076, 116.9868008317452), (39.39194986636937, 116.95441933674626), (39.40506564715967, 116.92096652317703), (39.4188930966483, 116.88532222423851), (39.4855427857959, 116.74827783501537), (39.49999153788383, 116.71988762562877), (39.509129873684714, 116.70453028568518), (39.51055454594512, 116.70019190361664), (39.51055454594512, 116.70019190361664), (39.51055454594512, 116.70019190361664), (40.21731845384066, 116.14342059179461)]\n",
      "tensor([39.3782, 39.3919, 39.4051, 39.4189, 39.4855, 39.5000, 39.5091, 39.5106,\n",
      "        39.5106])\n",
      "tensor([116.9868, 116.9544, 116.9210, 116.8853, 116.7483, 116.7199, 116.7045,\n",
      "        116.7002, 116.7002])\n",
      "[tensor(39.5106), tensor(40.2173)]\n",
      "[tensor(116.7002), tensor(116.1434)]\n",
      "over\n",
      "[(39.39194986636937, 116.95441933674626), (39.40506564715967, 116.92096652317703), (39.4188930966483, 116.88532222423851), (39.4855427857959, 116.74827783501537), (39.49999153788383, 116.71988762562877), (39.509129873684714, 116.70453028568518), (39.51055454594512, 116.70019190361664), (39.51055454594512, 116.70019190361664), (39.51055454594512, 116.70019190361664), (39.51441179244005, 116.69467847148107), (40.239505571548214, 116.12908055888796)]\n",
      "tensor([39.3919, 39.4051, 39.4189, 39.4855, 39.5000, 39.5091, 39.5106, 39.5106,\n",
      "        39.5106])\n",
      "tensor([116.9544, 116.9210, 116.8853, 116.7483, 116.7199, 116.7045, 116.7002,\n",
      "        116.7002, 116.7002])\n",
      "[tensor(39.5144), tensor(40.2395)]\n",
      "[tensor(116.6947), tensor(116.1291)]\n",
      "over\n",
      "[(39.40506564715967, 116.92096652317703), (39.4188930966483, 116.88532222423851), (39.4855427857959, 116.74827783501537), (39.49999153788383, 116.71988762562877), (39.509129873684714, 116.70453028568518), (39.51055454594512, 116.70019190361664), (39.51055454594512, 116.70019190361664), (39.51055454594512, 116.70019190361664), (39.51441179244005, 116.69467847148107), (39.52459020995707, 116.67926099259455), (40.21731845384066, 116.14342059179461)]\n",
      "tensor([39.4051, 39.4189, 39.4855, 39.5000, 39.5091, 39.5106, 39.5106, 39.5106,\n",
      "        39.5144])\n",
      "tensor([116.9210, 116.8853, 116.7483, 116.7199, 116.7045, 116.7002, 116.7002,\n",
      "        116.7002, 116.6947])\n",
      "[tensor(39.5246), tensor(40.2173)]\n",
      "[tensor(116.6793), tensor(116.1434)]\n",
      "over\n",
      "[(39.4188930966483, 116.88532222423851), (39.4855427857959, 116.74827783501537), (39.49999153788383, 116.71988762562877), (39.509129873684714, 116.70453028568518), (39.51055454594512, 116.70019190361664), (39.51055454594512, 116.70019190361664), (39.51055454594512, 116.70019190361664), (39.51441179244005, 116.69467847148107), (39.52459020995707, 116.67926099259455), (39.537619835805955, 116.6551441156011), (40.239505571548214, 116.12908055888796)]\n",
      "tensor([39.4189, 39.4855, 39.5000, 39.5091, 39.5106, 39.5106, 39.5106, 39.5144,\n",
      "        39.5246])\n",
      "tensor([116.8853, 116.7483, 116.7199, 116.7045, 116.7002, 116.7002, 116.7002,\n",
      "        116.6947, 116.6793])\n",
      "[tensor(39.5376), tensor(40.2395)]\n",
      "[tensor(116.6551), tensor(116.1291)]\n",
      "over\n",
      "[(39.4855427857959, 116.74827783501537), (39.49999153788383, 116.71988762562877), (39.509129873684714, 116.70453028568518), (39.51055454594512, 116.70019190361664), (39.51055454594512, 116.70019190361664), (39.51055454594512, 116.70019190361664), (39.51441179244005, 116.69467847148107), (39.52459020995707, 116.67926099259455), (39.537619835805955, 116.6551441156011), (39.55311517156745, 116.62661045196921), (40.26104455199116, 116.1103807847248)]\n",
      "tensor([39.4855, 39.5000, 39.5091, 39.5106, 39.5106, 39.5106, 39.5144, 39.5246,\n",
      "        39.5376])\n",
      "tensor([116.7483, 116.7199, 116.7045, 116.7002, 116.7002, 116.7002, 116.6947,\n",
      "        116.6793, 116.6551])\n",
      "[tensor(39.5531), tensor(40.2610)]\n",
      "[tensor(116.6266), tensor(116.1104)]\n",
      "over\n",
      "[(39.49999153788383, 116.71988762562877), (39.509129873684714, 116.70453028568518), (39.51055454594512, 116.70019190361664), (39.51055454594512, 116.70019190361664), (39.51055454594512, 116.70019190361664), (39.51441179244005, 116.69467847148107), (39.52459020995707, 116.67926099259455), (39.537619835805955, 116.6551441156011), (39.55311517156745, 116.62661045196921), (39.57036499807416, 116.59582288996677), (40.230873505736604, 116.11751679404945)]\n",
      "tensor([39.5000, 39.5091, 39.5106, 39.5106, 39.5106, 39.5144, 39.5246, 39.5376,\n",
      "        39.5531])\n",
      "tensor([116.7199, 116.7045, 116.7002, 116.7002, 116.7002, 116.6947, 116.6793,\n",
      "        116.6551, 116.6266])\n",
      "[tensor(39.5704), tensor(40.2309)]\n",
      "[tensor(116.5958), tensor(116.1175)]\n",
      "over\n",
      "[(39.509129873684714, 116.70453028568518), (39.51055454594512, 116.70019190361664), (39.51055454594512, 116.70019190361664), (39.51055454594512, 116.70019190361664), (39.51441179244005, 116.69467847148107), (39.52459020995707, 116.67926099259455), (39.537619835805955, 116.6551441156011), (39.55311517156745, 116.62661045196921), (39.57036499807416, 116.59582288996677), (39.584854170321655, 116.56405300970644), (40.239505571548214, 116.12908055888796)]\n",
      "tensor([39.5091, 39.5106, 39.5106, 39.5106, 39.5144, 39.5246, 39.5376, 39.5531,\n",
      "        39.5704])\n",
      "tensor([116.7045, 116.7002, 116.7002, 116.7002, 116.6947, 116.6793, 116.6551,\n",
      "        116.6266, 116.5958])\n",
      "[tensor(39.5849), tensor(40.2395)]\n",
      "[tensor(116.5641), tensor(116.1291)]\n",
      "over\n",
      "[(39.51055454594512, 116.70019190361664), (39.51055454594512, 116.70019190361664), (39.51055454594512, 116.70019190361664), (39.51441179244005, 116.69467847148107), (39.52459020995707, 116.67926099259455), (39.537619835805955, 116.6551441156011), (39.55311517156745, 116.62661045196921), (39.57036499807416, 116.59582288996677), (39.584854170321655, 116.56405300970644), (39.59761934610979, 116.53125532552262), (40.230873505736604, 116.11751679404945)]\n",
      "tensor([39.5106, 39.5106, 39.5106, 39.5144, 39.5246, 39.5376, 39.5531, 39.5704,\n",
      "        39.5849])\n",
      "tensor([116.7002, 116.7002, 116.7002, 116.6947, 116.6793, 116.6551, 116.6266,\n",
      "        116.5958, 116.5641])\n",
      "[tensor(39.5976), tensor(40.2309)]\n",
      "[tensor(116.5313), tensor(116.1175)]\n",
      "over\n",
      "[(39.51055454594512, 116.70019190361664), (39.51055454594512, 116.70019190361664), (39.51441179244005, 116.69467847148107), (39.52459020995707, 116.67926099259455), (39.537619835805955, 116.6551441156011), (39.55311517156745, 116.62661045196921), (39.57036499807416, 116.59582288996677), (39.584854170321655, 116.56405300970644), (39.59761934610979, 116.53125532552262), (39.60865795838284, 116.49743082831729), (40.230873505736604, 116.11751679404945)]\n",
      "tensor([39.5106, 39.5106, 39.5144, 39.5246, 39.5376, 39.5531, 39.5704, 39.5849,\n",
      "        39.5976])\n",
      "tensor([116.7002, 116.7002, 116.6947, 116.6793, 116.6551, 116.6266, 116.5958,\n",
      "        116.5641, 116.5313])\n",
      "[tensor(39.6087), tensor(40.2309)]\n",
      "[tensor(116.4974), tensor(116.1175)]\n",
      "over\n",
      "[(39.51055454594512, 116.70019190361664), (39.51441179244005, 116.69467847148107), (39.52459020995707, 116.67926099259455), (39.537619835805955, 116.6551441156011), (39.55311517156745, 116.62661045196921), (39.57036499807416, 116.59582288996677), (39.584854170321655, 116.56405300970644), (39.59761934610979, 116.53125532552262), (39.60865795838284, 116.49743082831729), (39.62520229480387, 116.46868892510248), (40.247581087749836, 116.1264489803427)]\n",
      "tensor([39.5106, 39.5144, 39.5246, 39.5376, 39.5531, 39.5704, 39.5849, 39.5976,\n",
      "        39.6087])\n",
      "tensor([116.7002, 116.6947, 116.6793, 116.6551, 116.6266, 116.5958, 116.5641,\n",
      "        116.5313, 116.4974])\n",
      "[tensor(39.6252), tensor(40.2476)]\n",
      "[tensor(116.4687), tensor(116.1264)]\n",
      "over\n",
      "[(39.51441179244005, 116.69467847148107), (39.52459020995707, 116.67926099259455), (39.537619835805955, 116.6551441156011), (39.55311517156745, 116.62661045196921), (39.57036499807416, 116.59582288996677), (39.584854170321655, 116.56405300970644), (39.59761934610979, 116.53125532552262), (39.60865795838284, 116.49743082831729), (39.62520229480387, 116.46868892510248), (39.644189133139314, 116.43872103074318), (40.247581087749836, 116.1264489803427)]\n",
      "tensor([39.5144, 39.5246, 39.5376, 39.5531, 39.5704, 39.5849, 39.5976, 39.6087,\n",
      "        39.6252])\n",
      "tensor([116.6947, 116.6793, 116.6551, 116.6266, 116.5958, 116.5641, 116.5313,\n",
      "        116.4974, 116.4687])\n",
      "[tensor(39.6442), tensor(40.2476)]\n",
      "[tensor(116.4387), tensor(116.1264)]\n",
      "over\n",
      "[(39.52459020995707, 116.67926099259455), (39.537619835805955, 116.6551441156011), (39.55311517156745, 116.62661045196921), (39.57036499807416, 116.59582288996677), (39.584854170321655, 116.56405300970644), (39.59761934610979, 116.53125532552262), (39.60865795838284, 116.49743082831729), (39.62520229480387, 116.46868892510248), (39.644189133139314, 116.43872103074318), (39.65824780020486, 116.41757687478258), (40.21731845384066, 116.14342059179461)]\n",
      "tensor([39.5246, 39.5376, 39.5531, 39.5704, 39.5849, 39.5976, 39.6087, 39.6252,\n",
      "        39.6442])\n",
      "tensor([116.6793, 116.6551, 116.6266, 116.5958, 116.5641, 116.5313, 116.4974,\n",
      "        116.4687, 116.4387])\n",
      "[tensor(39.6582), tensor(40.2173)]\n",
      "[tensor(116.4176), tensor(116.1434)]\n",
      "over\n",
      "[(39.537619835805955, 116.6551441156011), (39.55311517156745, 116.62661045196921), (39.57036499807416, 116.59582288996677), (39.584854170321655, 116.56405300970644), (39.59761934610979, 116.53125532552262), (39.60865795838284, 116.49743082831729), (39.62520229480387, 116.46868892510248), (39.644189133139314, 116.43872103074318), (39.65824780020486, 116.41757687478258), (39.661808853177995, 116.40662896179211), (40.239505571548214, 116.12908055888796)]\n",
      "tensor([39.5376, 39.5531, 39.5704, 39.5849, 39.5976, 39.6087, 39.6252, 39.6442,\n",
      "        39.6582])\n",
      "tensor([116.6551, 116.6266, 116.5958, 116.5641, 116.5313, 116.4974, 116.4687,\n",
      "        116.4387, 116.4176])\n",
      "[tensor(39.6618), tensor(40.2395)]\n",
      "[tensor(116.4066), tensor(116.1291)]\n",
      "over\n",
      "[(39.55311517156745, 116.62661045196921), (39.57036499807416, 116.59582288996677), (39.584854170321655, 116.56405300970644), (39.59761934610979, 116.53125532552262), (39.60865795838284, 116.49743082831729), (39.62520229480387, 116.46868892510248), (39.644189133139314, 116.43872103074318), (39.65824780020486, 116.41757687478258), (39.661808853177995, 116.40662896179211), (39.669208516545936, 116.3933329950663), (40.21731845384066, 116.14342059179461)]\n",
      "tensor([39.5531, 39.5704, 39.5849, 39.5976, 39.6087, 39.6252, 39.6442, 39.6582,\n",
      "        39.6618])\n",
      "tensor([116.6266, 116.5958, 116.5641, 116.5313, 116.4974, 116.4687, 116.4387,\n",
      "        116.4176, 116.4066])\n",
      "[tensor(39.6692), tensor(40.2173)]\n",
      "[tensor(116.3933), tensor(116.1434)]\n",
      "over\n",
      "[(39.57036499807416, 116.59582288996677), (39.584854170321655, 116.56405300970644), (39.59761934610979, 116.53125532552262), (39.60865795838284, 116.49743082831729), (39.62520229480387, 116.46868892510248), (39.644189133139314, 116.43872103074318), (39.65824780020486, 116.41757687478258), (39.661808853177995, 116.40662896179211), (39.669208516545936, 116.3933329950663), (39.68118646833784, 116.37225458341224), (40.21731845384066, 116.14342059179461)]\n",
      "tensor([39.5704, 39.5849, 39.5976, 39.6087, 39.6252, 39.6442, 39.6582, 39.6618,\n",
      "        39.6692])\n",
      "tensor([116.5958, 116.5641, 116.5313, 116.4974, 116.4687, 116.4387, 116.4176,\n",
      "        116.4066, 116.3933])\n",
      "[tensor(39.6812), tensor(40.2173)]\n",
      "[tensor(116.3723), tensor(116.1434)]\n",
      "over\n",
      "[(39.584854170321655, 116.56405300970644), (39.59761934610979, 116.53125532552262), (39.60865795838284, 116.49743082831729), (39.62520229480387, 116.46868892510248), (39.644189133139314, 116.43872103074318), (39.65824780020486, 116.41757687478258), (39.661808853177995, 116.40662896179211), (39.669208516545936, 116.3933329950663), (39.68118646833784, 116.37225458341224), (39.69840599745915, 116.3476590219256), (40.230873505736604, 116.11751679404945)]\n",
      "tensor([39.5849, 39.5976, 39.6087, 39.6252, 39.6442, 39.6582, 39.6618, 39.6692,\n",
      "        39.6812])\n",
      "tensor([116.5641, 116.5313, 116.4974, 116.4687, 116.4387, 116.4176, 116.4066,\n",
      "        116.3933, 116.3723])\n",
      "[tensor(39.6984), tensor(40.2309)]\n",
      "[tensor(116.3477), tensor(116.1175)]\n",
      "over\n",
      "[(39.59761934610979, 116.53125532552262), (39.60865795838284, 116.49743082831729), (39.62520229480387, 116.46868892510248), (39.644189133139314, 116.43872103074318), (39.65824780020486, 116.41757687478258), (39.661808853177995, 116.40662896179211), (39.669208516545936, 116.3933329950663), (39.68118646833784, 116.37225458341224), (39.69840599745915, 116.3476590219256), (39.72049043202694, 116.32387135821283), (40.21731845384066, 116.14342059179461)]\n",
      "tensor([39.5976, 39.6087, 39.6252, 39.6442, 39.6582, 39.6618, 39.6692, 39.6812,\n",
      "        39.6984])\n",
      "tensor([116.5313, 116.4974, 116.4687, 116.4387, 116.4176, 116.4066, 116.3933,\n",
      "        116.3723, 116.3477])\n",
      "[tensor(39.7205), tensor(40.2173)]\n",
      "[tensor(116.3239), tensor(116.1434)]\n",
      "over\n",
      "[(39.60865795838284, 116.49743082831729), (39.62520229480387, 116.46868892510248), (39.644189133139314, 116.43872103074318), (39.65824780020486, 116.41757687478258), (39.661808853177995, 116.40662896179211), (39.669208516545936, 116.3933329950663), (39.68118646833784, 116.37225458341224), (39.69840599745915, 116.3476590219256), (39.72049043202694, 116.32387135821283), (39.74324510272371, 116.30434454500343), (40.285582004066995, 116.07285983821609)]\n",
      "tensor([39.6087, 39.6252, 39.6442, 39.6582, 39.6618, 39.6692, 39.6812, 39.6984,\n",
      "        39.7205])\n",
      "tensor([116.4974, 116.4687, 116.4387, 116.4176, 116.4066, 116.3933, 116.3723,\n",
      "        116.3477, 116.3239])\n",
      "[tensor(39.7432), tensor(40.2856)]\n",
      "[tensor(116.3043), tensor(116.0729)]\n",
      "over\n",
      "[(39.62520229480387, 116.46868892510248), (39.644189133139314, 116.43872103074318), (39.65824780020486, 116.41757687478258), (39.661808853177995, 116.40662896179211), (39.669208516545936, 116.3933329950663), (39.68118646833784, 116.37225458341224), (39.69840599745915, 116.3476590219256), (39.72049043202694, 116.32387135821283), (39.74324510272371, 116.30434454500343), (39.76603403282509, 116.2815476983931), (40.20090981811669, 116.17491826410459)]\n",
      "tensor([39.6252, 39.6442, 39.6582, 39.6618, 39.6692, 39.6812, 39.6984, 39.7205,\n",
      "        39.7432])\n",
      "tensor([116.4687, 116.4387, 116.4176, 116.4066, 116.3933, 116.3723, 116.3477,\n",
      "        116.3239, 116.3043])\n",
      "[tensor(39.7660), tensor(40.2009)]\n",
      "[tensor(116.2815), tensor(116.1749)]\n",
      "over\n",
      "[(39.644189133139314, 116.43872103074318), (39.65824780020486, 116.41757687478258), (39.661808853177995, 116.40662896179211), (39.669208516545936, 116.3933329950663), (39.68118646833784, 116.37225458341224), (39.69840599745915, 116.3476590219256), (39.72049043202694, 116.32387135821283), (39.74324510272371, 116.30434454500343), (39.76603403282509, 116.2815476983931), (39.78979984759824, 116.26841594373684), (40.239505571548214, 116.12908055888796)]\n",
      "tensor([39.6442, 39.6582, 39.6618, 39.6692, 39.6812, 39.6984, 39.7205, 39.7432,\n",
      "        39.7660])\n",
      "tensor([116.4387, 116.4176, 116.4066, 116.3933, 116.3723, 116.3477, 116.3239,\n",
      "        116.3043, 116.2815])\n",
      "[tensor(39.7898), tensor(40.2395)]\n",
      "[tensor(116.2684), tensor(116.1291)]\n",
      "over\n",
      "[(39.65824780020486, 116.41757687478258), (39.661808853177995, 116.40662896179211), (39.669208516545936, 116.3933329950663), (39.68118646833784, 116.37225458341224), (39.69840599745915, 116.3476590219256), (39.72049043202694, 116.32387135821283), (39.74324510272371, 116.30434454500343), (39.76603403282509, 116.2815476983931), (39.78979984759824, 116.26841594373684), (39.813113355933275, 116.26937424517233), (40.21731845384066, 116.14342059179461)]\n",
      "tensor([39.6582, 39.6618, 39.6692, 39.6812, 39.6984, 39.7205, 39.7432, 39.7660,\n",
      "        39.7898])\n",
      "tensor([116.4176, 116.4066, 116.3933, 116.3723, 116.3477, 116.3239, 116.3043,\n",
      "        116.2815, 116.2684])\n",
      "[tensor(39.8131), tensor(40.2173)]\n",
      "[tensor(116.2694), tensor(116.1434)]\n",
      "over\n",
      "[(39.661808853177995, 116.40662896179211), (39.669208516545936, 116.3933329950663), (39.68118646833784, 116.37225458341224), (39.69840599745915, 116.3476590219256), (39.72049043202694, 116.32387135821283), (39.74324510272371, 116.30434454500343), (39.76603403282509, 116.2815476983931), (39.78979984759824, 116.26841594373684), (39.813113355933275, 116.26937424517233), (39.83398455570755, 116.27154352963765), (39.94405222855523, 116.3472202799445)]\n",
      "tensor([39.6618, 39.6692, 39.6812, 39.6984, 39.7205, 39.7432, 39.7660, 39.7898,\n",
      "        39.8131])\n",
      "tensor([116.4066, 116.3933, 116.3723, 116.3477, 116.3239, 116.3043, 116.2815,\n",
      "        116.2684, 116.2694])\n",
      "[tensor(39.8340), tensor(39.9441)]\n",
      "[tensor(116.2715), tensor(116.3472)]\n",
      "over\n",
      "[(39.669208516545936, 116.3933329950663), (39.68118646833784, 116.37225458341224), (39.69840599745915, 116.3476590219256), (39.72049043202694, 116.32387135821283), (39.74324510272371, 116.30434454500343), (39.76603403282509, 116.2815476983931), (39.78979984759824, 116.26841594373684), (39.813113355933275, 116.26937424517233), (39.83398455570755, 116.27154352963765), (39.8443806460087, 116.27750698918922), (40.21731845384066, 116.14342059179461)]\n",
      "tensor([39.6692, 39.6812, 39.6984, 39.7205, 39.7432, 39.7660, 39.7898, 39.8131,\n",
      "        39.8340])\n",
      "tensor([116.3933, 116.3723, 116.3477, 116.3239, 116.3043, 116.2815, 116.2684,\n",
      "        116.2694, 116.2715])\n",
      "[tensor(39.8444), tensor(40.2173)]\n",
      "[tensor(116.2775), tensor(116.1434)]\n",
      "over\n",
      "[(39.68118646833784, 116.37225458341224), (39.69840599745915, 116.3476590219256), (39.72049043202694, 116.32387135821283), (39.74324510272371, 116.30434454500343), (39.76603403282509, 116.2815476983931), (39.78979984759824, 116.26841594373684), (39.813113355933275, 116.26937424517233), (39.83398455570755, 116.27154352963765), (39.8443806460087, 116.27750698918922), (39.84710342182161, 116.28495104842855), (40.336097718552324, 116.03161187786154)]\n",
      "tensor([39.6812, 39.6984, 39.7205, 39.7432, 39.7660, 39.7898, 39.8131, 39.8340,\n",
      "        39.8444])\n",
      "tensor([116.3723, 116.3477, 116.3239, 116.3043, 116.2815, 116.2684, 116.2694,\n",
      "        116.2715, 116.2775])\n",
      "[tensor(39.8471), tensor(40.3361)]\n",
      "[tensor(116.2850), tensor(116.0316)]\n",
      "over\n",
      "[(39.69840599745915, 116.3476590219256), (39.72049043202694, 116.32387135821283), (39.74324510272371, 116.30434454500343), (39.76603403282509, 116.2815476983931), (39.78979984759824, 116.26841594373684), (39.813113355933275, 116.26937424517233), (39.83398455570755, 116.27154352963765), (39.8443806460087, 116.27750698918922), (39.84710342182161, 116.28495104842855), (39.84641591742291, 116.2839029950734), (40.20090981811669, 116.17491826410459)]\n",
      "tensor([39.6984, 39.7205, 39.7432, 39.7660, 39.7898, 39.8131, 39.8340, 39.8444,\n",
      "        39.8471])\n",
      "tensor([116.3477, 116.3239, 116.3043, 116.2815, 116.2684, 116.2694, 116.2715,\n",
      "        116.2775, 116.2850])\n",
      "[tensor(39.8464), tensor(40.2009)]\n",
      "[tensor(116.2839), tensor(116.1749)]\n",
      "over\n",
      "[(39.72049043202694, 116.32387135821283), (39.74324510272371, 116.30434454500343), (39.76603403282509, 116.2815476983931), (39.78979984759824, 116.26841594373684), (39.813113355933275, 116.26937424517233), (39.83398455570755, 116.27154352963765), (39.8443806460087, 116.27750698918922), (39.84710342182161, 116.28495104842855), (39.84641591742291, 116.2839029950734), (39.847460953113135, 116.28384916733964), (40.21731845384066, 116.14342059179461)]\n",
      "tensor([39.7205, 39.7432, 39.7660, 39.7898, 39.8131, 39.8340, 39.8444, 39.8471,\n",
      "        39.8464])\n",
      "tensor([116.3239, 116.3043, 116.2815, 116.2684, 116.2694, 116.2715, 116.2775,\n",
      "        116.2850, 116.2839])\n",
      "[tensor(39.8475), tensor(40.2173)]\n",
      "[tensor(116.2839), tensor(116.1434)]\n",
      "over\n",
      "[(39.74324510272371, 116.30434454500343), (39.76603403282509, 116.2815476983931), (39.78979984759824, 116.26841594373684), (39.813113355933275, 116.26937424517233), (39.83398455570755, 116.27154352963765), (39.8443806460087, 116.27750698918922), (39.84710342182161, 116.28495104842855), (39.84641591742291, 116.2839029950734), (39.847460953113135, 116.28384916733964), (39.847818481383676, 116.28274725195551), (40.26104455199116, 116.1103807847248)]\n",
      "tensor([39.7432, 39.7660, 39.7898, 39.8131, 39.8340, 39.8444, 39.8471, 39.8464,\n",
      "        39.8475])\n",
      "tensor([116.3043, 116.2815, 116.2684, 116.2694, 116.2715, 116.2775, 116.2850,\n",
      "        116.2839, 116.2839])\n",
      "[tensor(39.8478), tensor(40.2610)]\n",
      "[tensor(116.2827), tensor(116.1104)]\n",
      "over\n",
      "[(39.76603403282509, 116.2815476983931), (39.78979984759824, 116.26841594373684), (39.813113355933275, 116.26937424517233), (39.83398455570755, 116.27154352963765), (39.8443806460087, 116.27750698918922), (39.84710342182161, 116.28495104842855), (39.84641591742291, 116.2839029950734), (39.847460953113135, 116.28384916733964), (39.847818481383676, 116.28274725195551), (39.847818481383676, 116.28274725195551), (40.247581087749836, 116.1264489803427)]\n",
      "tensor([39.7660, 39.7898, 39.8131, 39.8340, 39.8444, 39.8471, 39.8464, 39.8475,\n",
      "        39.8478])\n",
      "tensor([116.2815, 116.2684, 116.2694, 116.2715, 116.2775, 116.2850, 116.2839,\n",
      "        116.2839, 116.2827])\n",
      "[tensor(39.8478), tensor(40.2476)]\n",
      "[tensor(116.2827), tensor(116.1264)]\n",
      "over\n",
      "[(39.78979984759824, 116.26841594373684), (39.813113355933275, 116.26937424517233), (39.83398455570755, 116.27154352963765), (39.8443806460087, 116.27750698918922), (39.84710342182161, 116.28495104842855), (39.84641591742291, 116.2839029950734), (39.847460953113135, 116.28384916733964), (39.847818481383676, 116.28274725195551), (39.847818481383676, 116.28274725195551), (39.84814845681609, 116.28489724219902), (39.98421768672636, 116.33760188054308)]\n",
      "tensor([39.7898, 39.8131, 39.8340, 39.8444, 39.8471, 39.8464, 39.8475, 39.8478,\n",
      "        39.8478])\n",
      "tensor([116.2684, 116.2694, 116.2715, 116.2775, 116.2850, 116.2839, 116.2839,\n",
      "        116.2827, 116.2827])\n",
      "[tensor(39.8481), tensor(39.9842)]\n",
      "[tensor(116.2849), tensor(116.3376)]\n",
      "over\n",
      "[(39.813113355933275, 116.26937424517233), (39.83398455570755, 116.27154352963765), (39.8443806460087, 116.27750698918922), (39.84710342182161, 116.28495104842855), (39.84641591742291, 116.2839029950734), (39.847460953113135, 116.28384916733964), (39.847818481383676, 116.28274725195551), (39.847818481383676, 116.28274725195551), (39.84814845681609, 116.28489724219902), (39.85439111945372, 116.28782654328006), (40.230873505736604, 116.11751679404945)]\n",
      "tensor([39.8131, 39.8340, 39.8444, 39.8471, 39.8464, 39.8475, 39.8478, 39.8478,\n",
      "        39.8481])\n",
      "tensor([116.2694, 116.2715, 116.2775, 116.2850, 116.2839, 116.2839, 116.2827,\n",
      "        116.2827, 116.2849])\n",
      "[tensor(39.8544), tensor(40.2309)]\n",
      "[tensor(116.2878), tensor(116.1175)]\n",
      "over\n",
      "[(39.83398455570755, 116.27154352963765), (39.8443806460087, 116.27750698918922), (39.84710342182161, 116.28495104842855), (39.84641591742291, 116.2839029950734), (39.847460953113135, 116.28384916733964), (39.847818481383676, 116.28274725195551), (39.847818481383676, 116.28274725195551), (39.84814845681609, 116.28489724219902), (39.85439111945372, 116.28782654328006), (39.85642536147953, 116.29422317663187), (40.285582004066995, 116.07285983821609)]\n",
      "tensor([39.8340, 39.8444, 39.8471, 39.8464, 39.8475, 39.8478, 39.8478, 39.8481,\n",
      "        39.8544])\n",
      "tensor([116.2715, 116.2775, 116.2850, 116.2839, 116.2839, 116.2827, 116.2827,\n",
      "        116.2849, 116.2878])\n",
      "[tensor(39.8564), tensor(40.2856)]\n",
      "[tensor(116.2942), tensor(116.0729)]\n",
      "over\n",
      "[(39.8443806460087, 116.27750698918922), (39.84710342182161, 116.28495104842855), (39.84641591742291, 116.2839029950734), (39.847460953113135, 116.28384916733964), (39.847818481383676, 116.28274725195551), (39.847818481383676, 116.28274725195551), (39.84814845681609, 116.28489724219902), (39.85439111945372, 116.28782654328006), (39.85642536147953, 116.29422317663187), (39.85672680138456, 116.29962494494764), (40.247581087749836, 116.1264489803427)]\n",
      "tensor([39.8444, 39.8471, 39.8464, 39.8475, 39.8478, 39.8478, 39.8481, 39.8544,\n",
      "        39.8564])\n",
      "tensor([116.2775, 116.2850, 116.2839, 116.2839, 116.2827, 116.2827, 116.2849,\n",
      "        116.2878, 116.2942])\n",
      "[tensor(39.8567), tensor(40.2476)]\n",
      "[tensor(116.2996), tensor(116.1264)]\n",
      "over\n",
      "[(39.84710342182161, 116.28495104842855), (39.84641591742291, 116.2839029950734), (39.847460953113135, 116.28384916733964), (39.847818481383676, 116.28274725195551), (39.847818481383676, 116.28274725195551), (39.84814845681609, 116.28489724219902), (39.85439111945372, 116.28782654328006), (39.85642536147953, 116.29422317663187), (39.85672680138456, 116.29962494494764), (39.857027966266, 116.30502632149087), (40.285582004066995, 116.07285983821609)]\n",
      "tensor([39.8471, 39.8464, 39.8475, 39.8478, 39.8478, 39.8481, 39.8544, 39.8564,\n",
      "        39.8567])\n",
      "tensor([116.2850, 116.2839, 116.2839, 116.2827, 116.2827, 116.2849, 116.2878,\n",
      "        116.2942, 116.2996])\n",
      "[tensor(39.8570), tensor(40.2856)]\n",
      "[tensor(116.3050), tensor(116.0729)]\n",
      "over\n",
      "[(39.84641591742291, 116.2839029950734), (39.847460953113135, 116.28384916733964), (39.847818481383676, 116.28274725195551), (39.847818481383676, 116.28274725195551), (39.84814845681609, 116.28489724219902), (39.85439111945372, 116.28782654328006), (39.85642536147953, 116.29422317663187), (39.85672680138456, 116.29962494494764), (39.857027966266, 116.30502632149087), (39.85664173205775, 116.30937911926767), (40.43520562640392, 115.97754634550735)]\n",
      "tensor([39.8464, 39.8475, 39.8478, 39.8478, 39.8481, 39.8544, 39.8564, 39.8567,\n",
      "        39.8570])\n",
      "tensor([116.2839, 116.2839, 116.2827, 116.2827, 116.2849, 116.2878, 116.2942,\n",
      "        116.2996, 116.3050])\n",
      "[tensor(39.8566), tensor(40.4352)]\n",
      "[tensor(116.3094), tensor(115.9775)]\n",
      "over\n",
      "[(39.847460953113135, 116.28384916733964), (39.847818481383676, 116.28274725195551), (39.847818481383676, 116.28274725195551), (39.84814845681609, 116.28489724219902), (39.85439111945372, 116.28782654328006), (39.85642536147953, 116.29422317663187), (39.85672680138456, 116.29962494494764), (39.857027966266, 116.30502632149087), (39.85664173205775, 116.30937911926767), (39.8573288561799, 116.31042730620815), (40.35092827535528, 116.02088328344657)]\n",
      "tensor([39.8475, 39.8478, 39.8478, 39.8481, 39.8544, 39.8564, 39.8567, 39.8570,\n",
      "        39.8566])\n",
      "tensor([116.2839, 116.2827, 116.2827, 116.2849, 116.2878, 116.2942, 116.2996,\n",
      "        116.3050, 116.3094])\n",
      "[tensor(39.8573), tensor(40.3509)]\n",
      "[tensor(116.3104), tensor(116.0209)]\n",
      "over\n",
      "[(39.847818481383676, 116.28274725195551), (39.847818481383676, 116.28274725195551), (39.84814845681609, 116.28489724219902), (39.85439111945372, 116.28782654328006), (39.85642536147953, 116.29422317663187), (39.85672680138456, 116.29962494494764), (39.857027966266, 116.30502632149087), (39.85664173205775, 116.30937911926767), (39.8573288561799, 116.31042730620815), (39.86500165040914, 116.308952671613), (40.247581087749836, 116.1264489803427)]\n",
      "tensor([39.8478, 39.8478, 39.8481, 39.8544, 39.8564, 39.8567, 39.8570, 39.8566,\n",
      "        39.8573])\n",
      "tensor([116.2827, 116.2827, 116.2849, 116.2878, 116.2942, 116.2996, 116.3050,\n",
      "        116.3094, 116.3104])\n",
      "[tensor(39.8650), tensor(40.2476)]\n",
      "[tensor(116.3090), tensor(116.1264)]\n",
      "over\n",
      "[(39.847818481383676, 116.28274725195551), (39.84814845681609, 116.28489724219902), (39.85439111945372, 116.28782654328006), (39.85642536147953, 116.29422317663187), (39.85672680138456, 116.29962494494764), (39.857027966266, 116.30502632149087), (39.85664173205775, 116.30937911926767), (39.8573288561799, 116.31042730620815), (39.86500165040914, 116.308952671613), (39.86500165040914, 116.308952671613), (40.183228352009415, 116.19443727402617)]\n",
      "tensor([39.8478, 39.8481, 39.8544, 39.8564, 39.8567, 39.8570, 39.8566, 39.8573,\n",
      "        39.8650])\n",
      "tensor([116.2827, 116.2849, 116.2878, 116.2942, 116.2996, 116.3050, 116.3094,\n",
      "        116.3104, 116.3090])\n",
      "[tensor(39.8650), tensor(40.1832)]\n",
      "[tensor(116.3090), tensor(116.1944)]\n",
      "over\n",
      "[(39.84814845681609, 116.28489724219902), (39.85439111945372, 116.28782654328006), (39.85642536147953, 116.29422317663187), (39.85672680138456, 116.29962494494764), (39.857027966266, 116.30502632149087), (39.85664173205775, 116.30937911926767), (39.8573288561799, 116.31042730620815), (39.86500165040914, 116.308952671613), (39.86500165040914, 116.308952671613), (39.869897799746965, 116.30653579925651), (40.230873505736604, 116.11751679404945)]\n",
      "tensor([39.8481, 39.8544, 39.8564, 39.8567, 39.8570, 39.8566, 39.8573, 39.8650,\n",
      "        39.8650])\n",
      "tensor([116.2849, 116.2878, 116.2942, 116.2996, 116.3050, 116.3094, 116.3104,\n",
      "        116.3090, 116.3090])\n",
      "[tensor(39.8699), tensor(40.2309)]\n",
      "[tensor(116.3065), tensor(116.1175)]\n",
      "over\n",
      "[(39.85439111945372, 116.28782654328006), (39.85642536147953, 116.29422317663187), (39.85672680138456, 116.29962494494764), (39.857027966266, 116.30502632149087), (39.85664173205775, 116.30937911926767), (39.8573288561799, 116.31042730620815), (39.86500165040914, 116.308952671613), (39.86500165040914, 116.308952671613), (39.869897799746965, 116.30653579925651), (39.87616865128779, 116.30621553228393), (40.4155861615499, 115.93904724436425)]\n",
      "tensor([39.8544, 39.8564, 39.8567, 39.8570, 39.8566, 39.8573, 39.8650, 39.8650,\n",
      "        39.8699])\n",
      "tensor([116.2878, 116.2942, 116.2996, 116.3050, 116.3094, 116.3104, 116.3090,\n",
      "        116.3090, 116.3065])\n",
      "[tensor(39.8762), tensor(40.4156)]\n",
      "[tensor(116.3062), tensor(115.9390)]\n",
      "over\n",
      "[(39.85642536147953, 116.29422317663187), (39.85672680138456, 116.29962494494764), (39.857027966266, 116.30502632149087), (39.85664173205775, 116.30937911926767), (39.8573288561799, 116.31042730620815), (39.86500165040914, 116.308952671613), (39.86500165040914, 116.308952671613), (39.869897799746965, 116.30653579925651), (39.87616865128779, 116.30621553228393), (39.88279801911122, 116.30479305126885), (40.230873505736604, 116.11751679404945)]\n",
      "tensor([39.8564, 39.8567, 39.8570, 39.8566, 39.8573, 39.8650, 39.8650, 39.8699,\n",
      "        39.8762])\n",
      "tensor([116.2942, 116.2996, 116.3050, 116.3094, 116.3104, 116.3090, 116.3090,\n",
      "        116.3065, 116.3062])\n",
      "[tensor(39.8828), tensor(40.2309)]\n",
      "[tensor(116.3048), tensor(116.1175)]\n",
      "over\n",
      "[(39.85672680138456, 116.29962494494764), (39.857027966266, 116.30502632149087), (39.85664173205775, 116.30937911926767), (39.8573288561799, 116.31042730620815), (39.86500165040914, 116.308952671613), (39.86500165040914, 116.308952671613), (39.869897799746965, 116.30653579925651), (39.87616865128779, 116.30621553228393), (39.88279801911122, 116.30479305126885), (39.88697914584483, 116.30457934722538), (40.4155861615499, 115.93904724436425)]\n",
      "tensor([39.8567, 39.8570, 39.8566, 39.8573, 39.8650, 39.8650, 39.8699, 39.8762,\n",
      "        39.8828])\n",
      "tensor([116.2996, 116.3050, 116.3094, 116.3104, 116.3090, 116.3090, 116.3065,\n",
      "        116.3062, 116.3048])\n",
      "[tensor(39.8870), tensor(40.4156)]\n",
      "[tensor(116.3046), tensor(115.9390)]\n",
      "over\n",
      "[(39.857027966266, 116.30502632149087), (39.85664173205775, 116.30937911926767), (39.8573288561799, 116.31042730620815), (39.86500165040914, 116.308952671613), (39.86500165040914, 116.308952671613), (39.869897799746965, 116.30653579925651), (39.87616865128779, 116.30621553228393), (39.88279801911122, 116.30479305126885), (39.88697914584483, 116.30457934722538), (39.896387358542285, 116.30409838308913), (40.43451459331309, 115.97648531343592)]\n",
      "tensor([39.8570, 39.8566, 39.8573, 39.8650, 39.8650, 39.8699, 39.8762, 39.8828,\n",
      "        39.8870])\n",
      "tensor([116.3050, 116.3094, 116.3104, 116.3090, 116.3090, 116.3065, 116.3062,\n",
      "        116.3048, 116.3046])\n",
      "[tensor(39.8964), tensor(40.4345)]\n",
      "[tensor(116.3041), tensor(115.9765)]\n",
      "over\n",
      "[(39.85664173205775, 116.30937911926767), (39.8573288561799, 116.31042730620815), (39.86500165040914, 116.308952671613), (39.86500165040914, 116.308952671613), (39.869897799746965, 116.30653579925651), (39.87616865128779, 116.30621553228393), (39.88279801911122, 116.30479305126885), (39.88697914584483, 116.30457934722538), (39.896387358542285, 116.30409838308913), (39.90334716047146, 116.30482678473085), (40.43046875757984, 115.96020284272846)]\n",
      "tensor([39.8566, 39.8573, 39.8650, 39.8650, 39.8699, 39.8762, 39.8828, 39.8870,\n",
      "        39.8964])\n",
      "tensor([116.3094, 116.3104, 116.3090, 116.3090, 116.3065, 116.3062, 116.3048,\n",
      "        116.3046, 116.3041])\n",
      "[tensor(39.9033), tensor(40.4305)]\n",
      "[tensor(116.3048), tensor(115.9602)]\n",
      "over\n",
      "[(39.8573288561799, 116.31042730620815), (39.86500165040914, 116.308952671613), (39.86500165040914, 116.308952671613), (39.869897799746965, 116.30653579925651), (39.87616865128779, 116.30621553228393), (39.88279801911122, 116.30479305126885), (39.88697914584483, 116.30457934722538), (39.896387358542285, 116.30409838308913), (39.90334716047146, 116.30482678473085), (39.9085746941719, 116.30455954562085), (40.247581087749836, 116.1264489803427)]\n",
      "tensor([39.8573, 39.8650, 39.8650, 39.8699, 39.8762, 39.8828, 39.8870, 39.8964,\n",
      "        39.9033])\n",
      "tensor([116.3104, 116.3090, 116.3090, 116.3065, 116.3062, 116.3048, 116.3046,\n",
      "        116.3041, 116.3048])\n",
      "[tensor(39.9086), tensor(40.2476)]\n",
      "[tensor(116.3046), tensor(116.1264)]\n",
      "over\n",
      "[(39.86500165040914, 116.308952671613), (39.86500165040914, 116.308952671613), (39.869897799746965, 116.30653579925651), (39.87616865128779, 116.30621553228393), (39.88279801911122, 116.30479305126885), (39.88697914584483, 116.30457934722538), (39.896387358542285, 116.30409838308913), (39.90334716047146, 116.30482678473085), (39.9085746941719, 116.30455954562085), (39.91380251717806, 116.30429225089736), (40.247581087749836, 116.1264489803427)]\n",
      "tensor([39.8650, 39.8650, 39.8699, 39.8762, 39.8828, 39.8870, 39.8964, 39.9033,\n",
      "        39.9086])\n",
      "tensor([116.3090, 116.3090, 116.3065, 116.3062, 116.3048, 116.3046, 116.3041,\n",
      "        116.3048, 116.3046])\n",
      "[tensor(39.9138), tensor(40.2476)]\n",
      "[tensor(116.3043), tensor(116.1264)]\n",
      "over\n",
      "[(39.86500165040914, 116.308952671613), (39.869897799746965, 116.30653579925651), (39.87616865128779, 116.30621553228393), (39.88279801911122, 116.30479305126885), (39.88697914584483, 116.30457934722538), (39.896387358542285, 116.30409838308913), (39.90334716047146, 116.30482678473085), (39.9085746941719, 116.30455954562085), (39.91380251717806, 116.30429225089736), (39.921809065820334, 116.30496746672239), (40.285582004066995, 116.07285983821609)]\n",
      "tensor([39.8650, 39.8699, 39.8762, 39.8828, 39.8870, 39.8964, 39.9033, 39.9086,\n",
      "        39.9138])\n",
      "tensor([116.3090, 116.3065, 116.3062, 116.3048, 116.3046, 116.3041, 116.3048,\n",
      "        116.3046, 116.3043])\n",
      "[tensor(39.9218), tensor(40.2856)]\n",
      "[tensor(116.3050), tensor(116.0729)]\n",
      "over\n",
      "[(39.869897799746965, 116.30653579925651), (39.87616865128779, 116.30621553228393), (39.88279801911122, 116.30479305126885), (39.88697914584483, 116.30457934722538), (39.896387358542285, 116.30409838308913), (39.90334716047146, 116.30482678473085), (39.9085746941719, 116.30455954562085), (39.91380251717806, 116.30429225089736), (39.921809065820334, 116.30496746672239), (39.925991853393356, 116.30475361482868), (40.230873505736604, 116.11751679404945)]\n",
      "tensor([39.8699, 39.8762, 39.8828, 39.8870, 39.8964, 39.9033, 39.9086, 39.9138,\n",
      "        39.9218])\n",
      "tensor([116.3065, 116.3062, 116.3048, 116.3046, 116.3041, 116.3048, 116.3046,\n",
      "        116.3043, 116.3050])\n",
      "[tensor(39.9260), tensor(40.2309)]\n",
      "[tensor(116.3048), tensor(116.1175)]\n",
      "over\n",
      "[(39.87616865128779, 116.30621553228393), (39.88279801911122, 116.30479305126885), (39.88697914584483, 116.30457934722538), (39.896387358542285, 116.30409838308913), (39.90334716047146, 116.30482678473085), (39.9085746941719, 116.30455954562085), (39.91380251717806, 116.30429225089736), (39.921809065820334, 116.30496746672239), (39.925991853393356, 116.30475361482868), (39.9301748259845, 116.304539727321), (40.20090981811669, 116.17491826410459)]\n",
      "tensor([39.8762, 39.8828, 39.8870, 39.8964, 39.9033, 39.9086, 39.9138, 39.9218,\n",
      "        39.9260])\n",
      "tensor([116.3062, 116.3048, 116.3046, 116.3041, 116.3048, 116.3046, 116.3043,\n",
      "        116.3050, 116.3048])\n",
      "[tensor(39.9302), tensor(40.2009)]\n",
      "[tensor(116.3045), tensor(116.1749)]\n",
      "over\n",
      "[(39.88279801911122, 116.30479305126885), (39.88697914584483, 116.30457934722538), (39.896387358542285, 116.30409838308913), (39.90334716047146, 116.30482678473085), (39.9085746941719, 116.30455954562085), (39.91380251717806, 116.30429225089736), (39.921809065820334, 116.30496746672239), (39.925991853393356, 116.30475361482868), (39.9301748259845, 116.304539727321), (39.936449631709124, 116.30421882926366), (40.247581087749836, 116.1264489803427)]\n",
      "tensor([39.8828, 39.8870, 39.8964, 39.9033, 39.9086, 39.9138, 39.9218, 39.9260,\n",
      "        39.9302])\n",
      "tensor([116.3048, 116.3046, 116.3041, 116.3048, 116.3046, 116.3043, 116.3050,\n",
      "        116.3048, 116.3045])\n",
      "[tensor(39.9365), tensor(40.2476)]\n",
      "[tensor(116.3042), tensor(116.1264)]\n",
      "over\n",
      "[(39.88697914584483, 116.30457934722538), (39.896387358542285, 116.30409838308913), (39.90334716047146, 116.30482678473085), (39.9085746941719, 116.30455954562085), (39.91380251717806, 116.30429225089736), (39.921809065820334, 116.30496746672239), (39.925991853393356, 116.30475361482868), (39.9301748259845, 116.304539727321), (39.936449631709124, 116.30421882926366), (39.94481668660209, 116.30379084045508), (40.21731845384066, 116.14342059179461)]\n",
      "tensor([39.8870, 39.8964, 39.9033, 39.9086, 39.9138, 39.9218, 39.9260, 39.9302,\n",
      "        39.9365])\n",
      "tensor([116.3046, 116.3041, 116.3048, 116.3046, 116.3043, 116.3050, 116.3048,\n",
      "        116.3045, 116.3042])\n",
      "[tensor(39.9448), tensor(40.2173)]\n",
      "[tensor(116.3038), tensor(116.1434)]\n",
      "over\n",
      "[(39.896387358542285, 116.30409838308913), (39.90334716047146, 116.30482678473085), (39.9085746941719, 116.30455954562085), (39.91380251717806, 116.30429225089736), (39.921809065820334, 116.30496746672239), (39.925991853393356, 116.30475361482868), (39.9301748259845, 116.304539727321), (39.936449631709124, 116.30421882926366), (39.94481668660209, 116.30379084045508), (39.95109246307458, 116.30346975526062), (40.230873505736604, 116.11751679404945)]\n",
      "tensor([39.8964, 39.9033, 39.9086, 39.9138, 39.9218, 39.9260, 39.9302, 39.9365,\n",
      "        39.9448])\n",
      "tensor([116.3041, 116.3048, 116.3046, 116.3043, 116.3050, 116.3048, 116.3045,\n",
      "        116.3042, 116.3038])\n",
      "[tensor(39.9511), tensor(40.2309)]\n",
      "[tensor(116.3035), tensor(116.1175)]\n",
      "over\n",
      "[(39.90334716047146, 116.30482678473085), (39.9085746941719, 116.30455954562085), (39.91380251717806, 116.30429225089736), (39.921809065820334, 116.30496746672239), (39.925991853393356, 116.30475361482868), (39.9301748259845, 116.304539727321), (39.936449631709124, 116.30421882926366), (39.94481668660209, 116.30379084045508), (39.95109246307458, 116.30346975526062), (39.955276545091806, 116.30325565388188), (40.21731845384066, 116.14342059179461)]\n",
      "tensor([39.9033, 39.9086, 39.9138, 39.9218, 39.9260, 39.9302, 39.9365, 39.9448,\n",
      "        39.9511])\n",
      "tensor([116.3048, 116.3046, 116.3043, 116.3050, 116.3048, 116.3045, 116.3042,\n",
      "        116.3038, 116.3035])\n",
      "[tensor(39.9553), tensor(40.2173)]\n",
      "[tensor(116.3033), tensor(116.1434)]\n",
      "over\n",
      "[(39.9085746941719, 116.30455954562085), (39.91380251717806, 116.30429225089736), (39.921809065820334, 116.30496746672239), (39.925991853393356, 116.30475361482868), (39.9301748259845, 116.304539727321), (39.936449631709124, 116.30421882926366), (39.94481668660209, 116.30379084045508), (39.95109246307458, 116.30346975526062), (39.955276545091806, 116.30325565388188), (39.96155301458954, 116.30293443491787), (40.21731845384066, 116.14342059179461)]\n",
      "tensor([39.9086, 39.9138, 39.9218, 39.9260, 39.9302, 39.9365, 39.9448, 39.9511,\n",
      "        39.9553])\n",
      "tensor([116.3046, 116.3043, 116.3050, 116.3048, 116.3045, 116.3042, 116.3038,\n",
      "        116.3035, 116.3033])\n",
      "[tensor(39.9616), tensor(40.2173)]\n",
      "[tensor(116.3029), tensor(116.1434)]\n",
      "over\n",
      "[(39.91380251717806, 116.30429225089736), (39.921809065820334, 116.30496746672239), (39.925991853393356, 116.30475361482868), (39.9301748259845, 116.304539727321), (39.936449631709124, 116.30421882926366), (39.94481668660209, 116.30379084045508), (39.95109246307458, 116.30346975526062), (39.955276545091806, 116.30325565388188), (39.96155301458954, 116.30293443491787), (39.964925528806006, 116.31470212638031), (40.247581087749836, 116.1264489803427)]\n",
      "tensor([39.9138, 39.9218, 39.9260, 39.9302, 39.9365, 39.9448, 39.9511, 39.9553,\n",
      "        39.9616])\n",
      "tensor([116.3043, 116.3050, 116.3048, 116.3045, 116.3042, 116.3038, 116.3035,\n",
      "        116.3033, 116.3029])\n",
      "[tensor(39.9649), tensor(40.2476)]\n",
      "[tensor(116.3147), tensor(116.1264)]\n",
      "over\n",
      "[(39.921809065820334, 116.30496746672239), (39.925991853393356, 116.30475361482868), (39.9301748259845, 116.304539727321), (39.936449631709124, 116.30421882926366), (39.94481668660209, 116.30379084045508), (39.95109246307458, 116.30346975526062), (39.955276545091806, 116.30325565388188), (39.96155301458954, 116.30293443491787), (39.964925528806006, 116.31470212638031), (39.964925528806006, 116.31470212638031), (40.247581087749836, 116.1264489803427)]\n",
      "tensor([39.9218, 39.9260, 39.9302, 39.9365, 39.9448, 39.9511, 39.9553, 39.9616,\n",
      "        39.9649])\n",
      "tensor([116.3050, 116.3048, 116.3045, 116.3042, 116.3038, 116.3035, 116.3033,\n",
      "        116.3029, 116.3147])\n",
      "[tensor(39.9649), tensor(40.2476)]\n",
      "[tensor(116.3147), tensor(116.1264)]\n",
      "over\n",
      "[(39.925991853393356, 116.30475361482868), (39.9301748259845, 116.304539727321), (39.936449631709124, 116.30421882926366), (39.94481668660209, 116.30379084045508), (39.95109246307458, 116.30346975526062), (39.955276545091806, 116.30325565388188), (39.96155301458954, 116.30293443491787), (39.964925528806006, 116.31470212638031), (39.964925528806006, 116.31470212638031), (39.96525324542594, 116.31685616449424), (40.20090981811669, 116.17491826410459)]\n",
      "tensor([39.9260, 39.9302, 39.9365, 39.9448, 39.9511, 39.9553, 39.9616, 39.9649,\n",
      "        39.9649])\n",
      "tensor([116.3048, 116.3045, 116.3042, 116.3038, 116.3035, 116.3033, 116.3029,\n",
      "        116.3147, 116.3147])\n",
      "[tensor(39.9653), tensor(40.2009)]\n",
      "[tensor(116.3169), tensor(116.1749)]\n",
      "over\n",
      "[(39.9301748259845, 116.304539727321), (39.936449631709124, 116.30421882926366), (39.94481668660209, 116.30379084045508), (39.95109246307458, 116.30346975526062), (39.955276545091806, 116.30325565388188), (39.96155301458954, 116.30293443491787), (39.964925528806006, 116.31470212638031), (39.964925528806006, 116.31470212638031), (39.96525324542594, 116.31685616449424), (39.96525324542594, 116.31685616449424), (40.18713196673265, 116.18876784718599)]\n",
      "tensor([39.9302, 39.9365, 39.9448, 39.9511, 39.9553, 39.9616, 39.9649, 39.9649,\n",
      "        39.9653])\n",
      "tensor([116.3045, 116.3042, 116.3038, 116.3035, 116.3033, 116.3029, 116.3147,\n",
      "        116.3147, 116.3169])\n",
      "[tensor(39.9653), tensor(40.1871)]\n",
      "[tensor(116.3169), tensor(116.1888)]\n",
      "over\n",
      "[(39.936449631709124, 116.30421882926366), (39.94481668660209, 116.30379084045508), (39.95109246307458, 116.30346975526062), (39.955276545091806, 116.30325565388188), (39.96155301458954, 116.30293443491787), (39.964925528806006, 116.31470212638031), (39.964925528806006, 116.31470212638031), (39.96525324542594, 116.31685616449424), (39.96525324542594, 116.31685616449424), (39.96587686305433, 116.32442149158607), (40.239505571548214, 116.12908055888796)]\n",
      "tensor([39.9365, 39.9448, 39.9511, 39.9553, 39.9616, 39.9649, 39.9649, 39.9653,\n",
      "        39.9653])\n",
      "tensor([116.3042, 116.3038, 116.3035, 116.3033, 116.3029, 116.3147, 116.3147,\n",
      "        116.3169, 116.3169])\n",
      "[tensor(39.9659), tensor(40.2395)]\n",
      "[tensor(116.3244), tensor(116.1291)]\n",
      "over\n",
      "[(39.94481668660209, 116.30379084045508), (39.95109246307458, 116.30346975526062), (39.955276545091806, 116.30325565388188), (39.96155301458954, 116.30293443491787), (39.964925528806006, 116.31470212638031), (39.964925528806006, 116.31470212638031), (39.96525324542594, 116.31685616449424), (39.96525324542594, 116.31685616449424), (39.96587686305433, 116.32442149158607), (39.96581326206775, 116.33093575365604), (40.21731845384066, 116.14342059179461)]\n",
      "tensor([39.9448, 39.9511, 39.9553, 39.9616, 39.9649, 39.9649, 39.9653, 39.9653,\n",
      "        39.9659])\n",
      "tensor([116.3038, 116.3035, 116.3033, 116.3029, 116.3147, 116.3147, 116.3169,\n",
      "        116.3169, 116.3244])\n",
      "[tensor(39.9658), tensor(40.2173)]\n",
      "[tensor(116.3309), tensor(116.1434)]\n",
      "over\n",
      "[(39.95109246307458, 116.30346975526062), (39.955276545091806, 116.30325565388188), (39.96155301458954, 116.30293443491787), (39.964925528806006, 116.31470212638031), (39.964925528806006, 116.31470212638031), (39.96525324542594, 116.31685616449424), (39.96525324542594, 116.31685616449424), (39.96587686305433, 116.32442149158607), (39.96581326206775, 116.33093575365604), (39.96604434759906, 116.34285924170422), (40.18713196673265, 116.18876784718599)]\n",
      "tensor([39.9511, 39.9553, 39.9616, 39.9649, 39.9649, 39.9653, 39.9653, 39.9659,\n",
      "        39.9658])\n",
      "tensor([116.3035, 116.3033, 116.3029, 116.3147, 116.3147, 116.3169, 116.3169,\n",
      "        116.3244, 116.3309])\n",
      "[tensor(39.9660), tensor(40.1871)]\n",
      "[tensor(116.3429), tensor(116.1888)]\n",
      "over\n",
      "[(39.955276545091806, 116.30325565388188), (39.96155301458954, 116.30293443491787), (39.964925528806006, 116.31470212638031), (39.964925528806006, 116.31470212638031), (39.96525324542594, 116.31685616449424), (39.96525324542594, 116.31685616449424), (39.96587686305433, 116.32442149158607), (39.96581326206775, 116.33093575365604), (39.96604434759906, 116.34285924170422), (39.96529330736006, 116.34832133529638), (40.230873505736604, 116.11751679404945)]\n",
      "tensor([39.9553, 39.9616, 39.9649, 39.9649, 39.9653, 39.9653, 39.9659, 39.9658,\n",
      "        39.9660])\n",
      "tensor([116.3033, 116.3029, 116.3147, 116.3147, 116.3169, 116.3169, 116.3244,\n",
      "        116.3309, 116.3429])\n",
      "[tensor(39.9653), tensor(40.2309)]\n",
      "[tensor(116.3483), tensor(116.1175)]\n",
      "over\n",
      "[(39.96155301458954, 116.30293443491787), (39.964925528806006, 116.31470212638031), (39.964925528806006, 116.31470212638031), (39.96525324542594, 116.31685616449424), (39.96525324542594, 116.31685616449424), (39.96587686305433, 116.32442149158607), (39.96581326206775, 116.33093575365604), (39.96604434759906, 116.34285924170422), (39.96529330736006, 116.34832133529638), (39.97052246951894, 116.34805839289115), (39.92765185898259, 116.35021290538576)]\n",
      "tensor([39.9616, 39.9649, 39.9649, 39.9653, 39.9653, 39.9659, 39.9658, 39.9660,\n",
      "        39.9653])\n",
      "tensor([116.3029, 116.3147, 116.3147, 116.3169, 116.3169, 116.3244, 116.3309,\n",
      "        116.3429, 116.3483])\n",
      "[tensor(39.9705), tensor(39.9277)]\n",
      "[tensor(116.3481), tensor(116.3502)]\n",
      "over\n",
      "[(39.964925528806006, 116.31470212638031), (39.964925528806006, 116.31470212638031), (39.96525324542594, 116.31685616449424), (39.96525324542594, 116.31685616449424), (39.96587686305433, 116.32442149158607), (39.96581326206775, 116.33093575365604), (39.96604434759906, 116.34285924170422), (39.96529330736006, 116.34832133529638), (39.97052246951894, 116.34805839289115), (39.974706006893385, 116.34784799953424), (40.43451459331309, 115.97648531343592)]\n",
      "tensor([39.9649, 39.9649, 39.9653, 39.9653, 39.9659, 39.9658, 39.9660, 39.9653,\n",
      "        39.9705])\n",
      "tensor([116.3147, 116.3147, 116.3169, 116.3169, 116.3244, 116.3309, 116.3429,\n",
      "        116.3483, 116.3481])\n",
      "[tensor(39.9747), tensor(40.4345)]\n",
      "[tensor(116.3478), tensor(115.9765)]\n",
      "over\n",
      "[(39.964925528806006, 116.31470212638031), (39.96525324542594, 116.31685616449424), (39.96525324542594, 116.31685616449424), (39.96587686305433, 116.32442149158607), (39.96581326206775, 116.33093575365604), (39.96604434759906, 116.34285924170422), (39.96529330736006, 116.34832133529638), (39.97052246951894, 116.34805839289115), (39.974706006893385, 116.34784799953424), (39.98202764132868, 116.34747972678939), (39.98307363523, 116.34742710762933)]\n",
      "tensor([39.9649, 39.9653, 39.9653, 39.9659, 39.9658, 39.9660, 39.9653, 39.9705,\n",
      "        39.9747])\n",
      "tensor([116.3147, 116.3169, 116.3169, 116.3244, 116.3309, 116.3429, 116.3483,\n",
      "        116.3481, 116.3478])\n",
      "[tensor(39.9820), tensor(39.9831)]\n",
      "[tensor(116.3475), tensor(116.3474)]\n",
      "over\n",
      "[(39.96525324542594, 116.31685616449424), (39.96525324542594, 116.31685616449424), (39.96587686305433, 116.32442149158607), (39.96581326206775, 116.33093575365604), (39.96604434759906, 116.34285924170422), (39.96529330736006, 116.34832133529638), (39.97052246951894, 116.34805839289115), (39.974706006893385, 116.34784799953424), (39.98202764132868, 116.34747972678939), (39.97993568811714, 116.34758495853285), (40.285582004066995, 116.07285983821609)]\n",
      "tensor([39.9653, 39.9653, 39.9659, 39.9658, 39.9660, 39.9653, 39.9705, 39.9747,\n",
      "        39.9820])\n",
      "tensor([116.3169, 116.3169, 116.3244, 116.3309, 116.3429, 116.3483, 116.3481,\n",
      "        116.3478, 116.3475])\n",
      "[tensor(39.9799), tensor(40.2856)]\n",
      "[tensor(116.3476), tensor(116.0729)]\n",
      "over\n",
      "[(39.96525324542594, 116.31685616449424), (39.96587686305433, 116.32442149158607), (39.96581326206775, 116.33093575365604), (39.96604434759906, 116.34285924170422), (39.96529330736006, 116.34832133529638), (39.97052246951894, 116.34805839289115), (39.974706006893385, 116.34784799953424), (39.98202764132868, 116.34747972678939), (39.97993568811714, 116.34758495853285), (39.97993568811714, 116.34758495853285), (39.981471388239264, 116.33339912942208)]\n",
      "tensor([39.9653, 39.9659, 39.9658, 39.9660, 39.9653, 39.9705, 39.9747, 39.9820,\n",
      "        39.9799])\n",
      "tensor([116.3169, 116.3244, 116.3309, 116.3429, 116.3483, 116.3481, 116.3478,\n",
      "        116.3475, 116.3476])\n",
      "[tensor(39.9799), tensor(39.9815)]\n",
      "[tensor(116.3476), tensor(116.3334)]\n",
      "over\n",
      "[(39.96587686305433, 116.32442149158607), (39.96581326206775, 116.33093575365604), (39.96604434759906, 116.34285924170422), (39.96529330736006, 116.34832133529638), (39.97052246951894, 116.34805839289115), (39.974706006893385, 116.34784799953424), (39.98202764132868, 116.34747972678939), (39.97993568811714, 116.34758495853285), (39.97993568811714, 116.34758495853285), (39.98065480187772, 116.34537847775385), (40.43451459331309, 115.97648531343592)]\n",
      "tensor([39.9659, 39.9658, 39.9660, 39.9653, 39.9705, 39.9747, 39.9820, 39.9799,\n",
      "        39.9799])\n",
      "tensor([116.3244, 116.3309, 116.3429, 116.3483, 116.3481, 116.3478, 116.3475,\n",
      "        116.3476, 116.3476])\n",
      "[tensor(39.9807), tensor(40.4345)]\n",
      "[tensor(116.3454), tensor(115.9765)]\n",
      "over\n",
      "[(39.96581326206775, 116.33093575365604), (39.96604434759906, 116.34285924170422), (39.96529330736006, 116.34832133529638), (39.97052246951894, 116.34805839289115), (39.974706006893385, 116.34784799953424), (39.98202764132868, 116.34747972678939), (39.97993568811714, 116.34758495853285), (39.97993568811714, 116.34758495853285), (39.98065480187772, 116.34537847775385), (39.97996835797807, 116.34432786967562), (39.98173344990935, 116.34206849815882)]\n",
      "tensor([39.9658, 39.9660, 39.9653, 39.9705, 39.9747, 39.9820, 39.9799, 39.9799,\n",
      "        39.9807])\n",
      "tensor([116.3309, 116.3429, 116.3483, 116.3481, 116.3478, 116.3475, 116.3476,\n",
      "        116.3476, 116.3454])\n",
      "[tensor(39.9800), tensor(39.9817)]\n",
      "[tensor(116.3443), tensor(116.3421)]\n",
      "over\n",
      "[(39.96604434759906, 116.34285924170422), (39.96529330736006, 116.34832133529638), (39.97052246951894, 116.34805839289115), (39.974706006893385, 116.34784799953424), (39.98202764132868, 116.34747972678939), (39.97993568811714, 116.34758495853285), (39.97993568811714, 116.34758495853285), (39.98065480187772, 116.34537847775385), (39.97996835797807, 116.34432786967562), (39.98032789500629, 116.3432245669511), (39.97996835797807, 116.34432786967562)]\n",
      "tensor([39.9660, 39.9653, 39.9705, 39.9747, 39.9820, 39.9799, 39.9799, 39.9807,\n",
      "        39.9800])\n",
      "tensor([116.3429, 116.3483, 116.3481, 116.3478, 116.3475, 116.3476, 116.3476,\n",
      "        116.3454, 116.3443])\n",
      "[tensor(39.9803), tensor(39.9800)]\n",
      "[tensor(116.3432), tensor(116.3443)]\n",
      "over\n",
      "[(39.96529330736006, 116.34832133529638), (39.97052246951894, 116.34805839289115), (39.974706006893385, 116.34784799953424), (39.98202764132868, 116.34747972678939), (39.97993568811714, 116.34758495853285), (39.97993568811714, 116.34758495853285), (39.98065480187772, 116.34537847775385), (39.97996835797807, 116.34432786967562), (39.98032789500629, 116.3432245669511), (39.980687429018815, 116.34212122976982), (39.89730971972781, 116.35498607116403)]\n",
      "tensor([39.9653, 39.9705, 39.9747, 39.9820, 39.9799, 39.9799, 39.9807, 39.9800,\n",
      "        39.9803])\n",
      "tensor([116.3483, 116.3481, 116.3478, 116.3475, 116.3476, 116.3476, 116.3454,\n",
      "        116.3443, 116.3432])\n",
      "[tensor(39.9807), tensor(39.8973)]\n",
      "[tensor(116.3421), tensor(116.3550)]\n",
      "over\n",
      "[(39.97052246951894, 116.34805839289115), (39.974706006893385, 116.34784799953424), (39.98202764132868, 116.34747972678939), (39.97993568811714, 116.34758495853285), (39.97993568811714, 116.34758495853285), (39.98065480187772, 116.34537847775385), (39.97996835797807, 116.34432786967562), (39.98032789500629, 116.3432245669511), (39.980687429018815, 116.34212122976982), (39.98036045400415, 116.33996722906653), (39.98421768672636, 116.33760188054308)]\n",
      "tensor([39.9705, 39.9747, 39.9820, 39.9799, 39.9799, 39.9807, 39.9800, 39.9803,\n",
      "        39.9807])\n",
      "tensor([116.3481, 116.3478, 116.3475, 116.3476, 116.3476, 116.3454, 116.3443,\n",
      "        116.3432, 116.3421])\n",
      "[tensor(39.9804), tensor(39.9842)]\n",
      "[tensor(116.3400), tensor(116.3376)]\n",
      "over\n",
      "[(39.974706006893385, 116.34784799953424), (39.98202764132868, 116.34747972678939), (39.97993568811714, 116.34758495853285), (39.97993568811714, 116.34758495853285), (39.98065480187772, 116.34537847775385), (39.97996835797807, 116.34432786967562), (39.98032789500629, 116.3432245669511), (39.980687429018815, 116.34212122976982), (39.98036045400415, 116.33996722906653), (39.98140648799353, 116.33991445203374), (40.025910265811866, 116.31702544040907)]\n",
      "tensor([39.9747, 39.9820, 39.9799, 39.9799, 39.9807, 39.9800, 39.9803, 39.9807,\n",
      "        39.9804])\n",
      "tensor([116.3478, 116.3475, 116.3476, 116.3476, 116.3454, 116.3443, 116.3432,\n",
      "        116.3421, 116.3400])\n",
      "[tensor(39.9814), tensor(40.0259)]\n",
      "[tensor(116.3399), tensor(116.3170)]\n",
      "over\n",
      "[(39.98202764132868, 116.34747972678939), (39.97993568811714, 116.34758495853285), (39.97993568811714, 116.34758495853285), (39.98065480187772, 116.34537847775385), (39.97996835797807, 116.34432786967562), (39.98032789500629, 116.3432245669511), (39.980687429018815, 116.34212122976982), (39.98036045400415, 116.33996722906653), (39.98140648799353, 116.33991445203374), (39.98140648799353, 116.33991445203374), (39.97489992101804, 116.32830500142467)]\n",
      "tensor([39.9820, 39.9799, 39.9799, 39.9807, 39.9800, 39.9803, 39.9807, 39.9804,\n",
      "        39.9814])\n",
      "tensor([116.3475, 116.3476, 116.3476, 116.3454, 116.3443, 116.3432, 116.3421,\n",
      "        116.3400, 116.3399])\n",
      "[tensor(39.9814), tensor(39.9749)]\n",
      "[tensor(116.3399), tensor(116.3283)]\n",
      "over\n",
      "[(39.97993568811714, 116.34758495853285), (39.97993568811714, 116.34758495853285), (39.98065480187772, 116.34537847775385), (39.97996835797807, 116.34432786967562), (39.98032789500629, 116.3432245669511), (39.980687429018815, 116.34212122976982), (39.98036045400415, 116.33996722906653), (39.98140648799353, 116.33991445203374), (39.98140648799353, 116.33991445203374), (39.98140648799353, 116.33991445203374), (39.98036045400415, 116.33996722906653)]\n",
      "tensor([39.9799, 39.9799, 39.9807, 39.9800, 39.9803, 39.9807, 39.9804, 39.9814,\n",
      "        39.9814])\n",
      "tensor([116.3476, 116.3476, 116.3454, 116.3443, 116.3432, 116.3421, 116.3400,\n",
      "        116.3399, 116.3399])\n",
      "[tensor(39.9814), tensor(39.9804)]\n",
      "[tensor(116.3399), tensor(116.3400)]\n",
      "over\n",
      "[(39.97993568811714, 116.34758495853285), (39.98065480187772, 116.34537847775385), (39.97996835797807, 116.34432786967562), (39.98032789500629, 116.3432245669511), (39.980687429018815, 116.34212122976982), (39.98036045400415, 116.33996722906653), (39.98140648799353, 116.33991445203374), (39.98140648799353, 116.33991445203374), (39.98140648799353, 116.33991445203374), (39.98140648799353, 116.33991445203374), (39.98036045400415, 116.33996722906653)]\n",
      "tensor([39.9799, 39.9807, 39.9800, 39.9803, 39.9807, 39.9804, 39.9814, 39.9814,\n",
      "        39.9814])\n",
      "tensor([116.3476, 116.3454, 116.3443, 116.3432, 116.3421, 116.3400, 116.3399,\n",
      "        116.3399, 116.3399])\n",
      "[tensor(39.9814), tensor(39.9804)]\n",
      "[tensor(116.3399), tensor(116.3400)]\n",
      "over\n",
      "[(39.98065480187772, 116.34537847775385), (39.97996835797807, 116.34432786967562), (39.98032789500629, 116.3432245669511), (39.980687429018815, 116.34212122976982), (39.98036045400415, 116.33996722906653), (39.98140648799353, 116.33991445203374), (39.98140648799353, 116.33991445203374), (39.98140648799353, 116.33991445203374), (39.98140648799353, 116.33991445203374), (39.98036045400415, 116.33996722906653), (39.98036045400415, 116.33996722906653)]\n",
      "tensor([39.9807, 39.9800, 39.9803, 39.9807, 39.9804, 39.9814, 39.9814, 39.9814,\n",
      "        39.9814])\n",
      "tensor([116.3454, 116.3443, 116.3432, 116.3421, 116.3400, 116.3399, 116.3399,\n",
      "        116.3399, 116.3399])\n",
      "[tensor(39.9804), tensor(39.9804)]\n",
      "[tensor(116.3400), tensor(116.3400)]\n",
      "over\n",
      "[(39.97996835797807, 116.34432786967562), (39.98032789500629, 116.3432245669511), (39.980687429018815, 116.34212122976982), (39.98036045400415, 116.33996722906653), (39.98140648799353, 116.33991445203374), (39.98140648799353, 116.33991445203374), (39.98140648799353, 116.33991445203374), (39.98140648799353, 116.33991445203374), (39.98036045400415, 116.33996722906653), (39.98036045400415, 116.33996722906653), (39.975489908119705, 116.33912778354768)]\n",
      "tensor([39.9800, 39.9803, 39.9807, 39.9804, 39.9814, 39.9814, 39.9814, 39.9814,\n",
      "        39.9804])\n",
      "tensor([116.3443, 116.3432, 116.3421, 116.3400, 116.3399, 116.3399, 116.3399,\n",
      "        116.3399, 116.3400])\n",
      "[tensor(39.9804), tensor(39.9755)]\n",
      "[tensor(116.3400), tensor(116.3391)]\n",
      "over\n",
      "[(39.98032789500629, 116.3432245669511), (39.980687429018815, 116.34212122976982), (39.98036045400415, 116.33996722906653), (39.98140648799353, 116.33991445203374), (39.98140648799353, 116.33991445203374), (39.98140648799353, 116.33991445203374), (39.98140648799353, 116.33991445203374), (39.98036045400415, 116.33996722906653), (39.98036045400415, 116.33996722906653), (39.98036045400415, 116.33996722906653), (39.98036045400415, 116.33996722906653)]\n",
      "tensor([39.9803, 39.9807, 39.9804, 39.9814, 39.9814, 39.9814, 39.9814, 39.9804,\n",
      "        39.9804])\n",
      "tensor([116.3432, 116.3421, 116.3400, 116.3399, 116.3399, 116.3399, 116.3399,\n",
      "        116.3400, 116.3400])\n",
      "[tensor(39.9804), tensor(39.9804)]\n",
      "[tensor(116.3400), tensor(116.3400)]\n",
      "over\n",
      "[(39.980687429018815, 116.34212122976982), (39.98036045400415, 116.33996722906653), (39.98140648799353, 116.33991445203374), (39.98140648799353, 116.33991445203374), (39.98140648799353, 116.33991445203374), (39.98140648799353, 116.33991445203374), (39.98036045400415, 116.33996722906653), (39.98036045400415, 116.33996722906653), (39.98036045400415, 116.33996722906653), (39.98036045400415, 116.33996722906653), (39.98140648799353, 116.33991445203374)]\n",
      "tensor([39.9807, 39.9804, 39.9814, 39.9814, 39.9814, 39.9814, 39.9804, 39.9804,\n",
      "        39.9804])\n",
      "tensor([116.3421, 116.3400, 116.3399, 116.3399, 116.3399, 116.3399, 116.3400,\n",
      "        116.3400, 116.3400])\n",
      "[tensor(39.9804), tensor(39.9814)]\n",
      "[tensor(116.3400), tensor(116.3399)]\n",
      "over\n",
      "[(39.98036045400415, 116.33996722906653), (39.98140648799353, 116.33991445203374), (39.98140648799353, 116.33991445203374), (39.98140648799353, 116.33991445203374), (39.98140648799353, 116.33991445203374), (39.98036045400415, 116.33996722906653), (39.98036045400415, 116.33996722906653), (39.98036045400415, 116.33996722906653), (39.98036045400415, 116.33996722906653), (39.98140648799353, 116.33991445203374), (39.98036045400415, 116.33996722906653)]\n",
      "tensor([39.9804, 39.9814, 39.9814, 39.9814, 39.9814, 39.9804, 39.9804, 39.9804,\n",
      "        39.9804])\n",
      "tensor([116.3400, 116.3399, 116.3399, 116.3399, 116.3399, 116.3400, 116.3400,\n",
      "        116.3400, 116.3400])\n",
      "[tensor(39.9814), tensor(39.9804)]\n",
      "[tensor(116.3399), tensor(116.3400)]\n",
      "over\n",
      "[(39.98140648799353, 116.33991445203374), (39.98140648799353, 116.33991445203374), (39.98140648799353, 116.33991445203374), (39.98140648799353, 116.33991445203374), (39.98036045400415, 116.33996722906653), (39.98036045400415, 116.33996722906653), (39.98036045400415, 116.33996722906653), (39.98036045400415, 116.33996722906653), (39.98140648799353, 116.33991445203374), (39.98140648799353, 116.33991445203374), (40.43451459331309, 115.97648531343592)]\n",
      "tensor([39.9814, 39.9814, 39.9814, 39.9814, 39.9804, 39.9804, 39.9804, 39.9804,\n",
      "        39.9814])\n",
      "tensor([116.3399, 116.3399, 116.3399, 116.3399, 116.3400, 116.3400, 116.3400,\n",
      "        116.3400, 116.3399])\n",
      "[tensor(39.9814), tensor(40.4345)]\n",
      "[tensor(116.3399), tensor(115.9765)]\n",
      "over\n",
      "[(39.98140648799353, 116.33991445203374), (39.98140648799353, 116.33991445203374), (39.98140648799353, 116.33991445203374), (39.98036045400415, 116.33996722906653), (39.98036045400415, 116.33996722906653), (39.98036045400415, 116.33996722906653), (39.98036045400415, 116.33996722906653), (39.98140648799353, 116.33991445203374), (39.98140648799353, 116.33991445203374), (39.98140648799353, 116.33991445203374), (39.98036045400415, 116.33996722906653)]\n",
      "tensor([39.9814, 39.9814, 39.9814, 39.9804, 39.9804, 39.9804, 39.9804, 39.9814,\n",
      "        39.9814])\n",
      "tensor([116.3399, 116.3399, 116.3399, 116.3400, 116.3400, 116.3400, 116.3400,\n",
      "        116.3399, 116.3399])\n",
      "[tensor(39.9814), tensor(39.9804)]\n",
      "[tensor(116.3399), tensor(116.3400)]\n",
      "over\n",
      "[(39.98140648799353, 116.33991445203374), (39.98140648799353, 116.33991445203374), (39.98036045400415, 116.33996722906653), (39.98036045400415, 116.33996722906653), (39.98036045400415, 116.33996722906653), (39.98036045400415, 116.33996722906653), (39.98140648799353, 116.33991445203374), (39.98140648799353, 116.33991445203374), (39.98140648799353, 116.33991445203374), (39.98140648799353, 116.33991445203374), (39.95179451880362, 116.33923855844844)]\n",
      "tensor([39.9814, 39.9814, 39.9804, 39.9804, 39.9804, 39.9804, 39.9814, 39.9814,\n",
      "        39.9814])\n",
      "tensor([116.3399, 116.3399, 116.3400, 116.3400, 116.3400, 116.3400, 116.3399,\n",
      "        116.3399, 116.3399])\n",
      "[tensor(39.9814), tensor(39.9518)]\n",
      "[tensor(116.3399), tensor(116.3392)]\n",
      "over\n",
      "[(39.98140648799353, 116.33991445203374), (39.98036045400415, 116.33996722906653), (39.98036045400415, 116.33996722906653), (39.98036045400415, 116.33996722906653), (39.98036045400415, 116.33996722906653), (39.98140648799353, 116.33991445203374), (39.98140648799353, 116.33991445203374), (39.98140648799353, 116.33991445203374), (39.98140648799353, 116.33991445203374), (39.98140648799353, 116.33991445203374), (39.98173344990935, 116.34206849815882)]\n",
      "tensor([39.9814, 39.9804, 39.9804, 39.9804, 39.9804, 39.9814, 39.9814, 39.9814,\n",
      "        39.9814])\n",
      "tensor([116.3399, 116.3400, 116.3400, 116.3400, 116.3400, 116.3399, 116.3399,\n",
      "        116.3399, 116.3399])\n",
      "[tensor(39.9814), tensor(39.9817)]\n",
      "[tensor(116.3399), tensor(116.3421)]\n",
      "over\n",
      "[(39.98036045400415, 116.33996722906653), (39.98036045400415, 116.33996722906653), (39.98036045400415, 116.33996722906653), (39.98036045400415, 116.33996722906653), (39.98140648799353, 116.33991445203374), (39.98140648799353, 116.33991445203374), (39.98140648799353, 116.33991445203374), (39.98140648799353, 116.33991445203374), (39.98140648799353, 116.33991445203374), (39.98140648799353, 116.33991445203374), (39.97964141965984, 116.3421739591838)]\n",
      "tensor([39.9804, 39.9804, 39.9804, 39.9804, 39.9814, 39.9814, 39.9814, 39.9814,\n",
      "        39.9814])\n",
      "tensor([116.3400, 116.3400, 116.3400, 116.3400, 116.3399, 116.3399, 116.3399,\n",
      "        116.3399, 116.3399])\n",
      "[tensor(39.9814), tensor(39.9796)]\n",
      "[tensor(116.3399), tensor(116.3422)]\n",
      "over\n",
      "[(39.98036045400415, 116.33996722906653), (39.98036045400415, 116.33996722906653), (39.98036045400415, 116.33996722906653), (39.98140648799353, 116.33991445203374), (39.98140648799353, 116.33991445203374), (39.98140648799353, 116.33991445203374), (39.98140648799353, 116.33991445203374), (39.98140648799353, 116.33991445203374), (39.98140648799353, 116.33991445203374), (39.98140648799353, 116.33991445203374), (39.98000093834051, 116.34107061135364)]\n",
      "tensor([39.9804, 39.9804, 39.9804, 39.9814, 39.9814, 39.9814, 39.9814, 39.9814,\n",
      "        39.9814])\n",
      "tensor([116.3400, 116.3400, 116.3400, 116.3399, 116.3399, 116.3399, 116.3399,\n",
      "        116.3399, 116.3399])\n",
      "[tensor(39.9814), tensor(39.9800)]\n",
      "[tensor(116.3399), tensor(116.3411)]\n",
      "over\n",
      "[(39.98036045400415, 116.33996722906653), (39.98036045400415, 116.33996722906653), (39.98140648799353, 116.33991445203374), (39.98140648799353, 116.33991445203374), (39.98140648799353, 116.33991445203374), (39.98140648799353, 116.33991445203374), (39.98140648799353, 116.33991445203374), (39.98140648799353, 116.33991445203374), (39.98140648799353, 116.33991445203374), (39.98140648799353, 116.33991445203374), (39.97964141965984, 116.3421739591838)]\n",
      "tensor([39.9804, 39.9804, 39.9814, 39.9814, 39.9814, 39.9814, 39.9814, 39.9814,\n",
      "        39.9814])\n",
      "tensor([116.3400, 116.3400, 116.3399, 116.3399, 116.3399, 116.3399, 116.3399,\n",
      "        116.3399, 116.3399])\n",
      "[tensor(39.9814), tensor(39.9796)]\n",
      "[tensor(116.3399), tensor(116.3422)]\n",
      "over\n",
      "[(39.98036045400415, 116.33996722906653), (39.98140648799353, 116.33991445203374), (39.98140648799353, 116.33991445203374), (39.98140648799353, 116.33991445203374), (39.98140648799353, 116.33991445203374), (39.98140648799353, 116.33991445203374), (39.98140648799353, 116.33991445203374), (39.98140648799353, 116.33991445203374), (39.98140648799353, 116.33991445203374), (39.98140648799353, 116.33991445203374), (39.98000093834051, 116.34107061135364)]\n",
      "tensor([39.9804, 39.9814, 39.9814, 39.9814, 39.9814, 39.9814, 39.9814, 39.9814,\n",
      "        39.9814])\n",
      "tensor([116.3400, 116.3399, 116.3399, 116.3399, 116.3399, 116.3399, 116.3399,\n",
      "        116.3399, 116.3399])\n",
      "[tensor(39.9814), tensor(39.9800)]\n",
      "[tensor(116.3399), tensor(116.3411)]\n",
      "over\n",
      "[(39.98140648799353, 116.33991445203374), (39.98140648799353, 116.33991445203374), (39.98140648799353, 116.33991445203374), (39.98140648799353, 116.33991445203374), (39.98140648799353, 116.33991445203374), (39.98140648799353, 116.33991445203374), (39.98140648799353, 116.33991445203374), (39.98140648799353, 116.33991445203374), (39.98140648799353, 116.33991445203374), (39.98140648799353, 116.33991445203374), (39.98036045400415, 116.33996722906653)]\n",
      "tensor([39.9814, 39.9814, 39.9814, 39.9814, 39.9814, 39.9814, 39.9814, 39.9814,\n",
      "        39.9814])\n",
      "tensor([116.3399, 116.3399, 116.3399, 116.3399, 116.3399, 116.3399, 116.3399,\n",
      "        116.3399, 116.3399])\n",
      "[tensor(39.9814), tensor(39.9804)]\n",
      "[tensor(116.3399), tensor(116.3400)]\n",
      "over\n",
      "[(39.98140648799353, 116.33991445203374), (39.98140648799353, 116.33991445203374), (39.98140648799353, 116.33991445203374), (39.98140648799353, 116.33991445203374), (39.98140648799353, 116.33991445203374), (39.98140648799353, 116.33991445203374), (39.98140648799353, 116.33991445203374), (39.98140648799353, 116.33991445203374), (39.98140648799353, 116.33991445203374), (39.98140648799353, 116.33991445203374), (39.98000093834051, 116.34107061135364)]\n",
      "tensor([39.9814, 39.9814, 39.9814, 39.9814, 39.9814, 39.9814, 39.9814, 39.9814,\n",
      "        39.9814])\n",
      "tensor([116.3399, 116.3399, 116.3399, 116.3399, 116.3399, 116.3399, 116.3399,\n",
      "        116.3399, 116.3399])\n",
      "[tensor(39.9814), tensor(39.9800)]\n",
      "[tensor(116.3399), tensor(116.3411)]\n",
      "over\n",
      "[(39.98140648799353, 116.33991445203374), (39.98140648799353, 116.33991445203374), (39.98140648799353, 116.33991445203374), (39.98140648799353, 116.33991445203374), (39.98140648799353, 116.33991445203374), (39.98140648799353, 116.33991445203374), (39.98140648799353, 116.33991445203374), (39.98140648799353, 116.33991445203374), (39.98140648799353, 116.33991445203374), (39.98140648799353, 116.33991445203374), (39.97964141965984, 116.3421739591838)]\n",
      "tensor([39.9814, 39.9814, 39.9814, 39.9814, 39.9814, 39.9814, 39.9814, 39.9814,\n",
      "        39.9814])\n",
      "tensor([116.3399, 116.3399, 116.3399, 116.3399, 116.3399, 116.3399, 116.3399,\n",
      "        116.3399, 116.3399])\n",
      "[tensor(39.9814), tensor(39.9796)]\n",
      "[tensor(116.3399), tensor(116.3422)]\n",
      "over\n",
      "[(39.98140648799353, 116.33991445203374), (39.98140648799353, 116.33991445203374), (39.98140648799353, 116.33991445203374), (39.98140648799353, 116.33991445203374), (39.98140648799353, 116.33991445203374), (39.98140648799353, 116.33991445203374), (39.98140648799353, 116.33991445203374), (39.98140648799353, 116.33991445203374), (39.98140648799353, 116.33991445203374), (39.98140648799353, 116.33991445203374), (39.97964141965984, 116.3421739591838)]\n",
      "tensor([39.9814, 39.9814, 39.9814, 39.9814, 39.9814, 39.9814, 39.9814, 39.9814,\n",
      "        39.9814])\n",
      "tensor([116.3399, 116.3399, 116.3399, 116.3399, 116.3399, 116.3399, 116.3399,\n",
      "        116.3399, 116.3399])\n",
      "[tensor(39.9814), tensor(39.9796)]\n",
      "[tensor(116.3399), tensor(116.3422)]\n",
      "over\n",
      "[(39.98140648799353, 116.33991445203374), (39.98140648799353, 116.33991445203374), (39.98140648799353, 116.33991445203374), (39.98140648799353, 116.33991445203374), (39.98140648799353, 116.33991445203374), (39.98140648799353, 116.33991445203374), (39.98140648799353, 116.33991445203374), (39.98140648799353, 116.33991445203374), (39.98140648799353, 116.33991445203374), (39.98140648799353, 116.33991445203374), (39.98036045400415, 116.33996722906653)]\n",
      "tensor([39.9814, 39.9814, 39.9814, 39.9814, 39.9814, 39.9814, 39.9814, 39.9814,\n",
      "        39.9814])\n",
      "tensor([116.3399, 116.3399, 116.3399, 116.3399, 116.3399, 116.3399, 116.3399,\n",
      "        116.3399, 116.3399])\n",
      "[tensor(39.9814), tensor(39.9804)]\n",
      "[tensor(116.3399), tensor(116.3400)]\n",
      "over\n",
      "[(39.98140648799353, 116.33991445203374), (39.98140648799353, 116.33991445203374), (39.98140648799353, 116.33991445203374), (39.98140648799353, 116.33991445203374), (39.98140648799353, 116.33991445203374), (39.98140648799353, 116.33991445203374), (39.98140648799353, 116.33991445203374), (39.98140648799353, 116.33991445203374), (39.98140648799353, 116.33991445203374), (39.98140648799353, 116.33991445203374), (39.98000093834051, 116.34107061135364)]\n",
      "tensor([39.9814, 39.9814, 39.9814, 39.9814, 39.9814, 39.9814, 39.9814, 39.9814,\n",
      "        39.9814])\n",
      "tensor([116.3399, 116.3399, 116.3399, 116.3399, 116.3399, 116.3399, 116.3399,\n",
      "        116.3399, 116.3399])\n",
      "[tensor(39.9814), tensor(39.9800)]\n",
      "[tensor(116.3399), tensor(116.3411)]\n",
      "over\n",
      "[(39.98140648799353, 116.33991445203374), (39.98140648799353, 116.33991445203374), (39.98140648799353, 116.33991445203374), (39.98140648799353, 116.33991445203374), (39.98140648799353, 116.33991445203374), (39.98140648799353, 116.33991445203374), (39.98140648799353, 116.33991445203374), (39.98140648799353, 116.33991445203374), (39.98140648799353, 116.33991445203374), (39.98140648799353, 116.33991445203374), (39.98036045400415, 116.33996722906653)]\n",
      "tensor([39.9814, 39.9814, 39.9814, 39.9814, 39.9814, 39.9814, 39.9814, 39.9814,\n",
      "        39.9814])\n",
      "tensor([116.3399, 116.3399, 116.3399, 116.3399, 116.3399, 116.3399, 116.3399,\n",
      "        116.3399, 116.3399])\n",
      "[tensor(39.9814), tensor(39.9804)]\n",
      "[tensor(116.3399), tensor(116.3400)]\n",
      "over\n",
      "[(39.98140648799353, 116.33991445203374), (39.98140648799353, 116.33991445203374), (39.98140648799353, 116.33991445203374), (39.98140648799353, 116.33991445203374), (39.98140648799353, 116.33991445203374), (39.98140648799353, 116.33991445203374), (39.98140648799353, 116.33991445203374), (39.98140648799353, 116.33991445203374), (39.98140648799353, 116.33991445203374), (39.98140648799353, 116.33991445203374), (39.95179451880362, 116.33923855844844)]\n",
      "tensor([39.9814, 39.9814, 39.9814, 39.9814, 39.9814, 39.9814, 39.9814, 39.9814,\n",
      "        39.9814])\n",
      "tensor([116.3399, 116.3399, 116.3399, 116.3399, 116.3399, 116.3399, 116.3399,\n",
      "        116.3399, 116.3399])\n",
      "[tensor(39.9814), tensor(39.9518)]\n",
      "[tensor(116.3399), tensor(116.3392)]\n",
      "over\n",
      "[(39.98140648799353, 116.33991445203374), (39.98140648799353, 116.33991445203374), (39.98140648799353, 116.33991445203374), (39.98140648799353, 116.33991445203374), (39.98140648799353, 116.33991445203374), (39.98140648799353, 116.33991445203374), (39.98140648799353, 116.33991445203374), (39.98140648799353, 116.33991445203374), (39.98140648799353, 116.33991445203374), (39.98140648799353, 116.33991445203374), (39.98036045400415, 116.33996722906653)]\n",
      "tensor([39.9814, 39.9814, 39.9814, 39.9814, 39.9814, 39.9814, 39.9814, 39.9814,\n",
      "        39.9814])\n",
      "tensor([116.3399, 116.3399, 116.3399, 116.3399, 116.3399, 116.3399, 116.3399,\n",
      "        116.3399, 116.3399])\n",
      "[tensor(39.9814), tensor(39.9804)]\n",
      "[tensor(116.3399), tensor(116.3400)]\n",
      "over\n",
      "[(39.98140648799353, 116.33991445203374), (39.98140648799353, 116.33991445203374), (39.98140648799353, 116.33991445203374), (39.98140648799353, 116.33991445203374), (39.98140648799353, 116.33991445203374), (39.98140648799353, 116.33991445203374), (39.98140648799353, 116.33991445203374), (39.98140648799353, 116.33991445203374), (39.98140648799353, 116.33991445203374), (39.98140648799353, 116.33991445203374), (39.98000093834051, 116.34107061135364)]\n",
      "tensor([39.9814, 39.9814, 39.9814, 39.9814, 39.9814, 39.9814, 39.9814, 39.9814,\n",
      "        39.9814])\n",
      "tensor([116.3399, 116.3399, 116.3399, 116.3399, 116.3399, 116.3399, 116.3399,\n",
      "        116.3399, 116.3399])\n",
      "[tensor(39.9814), tensor(39.9800)]\n",
      "[tensor(116.3399), tensor(116.3411)]\n",
      "over\n",
      "[(39.98140648799353, 116.33991445203374), (39.98140648799353, 116.33991445203374), (39.98140648799353, 116.33991445203374), (39.98140648799353, 116.33991445203374), (39.98140648799353, 116.33991445203374), (39.98140648799353, 116.33991445203374), (39.98140648799353, 116.33991445203374), (39.98140648799353, 116.33991445203374), (39.98140648799353, 116.33991445203374), (39.98140648799353, 116.33991445203374), (39.97964141965984, 116.3421739591838)]\n",
      "tensor([39.9814, 39.9814, 39.9814, 39.9814, 39.9814, 39.9814, 39.9814, 39.9814,\n",
      "        39.9814])\n",
      "tensor([116.3399, 116.3399, 116.3399, 116.3399, 116.3399, 116.3399, 116.3399,\n",
      "        116.3399, 116.3399])\n",
      "[tensor(39.9814), tensor(39.9796)]\n",
      "[tensor(116.3399), tensor(116.3422)]\n",
      "over\n",
      "[(39.98140648799353, 116.33991445203374), (39.98140648799353, 116.33991445203374), (39.98140648799353, 116.33991445203374), (39.98140648799353, 116.33991445203374), (39.98140648799353, 116.33991445203374), (39.98140648799353, 116.33991445203374), (39.98140648799353, 116.33991445203374), (39.98140648799353, 116.33991445203374), (39.98140648799353, 116.33991445203374), (39.98140648799353, 116.33991445203374), (39.95179451880362, 116.33923855844844)]\n",
      "tensor([39.9814, 39.9814, 39.9814, 39.9814, 39.9814, 39.9814, 39.9814, 39.9814,\n",
      "        39.9814])\n",
      "tensor([116.3399, 116.3399, 116.3399, 116.3399, 116.3399, 116.3399, 116.3399,\n",
      "        116.3399, 116.3399])\n",
      "[tensor(39.9814), tensor(39.9518)]\n",
      "[tensor(116.3399), tensor(116.3392)]\n",
      "over\n",
      "[(39.98140648799353, 116.33991445203374), (39.98140648799353, 116.33991445203374), (39.98140648799353, 116.33991445203374), (39.98140648799353, 116.33991445203374), (39.98140648799353, 116.33991445203374), (39.98140648799353, 116.33991445203374), (39.98140648799353, 116.33991445203374), (39.98140648799353, 116.33991445203374), (39.98140648799353, 116.33991445203374), (39.98140648799353, 116.33991445203374), (39.98000093834051, 116.34107061135364)]\n",
      "tensor([39.9814, 39.9814, 39.9814, 39.9814, 39.9814, 39.9814, 39.9814, 39.9814,\n",
      "        39.9814])\n",
      "tensor([116.3399, 116.3399, 116.3399, 116.3399, 116.3399, 116.3399, 116.3399,\n",
      "        116.3399, 116.3399])\n",
      "[tensor(39.9814), tensor(39.9800)]\n",
      "[tensor(116.3399), tensor(116.3411)]\n",
      "over\n",
      "[(39.98140648799353, 116.33991445203374), (39.98140648799353, 116.33991445203374), (39.98140648799353, 116.33991445203374), (39.98140648799353, 116.33991445203374), (39.98140648799353, 116.33991445203374), (39.98140648799353, 116.33991445203374), (39.98140648799353, 116.33991445203374), (39.98140648799353, 116.33991445203374), (39.98140648799353, 116.33991445203374), (39.98140648799353, 116.33991445203374), (39.97964141965984, 116.3421739591838)]\n",
      "tensor([39.9814, 39.9814, 39.9814, 39.9814, 39.9814, 39.9814, 39.9814, 39.9814,\n",
      "        39.9814])\n",
      "tensor([116.3399, 116.3399, 116.3399, 116.3399, 116.3399, 116.3399, 116.3399,\n",
      "        116.3399, 116.3399])\n",
      "[tensor(39.9814), tensor(39.9796)]\n",
      "[tensor(116.3399), tensor(116.3422)]\n",
      "over\n",
      "[(39.98140648799353, 116.33991445203374), (39.98140648799353, 116.33991445203374), (39.98140648799353, 116.33991445203374), (39.98140648799353, 116.33991445203374), (39.98140648799353, 116.33991445203374), (39.98140648799353, 116.33991445203374), (39.98140648799353, 116.33991445203374), (39.98140648799353, 116.33991445203374), (39.98140648799353, 116.33991445203374), (39.98176601295398, 116.33881101147735), (39.98140648799353, 116.33991445203374)]\n",
      "tensor([39.9814, 39.9814, 39.9814, 39.9814, 39.9814, 39.9814, 39.9814, 39.9814,\n",
      "        39.9814])\n",
      "tensor([116.3399, 116.3399, 116.3399, 116.3399, 116.3399, 116.3399, 116.3399,\n",
      "        116.3399, 116.3399])\n",
      "[tensor(39.9818), tensor(39.9814)]\n",
      "[tensor(116.3388), tensor(116.3399)]\n",
      "over\n",
      "[(39.98140648799353, 116.33991445203374), (39.98140648799353, 116.33991445203374), (39.98140648799353, 116.33991445203374), (39.98140648799353, 116.33991445203374), (39.98140648799353, 116.33991445203374), (39.98140648799353, 116.33991445203374), (39.98140648799353, 116.33991445203374), (39.98140648799353, 116.33991445203374), (39.98176601295398, 116.33881101147735), (39.98287697910105, 116.33224258819575), (39.98173344990935, 116.34206849815882)]\n",
      "tensor([39.9814, 39.9814, 39.9814, 39.9814, 39.9814, 39.9814, 39.9814, 39.9814,\n",
      "        39.9818])\n",
      "tensor([116.3399, 116.3399, 116.3399, 116.3399, 116.3399, 116.3399, 116.3399,\n",
      "        116.3399, 116.3388])\n",
      "[tensor(39.9829), tensor(39.9817)]\n",
      "[tensor(116.3322), tensor(116.3421)]\n",
      "over\n",
      "[(39.98140648799353, 116.33991445203374), (39.98140648799353, 116.33991445203374), (39.98140648799353, 116.33991445203374), (39.98140648799353, 116.33991445203374), (39.98140648799353, 116.33991445203374), (39.98140648799353, 116.33991445203374), (39.98140648799353, 116.33991445203374), (39.98176601295398, 116.33881101147735), (39.98287697910105, 116.33224258819575), (39.98140648799353, 116.33991445203374), (39.98000093834051, 116.34107061135364)]\n",
      "tensor([39.9814, 39.9814, 39.9814, 39.9814, 39.9814, 39.9814, 39.9814, 39.9818,\n",
      "        39.9829])\n",
      "tensor([116.3399, 116.3399, 116.3399, 116.3399, 116.3399, 116.3399, 116.3399,\n",
      "        116.3388, 116.3322])\n",
      "[tensor(39.9814), tensor(39.9800)]\n",
      "[tensor(116.3399), tensor(116.3411)]\n",
      "over\n",
      "[(39.98140648799353, 116.33991445203374), (39.98140648799353, 116.33991445203374), (39.98140648799353, 116.33991445203374), (39.98140648799353, 116.33991445203374), (39.98140648799353, 116.33991445203374), (39.98140648799353, 116.33991445203374), (39.98176601295398, 116.33881101147735), (39.98287697910105, 116.33224258819575), (39.98140648799353, 116.33991445203374), (39.98140648799353, 116.33991445203374), (39.980295246504156, 116.34648173537123)]\n",
      "tensor([39.9814, 39.9814, 39.9814, 39.9814, 39.9814, 39.9814, 39.9818, 39.9829,\n",
      "        39.9814])\n",
      "tensor([116.3399, 116.3399, 116.3399, 116.3399, 116.3399, 116.3399, 116.3388,\n",
      "        116.3322, 116.3399])\n",
      "[tensor(39.9814), tensor(39.9803)]\n",
      "[tensor(116.3399), tensor(116.3465)]\n",
      "over\n",
      "[(39.98140648799353, 116.33991445203374), (39.98140648799353, 116.33991445203374), (39.98140648799353, 116.33991445203374), (39.98140648799353, 116.33991445203374), (39.98140648799353, 116.33991445203374), (39.98176601295398, 116.33881101147735), (39.98287697910105, 116.33224258819575), (39.98140648799353, 116.33991445203374), (39.98140648799353, 116.33991445203374), (39.98176601295398, 116.33881101147735), (39.98140648799353, 116.33991445203374)]\n",
      "tensor([39.9814, 39.9814, 39.9814, 39.9814, 39.9814, 39.9818, 39.9829, 39.9814,\n",
      "        39.9814])\n",
      "tensor([116.3399, 116.3399, 116.3399, 116.3399, 116.3399, 116.3388, 116.3322,\n",
      "        116.3399, 116.3399])\n",
      "[tensor(39.9818), tensor(39.9814)]\n",
      "[tensor(116.3388), tensor(116.3399)]\n",
      "over\n",
      "[(39.98140648799353, 116.33991445203374), (39.98140648799353, 116.33991445203374), (39.98140648799353, 116.33991445203374), (39.98140648799353, 116.33991445203374), (39.98176601295398, 116.33881101147735), (39.98287697910105, 116.33224258819575), (39.98140648799353, 116.33991445203374), (39.98140648799353, 116.33991445203374), (39.98176601295398, 116.33881101147735), (39.9824850538169, 116.33660402698398), (39.84677343339296, 116.2828011034317)]\n",
      "tensor([39.9814, 39.9814, 39.9814, 39.9814, 39.9818, 39.9829, 39.9814, 39.9814,\n",
      "        39.9818])\n",
      "tensor([116.3399, 116.3399, 116.3399, 116.3399, 116.3388, 116.3322, 116.3399,\n",
      "        116.3399, 116.3388])\n",
      "[tensor(39.9825), tensor(39.8468)]\n",
      "[tensor(116.3366), tensor(116.2828)]\n",
      "over\n",
      "[(39.98140648799353, 116.33991445203374), (39.98140648799353, 116.33991445203374), (39.98140648799353, 116.33991445203374), (39.98176601295398, 116.33881101147735), (39.98287697910105, 116.33224258819575), (39.98140648799353, 116.33991445203374), (39.98140648799353, 116.33991445203374), (39.98176601295398, 116.33881101147735), (39.9824850538169, 116.33660402698398), (39.98176601295398, 116.33881101147735), (39.98212553489541, 116.33770753646104)]\n",
      "tensor([39.9814, 39.9814, 39.9814, 39.9818, 39.9829, 39.9814, 39.9814, 39.9818,\n",
      "        39.9825])\n",
      "tensor([116.3399, 116.3399, 116.3399, 116.3388, 116.3322, 116.3399, 116.3399,\n",
      "        116.3388, 116.3366])\n",
      "[tensor(39.9818), tensor(39.9821)]\n",
      "[tensor(116.3388), tensor(116.3377)]\n",
      "over\n",
      "[(39.98140648799353, 116.33991445203374), (39.98140648799353, 116.33991445203374), (39.98176601295398, 116.33881101147735), (39.98287697910105, 116.33224258819575), (39.98140648799353, 116.33991445203374), (39.98140648799353, 116.33991445203374), (39.98176601295398, 116.33881101147735), (39.9824850538169, 116.33660402698398), (39.98176601295398, 116.33881101147735), (39.982157987036935, 116.33444980074911), (39.98032789500629, 116.3432245669511)]\n",
      "tensor([39.9814, 39.9814, 39.9818, 39.9829, 39.9814, 39.9814, 39.9818, 39.9825,\n",
      "        39.9818])\n",
      "tensor([116.3399, 116.3399, 116.3388, 116.3322, 116.3399, 116.3399, 116.3388,\n",
      "        116.3366, 116.3388])\n",
      "[tensor(39.9822), tensor(39.9803)]\n",
      "[tensor(116.3344), tensor(116.3432)]\n",
      "over\n",
      "[(39.98140648799353, 116.33991445203374), (39.98176601295398, 116.33881101147735), (39.98287697910105, 116.33224258819575), (39.98140648799353, 116.33991445203374), (39.98140648799353, 116.33991445203374), (39.98176601295398, 116.33881101147735), (39.9824850538169, 116.33660402698398), (39.98176601295398, 116.33881101147735), (39.982157987036935, 116.33444980074911), (39.98212553489541, 116.33770753646104), (39.97996835797807, 116.34432786967562)]\n",
      "tensor([39.9814, 39.9818, 39.9829, 39.9814, 39.9814, 39.9818, 39.9825, 39.9818,\n",
      "        39.9822])\n",
      "tensor([116.3399, 116.3388, 116.3322, 116.3399, 116.3399, 116.3388, 116.3366,\n",
      "        116.3388, 116.3344])\n",
      "[tensor(39.9821), tensor(39.9800)]\n",
      "[tensor(116.3377), tensor(116.3443)]\n",
      "over\n",
      "[(39.98176601295398, 116.33881101147735), (39.98287697910105, 116.33224258819575), (39.98140648799353, 116.33991445203374), (39.98140648799353, 116.33991445203374), (39.98176601295398, 116.33881101147735), (39.9824850538169, 116.33660402698398), (39.98176601295398, 116.33881101147735), (39.982157987036935, 116.33444980074911), (39.98212553489541, 116.33770753646104), (39.98212553489541, 116.33770753646104), (39.982157987036935, 116.33444980074911)]\n",
      "tensor([39.9818, 39.9829, 39.9814, 39.9814, 39.9818, 39.9825, 39.9818, 39.9822,\n",
      "        39.9821])\n",
      "tensor([116.3388, 116.3322, 116.3399, 116.3399, 116.3388, 116.3366, 116.3388,\n",
      "        116.3344, 116.3377])\n",
      "[tensor(39.9821), tensor(39.9822)]\n",
      "[tensor(116.3377), tensor(116.3344)]\n",
      "over\n",
      "[(39.98287697910105, 116.33224258819575), (39.98140648799353, 116.33991445203374), (39.98140648799353, 116.33991445203374), (39.98176601295398, 116.33881101147735), (39.9824850538169, 116.33660402698398), (39.98176601295398, 116.33881101147735), (39.982157987036935, 116.33444980074911), (39.98212553489541, 116.33770753646104), (39.98212553489541, 116.33770753646104), (39.98176601295398, 116.33881101147735), (39.98140648799353, 116.33991445203374)]\n",
      "tensor([39.9829, 39.9814, 39.9814, 39.9818, 39.9825, 39.9818, 39.9822, 39.9821,\n",
      "        39.9821])\n",
      "tensor([116.3322, 116.3399, 116.3399, 116.3388, 116.3366, 116.3388, 116.3344,\n",
      "        116.3377, 116.3377])\n",
      "[tensor(39.9818), tensor(39.9814)]\n",
      "[tensor(116.3388), tensor(116.3399)]\n",
      "over\n",
      "[(39.98140648799353, 116.33991445203374), (39.98140648799353, 116.33991445203374), (39.98176601295398, 116.33881101147735), (39.9824850538169, 116.33660402698398), (39.98176601295398, 116.33881101147735), (39.982157987036935, 116.33444980074911), (39.98212553489541, 116.33770753646104), (39.98212553489541, 116.33770753646104), (39.98176601295398, 116.33881101147735), (39.98140648799353, 116.33991445203374), (39.98000093834051, 116.34107061135364)]\n",
      "tensor([39.9814, 39.9814, 39.9818, 39.9825, 39.9818, 39.9822, 39.9821, 39.9821,\n",
      "        39.9818])\n",
      "tensor([116.3399, 116.3399, 116.3388, 116.3366, 116.3388, 116.3344, 116.3377,\n",
      "        116.3377, 116.3388])\n",
      "[tensor(39.9814), tensor(39.9800)]\n",
      "[tensor(116.3399), tensor(116.3411)]\n",
      "over\n",
      "[(39.98140648799353, 116.33991445203374), (39.98176601295398, 116.33881101147735), (39.9824850538169, 116.33660402698398), (39.98176601295398, 116.33881101147735), (39.982157987036935, 116.33444980074911), (39.98212553489541, 116.33770753646104), (39.98212553489541, 116.33770753646104), (39.98176601295398, 116.33881101147735), (39.98140648799353, 116.33991445203374), (39.98140648799353, 116.33991445203374), (39.981471388239264, 116.33339912942208)]\n",
      "tensor([39.9814, 39.9818, 39.9825, 39.9818, 39.9822, 39.9821, 39.9821, 39.9818,\n",
      "        39.9814])\n",
      "tensor([116.3399, 116.3388, 116.3366, 116.3388, 116.3344, 116.3377, 116.3377,\n",
      "        116.3388, 116.3399])\n",
      "[tensor(39.9814), tensor(39.9815)]\n",
      "[tensor(116.3399), tensor(116.3334)]\n",
      "over\n",
      "[(39.98176601295398, 116.33881101147735), (39.9824850538169, 116.33660402698398), (39.98176601295398, 116.33881101147735), (39.982157987036935, 116.33444980074911), (39.98212553489541, 116.33770753646104), (39.98212553489541, 116.33770753646104), (39.98176601295398, 116.33881101147735), (39.98140648799353, 116.33991445203374), (39.98140648799353, 116.33991445203374), (39.98104696001483, 116.34101785813094), (39.97964141965984, 116.3421739591838)]\n",
      "tensor([39.9818, 39.9825, 39.9818, 39.9822, 39.9821, 39.9821, 39.9818, 39.9814,\n",
      "        39.9814])\n",
      "tensor([116.3388, 116.3366, 116.3388, 116.3344, 116.3377, 116.3377, 116.3388,\n",
      "        116.3399, 116.3399])\n",
      "[tensor(39.9810), tensor(39.9796)]\n",
      "[tensor(116.3410), tensor(116.3422)]\n",
      "over\n",
      "[(39.9824850538169, 116.33660402698398), (39.98176601295398, 116.33881101147735), (39.982157987036935, 116.33444980074911), (39.98212553489541, 116.33770753646104), (39.98212553489541, 116.33770753646104), (39.98176601295398, 116.33881101147735), (39.98140648799353, 116.33991445203374), (39.98140648799353, 116.33991445203374), (39.98104696001483, 116.34101785813094), (39.98140648799353, 116.33991445203374), (39.95209002410016, 116.34464684800574)]\n",
      "tensor([39.9825, 39.9818, 39.9822, 39.9821, 39.9821, 39.9818, 39.9814, 39.9814,\n",
      "        39.9810])\n",
      "tensor([116.3366, 116.3388, 116.3344, 116.3377, 116.3377, 116.3388, 116.3399,\n",
      "        116.3399, 116.3410])\n",
      "[tensor(39.9814), tensor(39.9521)]\n",
      "[tensor(116.3399), tensor(116.3447)]\n",
      "over\n",
      "[(39.98176601295398, 116.33881101147735), (39.982157987036935, 116.33444980074911), (39.98212553489541, 116.33770753646104), (39.98212553489541, 116.33770753646104), (39.98176601295398, 116.33881101147735), (39.98140648799353, 116.33991445203374), (39.98140648799353, 116.33991445203374), (39.98104696001483, 116.34101785813094), (39.98140648799353, 116.33991445203374), (39.98140648799353, 116.33991445203374), (39.97964141965984, 116.3421739591838)]\n",
      "tensor([39.9818, 39.9822, 39.9821, 39.9821, 39.9818, 39.9814, 39.9814, 39.9810,\n",
      "        39.9814])\n",
      "tensor([116.3388, 116.3344, 116.3377, 116.3377, 116.3388, 116.3399, 116.3399,\n",
      "        116.3410, 116.3399])\n",
      "[tensor(39.9814), tensor(39.9796)]\n",
      "[tensor(116.3399), tensor(116.3422)]\n",
      "over\n",
      "[(39.982157987036935, 116.33444980074911), (39.98212553489541, 116.33770753646104), (39.98212553489541, 116.33770753646104), (39.98176601295398, 116.33881101147735), (39.98140648799353, 116.33991445203374), (39.98140648799353, 116.33991445203374), (39.98104696001483, 116.34101785813094), (39.98140648799353, 116.33991445203374), (39.98140648799353, 116.33991445203374), (39.98140648799353, 116.33991445203374), (39.97931443154683, 116.34002000390049)]\n",
      "tensor([39.9822, 39.9821, 39.9821, 39.9818, 39.9814, 39.9814, 39.9810, 39.9814,\n",
      "        39.9814])\n",
      "tensor([116.3344, 116.3377, 116.3377, 116.3388, 116.3399, 116.3399, 116.3410,\n",
      "        116.3399, 116.3399])\n",
      "[tensor(39.9814), tensor(39.9793)]\n",
      "[tensor(116.3399), tensor(116.3400)]\n",
      "over\n",
      "[(39.98212553489541, 116.33770753646104), (39.98212553489541, 116.33770753646104), (39.98176601295398, 116.33881101147735), (39.98140648799353, 116.33991445203374), (39.98140648799353, 116.33991445203374), (39.98104696001483, 116.34101785813094), (39.98140648799353, 116.33991445203374), (39.98140648799353, 116.33991445203374), (39.98140648799353, 116.33991445203374), (39.98140648799353, 116.33991445203374), (39.97964141965984, 116.3421739591838)]\n",
      "tensor([39.9821, 39.9821, 39.9818, 39.9814, 39.9814, 39.9810, 39.9814, 39.9814,\n",
      "        39.9814])\n",
      "tensor([116.3377, 116.3377, 116.3388, 116.3399, 116.3399, 116.3410, 116.3399,\n",
      "        116.3399, 116.3399])\n",
      "[tensor(39.9814), tensor(39.9796)]\n",
      "[tensor(116.3399), tensor(116.3422)]\n",
      "over\n",
      "[(39.98212553489541, 116.33770753646104), (39.98176601295398, 116.33881101147735), (39.98140648799353, 116.33991445203374), (39.98140648799353, 116.33991445203374), (39.98104696001483, 116.34101785813094), (39.98140648799353, 116.33991445203374), (39.98140648799353, 116.33991445203374), (39.98140648799353, 116.33991445203374), (39.98140648799353, 116.33991445203374), (39.98179848647123, 116.33555335533285), (39.97964141965984, 116.3421739591838)]\n",
      "tensor([39.9821, 39.9818, 39.9814, 39.9814, 39.9810, 39.9814, 39.9814, 39.9814,\n",
      "        39.9814])\n",
      "tensor([116.3377, 116.3388, 116.3399, 116.3399, 116.3410, 116.3399, 116.3399,\n",
      "        116.3399, 116.3399])\n",
      "[tensor(39.9818), tensor(39.9796)]\n",
      "[tensor(116.3356), tensor(116.3422)]\n",
      "over\n",
      "[(39.98176601295398, 116.33881101147735), (39.98140648799353, 116.33991445203374), (39.98140648799353, 116.33991445203374), (39.98104696001483, 116.34101785813094), (39.98140648799353, 116.33991445203374), (39.98140648799353, 116.33991445203374), (39.98140648799353, 116.33991445203374), (39.98140648799353, 116.33991445203374), (39.98179848647123, 116.33555335533285), (39.98176601295398, 116.33881101147735), (39.98140648799353, 116.33991445203374)]\n",
      "tensor([39.9818, 39.9814, 39.9814, 39.9810, 39.9814, 39.9814, 39.9814, 39.9814,\n",
      "        39.9818])\n",
      "tensor([116.3388, 116.3399, 116.3399, 116.3410, 116.3399, 116.3399, 116.3399,\n",
      "        116.3399, 116.3356])\n",
      "[tensor(39.9818), tensor(39.9814)]\n",
      "[tensor(116.3388), tensor(116.3399)]\n",
      "over\n",
      "[(39.98140648799353, 116.33991445203374), (39.98140648799353, 116.33991445203374), (39.98104696001483, 116.34101785813094), (39.98140648799353, 116.33991445203374), (39.98140648799353, 116.33991445203374), (39.98140648799353, 116.33991445203374), (39.98140648799353, 116.33991445203374), (39.98179848647123, 116.33555335533285), (39.98176601295398, 116.33881101147735), (39.98140648799353, 116.33991445203374), (40.18854235046815, 116.18760005223736)]\n",
      "tensor([39.9814, 39.9814, 39.9810, 39.9814, 39.9814, 39.9814, 39.9814, 39.9818,\n",
      "        39.9818])\n",
      "tensor([116.3399, 116.3399, 116.3410, 116.3399, 116.3399, 116.3399, 116.3399,\n",
      "        116.3356, 116.3388])\n",
      "[tensor(39.9814), tensor(40.1885)]\n",
      "[tensor(116.3399), tensor(116.1876)]\n",
      "over\n",
      "[(39.98140648799353, 116.33991445203374), (39.98104696001483, 116.34101785813094), (39.98140648799353, 116.33991445203374), (39.98140648799353, 116.33991445203374), (39.98140648799353, 116.33991445203374), (39.98140648799353, 116.33991445203374), (39.98179848647123, 116.33555335533285), (39.98176601295398, 116.33881101147735), (39.98140648799353, 116.33991445203374), (39.98140648799353, 116.33991445203374), (39.98206036202711, 116.344222499489)]\n",
      "tensor([39.9814, 39.9810, 39.9814, 39.9814, 39.9814, 39.9814, 39.9818, 39.9818,\n",
      "        39.9814])\n",
      "tensor([116.3399, 116.3410, 116.3399, 116.3399, 116.3399, 116.3399, 116.3356,\n",
      "        116.3388, 116.3399])\n",
      "[tensor(39.9814), tensor(39.9821)]\n",
      "[tensor(116.3399), tensor(116.3442)]\n",
      "over\n",
      "[(39.98104696001483, 116.34101785813094), (39.98140648799353, 116.33991445203374), (39.98140648799353, 116.33991445203374), (39.98140648799353, 116.33991445203374), (39.98140648799353, 116.33991445203374), (39.98179848647123, 116.33555335533285), (39.98176601295398, 116.33881101147735), (39.98140648799353, 116.33991445203374), (39.98140648799353, 116.33991445203374), (39.98140648799353, 116.33991445203374), (39.94405222855523, 116.3472202799445)]\n",
      "tensor([39.9810, 39.9814, 39.9814, 39.9814, 39.9814, 39.9818, 39.9818, 39.9814,\n",
      "        39.9814])\n",
      "tensor([116.3410, 116.3399, 116.3399, 116.3399, 116.3399, 116.3356, 116.3388,\n",
      "        116.3399, 116.3399])\n",
      "[tensor(39.9814), tensor(39.9441)]\n",
      "[tensor(116.3399), tensor(116.3472)]\n",
      "over\n",
      "[(39.98140648799353, 116.33991445203374), (39.98140648799353, 116.33991445203374), (39.98140648799353, 116.33991445203374), (39.98140648799353, 116.33991445203374), (39.98179848647123, 116.33555335533285), (39.98176601295398, 116.33881101147735), (39.98140648799353, 116.33991445203374), (39.98140648799353, 116.33991445203374), (39.98140648799353, 116.33991445203374), (39.98140648799353, 116.33991445203374), (39.98317160504538, 116.33765470960265)]\n",
      "tensor([39.9814, 39.9814, 39.9814, 39.9814, 39.9818, 39.9818, 39.9814, 39.9814,\n",
      "        39.9814])\n",
      "tensor([116.3399, 116.3399, 116.3399, 116.3399, 116.3356, 116.3388, 116.3399,\n",
      "        116.3399, 116.3399])\n",
      "[tensor(39.9814), tensor(39.9832)]\n",
      "[tensor(116.3399), tensor(116.3377)]\n",
      "over\n",
      "[(39.98140648799353, 116.33991445203374), (39.98140648799353, 116.33991445203374), (39.98140648799353, 116.33991445203374), (39.98179848647123, 116.33555335533285), (39.98176601295398, 116.33881101147735), (39.98140648799353, 116.33991445203374), (39.98140648799353, 116.33991445203374), (39.98140648799353, 116.33991445203374), (39.98140648799353, 116.33991445203374), (39.98140648799353, 116.33991445203374), (39.960783079374835, 116.34637864634702)]\n",
      "tensor([39.9814, 39.9814, 39.9814, 39.9818, 39.9818, 39.9814, 39.9814, 39.9814,\n",
      "        39.9814])\n",
      "tensor([116.3399, 116.3399, 116.3399, 116.3356, 116.3388, 116.3399, 116.3399,\n",
      "        116.3399, 116.3399])\n",
      "[tensor(39.9814), tensor(39.9608)]\n",
      "[tensor(116.3399), tensor(116.3464)]\n",
      "over\n",
      "[(39.98140648799353, 116.33991445203374), (39.98140648799353, 116.33991445203374), (39.98179848647123, 116.33555335533285), (39.98176601295398, 116.33881101147735), (39.98140648799353, 116.33991445203374), (39.98140648799353, 116.33991445203374), (39.98140648799353, 116.33991445203374), (39.98140648799353, 116.33991445203374), (39.98140648799353, 116.33991445203374), (39.98140648799353, 116.33991445203374), (39.98000093834051, 116.34107061135364)]\n",
      "tensor([39.9814, 39.9814, 39.9818, 39.9818, 39.9814, 39.9814, 39.9814, 39.9814,\n",
      "        39.9814])\n",
      "tensor([116.3399, 116.3399, 116.3356, 116.3388, 116.3399, 116.3399, 116.3399,\n",
      "        116.3399, 116.3399])\n",
      "[tensor(39.9814), tensor(39.9800)]\n",
      "[tensor(116.3399), tensor(116.3411)]\n",
      "over\n",
      "[(39.98140648799353, 116.33991445203374), (39.98179848647123, 116.33555335533285), (39.98176601295398, 116.33881101147735), (39.98140648799353, 116.33991445203374), (39.98140648799353, 116.33991445203374), (39.98140648799353, 116.33991445203374), (39.98140648799353, 116.33991445203374), (39.98140648799353, 116.33991445203374), (39.98140648799353, 116.33991445203374), (39.98140648799353, 116.33991445203374), (39.98000093834051, 116.34107061135364)]\n",
      "tensor([39.9814, 39.9818, 39.9818, 39.9814, 39.9814, 39.9814, 39.9814, 39.9814,\n",
      "        39.9814])\n",
      "tensor([116.3399, 116.3356, 116.3388, 116.3399, 116.3399, 116.3399, 116.3399,\n",
      "        116.3399, 116.3399])\n",
      "[tensor(39.9814), tensor(39.9800)]\n",
      "[tensor(116.3399), tensor(116.3411)]\n",
      "over\n",
      "[(39.98179848647123, 116.33555335533285), (39.98176601295398, 116.33881101147735), (39.98140648799353, 116.33991445203374), (39.98140648799353, 116.33991445203374), (39.98140648799353, 116.33991445203374), (39.98140648799353, 116.33991445203374), (39.98140648799353, 116.33991445203374), (39.98140648799353, 116.33991445203374), (39.98140648799353, 116.33991445203374), (39.98140648799353, 116.33991445203374), (39.95179451880362, 116.33923855844844)]\n",
      "tensor([39.9818, 39.9818, 39.9814, 39.9814, 39.9814, 39.9814, 39.9814, 39.9814,\n",
      "        39.9814])\n",
      "tensor([116.3356, 116.3388, 116.3399, 116.3399, 116.3399, 116.3399, 116.3399,\n",
      "        116.3399, 116.3399])\n",
      "[tensor(39.9814), tensor(39.9518)]\n",
      "[tensor(116.3399), tensor(116.3392)]\n",
      "over\n",
      "[(39.98176601295398, 116.33881101147735), (39.98140648799353, 116.33991445203374), (39.98140648799353, 116.33991445203374), (39.98140648799353, 116.33991445203374), (39.98140648799353, 116.33991445203374), (39.98140648799353, 116.33991445203374), (39.98140648799353, 116.33991445203374), (39.98140648799353, 116.33991445203374), (39.98140648799353, 116.33991445203374), (39.98140648799353, 116.33991445203374), (39.98036045400415, 116.33996722906653)]\n",
      "tensor([39.9818, 39.9814, 39.9814, 39.9814, 39.9814, 39.9814, 39.9814, 39.9814,\n",
      "        39.9814])\n",
      "tensor([116.3388, 116.3399, 116.3399, 116.3399, 116.3399, 116.3399, 116.3399,\n",
      "        116.3399, 116.3399])\n",
      "[tensor(39.9814), tensor(39.9804)]\n",
      "[tensor(116.3399), tensor(116.3400)]\n",
      "over\n",
      "[(39.98140648799353, 116.33991445203374), (39.98140648799353, 116.33991445203374), (39.98140648799353, 116.33991445203374), (39.98140648799353, 116.33991445203374), (39.98140648799353, 116.33991445203374), (39.98140648799353, 116.33991445203374), (39.98140648799353, 116.33991445203374), (39.98140648799353, 116.33991445203374), (39.98140648799353, 116.33991445203374), (39.98140648799353, 116.33991445203374), (39.98000093834051, 116.34107061135364)]\n",
      "tensor([39.9814, 39.9814, 39.9814, 39.9814, 39.9814, 39.9814, 39.9814, 39.9814,\n",
      "        39.9814])\n",
      "tensor([116.3399, 116.3399, 116.3399, 116.3399, 116.3399, 116.3399, 116.3399,\n",
      "        116.3399, 116.3399])\n",
      "[tensor(39.9814), tensor(39.9800)]\n",
      "[tensor(116.3399), tensor(116.3411)]\n",
      "over\n",
      "[(39.98140648799353, 116.33991445203374), (39.98140648799353, 116.33991445203374), (39.98140648799353, 116.33991445203374), (39.98140648799353, 116.33991445203374), (39.98140648799353, 116.33991445203374), (39.98140648799353, 116.33991445203374), (39.98140648799353, 116.33991445203374), (39.98140648799353, 116.33991445203374), (39.98140648799353, 116.33991445203374), (39.98140648799353, 116.33991445203374), (39.98000093834051, 116.34107061135364)]\n",
      "tensor([39.9814, 39.9814, 39.9814, 39.9814, 39.9814, 39.9814, 39.9814, 39.9814,\n",
      "        39.9814])\n",
      "tensor([116.3399, 116.3399, 116.3399, 116.3399, 116.3399, 116.3399, 116.3399,\n",
      "        116.3399, 116.3399])\n",
      "[tensor(39.9814), tensor(39.9800)]\n",
      "[tensor(116.3399), tensor(116.3411)]\n",
      "over\n",
      "[(39.98140648799353, 116.33991445203374), (39.98140648799353, 116.33991445203374), (39.98140648799353, 116.33991445203374), (39.98140648799353, 116.33991445203374), (39.98140648799353, 116.33991445203374), (39.98140648799353, 116.33991445203374), (39.98140648799353, 116.33991445203374), (39.98140648799353, 116.33991445203374), (39.98140648799353, 116.33991445203374), (39.98140648799353, 116.33991445203374), (39.97964141965984, 116.3421739591838)]\n",
      "tensor([39.9814, 39.9814, 39.9814, 39.9814, 39.9814, 39.9814, 39.9814, 39.9814,\n",
      "        39.9814])\n",
      "tensor([116.3399, 116.3399, 116.3399, 116.3399, 116.3399, 116.3399, 116.3399,\n",
      "        116.3399, 116.3399])\n",
      "[tensor(39.9814), tensor(39.9796)]\n",
      "[tensor(116.3399), tensor(116.3422)]\n",
      "over\n",
      "[(39.98140648799353, 116.33991445203374), (39.98140648799353, 116.33991445203374), (39.98140648799353, 116.33991445203374), (39.98140648799353, 116.33991445203374), (39.98140648799353, 116.33991445203374), (39.98140648799353, 116.33991445203374), (39.98140648799353, 116.33991445203374), (39.98140648799353, 116.33991445203374), (39.98140648799353, 116.33991445203374), (39.98140648799353, 116.33991445203374), (40.18854235046815, 116.18760005223736)]\n",
      "tensor([39.9814, 39.9814, 39.9814, 39.9814, 39.9814, 39.9814, 39.9814, 39.9814,\n",
      "        39.9814])\n",
      "tensor([116.3399, 116.3399, 116.3399, 116.3399, 116.3399, 116.3399, 116.3399,\n",
      "        116.3399, 116.3399])\n",
      "[tensor(39.9814), tensor(40.1885)]\n",
      "[tensor(116.3399), tensor(116.1876)]\n",
      "over\n",
      "[(39.98140648799353, 116.33991445203374), (39.98140648799353, 116.33991445203374), (39.98140648799353, 116.33991445203374), (39.98140648799353, 116.33991445203374), (39.98140648799353, 116.33991445203374), (39.98140648799353, 116.33991445203374), (39.98140648799353, 116.33991445203374), (39.98140648799353, 116.33991445203374), (39.98140648799353, 116.33991445203374), (39.98140648799353, 116.33991445203374), (39.98036045400415, 116.33996722906653)]\n",
      "tensor([39.9814, 39.9814, 39.9814, 39.9814, 39.9814, 39.9814, 39.9814, 39.9814,\n",
      "        39.9814])\n",
      "tensor([116.3399, 116.3399, 116.3399, 116.3399, 116.3399, 116.3399, 116.3399,\n",
      "        116.3399, 116.3399])\n",
      "[tensor(39.9814), tensor(39.9804)]\n",
      "[tensor(116.3399), tensor(116.3400)]\n",
      "over\n",
      "[(39.98140648799353, 116.33991445203374), (39.98140648799353, 116.33991445203374), (39.98140648799353, 116.33991445203374), (39.98140648799353, 116.33991445203374), (39.98140648799353, 116.33991445203374), (39.98140648799353, 116.33991445203374), (39.98140648799353, 116.33991445203374), (39.98140648799353, 116.33991445203374), (39.98140648799353, 116.33991445203374), (39.98140648799353, 116.33991445203374), (39.95179451880362, 116.33923855844844)]\n",
      "tensor([39.9814, 39.9814, 39.9814, 39.9814, 39.9814, 39.9814, 39.9814, 39.9814,\n",
      "        39.9814])\n",
      "tensor([116.3399, 116.3399, 116.3399, 116.3399, 116.3399, 116.3399, 116.3399,\n",
      "        116.3399, 116.3399])\n",
      "[tensor(39.9814), tensor(39.9518)]\n",
      "[tensor(116.3399), tensor(116.3392)]\n",
      "over\n",
      "[(39.98140648799353, 116.33991445203374), (39.98140648799353, 116.33991445203374), (39.98140648799353, 116.33991445203374), (39.98140648799353, 116.33991445203374), (39.98140648799353, 116.33991445203374), (39.98140648799353, 116.33991445203374), (39.98140648799353, 116.33991445203374), (39.98140648799353, 116.33991445203374), (39.98140648799353, 116.33991445203374), (39.98140648799353, 116.33991445203374), (39.95179451880362, 116.33923855844844)]\n",
      "tensor([39.9814, 39.9814, 39.9814, 39.9814, 39.9814, 39.9814, 39.9814, 39.9814,\n",
      "        39.9814])\n",
      "tensor([116.3399, 116.3399, 116.3399, 116.3399, 116.3399, 116.3399, 116.3399,\n",
      "        116.3399, 116.3399])\n",
      "[tensor(39.9814), tensor(39.9518)]\n",
      "[tensor(116.3399), tensor(116.3392)]\n",
      "over\n",
      "[(39.98140648799353, 116.33991445203374), (39.98140648799353, 116.33991445203374), (39.98140648799353, 116.33991445203374), (39.98140648799353, 116.33991445203374), (39.98140648799353, 116.33991445203374), (39.98140648799353, 116.33991445203374), (39.98140648799353, 116.33991445203374), (39.98140648799353, 116.33991445203374), (39.98140648799353, 116.33991445203374), (39.98140648799353, 116.33991445203374), (39.95179451880362, 116.33923855844844)]\n",
      "tensor([39.9814, 39.9814, 39.9814, 39.9814, 39.9814, 39.9814, 39.9814, 39.9814,\n",
      "        39.9814])\n",
      "tensor([116.3399, 116.3399, 116.3399, 116.3399, 116.3399, 116.3399, 116.3399,\n",
      "        116.3399, 116.3399])\n",
      "[tensor(39.9814), tensor(39.9518)]\n",
      "[tensor(116.3399), tensor(116.3392)]\n",
      "over\n",
      "[(39.98140648799353, 116.33991445203374), (39.98140648799353, 116.33991445203374), (39.98140648799353, 116.33991445203374), (39.98140648799353, 116.33991445203374), (39.98140648799353, 116.33991445203374), (39.98140648799353, 116.33991445203374), (39.98140648799353, 116.33991445203374), (39.98140648799353, 116.33991445203374), (39.98140648799353, 116.33991445203374), (39.98140648799353, 116.33991445203374), (39.95179451880362, 116.33923855844844)]\n",
      "tensor([39.9814, 39.9814, 39.9814, 39.9814, 39.9814, 39.9814, 39.9814, 39.9814,\n",
      "        39.9814])\n",
      "tensor([116.3399, 116.3399, 116.3399, 116.3399, 116.3399, 116.3399, 116.3399,\n",
      "        116.3399, 116.3399])\n",
      "[tensor(39.9814), tensor(39.9518)]\n",
      "[tensor(116.3399), tensor(116.3392)]\n",
      "over\n",
      "[(39.98140648799353, 116.33991445203374), (39.98140648799353, 116.33991445203374), (39.98140648799353, 116.33991445203374), (39.98140648799353, 116.33991445203374), (39.98140648799353, 116.33991445203374), (39.98140648799353, 116.33991445203374), (39.98140648799353, 116.33991445203374), (39.98140648799353, 116.33991445203374), (39.98140648799353, 116.33991445203374), (39.98140648799353, 116.33991445203374), (39.97964141965984, 116.3421739591838)]\n",
      "tensor([39.9814, 39.9814, 39.9814, 39.9814, 39.9814, 39.9814, 39.9814, 39.9814,\n",
      "        39.9814])\n",
      "tensor([116.3399, 116.3399, 116.3399, 116.3399, 116.3399, 116.3399, 116.3399,\n",
      "        116.3399, 116.3399])\n",
      "[tensor(39.9814), tensor(39.9796)]\n",
      "[tensor(116.3399), tensor(116.3422)]\n",
      "over\n",
      "[(39.98140648799353, 116.33991445203374), (39.98140648799353, 116.33991445203374), (39.98140648799353, 116.33991445203374), (39.98140648799353, 116.33991445203374), (39.98140648799353, 116.33991445203374), (39.98140648799353, 116.33991445203374), (39.98140648799353, 116.33991445203374), (39.98140648799353, 116.33991445203374), (39.98140648799353, 116.33991445203374), (39.98140648799353, 116.33991445203374), (39.97964141965984, 116.3421739591838)]\n",
      "tensor([39.9814, 39.9814, 39.9814, 39.9814, 39.9814, 39.9814, 39.9814, 39.9814,\n",
      "        39.9814])\n",
      "tensor([116.3399, 116.3399, 116.3399, 116.3399, 116.3399, 116.3399, 116.3399,\n",
      "        116.3399, 116.3399])\n",
      "[tensor(39.9814), tensor(39.9796)]\n",
      "[tensor(116.3399), tensor(116.3422)]\n",
      "over\n",
      "[(39.98140648799353, 116.33991445203374), (39.98140648799353, 116.33991445203374), (39.98140648799353, 116.33991445203374), (39.98140648799353, 116.33991445203374), (39.98140648799353, 116.33991445203374), (39.98140648799353, 116.33991445203374), (39.98140648799353, 116.33991445203374), (39.98140648799353, 116.33991445203374), (39.98140648799353, 116.33991445203374), (39.98140648799353, 116.33991445203374), (39.97964141965984, 116.3421739591838)]\n",
      "tensor([39.9814, 39.9814, 39.9814, 39.9814, 39.9814, 39.9814, 39.9814, 39.9814,\n",
      "        39.9814])\n",
      "tensor([116.3399, 116.3399, 116.3399, 116.3399, 116.3399, 116.3399, 116.3399,\n",
      "        116.3399, 116.3399])\n",
      "[tensor(39.9814), tensor(39.9796)]\n",
      "[tensor(116.3399), tensor(116.3422)]\n",
      "over\n",
      "[(39.98140648799353, 116.33991445203374), (39.98140648799353, 116.33991445203374), (39.98140648799353, 116.33991445203374), (39.98140648799353, 116.33991445203374), (39.98140648799353, 116.33991445203374), (39.98140648799353, 116.33991445203374), (39.98140648799353, 116.33991445203374), (39.98140648799353, 116.33991445203374), (39.98140648799353, 116.33991445203374), (39.98140648799353, 116.33991445203374), (39.98036045400415, 116.33996722906653)]\n",
      "tensor([39.9814, 39.9814, 39.9814, 39.9814, 39.9814, 39.9814, 39.9814, 39.9814,\n",
      "        39.9814])\n",
      "tensor([116.3399, 116.3399, 116.3399, 116.3399, 116.3399, 116.3399, 116.3399,\n",
      "        116.3399, 116.3399])\n",
      "[tensor(39.9814), tensor(39.9804)]\n",
      "[tensor(116.3399), tensor(116.3400)]\n",
      "over\n",
      "[(39.98140648799353, 116.33991445203374), (39.98140648799353, 116.33991445203374), (39.98140648799353, 116.33991445203374), (39.98140648799353, 116.33991445203374), (39.98140648799353, 116.33991445203374), (39.98140648799353, 116.33991445203374), (39.98140648799353, 116.33991445203374), (39.98140648799353, 116.33991445203374), (39.98140648799353, 116.33991445203374), (39.98140648799353, 116.33991445203374), (39.98036045400415, 116.33996722906653)]\n",
      "tensor([39.9814, 39.9814, 39.9814, 39.9814, 39.9814, 39.9814, 39.9814, 39.9814,\n",
      "        39.9814])\n",
      "tensor([116.3399, 116.3399, 116.3399, 116.3399, 116.3399, 116.3399, 116.3399,\n",
      "        116.3399, 116.3399])\n",
      "[tensor(39.9814), tensor(39.9804)]\n",
      "[tensor(116.3399), tensor(116.3400)]\n",
      "over\n",
      "[(39.98140648799353, 116.33991445203374), (39.98140648799353, 116.33991445203374), (39.98140648799353, 116.33991445203374), (39.98140648799353, 116.33991445203374), (39.98140648799353, 116.33991445203374), (39.98140648799353, 116.33991445203374), (39.98140648799353, 116.33991445203374), (39.98140648799353, 116.33991445203374), (39.98140648799353, 116.33991445203374), (39.98140648799353, 116.33991445203374), (39.98000093834051, 116.34107061135364)]\n",
      "tensor([39.9814, 39.9814, 39.9814, 39.9814, 39.9814, 39.9814, 39.9814, 39.9814,\n",
      "        39.9814])\n",
      "tensor([116.3399, 116.3399, 116.3399, 116.3399, 116.3399, 116.3399, 116.3399,\n",
      "        116.3399, 116.3399])\n",
      "[tensor(39.9814), tensor(39.9800)]\n",
      "[tensor(116.3399), tensor(116.3411)]\n",
      "over\n",
      "[(39.98140648799353, 116.33991445203374), (39.98140648799353, 116.33991445203374), (39.98140648799353, 116.33991445203374), (39.98140648799353, 116.33991445203374), (39.98140648799353, 116.33991445203374), (39.98140648799353, 116.33991445203374), (39.98140648799353, 116.33991445203374), (39.98140648799353, 116.33991445203374), (39.98140648799353, 116.33991445203374), (39.98140648799353, 116.33991445203374), (39.98000093834051, 116.34107061135364)]\n",
      "tensor([39.9814, 39.9814, 39.9814, 39.9814, 39.9814, 39.9814, 39.9814, 39.9814,\n",
      "        39.9814])\n",
      "tensor([116.3399, 116.3399, 116.3399, 116.3399, 116.3399, 116.3399, 116.3399,\n",
      "        116.3399, 116.3399])\n",
      "[tensor(39.9814), tensor(39.9800)]\n",
      "[tensor(116.3399), tensor(116.3411)]\n",
      "over\n",
      "[(39.98140648799353, 116.33991445203374), (39.98140648799353, 116.33991445203374), (39.98140648799353, 116.33991445203374), (39.98140648799353, 116.33991445203374), (39.98140648799353, 116.33991445203374), (39.98140648799353, 116.33991445203374), (39.98140648799353, 116.33991445203374), (39.98140648799353, 116.33991445203374), (39.98140648799353, 116.33991445203374), (39.98140648799353, 116.33991445203374), (39.98036045400415, 116.33996722906653)]\n",
      "tensor([39.9814, 39.9814, 39.9814, 39.9814, 39.9814, 39.9814, 39.9814, 39.9814,\n",
      "        39.9814])\n",
      "tensor([116.3399, 116.3399, 116.3399, 116.3399, 116.3399, 116.3399, 116.3399,\n",
      "        116.3399, 116.3399])\n",
      "[tensor(39.9814), tensor(39.9804)]\n",
      "[tensor(116.3399), tensor(116.3400)]\n",
      "over\n",
      "[(39.98140648799353, 116.33991445203374), (39.98140648799353, 116.33991445203374), (39.98140648799353, 116.33991445203374), (39.98140648799353, 116.33991445203374), (39.98140648799353, 116.33991445203374), (39.98140648799353, 116.33991445203374), (39.98140648799353, 116.33991445203374), (39.98140648799353, 116.33991445203374), (39.98140648799353, 116.33991445203374), (39.98140648799353, 116.33991445203374), (40.18854235046815, 116.18760005223736)]\n",
      "tensor([39.9814, 39.9814, 39.9814, 39.9814, 39.9814, 39.9814, 39.9814, 39.9814,\n",
      "        39.9814])\n",
      "tensor([116.3399, 116.3399, 116.3399, 116.3399, 116.3399, 116.3399, 116.3399,\n",
      "        116.3399, 116.3399])\n",
      "[tensor(39.9814), tensor(40.1885)]\n",
      "[tensor(116.3399), tensor(116.1876)]\n",
      "over\n",
      "[(39.98140648799353, 116.33991445203374), (39.98140648799353, 116.33991445203374), (39.98140648799353, 116.33991445203374), (39.98140648799353, 116.33991445203374), (39.98140648799353, 116.33991445203374), (39.98140648799353, 116.33991445203374), (39.98140648799353, 116.33991445203374), (39.98140648799353, 116.33991445203374), (39.98140648799353, 116.33991445203374), (39.98140648799353, 116.33991445203374), (39.98000093834051, 116.34107061135364)]\n",
      "tensor([39.9814, 39.9814, 39.9814, 39.9814, 39.9814, 39.9814, 39.9814, 39.9814,\n",
      "        39.9814])\n",
      "tensor([116.3399, 116.3399, 116.3399, 116.3399, 116.3399, 116.3399, 116.3399,\n",
      "        116.3399, 116.3399])\n",
      "[tensor(39.9814), tensor(39.9800)]\n",
      "[tensor(116.3399), tensor(116.3411)]\n",
      "over\n",
      "[(39.98140648799353, 116.33991445203374), (39.98140648799353, 116.33991445203374), (39.98140648799353, 116.33991445203374), (39.98140648799353, 116.33991445203374), (39.98140648799353, 116.33991445203374), (39.98140648799353, 116.33991445203374), (39.98140648799353, 116.33991445203374), (39.98140648799353, 116.33991445203374), (39.98140648799353, 116.33991445203374), (39.98140648799353, 116.33991445203374), (39.97964141965984, 116.3421739591838)]\n",
      "tensor([39.9814, 39.9814, 39.9814, 39.9814, 39.9814, 39.9814, 39.9814, 39.9814,\n",
      "        39.9814])\n",
      "tensor([116.3399, 116.3399, 116.3399, 116.3399, 116.3399, 116.3399, 116.3399,\n",
      "        116.3399, 116.3399])\n",
      "[tensor(39.9814), tensor(39.9796)]\n",
      "[tensor(116.3399), tensor(116.3422)]\n",
      "over\n",
      "[(39.98140648799353, 116.33991445203374), (39.98140648799353, 116.33991445203374), (39.98140648799353, 116.33991445203374), (39.98140648799353, 116.33991445203374), (39.98140648799353, 116.33991445203374), (39.98140648799353, 116.33991445203374), (39.98140648799353, 116.33991445203374), (39.98140648799353, 116.33991445203374), (39.98140648799353, 116.33991445203374), (39.98140648799353, 116.33991445203374), (39.95179451880362, 116.33923855844844)]\n",
      "tensor([39.9814, 39.9814, 39.9814, 39.9814, 39.9814, 39.9814, 39.9814, 39.9814,\n",
      "        39.9814])\n",
      "tensor([116.3399, 116.3399, 116.3399, 116.3399, 116.3399, 116.3399, 116.3399,\n",
      "        116.3399, 116.3399])\n",
      "[tensor(39.9814), tensor(39.9518)]\n",
      "[tensor(116.3399), tensor(116.3392)]\n",
      "over\n",
      "[(39.98140648799353, 116.33991445203374), (39.98140648799353, 116.33991445203374), (39.98140648799353, 116.33991445203374), (39.98140648799353, 116.33991445203374), (39.98140648799353, 116.33991445203374), (39.98140648799353, 116.33991445203374), (39.98140648799353, 116.33991445203374), (39.98140648799353, 116.33991445203374), (39.98140648799353, 116.33991445203374), (39.98140648799353, 116.33991445203374), (39.98000093834051, 116.34107061135364)]\n",
      "tensor([39.9814, 39.9814, 39.9814, 39.9814, 39.9814, 39.9814, 39.9814, 39.9814,\n",
      "        39.9814])\n",
      "tensor([116.3399, 116.3399, 116.3399, 116.3399, 116.3399, 116.3399, 116.3399,\n",
      "        116.3399, 116.3399])\n",
      "[tensor(39.9814), tensor(39.9800)]\n",
      "[tensor(116.3399), tensor(116.3411)]\n",
      "over\n",
      "[(39.98140648799353, 116.33991445203374), (39.98140648799353, 116.33991445203374), (39.98140648799353, 116.33991445203374), (39.98140648799353, 116.33991445203374), (39.98140648799353, 116.33991445203374), (39.98140648799353, 116.33991445203374), (39.98140648799353, 116.33991445203374), (39.98140648799353, 116.33991445203374), (39.98140648799353, 116.33991445203374), (39.98140648799353, 116.33991445203374), (39.97964141965984, 116.3421739591838)]\n",
      "tensor([39.9814, 39.9814, 39.9814, 39.9814, 39.9814, 39.9814, 39.9814, 39.9814,\n",
      "        39.9814])\n",
      "tensor([116.3399, 116.3399, 116.3399, 116.3399, 116.3399, 116.3399, 116.3399,\n",
      "        116.3399, 116.3399])\n",
      "[tensor(39.9814), tensor(39.9796)]\n",
      "[tensor(116.3399), tensor(116.3422)]\n",
      "over\n",
      "[(39.98140648799353, 116.33991445203374), (39.98140648799353, 116.33991445203374), (39.98140648799353, 116.33991445203374), (39.98140648799353, 116.33991445203374), (39.98140648799353, 116.33991445203374), (39.98140648799353, 116.33991445203374), (39.98140648799353, 116.33991445203374), (39.98140648799353, 116.33991445203374), (39.98140648799353, 116.33991445203374), (39.98140648799353, 116.33991445203374), (39.98000093834051, 116.34107061135364)]\n",
      "tensor([39.9814, 39.9814, 39.9814, 39.9814, 39.9814, 39.9814, 39.9814, 39.9814,\n",
      "        39.9814])\n",
      "tensor([116.3399, 116.3399, 116.3399, 116.3399, 116.3399, 116.3399, 116.3399,\n",
      "        116.3399, 116.3399])\n",
      "[tensor(39.9814), tensor(39.9800)]\n",
      "[tensor(116.3399), tensor(116.3411)]\n",
      "over\n",
      "[(39.98140648799353, 116.33991445203374), (39.98140648799353, 116.33991445203374), (39.98140648799353, 116.33991445203374), (39.98140648799353, 116.33991445203374), (39.98140648799353, 116.33991445203374), (39.98140648799353, 116.33991445203374), (39.98140648799353, 116.33991445203374), (39.98140648799353, 116.33991445203374), (39.98140648799353, 116.33991445203374), (39.98140648799353, 116.33991445203374), (40.18854235046815, 116.18760005223736)]\n",
      "tensor([39.9814, 39.9814, 39.9814, 39.9814, 39.9814, 39.9814, 39.9814, 39.9814,\n",
      "        39.9814])\n",
      "tensor([116.3399, 116.3399, 116.3399, 116.3399, 116.3399, 116.3399, 116.3399,\n",
      "        116.3399, 116.3399])\n",
      "[tensor(39.9814), tensor(40.1885)]\n",
      "[tensor(116.3399), tensor(116.1876)]\n",
      "over\n",
      "[(39.98140648799353, 116.33991445203374), (39.98140648799353, 116.33991445203374), (39.98140648799353, 116.33991445203374), (39.98140648799353, 116.33991445203374), (39.98140648799353, 116.33991445203374), (39.98140648799353, 116.33991445203374), (39.98140648799353, 116.33991445203374), (39.98140648799353, 116.33991445203374), (39.98140648799353, 116.33991445203374), (39.98140648799353, 116.33991445203374), (40.18854235046815, 116.18760005223736)]\n",
      "tensor([39.9814, 39.9814, 39.9814, 39.9814, 39.9814, 39.9814, 39.9814, 39.9814,\n",
      "        39.9814])\n",
      "tensor([116.3399, 116.3399, 116.3399, 116.3399, 116.3399, 116.3399, 116.3399,\n",
      "        116.3399, 116.3399])\n",
      "[tensor(39.9814), tensor(40.1885)]\n",
      "[tensor(116.3399), tensor(116.1876)]\n",
      "over\n",
      "[(39.98140648799353, 116.33991445203374), (39.98140648799353, 116.33991445203374), (39.98140648799353, 116.33991445203374), (39.98140648799353, 116.33991445203374), (39.98140648799353, 116.33991445203374), (39.98140648799353, 116.33991445203374), (39.98140648799353, 116.33991445203374), (39.98140648799353, 116.33991445203374), (39.98140648799353, 116.33991445203374), (39.98140648799353, 116.33991445203374), (40.18854235046815, 116.18760005223736)]\n",
      "tensor([39.9814, 39.9814, 39.9814, 39.9814, 39.9814, 39.9814, 39.9814, 39.9814,\n",
      "        39.9814])\n",
      "tensor([116.3399, 116.3399, 116.3399, 116.3399, 116.3399, 116.3399, 116.3399,\n",
      "        116.3399, 116.3399])\n",
      "[tensor(39.9814), tensor(40.1885)]\n",
      "[tensor(116.3399), tensor(116.1876)]\n",
      "over\n",
      "[(39.98140648799353, 116.33991445203374), (39.98140648799353, 116.33991445203374), (39.98140648799353, 116.33991445203374), (39.98140648799353, 116.33991445203374), (39.98140648799353, 116.33991445203374), (39.98140648799353, 116.33991445203374), (39.98140648799353, 116.33991445203374), (39.98140648799353, 116.33991445203374), (39.98140648799353, 116.33991445203374), (39.98140648799353, 116.33991445203374), (39.95179451880362, 116.33923855844844)]\n",
      "tensor([39.9814, 39.9814, 39.9814, 39.9814, 39.9814, 39.9814, 39.9814, 39.9814,\n",
      "        39.9814])\n",
      "tensor([116.3399, 116.3399, 116.3399, 116.3399, 116.3399, 116.3399, 116.3399,\n",
      "        116.3399, 116.3399])\n",
      "[tensor(39.9814), tensor(39.9518)]\n",
      "[tensor(116.3399), tensor(116.3392)]\n",
      "over\n",
      "[(39.98140648799353, 116.33991445203374), (39.98140648799353, 116.33991445203374), (39.98140648799353, 116.33991445203374), (39.98140648799353, 116.33991445203374), (39.98140648799353, 116.33991445203374), (39.98140648799353, 116.33991445203374), (39.98140648799353, 116.33991445203374), (39.98140648799353, 116.33991445203374), (39.98140648799353, 116.33991445203374), (39.98140648799353, 116.33991445203374), (39.98000093834051, 116.34107061135364)]\n",
      "tensor([39.9814, 39.9814, 39.9814, 39.9814, 39.9814, 39.9814, 39.9814, 39.9814,\n",
      "        39.9814])\n",
      "tensor([116.3399, 116.3399, 116.3399, 116.3399, 116.3399, 116.3399, 116.3399,\n",
      "        116.3399, 116.3399])\n",
      "[tensor(39.9814), tensor(39.9800)]\n",
      "[tensor(116.3399), tensor(116.3411)]\n",
      "over\n",
      "[(39.98140648799353, 116.33991445203374), (39.98140648799353, 116.33991445203374), (39.98140648799353, 116.33991445203374), (39.98140648799353, 116.33991445203374), (39.98140648799353, 116.33991445203374), (39.98140648799353, 116.33991445203374), (39.98140648799353, 116.33991445203374), (39.98140648799353, 116.33991445203374), (39.98140648799353, 116.33991445203374), (39.98140648799353, 116.33991445203374), (40.18854235046815, 116.18760005223736)]\n",
      "tensor([39.9814, 39.9814, 39.9814, 39.9814, 39.9814, 39.9814, 39.9814, 39.9814,\n",
      "        39.9814])\n",
      "tensor([116.3399, 116.3399, 116.3399, 116.3399, 116.3399, 116.3399, 116.3399,\n",
      "        116.3399, 116.3399])\n",
      "[tensor(39.9814), tensor(40.1885)]\n",
      "[tensor(116.3399), tensor(116.1876)]\n",
      "over\n",
      "[(39.98140648799353, 116.33991445203374), (39.98140648799353, 116.33991445203374), (39.98140648799353, 116.33991445203374), (39.98140648799353, 116.33991445203374), (39.98140648799353, 116.33991445203374), (39.98140648799353, 116.33991445203374), (39.98140648799353, 116.33991445203374), (39.98140648799353, 116.33991445203374), (39.98140648799353, 116.33991445203374), (39.98140648799353, 116.33991445203374), (39.98000093834051, 116.34107061135364)]\n",
      "tensor([39.9814, 39.9814, 39.9814, 39.9814, 39.9814, 39.9814, 39.9814, 39.9814,\n",
      "        39.9814])\n",
      "tensor([116.3399, 116.3399, 116.3399, 116.3399, 116.3399, 116.3399, 116.3399,\n",
      "        116.3399, 116.3399])\n",
      "[tensor(39.9814), tensor(39.9800)]\n",
      "[tensor(116.3399), tensor(116.3411)]\n",
      "over\n",
      "[(39.98140648799353, 116.33991445203374), (39.98140648799353, 116.33991445203374), (39.98140648799353, 116.33991445203374), (39.98140648799353, 116.33991445203374), (39.98140648799353, 116.33991445203374), (39.98140648799353, 116.33991445203374), (39.98140648799353, 116.33991445203374), (39.98140648799353, 116.33991445203374), (39.98140648799353, 116.33991445203374), (39.98140648799353, 116.33991445203374), (40.18854235046815, 116.18760005223736)]\n",
      "tensor([39.9814, 39.9814, 39.9814, 39.9814, 39.9814, 39.9814, 39.9814, 39.9814,\n",
      "        39.9814])\n",
      "tensor([116.3399, 116.3399, 116.3399, 116.3399, 116.3399, 116.3399, 116.3399,\n",
      "        116.3399, 116.3399])\n",
      "[tensor(39.9814), tensor(40.1885)]\n",
      "[tensor(116.3399), tensor(116.1876)]\n",
      "over\n",
      "[(39.98140648799353, 116.33991445203374), (39.98140648799353, 116.33991445203374), (39.98140648799353, 116.33991445203374), (39.98140648799353, 116.33991445203374), (39.98140648799353, 116.33991445203374), (39.98140648799353, 116.33991445203374), (39.98140648799353, 116.33991445203374), (39.98140648799353, 116.33991445203374), (39.98140648799353, 116.33991445203374), (39.98140648799353, 116.33991445203374), (39.97964141965984, 116.3421739591838)]\n",
      "tensor([39.9814, 39.9814, 39.9814, 39.9814, 39.9814, 39.9814, 39.9814, 39.9814,\n",
      "        39.9814])\n",
      "tensor([116.3399, 116.3399, 116.3399, 116.3399, 116.3399, 116.3399, 116.3399,\n",
      "        116.3399, 116.3399])\n",
      "[tensor(39.9814), tensor(39.9796)]\n",
      "[tensor(116.3399), tensor(116.3422)]\n",
      "over\n",
      "[(39.98140648799353, 116.33991445203374), (39.98140648799353, 116.33991445203374), (39.98140648799353, 116.33991445203374), (39.98140648799353, 116.33991445203374), (39.98140648799353, 116.33991445203374), (39.98140648799353, 116.33991445203374), (39.98140648799353, 116.33991445203374), (39.98140648799353, 116.33991445203374), (39.98140648799353, 116.33991445203374), (39.98140648799353, 116.33991445203374), (39.95179451880362, 116.33923855844844)]\n",
      "tensor([39.9814, 39.9814, 39.9814, 39.9814, 39.9814, 39.9814, 39.9814, 39.9814,\n",
      "        39.9814])\n",
      "tensor([116.3399, 116.3399, 116.3399, 116.3399, 116.3399, 116.3399, 116.3399,\n",
      "        116.3399, 116.3399])\n",
      "[tensor(39.9814), tensor(39.9518)]\n",
      "[tensor(116.3399), tensor(116.3392)]\n",
      "over\n",
      "[(39.98140648799353, 116.33991445203374), (39.98140648799353, 116.33991445203374), (39.98140648799353, 116.33991445203374), (39.98140648799353, 116.33991445203374), (39.98140648799353, 116.33991445203374), (39.98140648799353, 116.33991445203374), (39.98140648799353, 116.33991445203374), (39.98140648799353, 116.33991445203374), (39.98140648799353, 116.33991445203374), (39.98140648799353, 116.33991445203374), (39.98036045400415, 116.33996722906653)]\n",
      "tensor([39.9814, 39.9814, 39.9814, 39.9814, 39.9814, 39.9814, 39.9814, 39.9814,\n",
      "        39.9814])\n",
      "tensor([116.3399, 116.3399, 116.3399, 116.3399, 116.3399, 116.3399, 116.3399,\n",
      "        116.3399, 116.3399])\n",
      "[tensor(39.9814), tensor(39.9804)]\n",
      "[tensor(116.3399), tensor(116.3400)]\n",
      "over\n",
      "[(39.98140648799353, 116.33991445203374), (39.98140648799353, 116.33991445203374), (39.98140648799353, 116.33991445203374), (39.98140648799353, 116.33991445203374), (39.98140648799353, 116.33991445203374), (39.98140648799353, 116.33991445203374), (39.98140648799353, 116.33991445203374), (39.98140648799353, 116.33991445203374), (39.98140648799353, 116.33991445203374), (39.98140648799353, 116.33991445203374), (39.98036045400415, 116.33996722906653)]\n",
      "tensor([39.9814, 39.9814, 39.9814, 39.9814, 39.9814, 39.9814, 39.9814, 39.9814,\n",
      "        39.9814])\n",
      "tensor([116.3399, 116.3399, 116.3399, 116.3399, 116.3399, 116.3399, 116.3399,\n",
      "        116.3399, 116.3399])\n",
      "[tensor(39.9814), tensor(39.9804)]\n",
      "[tensor(116.3399), tensor(116.3400)]\n",
      "over\n",
      "[(39.98140648799353, 116.33991445203374), (39.98140648799353, 116.33991445203374), (39.98140648799353, 116.33991445203374), (39.98140648799353, 116.33991445203374), (39.98140648799353, 116.33991445203374), (39.98140648799353, 116.33991445203374), (39.98140648799353, 116.33991445203374), (39.98140648799353, 116.33991445203374), (39.98140648799353, 116.33991445203374), (39.98140648799353, 116.33991445203374), (39.95179451880362, 116.33923855844844)]\n",
      "tensor([39.9814, 39.9814, 39.9814, 39.9814, 39.9814, 39.9814, 39.9814, 39.9814,\n",
      "        39.9814])\n",
      "tensor([116.3399, 116.3399, 116.3399, 116.3399, 116.3399, 116.3399, 116.3399,\n",
      "        116.3399, 116.3399])\n",
      "[tensor(39.9814), tensor(39.9518)]\n",
      "[tensor(116.3399), tensor(116.3392)]\n",
      "over\n",
      "[(39.98140648799353, 116.33991445203374), (39.98140648799353, 116.33991445203374), (39.98140648799353, 116.33991445203374), (39.98140648799353, 116.33991445203374), (39.98140648799353, 116.33991445203374), (39.98140648799353, 116.33991445203374), (39.98140648799353, 116.33991445203374), (39.98140648799353, 116.33991445203374), (39.98140648799353, 116.33991445203374), (39.98140648799353, 116.33991445203374), (40.18854235046815, 116.18760005223736)]\n",
      "tensor([39.9814, 39.9814, 39.9814, 39.9814, 39.9814, 39.9814, 39.9814, 39.9814,\n",
      "        39.9814])\n",
      "tensor([116.3399, 116.3399, 116.3399, 116.3399, 116.3399, 116.3399, 116.3399,\n",
      "        116.3399, 116.3399])\n",
      "[tensor(39.9814), tensor(40.1885)]\n",
      "[tensor(116.3399), tensor(116.1876)]\n",
      "over\n",
      "[(39.98140648799353, 116.33991445203374), (39.98140648799353, 116.33991445203374), (39.98140648799353, 116.33991445203374), (39.98140648799353, 116.33991445203374), (39.98140648799353, 116.33991445203374), (39.98140648799353, 116.33991445203374), (39.98140648799353, 116.33991445203374), (39.98140648799353, 116.33991445203374), (39.98140648799353, 116.33991445203374), (39.98140648799353, 116.33991445203374), (39.95179451880362, 116.33923855844844)]\n",
      "tensor([39.9814, 39.9814, 39.9814, 39.9814, 39.9814, 39.9814, 39.9814, 39.9814,\n",
      "        39.9814])\n",
      "tensor([116.3399, 116.3399, 116.3399, 116.3399, 116.3399, 116.3399, 116.3399,\n",
      "        116.3399, 116.3399])\n",
      "[tensor(39.9814), tensor(39.9518)]\n",
      "[tensor(116.3399), tensor(116.3392)]\n",
      "over\n",
      "[(39.98140648799353, 116.33991445203374), (39.98140648799353, 116.33991445203374), (39.98140648799353, 116.33991445203374), (39.98140648799353, 116.33991445203374), (39.98140648799353, 116.33991445203374), (39.98140648799353, 116.33991445203374), (39.98140648799353, 116.33991445203374), (39.98140648799353, 116.33991445203374), (39.98140648799353, 116.33991445203374), (39.98140648799353, 116.33991445203374), (39.97964141965984, 116.3421739591838)]\n",
      "tensor([39.9814, 39.9814, 39.9814, 39.9814, 39.9814, 39.9814, 39.9814, 39.9814,\n",
      "        39.9814])\n",
      "tensor([116.3399, 116.3399, 116.3399, 116.3399, 116.3399, 116.3399, 116.3399,\n",
      "        116.3399, 116.3399])\n",
      "[tensor(39.9814), tensor(39.9796)]\n",
      "[tensor(116.3399), tensor(116.3422)]\n",
      "over\n",
      "[(39.98140648799353, 116.33991445203374), (39.98140648799353, 116.33991445203374), (39.98140648799353, 116.33991445203374), (39.98140648799353, 116.33991445203374), (39.98140648799353, 116.33991445203374), (39.98140648799353, 116.33991445203374), (39.98140648799353, 116.33991445203374), (39.98140648799353, 116.33991445203374), (39.98140648799353, 116.33991445203374), (39.98140648799353, 116.33991445203374), (39.97964141965984, 116.3421739591838)]\n",
      "tensor([39.9814, 39.9814, 39.9814, 39.9814, 39.9814, 39.9814, 39.9814, 39.9814,\n",
      "        39.9814])\n",
      "tensor([116.3399, 116.3399, 116.3399, 116.3399, 116.3399, 116.3399, 116.3399,\n",
      "        116.3399, 116.3399])\n",
      "[tensor(39.9814), tensor(39.9796)]\n",
      "[tensor(116.3399), tensor(116.3422)]\n",
      "over\n",
      "[(39.98140648799353, 116.33991445203374), (39.98140648799353, 116.33991445203374), (39.98140648799353, 116.33991445203374), (39.98140648799353, 116.33991445203374), (39.98140648799353, 116.33991445203374), (39.98140648799353, 116.33991445203374), (39.98140648799353, 116.33991445203374), (39.98140648799353, 116.33991445203374), (39.98140648799353, 116.33991445203374), (39.98140648799353, 116.33991445203374), (39.97964141965984, 116.3421739591838)]\n",
      "tensor([39.9814, 39.9814, 39.9814, 39.9814, 39.9814, 39.9814, 39.9814, 39.9814,\n",
      "        39.9814])\n",
      "tensor([116.3399, 116.3399, 116.3399, 116.3399, 116.3399, 116.3399, 116.3399,\n",
      "        116.3399, 116.3399])\n",
      "[tensor(39.9814), tensor(39.9796)]\n",
      "[tensor(116.3399), tensor(116.3422)]\n",
      "over\n",
      "[(39.98140648799353, 116.33991445203374), (39.98140648799353, 116.33991445203374), (39.98140648799353, 116.33991445203374), (39.98140648799353, 116.33991445203374), (39.98140648799353, 116.33991445203374), (39.98140648799353, 116.33991445203374), (39.98140648799353, 116.33991445203374), (39.98140648799353, 116.33991445203374), (39.98140648799353, 116.33991445203374), (39.98140648799353, 116.33991445203374), (39.97964141965984, 116.3421739591838)]\n",
      "tensor([39.9814, 39.9814, 39.9814, 39.9814, 39.9814, 39.9814, 39.9814, 39.9814,\n",
      "        39.9814])\n",
      "tensor([116.3399, 116.3399, 116.3399, 116.3399, 116.3399, 116.3399, 116.3399,\n",
      "        116.3399, 116.3399])\n",
      "[tensor(39.9814), tensor(39.9796)]\n",
      "[tensor(116.3399), tensor(116.3422)]\n",
      "over\n",
      "[(39.98140648799353, 116.33991445203374), (39.98140648799353, 116.33991445203374), (39.98140648799353, 116.33991445203374), (39.98140648799353, 116.33991445203374), (39.98140648799353, 116.33991445203374), (39.98140648799353, 116.33991445203374), (39.98140648799353, 116.33991445203374), (39.98140648799353, 116.33991445203374), (39.98140648799353, 116.33991445203374), (39.98140648799353, 116.33991445203374), (39.98000093834051, 116.34107061135364)]\n",
      "tensor([39.9814, 39.9814, 39.9814, 39.9814, 39.9814, 39.9814, 39.9814, 39.9814,\n",
      "        39.9814])\n",
      "tensor([116.3399, 116.3399, 116.3399, 116.3399, 116.3399, 116.3399, 116.3399,\n",
      "        116.3399, 116.3399])\n",
      "[tensor(39.9814), tensor(39.9800)]\n",
      "[tensor(116.3399), tensor(116.3411)]\n",
      "over\n",
      "[(39.98140648799353, 116.33991445203374), (39.98140648799353, 116.33991445203374), (39.98140648799353, 116.33991445203374), (39.98140648799353, 116.33991445203374), (39.98140648799353, 116.33991445203374), (39.98140648799353, 116.33991445203374), (39.98140648799353, 116.33991445203374), (39.98140648799353, 116.33991445203374), (39.98140648799353, 116.33991445203374), (39.98140648799353, 116.33991445203374), (39.97964141965984, 116.3421739591838)]\n",
      "tensor([39.9814, 39.9814, 39.9814, 39.9814, 39.9814, 39.9814, 39.9814, 39.9814,\n",
      "        39.9814])\n",
      "tensor([116.3399, 116.3399, 116.3399, 116.3399, 116.3399, 116.3399, 116.3399,\n",
      "        116.3399, 116.3399])\n",
      "[tensor(39.9814), tensor(39.9796)]\n",
      "[tensor(116.3399), tensor(116.3422)]\n",
      "over\n",
      "[(39.98140648799353, 116.33991445203374), (39.98140648799353, 116.33991445203374), (39.98140648799353, 116.33991445203374), (39.98140648799353, 116.33991445203374), (39.98140648799353, 116.33991445203374), (39.98140648799353, 116.33991445203374), (39.98140648799353, 116.33991445203374), (39.98140648799353, 116.33991445203374), (39.98140648799353, 116.33991445203374), (39.98140648799353, 116.33991445203374), (40.18854235046815, 116.18760005223736)]\n",
      "tensor([39.9814, 39.9814, 39.9814, 39.9814, 39.9814, 39.9814, 39.9814, 39.9814,\n",
      "        39.9814])\n",
      "tensor([116.3399, 116.3399, 116.3399, 116.3399, 116.3399, 116.3399, 116.3399,\n",
      "        116.3399, 116.3399])\n",
      "[tensor(39.9814), tensor(40.1885)]\n",
      "[tensor(116.3399), tensor(116.1876)]\n",
      "over\n",
      "[(39.98140648799353, 116.33991445203374), (39.98140648799353, 116.33991445203374), (39.98140648799353, 116.33991445203374), (39.98140648799353, 116.33991445203374), (39.98140648799353, 116.33991445203374), (39.98140648799353, 116.33991445203374), (39.98140648799353, 116.33991445203374), (39.98140648799353, 116.33991445203374), (39.98140648799353, 116.33991445203374), (39.98176601295398, 116.33881101147735), (39.98140648799353, 116.33991445203374)]\n",
      "tensor([39.9814, 39.9814, 39.9814, 39.9814, 39.9814, 39.9814, 39.9814, 39.9814,\n",
      "        39.9814])\n",
      "tensor([116.3399, 116.3399, 116.3399, 116.3399, 116.3399, 116.3399, 116.3399,\n",
      "        116.3399, 116.3399])\n",
      "[tensor(39.9818), tensor(39.9814)]\n",
      "[tensor(116.3388), tensor(116.3399)]\n",
      "over\n",
      "[(39.98140648799353, 116.33991445203374), (39.98140648799353, 116.33991445203374), (39.98140648799353, 116.33991445203374), (39.98140648799353, 116.33991445203374), (39.98140648799353, 116.33991445203374), (39.98140648799353, 116.33991445203374), (39.98140648799353, 116.33991445203374), (39.98140648799353, 116.33991445203374), (39.98176601295398, 116.33881101147735), (39.981079476276854, 116.33776036111833), (39.98140648799353, 116.33991445203374)]\n",
      "tensor([39.9814, 39.9814, 39.9814, 39.9814, 39.9814, 39.9814, 39.9814, 39.9814,\n",
      "        39.9818])\n",
      "tensor([116.3399, 116.3399, 116.3399, 116.3399, 116.3399, 116.3399, 116.3399,\n",
      "        116.3399, 116.3388])\n",
      "[tensor(39.9811), tensor(39.9814)]\n",
      "[tensor(116.3378), tensor(116.3399)]\n",
      "over\n",
      "[(39.98140648799353, 116.33991445203374), (39.98140648799353, 116.33991445203374), (39.98140648799353, 116.33991445203374), (39.98140648799353, 116.33991445203374), (39.98140648799353, 116.33991445203374), (39.98140648799353, 116.33991445203374), (39.98140648799353, 116.33991445203374), (39.98176601295398, 116.33881101147735), (39.981079476276854, 116.33776036111833), (39.98176601295398, 116.33881101147735), (39.98212553489541, 116.33770753646104)]\n",
      "tensor([39.9814, 39.9814, 39.9814, 39.9814, 39.9814, 39.9814, 39.9814, 39.9818,\n",
      "        39.9811])\n",
      "tensor([116.3399, 116.3399, 116.3399, 116.3399, 116.3399, 116.3399, 116.3399,\n",
      "        116.3388, 116.3378])\n",
      "[tensor(39.9818), tensor(39.9821)]\n",
      "[tensor(116.3388), tensor(116.3377)]\n",
      "over\n",
      "[(39.98140648799353, 116.33991445203374), (39.98140648799353, 116.33991445203374), (39.98140648799353, 116.33991445203374), (39.98140648799353, 116.33991445203374), (39.98140648799353, 116.33991445203374), (39.98140648799353, 116.33991445203374), (39.98176601295398, 116.33881101147735), (39.981079476276854, 116.33776036111833), (39.98176601295398, 116.33881101147735), (39.98176601295398, 116.33881101147735), (39.98140648799353, 116.33991445203374)]\n",
      "tensor([39.9814, 39.9814, 39.9814, 39.9814, 39.9814, 39.9814, 39.9818, 39.9811,\n",
      "        39.9818])\n",
      "tensor([116.3399, 116.3399, 116.3399, 116.3399, 116.3399, 116.3399, 116.3388,\n",
      "        116.3378, 116.3388])\n",
      "[tensor(39.9818), tensor(39.9814)]\n",
      "[tensor(116.3388), tensor(116.3399)]\n",
      "over\n",
      "[(39.98140648799353, 116.33991445203374), (39.98140648799353, 116.33991445203374), (39.98140648799353, 116.33991445203374), (39.98140648799353, 116.33991445203374), (39.98140648799353, 116.33991445203374), (39.98176601295398, 116.33881101147735), (39.981079476276854, 116.33776036111833), (39.98176601295398, 116.33881101147735), (39.98176601295398, 116.33881101147735), (39.98176601295398, 116.33881101147735), (39.98179848647123, 116.33555335533285)]\n",
      "tensor([39.9814, 39.9814, 39.9814, 39.9814, 39.9814, 39.9818, 39.9811, 39.9818,\n",
      "        39.9818])\n",
      "tensor([116.3399, 116.3399, 116.3399, 116.3399, 116.3399, 116.3388, 116.3378,\n",
      "        116.3388, 116.3388])\n",
      "[tensor(39.9818), tensor(39.9818)]\n",
      "[tensor(116.3388), tensor(116.3356)]\n",
      "over\n",
      "[(39.98140648799353, 116.33991445203374), (39.98140648799353, 116.33991445203374), (39.98140648799353, 116.33991445203374), (39.98140648799353, 116.33991445203374), (39.98176601295398, 116.33881101147735), (39.981079476276854, 116.33776036111833), (39.98176601295398, 116.33881101147735), (39.98176601295398, 116.33881101147735), (39.98176601295398, 116.33881101147735), (39.98176601295398, 116.33881101147735), (39.98140648799353, 116.33991445203374)]\n",
      "tensor([39.9814, 39.9814, 39.9814, 39.9814, 39.9818, 39.9811, 39.9818, 39.9818,\n",
      "        39.9818])\n",
      "tensor([116.3399, 116.3399, 116.3399, 116.3399, 116.3388, 116.3378, 116.3388,\n",
      "        116.3388, 116.3388])\n",
      "[tensor(39.9818), tensor(39.9814)]\n",
      "[tensor(116.3388), tensor(116.3399)]\n",
      "over\n",
      "[(39.98140648799353, 116.33991445203374), (39.98140648799353, 116.33991445203374), (39.98140648799353, 116.33991445203374), (39.98176601295398, 116.33881101147735), (39.981079476276854, 116.33776036111833), (39.98176601295398, 116.33881101147735), (39.98176601295398, 116.33881101147735), (39.98176601295398, 116.33881101147735), (39.98176601295398, 116.33881101147735), (39.98212553489541, 116.33770753646104), (39.98173344990935, 116.34206849815882)]\n",
      "tensor([39.9814, 39.9814, 39.9814, 39.9818, 39.9811, 39.9818, 39.9818, 39.9818,\n",
      "        39.9818])\n",
      "tensor([116.3399, 116.3399, 116.3399, 116.3388, 116.3378, 116.3388, 116.3388,\n",
      "        116.3388, 116.3388])\n",
      "[tensor(39.9821), tensor(39.9817)]\n",
      "[tensor(116.3377), tensor(116.3421)]\n",
      "over\n",
      "[(39.98140648799353, 116.33991445203374), (39.98140648799353, 116.33991445203374), (39.98176601295398, 116.33881101147735), (39.981079476276854, 116.33776036111833), (39.98176601295398, 116.33881101147735), (39.98176601295398, 116.33881101147735), (39.98176601295398, 116.33881101147735), (39.98176601295398, 116.33881101147735), (39.98212553489541, 116.33770753646104), (39.98176601295398, 116.33881101147735), (39.98140648799353, 116.33991445203374)]\n",
      "tensor([39.9814, 39.9814, 39.9818, 39.9811, 39.9818, 39.9818, 39.9818, 39.9818,\n",
      "        39.9821])\n",
      "tensor([116.3399, 116.3399, 116.3388, 116.3378, 116.3388, 116.3388, 116.3388,\n",
      "        116.3388, 116.3377])\n",
      "[tensor(39.9818), tensor(39.9814)]\n",
      "[tensor(116.3388), tensor(116.3399)]\n",
      "over\n",
      "[(39.98140648799353, 116.33991445203374), (39.98176601295398, 116.33881101147735), (39.981079476276854, 116.33776036111833), (39.98176601295398, 116.33881101147735), (39.98176601295398, 116.33881101147735), (39.98176601295398, 116.33881101147735), (39.98176601295398, 116.33881101147735), (39.98212553489541, 116.33770753646104), (39.98176601295398, 116.33881101147735), (39.981079476276854, 116.33776036111833), (39.98284456971768, 116.33550048304535)]\n",
      "tensor([39.9814, 39.9818, 39.9811, 39.9818, 39.9818, 39.9818, 39.9818, 39.9821,\n",
      "        39.9818])\n",
      "tensor([116.3399, 116.3388, 116.3378, 116.3388, 116.3388, 116.3388, 116.3388,\n",
      "        116.3377, 116.3388])\n",
      "[tensor(39.9811), tensor(39.9828)]\n",
      "[tensor(116.3378), tensor(116.3355)]\n",
      "over\n",
      "[(39.98176601295398, 116.33881101147735), (39.981079476276854, 116.33776036111833), (39.98176601295398, 116.33881101147735), (39.98176601295398, 116.33881101147735), (39.98176601295398, 116.33881101147735), (39.98176601295398, 116.33881101147735), (39.98212553489541, 116.33770753646104), (39.98176601295398, 116.33881101147735), (39.981079476276854, 116.33776036111833), (39.98140648799353, 116.33991445203374), (39.98206036202711, 116.344222499489)]\n",
      "tensor([39.9818, 39.9811, 39.9818, 39.9818, 39.9818, 39.9818, 39.9821, 39.9818,\n",
      "        39.9811])\n",
      "tensor([116.3388, 116.3378, 116.3388, 116.3388, 116.3388, 116.3388, 116.3377,\n",
      "        116.3388, 116.3378])\n",
      "[tensor(39.9814), tensor(39.9821)]\n",
      "[tensor(116.3399), tensor(116.3442)]\n",
      "over\n",
      "[(39.981079476276854, 116.33776036111833), (39.98176601295398, 116.33881101147735), (39.98176601295398, 116.33881101147735), (39.98176601295398, 116.33881101147735), (39.98176601295398, 116.33881101147735), (39.98212553489541, 116.33770753646104), (39.98176601295398, 116.33881101147735), (39.981079476276854, 116.33776036111833), (39.98140648799353, 116.33991445203374), (39.98140648799353, 116.33991445203374), (39.980295246504156, 116.34648173537123)]\n",
      "tensor([39.9811, 39.9818, 39.9818, 39.9818, 39.9818, 39.9821, 39.9818, 39.9811,\n",
      "        39.9814])\n",
      "tensor([116.3378, 116.3388, 116.3388, 116.3388, 116.3388, 116.3377, 116.3388,\n",
      "        116.3378, 116.3399])\n",
      "[tensor(39.9814), tensor(39.9803)]\n",
      "[tensor(116.3399), tensor(116.3465)]\n",
      "over\n",
      "[(39.98176601295398, 116.33881101147735), (39.98176601295398, 116.33881101147735), (39.98176601295398, 116.33881101147735), (39.98176601295398, 116.33881101147735), (39.98212553489541, 116.33770753646104), (39.98176601295398, 116.33881101147735), (39.981079476276854, 116.33776036111833), (39.98140648799353, 116.33991445203374), (39.98140648799353, 116.33991445203374), (39.98140648799353, 116.33991445203374), (39.98496923100426, 116.33213669850262)]\n",
      "tensor([39.9818, 39.9818, 39.9818, 39.9818, 39.9821, 39.9818, 39.9811, 39.9814,\n",
      "        39.9814])\n",
      "tensor([116.3388, 116.3388, 116.3388, 116.3388, 116.3377, 116.3388, 116.3378,\n",
      "        116.3399, 116.3399])\n",
      "[tensor(39.9814), tensor(39.9850)]\n",
      "[tensor(116.3399), tensor(116.3321)]\n",
      "over\n",
      "[(39.98176601295398, 116.33881101147735), (39.98176601295398, 116.33881101147735), (39.98176601295398, 116.33881101147735), (39.98212553489541, 116.33770753646104), (39.98176601295398, 116.33881101147735), (39.981079476276854, 116.33776036111833), (39.98140648799353, 116.33991445203374), (39.98140648799353, 116.33991445203374), (39.98140648799353, 116.33991445203374), (39.98140648799353, 116.33991445203374), (39.97964141965984, 116.3421739591838)]\n",
      "tensor([39.9818, 39.9818, 39.9818, 39.9821, 39.9818, 39.9811, 39.9814, 39.9814,\n",
      "        39.9814])\n",
      "tensor([116.3388, 116.3388, 116.3388, 116.3377, 116.3388, 116.3378, 116.3399,\n",
      "        116.3399, 116.3399])\n",
      "[tensor(39.9814), tensor(39.9796)]\n",
      "[tensor(116.3399), tensor(116.3422)]\n",
      "over\n",
      "[(39.98176601295398, 116.33881101147735), (39.98176601295398, 116.33881101147735), (39.98212553489541, 116.33770753646104), (39.98176601295398, 116.33881101147735), (39.981079476276854, 116.33776036111833), (39.98140648799353, 116.33991445203374), (39.98140648799353, 116.33991445203374), (39.98140648799353, 116.33991445203374), (39.98140648799353, 116.33991445203374), (39.98140648799353, 116.33991445203374), (39.98173344990935, 116.34206849815882)]\n",
      "tensor([39.9818, 39.9818, 39.9821, 39.9818, 39.9811, 39.9814, 39.9814, 39.9814,\n",
      "        39.9814])\n",
      "tensor([116.3388, 116.3388, 116.3377, 116.3388, 116.3378, 116.3399, 116.3399,\n",
      "        116.3399, 116.3399])\n",
      "[tensor(39.9814), tensor(39.9817)]\n",
      "[tensor(116.3399), tensor(116.3421)]\n",
      "over\n",
      "[(39.98176601295398, 116.33881101147735), (39.98212553489541, 116.33770753646104), (39.98176601295398, 116.33881101147735), (39.981079476276854, 116.33776036111833), (39.98140648799353, 116.33991445203374), (39.98140648799353, 116.33991445203374), (39.98140648799353, 116.33991445203374), (39.98140648799353, 116.33991445203374), (39.98140648799353, 116.33991445203374), (39.98140648799353, 116.33991445203374), (39.97964141965984, 116.3421739591838)]\n",
      "tensor([39.9818, 39.9821, 39.9818, 39.9811, 39.9814, 39.9814, 39.9814, 39.9814,\n",
      "        39.9814])\n",
      "tensor([116.3388, 116.3377, 116.3388, 116.3378, 116.3399, 116.3399, 116.3399,\n",
      "        116.3399, 116.3399])\n",
      "[tensor(39.9814), tensor(39.9796)]\n",
      "[tensor(116.3399), tensor(116.3422)]\n",
      "over\n",
      "[(39.98212553489541, 116.33770753646104), (39.98176601295398, 116.33881101147735), (39.981079476276854, 116.33776036111833), (39.98140648799353, 116.33991445203374), (39.98140648799353, 116.33991445203374), (39.98140648799353, 116.33991445203374), (39.98140648799353, 116.33991445203374), (39.98140648799353, 116.33991445203374), (39.98140648799353, 116.33991445203374), (39.98140648799353, 116.33991445203374), (39.98036045400415, 116.33996722906653)]\n",
      "tensor([39.9821, 39.9818, 39.9811, 39.9814, 39.9814, 39.9814, 39.9814, 39.9814,\n",
      "        39.9814])\n",
      "tensor([116.3377, 116.3388, 116.3378, 116.3399, 116.3399, 116.3399, 116.3399,\n",
      "        116.3399, 116.3399])\n",
      "[tensor(39.9814), tensor(39.9804)]\n",
      "[tensor(116.3399), tensor(116.3400)]\n",
      "over\n",
      "[(39.98176601295398, 116.33881101147735), (39.981079476276854, 116.33776036111833), (39.98140648799353, 116.33991445203374), (39.98140648799353, 116.33991445203374), (39.98140648799353, 116.33991445203374), (39.98140648799353, 116.33991445203374), (39.98140648799353, 116.33991445203374), (39.98140648799353, 116.33991445203374), (39.98140648799353, 116.33991445203374), (39.98140648799353, 116.33991445203374), (39.95179451880362, 116.33923855844844)]\n",
      "tensor([39.9818, 39.9811, 39.9814, 39.9814, 39.9814, 39.9814, 39.9814, 39.9814,\n",
      "        39.9814])\n",
      "tensor([116.3388, 116.3378, 116.3399, 116.3399, 116.3399, 116.3399, 116.3399,\n",
      "        116.3399, 116.3399])\n",
      "[tensor(39.9814), tensor(39.9518)]\n",
      "[tensor(116.3399), tensor(116.3392)]\n",
      "over\n",
      "[(39.981079476276854, 116.33776036111833), (39.98140648799353, 116.33991445203374), (39.98140648799353, 116.33991445203374), (39.98140648799353, 116.33991445203374), (39.98140648799353, 116.33991445203374), (39.98140648799353, 116.33991445203374), (39.98140648799353, 116.33991445203374), (39.98140648799353, 116.33991445203374), (39.98140648799353, 116.33991445203374), (39.98140648799353, 116.33991445203374), (40.18854235046815, 116.18760005223736)]\n",
      "tensor([39.9811, 39.9814, 39.9814, 39.9814, 39.9814, 39.9814, 39.9814, 39.9814,\n",
      "        39.9814])\n",
      "tensor([116.3378, 116.3399, 116.3399, 116.3399, 116.3399, 116.3399, 116.3399,\n",
      "        116.3399, 116.3399])\n",
      "[tensor(39.9814), tensor(40.1885)]\n",
      "[tensor(116.3399), tensor(116.1876)]\n",
      "over\n",
      "[(39.98140648799353, 116.33991445203374), (39.98140648799353, 116.33991445203374), (39.98140648799353, 116.33991445203374), (39.98140648799353, 116.33991445203374), (39.98140648799353, 116.33991445203374), (39.98140648799353, 116.33991445203374), (39.98140648799353, 116.33991445203374), (39.98140648799353, 116.33991445203374), (39.98140648799353, 116.33991445203374), (39.98140648799353, 116.33991445203374), (39.97964141965984, 116.3421739591838)]\n",
      "tensor([39.9814, 39.9814, 39.9814, 39.9814, 39.9814, 39.9814, 39.9814, 39.9814,\n",
      "        39.9814])\n",
      "tensor([116.3399, 116.3399, 116.3399, 116.3399, 116.3399, 116.3399, 116.3399,\n",
      "        116.3399, 116.3399])\n",
      "[tensor(39.9814), tensor(39.9796)]\n",
      "[tensor(116.3399), tensor(116.3422)]\n",
      "over\n",
      "[(39.98140648799353, 116.33991445203374), (39.98140648799353, 116.33991445203374), (39.98140648799353, 116.33991445203374), (39.98140648799353, 116.33991445203374), (39.98140648799353, 116.33991445203374), (39.98140648799353, 116.33991445203374), (39.98140648799353, 116.33991445203374), (39.98140648799353, 116.33991445203374), (39.98140648799353, 116.33991445203374), (39.98140648799353, 116.33991445203374), (39.95179451880362, 116.33923855844844)]\n",
      "tensor([39.9814, 39.9814, 39.9814, 39.9814, 39.9814, 39.9814, 39.9814, 39.9814,\n",
      "        39.9814])\n",
      "tensor([116.3399, 116.3399, 116.3399, 116.3399, 116.3399, 116.3399, 116.3399,\n",
      "        116.3399, 116.3399])\n",
      "[tensor(39.9814), tensor(39.9518)]\n",
      "[tensor(116.3399), tensor(116.3392)]\n",
      "over\n",
      "[(39.98140648799353, 116.33991445203374), (39.98140648799353, 116.33991445203374), (39.98140648799353, 116.33991445203374), (39.98140648799353, 116.33991445203374), (39.98140648799353, 116.33991445203374), (39.98140648799353, 116.33991445203374), (39.98140648799353, 116.33991445203374), (39.98140648799353, 116.33991445203374), (39.98140648799353, 116.33991445203374), (39.98140648799353, 116.33991445203374), (39.98036045400415, 116.33996722906653)]\n",
      "tensor([39.9814, 39.9814, 39.9814, 39.9814, 39.9814, 39.9814, 39.9814, 39.9814,\n",
      "        39.9814])\n",
      "tensor([116.3399, 116.3399, 116.3399, 116.3399, 116.3399, 116.3399, 116.3399,\n",
      "        116.3399, 116.3399])\n",
      "[tensor(39.9814), tensor(39.9804)]\n",
      "[tensor(116.3399), tensor(116.3400)]\n",
      "over\n",
      "[(39.98140648799353, 116.33991445203374), (39.98140648799353, 116.33991445203374), (39.98140648799353, 116.33991445203374), (39.98140648799353, 116.33991445203374), (39.98140648799353, 116.33991445203374), (39.98140648799353, 116.33991445203374), (39.98140648799353, 116.33991445203374), (39.98140648799353, 116.33991445203374), (39.98140648799353, 116.33991445203374), (39.98140648799353, 116.33991445203374), (39.98000093834051, 116.34107061135364)]\n",
      "tensor([39.9814, 39.9814, 39.9814, 39.9814, 39.9814, 39.9814, 39.9814, 39.9814,\n",
      "        39.9814])\n",
      "tensor([116.3399, 116.3399, 116.3399, 116.3399, 116.3399, 116.3399, 116.3399,\n",
      "        116.3399, 116.3399])\n",
      "[tensor(39.9814), tensor(39.9800)]\n",
      "[tensor(116.3399), tensor(116.3411)]\n",
      "over\n",
      "[(39.98140648799353, 116.33991445203374), (39.98140648799353, 116.33991445203374), (39.98140648799353, 116.33991445203374), (39.98140648799353, 116.33991445203374), (39.98140648799353, 116.33991445203374), (39.98140648799353, 116.33991445203374), (39.98140648799353, 116.33991445203374), (39.98140648799353, 116.33991445203374), (39.98140648799353, 116.33991445203374), (39.98176601295398, 116.33881101147735), (39.98140648799353, 116.33991445203374)]\n",
      "tensor([39.9814, 39.9814, 39.9814, 39.9814, 39.9814, 39.9814, 39.9814, 39.9814,\n",
      "        39.9814])\n",
      "tensor([116.3399, 116.3399, 116.3399, 116.3399, 116.3399, 116.3399, 116.3399,\n",
      "        116.3399, 116.3399])\n",
      "[tensor(39.9818), tensor(39.9814)]\n",
      "[tensor(116.3388), tensor(116.3399)]\n",
      "over\n",
      "[(39.98140648799353, 116.33991445203374), (39.98140648799353, 116.33991445203374), (39.98140648799353, 116.33991445203374), (39.98140648799353, 116.33991445203374), (39.98140648799353, 116.33991445203374), (39.98140648799353, 116.33991445203374), (39.98140648799353, 116.33991445203374), (39.98140648799353, 116.33991445203374), (39.98176601295398, 116.33881101147735), (39.98140648799353, 116.33991445203374), (39.98032789500629, 116.3432245669511)]\n",
      "tensor([39.9814, 39.9814, 39.9814, 39.9814, 39.9814, 39.9814, 39.9814, 39.9814,\n",
      "        39.9818])\n",
      "tensor([116.3399, 116.3399, 116.3399, 116.3399, 116.3399, 116.3399, 116.3399,\n",
      "        116.3399, 116.3388])\n",
      "[tensor(39.9814), tensor(39.9803)]\n",
      "[tensor(116.3399), tensor(116.3432)]\n",
      "over\n",
      "[(39.98140648799353, 116.33991445203374), (39.98140648799353, 116.33991445203374), (39.98140648799353, 116.33991445203374), (39.98140648799353, 116.33991445203374), (39.98140648799353, 116.33991445203374), (39.98140648799353, 116.33991445203374), (39.98140648799353, 116.33991445203374), (39.98176601295398, 116.33881101147735), (39.98140648799353, 116.33991445203374), (39.98140648799353, 116.33991445203374), (39.97964141965984, 116.3421739591838)]\n",
      "tensor([39.9814, 39.9814, 39.9814, 39.9814, 39.9814, 39.9814, 39.9814, 39.9818,\n",
      "        39.9814])\n",
      "tensor([116.3399, 116.3399, 116.3399, 116.3399, 116.3399, 116.3399, 116.3399,\n",
      "        116.3388, 116.3399])\n",
      "[tensor(39.9814), tensor(39.9796)]\n",
      "[tensor(116.3399), tensor(116.3422)]\n",
      "over\n",
      "[(39.98140648799353, 116.33991445203374), (39.98140648799353, 116.33991445203374), (39.98140648799353, 116.33991445203374), (39.98140648799353, 116.33991445203374), (39.98140648799353, 116.33991445203374), (39.98140648799353, 116.33991445203374), (39.98176601295398, 116.33881101147735), (39.98140648799353, 116.33991445203374), (39.98140648799353, 116.33991445203374), (39.98140648799353, 116.33991445203374), (39.97133828834712, 116.33608195706691)]\n",
      "tensor([39.9814, 39.9814, 39.9814, 39.9814, 39.9814, 39.9814, 39.9818, 39.9814,\n",
      "        39.9814])\n",
      "tensor([116.3399, 116.3399, 116.3399, 116.3399, 116.3399, 116.3399, 116.3388,\n",
      "        116.3399, 116.3399])\n",
      "[tensor(39.9814), tensor(39.9713)]\n",
      "[tensor(116.3399), tensor(116.3361)]\n",
      "over\n",
      "[(39.98140648799353, 116.33991445203374), (39.98140648799353, 116.33991445203374), (39.98140648799353, 116.33991445203374), (39.98140648799353, 116.33991445203374), (39.98140648799353, 116.33991445203374), (39.98176601295398, 116.33881101147735), (39.98140648799353, 116.33991445203374), (39.98140648799353, 116.33991445203374), (39.98140648799353, 116.33991445203374), (39.98140648799353, 116.33991445203374), (39.942647536563825, 116.34837526474693)]\n",
      "tensor([39.9814, 39.9814, 39.9814, 39.9814, 39.9814, 39.9818, 39.9814, 39.9814,\n",
      "        39.9814])\n",
      "tensor([116.3399, 116.3399, 116.3399, 116.3399, 116.3399, 116.3388, 116.3399,\n",
      "        116.3399, 116.3399])\n",
      "[tensor(39.9814), tensor(39.9426)]\n",
      "[tensor(116.3399), tensor(116.3484)]\n",
      "over\n",
      "[(39.98140648799353, 116.33991445203374), (39.98140648799353, 116.33991445203374), (39.98140648799353, 116.33991445203374), (39.98140648799353, 116.33991445203374), (39.98176601295398, 116.33881101147735), (39.98140648799353, 116.33991445203374), (39.98140648799353, 116.33991445203374), (39.98140648799353, 116.33991445203374), (39.98140648799353, 116.33991445203374), (39.98140648799353, 116.33991445203374), (39.9752592896082, 116.32720141999084)]\n",
      "tensor([39.9814, 39.9814, 39.9814, 39.9814, 39.9818, 39.9814, 39.9814, 39.9814,\n",
      "        39.9814])\n",
      "tensor([116.3399, 116.3399, 116.3399, 116.3399, 116.3388, 116.3399, 116.3399,\n",
      "        116.3399, 116.3399])\n",
      "[tensor(39.9814), tensor(39.9753)]\n",
      "[tensor(116.3399), tensor(116.3272)]\n",
      "over\n",
      "[(39.98140648799353, 116.33991445203374), (39.98140648799353, 116.33991445203374), (39.98140648799353, 116.33991445203374), (39.98176601295398, 116.33881101147735), (39.98140648799353, 116.33991445203374), (39.98140648799353, 116.33991445203374), (39.98140648799353, 116.33991445203374), (39.98140648799353, 116.33991445203374), (39.98140648799353, 116.33991445203374), (39.98140648799353, 116.33991445203374), (39.97964141965984, 116.3421739591838)]\n",
      "tensor([39.9814, 39.9814, 39.9814, 39.9818, 39.9814, 39.9814, 39.9814, 39.9814,\n",
      "        39.9814])\n",
      "tensor([116.3399, 116.3399, 116.3399, 116.3388, 116.3399, 116.3399, 116.3399,\n",
      "        116.3399, 116.3399])\n",
      "[tensor(39.9814), tensor(39.9796)]\n",
      "[tensor(116.3399), tensor(116.3422)]\n",
      "over\n",
      "[(39.98140648799353, 116.33991445203374), (39.98140648799353, 116.33991445203374), (39.98176601295398, 116.33881101147735), (39.98140648799353, 116.33991445203374), (39.98140648799353, 116.33991445203374), (39.98140648799353, 116.33991445203374), (39.98140648799353, 116.33991445203374), (39.98140648799353, 116.33991445203374), (39.98140648799353, 116.33991445203374), (39.98140648799353, 116.33991445203374), (39.98036045400415, 116.33996722906653)]\n",
      "tensor([39.9814, 39.9814, 39.9818, 39.9814, 39.9814, 39.9814, 39.9814, 39.9814,\n",
      "        39.9814])\n",
      "tensor([116.3399, 116.3399, 116.3388, 116.3399, 116.3399, 116.3399, 116.3399,\n",
      "        116.3399, 116.3399])\n",
      "[tensor(39.9814), tensor(39.9804)]\n",
      "[tensor(116.3399), tensor(116.3400)]\n",
      "over\n",
      "[(39.98140648799353, 116.33991445203374), (39.98176601295398, 116.33881101147735), (39.98140648799353, 116.33991445203374), (39.98140648799353, 116.33991445203374), (39.98140648799353, 116.33991445203374), (39.98140648799353, 116.33991445203374), (39.98140648799353, 116.33991445203374), (39.98140648799353, 116.33991445203374), (39.98140648799353, 116.33991445203374), (39.98104696001483, 116.34101785813094), (39.95179451880362, 116.33923855844844)]\n",
      "tensor([39.9814, 39.9818, 39.9814, 39.9814, 39.9814, 39.9814, 39.9814, 39.9814,\n",
      "        39.9814])\n",
      "tensor([116.3399, 116.3388, 116.3399, 116.3399, 116.3399, 116.3399, 116.3399,\n",
      "        116.3399, 116.3399])\n",
      "[tensor(39.9810), tensor(39.9518)]\n",
      "[tensor(116.3410), tensor(116.3392)]\n",
      "over\n",
      "[(39.98176601295398, 116.33881101147735), (39.98140648799353, 116.33991445203374), (39.98140648799353, 116.33991445203374), (39.98140648799353, 116.33991445203374), (39.98140648799353, 116.33991445203374), (39.98140648799353, 116.33991445203374), (39.98140648799353, 116.33991445203374), (39.98140648799353, 116.33991445203374), (39.98104696001483, 116.34101785813094), (39.98000093834051, 116.34107061135364), (39.97964141965984, 116.3421739591838)]\n",
      "tensor([39.9818, 39.9814, 39.9814, 39.9814, 39.9814, 39.9814, 39.9814, 39.9814,\n",
      "        39.9810])\n",
      "tensor([116.3388, 116.3399, 116.3399, 116.3399, 116.3399, 116.3399, 116.3399,\n",
      "        116.3399, 116.3410])\n",
      "[tensor(39.9800), tensor(39.9796)]\n",
      "[tensor(116.3411), tensor(116.3422)]\n",
      "over\n",
      "[(39.98140648799353, 116.33991445203374), (39.98140648799353, 116.33991445203374), (39.98140648799353, 116.33991445203374), (39.98140648799353, 116.33991445203374), (39.98140648799353, 116.33991445203374), (39.98140648799353, 116.33991445203374), (39.98140648799353, 116.33991445203374), (39.98104696001483, 116.34101785813094), (39.98000093834051, 116.34107061135364), (39.98036045400415, 116.33996722906653), (39.89730971972781, 116.35498607116403)]\n",
      "tensor([39.9814, 39.9814, 39.9814, 39.9814, 39.9814, 39.9814, 39.9814, 39.9810,\n",
      "        39.9800])\n",
      "tensor([116.3399, 116.3399, 116.3399, 116.3399, 116.3399, 116.3399, 116.3399,\n",
      "        116.3410, 116.3411])\n",
      "[tensor(39.9804), tensor(39.8973)]\n",
      "[tensor(116.3400), tensor(116.3550)]\n",
      "over\n",
      "[(39.98140648799353, 116.33991445203374), (39.98140648799353, 116.33991445203374), (39.98140648799353, 116.33991445203374), (39.98140648799353, 116.33991445203374), (39.98140648799353, 116.33991445203374), (39.98140648799353, 116.33991445203374), (39.98104696001483, 116.34101785813094), (39.98000093834051, 116.34107061135364), (39.98036045400415, 116.33996722906653), (39.98036045400415, 116.33996722906653), (39.97901976955065, 116.3346084758399)]\n",
      "tensor([39.9814, 39.9814, 39.9814, 39.9814, 39.9814, 39.9814, 39.9810, 39.9800,\n",
      "        39.9804])\n",
      "tensor([116.3399, 116.3399, 116.3399, 116.3399, 116.3399, 116.3399, 116.3410,\n",
      "        116.3411, 116.3400])\n",
      "[tensor(39.9804), tensor(39.9790)]\n",
      "[tensor(116.3400), tensor(116.3346)]\n",
      "over\n",
      "[(39.98140648799353, 116.33991445203374), (39.98140648799353, 116.33991445203374), (39.98140648799353, 116.33991445203374), (39.98140648799353, 116.33991445203374), (39.98140648799353, 116.33991445203374), (39.98104696001483, 116.34101785813094), (39.98000093834051, 116.34107061135364), (39.98036045400415, 116.33996722906653), (39.98036045400415, 116.33996722906653), (39.98140648799353, 116.33991445203374), (39.98036045400415, 116.33996722906653)]\n",
      "tensor([39.9814, 39.9814, 39.9814, 39.9814, 39.9814, 39.9810, 39.9800, 39.9804,\n",
      "        39.9804])\n",
      "tensor([116.3399, 116.3399, 116.3399, 116.3399, 116.3399, 116.3410, 116.3411,\n",
      "        116.3400, 116.3400])\n",
      "[tensor(39.9814), tensor(39.9804)]\n",
      "[tensor(116.3399), tensor(116.3400)]\n",
      "over\n",
      "[(39.98140648799353, 116.33991445203374), (39.98140648799353, 116.33991445203374), (39.98140648799353, 116.33991445203374), (39.98140648799353, 116.33991445203374), (39.98104696001483, 116.34101785813094), (39.98000093834051, 116.34107061135364), (39.98036045400415, 116.33996722906653), (39.98036045400415, 116.33996722906653), (39.98140648799353, 116.33991445203374), (39.98140648799353, 116.33991445203374), (39.97996835797807, 116.34432786967562)]\n",
      "tensor([39.9814, 39.9814, 39.9814, 39.9814, 39.9810, 39.9800, 39.9804, 39.9804,\n",
      "        39.9814])\n",
      "tensor([116.3399, 116.3399, 116.3399, 116.3399, 116.3410, 116.3411, 116.3400,\n",
      "        116.3400, 116.3399])\n",
      "[tensor(39.9814), tensor(39.9800)]\n",
      "[tensor(116.3399), tensor(116.3443)]\n",
      "over\n",
      "[(39.98140648799353, 116.33991445203374), (39.98140648799353, 116.33991445203374), (39.98140648799353, 116.33991445203374), (39.98104696001483, 116.34101785813094), (39.98000093834051, 116.34107061135364), (39.98036045400415, 116.33996722906653), (39.98036045400415, 116.33996722906653), (39.98140648799353, 116.33991445203374), (39.98140648799353, 116.33991445203374), (39.98036045400415, 116.33996722906653), (39.980295246504156, 116.34648173537123)]\n",
      "tensor([39.9814, 39.9814, 39.9814, 39.9810, 39.9800, 39.9804, 39.9804, 39.9814,\n",
      "        39.9814])\n",
      "tensor([116.3399, 116.3399, 116.3399, 116.3410, 116.3411, 116.3400, 116.3400,\n",
      "        116.3399, 116.3399])\n",
      "[tensor(39.9804), tensor(39.9803)]\n",
      "[tensor(116.3400), tensor(116.3465)]\n",
      "over\n",
      "[(39.98140648799353, 116.33991445203374), (39.98140648799353, 116.33991445203374), (39.98104696001483, 116.34101785813094), (39.98000093834051, 116.34107061135364), (39.98036045400415, 116.33996722906653), (39.98036045400415, 116.33996722906653), (39.98140648799353, 116.33991445203374), (39.98140648799353, 116.33991445203374), (39.98036045400415, 116.33996722906653), (39.98000093834051, 116.34107061135364), (39.97964141965984, 116.3421739591838)]\n",
      "tensor([39.9814, 39.9814, 39.9810, 39.9800, 39.9804, 39.9804, 39.9814, 39.9814,\n",
      "        39.9804])\n",
      "tensor([116.3399, 116.3399, 116.3410, 116.3411, 116.3400, 116.3400, 116.3399,\n",
      "        116.3399, 116.3400])\n",
      "[tensor(39.9800), tensor(39.9796)]\n",
      "[tensor(116.3411), tensor(116.3422)]\n",
      "over\n",
      "[(39.98140648799353, 116.33991445203374), (39.98104696001483, 116.34101785813094), (39.98000093834051, 116.34107061135364), (39.98036045400415, 116.33996722906653), (39.98036045400415, 116.33996722906653), (39.98140648799353, 116.33991445203374), (39.98140648799353, 116.33991445203374), (39.98036045400415, 116.33996722906653), (39.98000093834051, 116.34107061135364), (39.98176601295398, 116.33881101147735), (39.98140648799353, 116.33991445203374)]\n",
      "tensor([39.9814, 39.9810, 39.9800, 39.9804, 39.9804, 39.9814, 39.9814, 39.9804,\n",
      "        39.9800])\n",
      "tensor([116.3399, 116.3410, 116.3411, 116.3400, 116.3400, 116.3399, 116.3399,\n",
      "        116.3400, 116.3411])\n",
      "[tensor(39.9818), tensor(39.9814)]\n",
      "[tensor(116.3388), tensor(116.3399)]\n",
      "over\n",
      "[(39.98104696001483, 116.34101785813094), (39.98000093834051, 116.34107061135364), (39.98036045400415, 116.33996722906653), (39.98036045400415, 116.33996722906653), (39.98140648799353, 116.33991445203374), (39.98140648799353, 116.33991445203374), (39.98036045400415, 116.33996722906653), (39.98000093834051, 116.34107061135364), (39.98176601295398, 116.33881101147735), (39.98036045400415, 116.33996722906653), (39.98036045400415, 116.33996722906653)]\n",
      "tensor([39.9810, 39.9800, 39.9804, 39.9804, 39.9814, 39.9814, 39.9804, 39.9800,\n",
      "        39.9818])\n",
      "tensor([116.3410, 116.3411, 116.3400, 116.3400, 116.3399, 116.3399, 116.3400,\n",
      "        116.3411, 116.3388])\n",
      "[tensor(39.9804), tensor(39.9804)]\n",
      "[tensor(116.3400), tensor(116.3400)]\n",
      "over\n",
      "[(39.98000093834051, 116.34107061135364), (39.98036045400415, 116.33996722906653), (39.98036045400415, 116.33996722906653), (39.98140648799353, 116.33991445203374), (39.98140648799353, 116.33991445203374), (39.98036045400415, 116.33996722906653), (39.98000093834051, 116.34107061135364), (39.98176601295398, 116.33881101147735), (39.98036045400415, 116.33996722906653), (39.98036045400415, 116.33996722906653), (39.97964141965984, 116.3421739591838)]\n",
      "tensor([39.9800, 39.9804, 39.9804, 39.9814, 39.9814, 39.9804, 39.9800, 39.9818,\n",
      "        39.9804])\n",
      "tensor([116.3411, 116.3400, 116.3400, 116.3399, 116.3399, 116.3400, 116.3411,\n",
      "        116.3388, 116.3400])\n",
      "[tensor(39.9804), tensor(39.9796)]\n",
      "[tensor(116.3400), tensor(116.3422)]\n",
      "over\n",
      "[(39.98036045400415, 116.33996722906653), (39.98036045400415, 116.33996722906653), (39.98140648799353, 116.33991445203374), (39.98140648799353, 116.33991445203374), (39.98036045400415, 116.33996722906653), (39.98000093834051, 116.34107061135364), (39.98176601295398, 116.33881101147735), (39.98036045400415, 116.33996722906653), (39.98036045400415, 116.33996722906653), (39.98176601295398, 116.33881101147735), (39.98140648799353, 116.33991445203374)]\n",
      "tensor([39.9804, 39.9804, 39.9814, 39.9814, 39.9804, 39.9800, 39.9818, 39.9804,\n",
      "        39.9804])\n",
      "tensor([116.3400, 116.3400, 116.3399, 116.3399, 116.3400, 116.3411, 116.3388,\n",
      "        116.3400, 116.3400])\n",
      "[tensor(39.9818), tensor(39.9814)]\n",
      "[tensor(116.3388), tensor(116.3399)]\n",
      "over\n",
      "[(39.98036045400415, 116.33996722906653), (39.98140648799353, 116.33991445203374), (39.98140648799353, 116.33991445203374), (39.98036045400415, 116.33996722906653), (39.98000093834051, 116.34107061135364), (39.98176601295398, 116.33881101147735), (39.98036045400415, 116.33996722906653), (39.98036045400415, 116.33996722906653), (39.98176601295398, 116.33881101147735), (39.98036045400415, 116.33996722906653), (40.01433167338731, 116.32413285924565)]\n",
      "tensor([39.9804, 39.9814, 39.9814, 39.9804, 39.9800, 39.9818, 39.9804, 39.9804,\n",
      "        39.9818])\n",
      "tensor([116.3400, 116.3399, 116.3399, 116.3400, 116.3411, 116.3388, 116.3400,\n",
      "        116.3400, 116.3388])\n",
      "[tensor(39.9804), tensor(40.0143)]\n",
      "[tensor(116.3400), tensor(116.3241)]\n",
      "over\n",
      "[(39.98140648799353, 116.33991445203374), (39.98140648799353, 116.33991445203374), (39.98036045400415, 116.33996722906653), (39.98000093834051, 116.34107061135364), (39.98176601295398, 116.33881101147735), (39.98036045400415, 116.33996722906653), (39.98036045400415, 116.33996722906653), (39.98176601295398, 116.33881101147735), (39.98036045400415, 116.33996722906653), (39.98036045400415, 116.33996722906653), (39.97996835797807, 116.34432786967562)]\n",
      "tensor([39.9814, 39.9814, 39.9804, 39.9800, 39.9818, 39.9804, 39.9804, 39.9818,\n",
      "        39.9804])\n",
      "tensor([116.3399, 116.3399, 116.3400, 116.3411, 116.3388, 116.3400, 116.3400,\n",
      "        116.3388, 116.3400])\n",
      "[tensor(39.9804), tensor(39.9800)]\n",
      "[tensor(116.3400), tensor(116.3443)]\n",
      "over\n",
      "[(39.98140648799353, 116.33991445203374), (39.98036045400415, 116.33996722906653), (39.98000093834051, 116.34107061135364), (39.98176601295398, 116.33881101147735), (39.98036045400415, 116.33996722906653), (39.98036045400415, 116.33996722906653), (39.98176601295398, 116.33881101147735), (39.98036045400415, 116.33996722906653), (39.98036045400415, 116.33996722906653), (39.98140648799353, 116.33991445203374), (39.97964141965984, 116.3421739591838)]\n",
      "tensor([39.9814, 39.9804, 39.9800, 39.9818, 39.9804, 39.9804, 39.9818, 39.9804,\n",
      "        39.9804])\n",
      "tensor([116.3399, 116.3400, 116.3411, 116.3388, 116.3400, 116.3400, 116.3388,\n",
      "        116.3400, 116.3400])\n",
      "[tensor(39.9814), tensor(39.9796)]\n",
      "[tensor(116.3399), tensor(116.3422)]\n",
      "over\n",
      "[(39.98036045400415, 116.33996722906653), (39.98000093834051, 116.34107061135364), (39.98176601295398, 116.33881101147735), (39.98036045400415, 116.33996722906653), (39.98036045400415, 116.33996722906653), (39.98176601295398, 116.33881101147735), (39.98036045400415, 116.33996722906653), (39.98036045400415, 116.33996722906653), (39.98140648799353, 116.33991445203374), (39.98036045400415, 116.33996722906653), (39.86658886858532, 116.32620437395421)]\n",
      "tensor([39.9804, 39.9800, 39.9818, 39.9804, 39.9804, 39.9818, 39.9804, 39.9804,\n",
      "        39.9814])\n",
      "tensor([116.3400, 116.3411, 116.3388, 116.3400, 116.3400, 116.3388, 116.3400,\n",
      "        116.3400, 116.3399])\n",
      "[tensor(39.9804), tensor(39.8666)]\n",
      "[tensor(116.3400), tensor(116.3262)]\n",
      "over\n",
      "[(39.98000093834051, 116.34107061135364), (39.98176601295398, 116.33881101147735), (39.98036045400415, 116.33996722906653), (39.98036045400415, 116.33996722906653), (39.98176601295398, 116.33881101147735), (39.98036045400415, 116.33996722906653), (39.98036045400415, 116.33996722906653), (39.98140648799353, 116.33991445203374), (39.98036045400415, 116.33996722906653), (39.98140648799353, 116.33991445203374), (39.98000093834051, 116.34107061135364)]\n",
      "tensor([39.9800, 39.9818, 39.9804, 39.9804, 39.9818, 39.9804, 39.9804, 39.9814,\n",
      "        39.9804])\n",
      "tensor([116.3411, 116.3388, 116.3400, 116.3400, 116.3388, 116.3400, 116.3400,\n",
      "        116.3399, 116.3400])\n",
      "[tensor(39.9814), tensor(39.9800)]\n",
      "[tensor(116.3399), tensor(116.3411)]\n",
      "over\n",
      "[(39.98176601295398, 116.33881101147735), (39.98036045400415, 116.33996722906653), (39.98036045400415, 116.33996722906653), (39.98176601295398, 116.33881101147735), (39.98036045400415, 116.33996722906653), (39.98036045400415, 116.33996722906653), (39.98140648799353, 116.33991445203374), (39.98036045400415, 116.33996722906653), (39.98140648799353, 116.33991445203374), (39.982812070789585, 116.33875820843296), (39.97964141965984, 116.3421739591838)]\n",
      "tensor([39.9818, 39.9804, 39.9804, 39.9818, 39.9804, 39.9804, 39.9814, 39.9804,\n",
      "        39.9814])\n",
      "tensor([116.3388, 116.3400, 116.3400, 116.3388, 116.3400, 116.3400, 116.3399,\n",
      "        116.3400, 116.3399])\n",
      "[tensor(39.9828), tensor(39.9796)]\n",
      "[tensor(116.3388), tensor(116.3422)]\n",
      "over\n",
      "[(39.98036045400415, 116.33996722906653), (39.98036045400415, 116.33996722906653), (39.98176601295398, 116.33881101147735), (39.98036045400415, 116.33996722906653), (39.98036045400415, 116.33996722906653), (39.98140648799353, 116.33991445203374), (39.98036045400415, 116.33996722906653), (39.98140648799353, 116.33991445203374), (39.982812070789585, 116.33875820843296), (39.98140648799353, 116.33991445203374), (39.98173344990935, 116.34206849815882)]\n",
      "tensor([39.9804, 39.9804, 39.9818, 39.9804, 39.9804, 39.9814, 39.9804, 39.9814,\n",
      "        39.9828])\n",
      "tensor([116.3400, 116.3400, 116.3388, 116.3400, 116.3400, 116.3399, 116.3400,\n",
      "        116.3399, 116.3388])\n",
      "[tensor(39.9814), tensor(39.9817)]\n",
      "[tensor(116.3399), tensor(116.3421)]\n",
      "over\n",
      "[(39.98036045400415, 116.33996722906653), (39.98176601295398, 116.33881101147735), (39.98036045400415, 116.33996722906653), (39.98036045400415, 116.33996722906653), (39.98140648799353, 116.33991445203374), (39.98036045400415, 116.33996722906653), (39.98140648799353, 116.33991445203374), (39.982812070789585, 116.33875820843296), (39.98140648799353, 116.33991445203374), (39.98176601295398, 116.33881101147735), (39.98212553489541, 116.33770753646104)]\n",
      "tensor([39.9804, 39.9818, 39.9804, 39.9804, 39.9814, 39.9804, 39.9814, 39.9828,\n",
      "        39.9814])\n",
      "tensor([116.3400, 116.3388, 116.3400, 116.3400, 116.3399, 116.3400, 116.3399,\n",
      "        116.3388, 116.3399])\n",
      "[tensor(39.9818), tensor(39.9821)]\n",
      "[tensor(116.3388), tensor(116.3377)]\n",
      "over\n",
      "[(39.98176601295398, 116.33881101147735), (39.98036045400415, 116.33996722906653), (39.98036045400415, 116.33996722906653), (39.98140648799353, 116.33991445203374), (39.98036045400415, 116.33996722906653), (39.98140648799353, 116.33991445203374), (39.982812070789585, 116.33875820843296), (39.98140648799353, 116.33991445203374), (39.98176601295398, 116.33881101147735), (39.98036045400415, 116.33996722906653), (39.982157987036935, 116.33444980074911)]\n",
      "tensor([39.9818, 39.9804, 39.9804, 39.9814, 39.9804, 39.9814, 39.9828, 39.9814,\n",
      "        39.9818])\n",
      "tensor([116.3388, 116.3400, 116.3400, 116.3399, 116.3400, 116.3399, 116.3388,\n",
      "        116.3399, 116.3388])\n",
      "[tensor(39.9804), tensor(39.9822)]\n",
      "[tensor(116.3400), tensor(116.3344)]\n",
      "over\n",
      "[(39.98036045400415, 116.33996722906653), (39.98036045400415, 116.33996722906653), (39.98140648799353, 116.33991445203374), (39.98036045400415, 116.33996722906653), (39.98140648799353, 116.33991445203374), (39.982812070789585, 116.33875820843296), (39.98140648799353, 116.33991445203374), (39.98176601295398, 116.33881101147735), (39.98036045400415, 116.33996722906653), (39.98036045400415, 116.33996722906653), (39.97901976955065, 116.3346084758399)]\n",
      "tensor([39.9804, 39.9804, 39.9814, 39.9804, 39.9814, 39.9828, 39.9814, 39.9818,\n",
      "        39.9804])\n",
      "tensor([116.3400, 116.3400, 116.3399, 116.3400, 116.3399, 116.3388, 116.3399,\n",
      "        116.3388, 116.3400])\n",
      "[tensor(39.9804), tensor(39.9790)]\n",
      "[tensor(116.3400), tensor(116.3346)]\n",
      "over\n",
      "[(39.98036045400415, 116.33996722906653), (39.98140648799353, 116.33991445203374), (39.98036045400415, 116.33996722906653), (39.98140648799353, 116.33991445203374), (39.982812070789585, 116.33875820843296), (39.98140648799353, 116.33991445203374), (39.98176601295398, 116.33881101147735), (39.98036045400415, 116.33996722906653), (39.98036045400415, 116.33996722906653), (39.98000093834051, 116.34107061135364), (39.97964141965984, 116.3421739591838)]\n",
      "tensor([39.9804, 39.9814, 39.9804, 39.9814, 39.9828, 39.9814, 39.9818, 39.9804,\n",
      "        39.9804])\n",
      "tensor([116.3400, 116.3399, 116.3400, 116.3399, 116.3388, 116.3399, 116.3388,\n",
      "        116.3400, 116.3400])\n",
      "[tensor(39.9800), tensor(39.9796)]\n",
      "[tensor(116.3411), tensor(116.3422)]\n",
      "over\n",
      "[(39.98140648799353, 116.33991445203374), (39.98036045400415, 116.33996722906653), (39.98140648799353, 116.33991445203374), (39.982812070789585, 116.33875820843296), (39.98140648799353, 116.33991445203374), (39.98176601295398, 116.33881101147735), (39.98036045400415, 116.33996722906653), (39.98036045400415, 116.33996722906653), (39.98000093834051, 116.34107061135364), (39.98000093834051, 116.34107061135364), (39.97996835797807, 116.34432786967562)]\n",
      "tensor([39.9814, 39.9804, 39.9814, 39.9828, 39.9814, 39.9818, 39.9804, 39.9804,\n",
      "        39.9800])\n",
      "tensor([116.3399, 116.3400, 116.3399, 116.3388, 116.3399, 116.3388, 116.3400,\n",
      "        116.3400, 116.3411])\n",
      "[tensor(39.9800), tensor(39.9800)]\n",
      "[tensor(116.3411), tensor(116.3443)]\n",
      "over\n",
      "[(39.98036045400415, 116.33996722906653), (39.98140648799353, 116.33991445203374), (39.982812070789585, 116.33875820843296), (39.98140648799353, 116.33991445203374), (39.98176601295398, 116.33881101147735), (39.98036045400415, 116.33996722906653), (39.98036045400415, 116.33996722906653), (39.98000093834051, 116.34107061135364), (39.98000093834051, 116.34107061135364), (39.98000093834051, 116.34107061135364), (39.97996835797807, 116.34432786967562)]\n",
      "tensor([39.9804, 39.9814, 39.9828, 39.9814, 39.9818, 39.9804, 39.9804, 39.9800,\n",
      "        39.9800])\n",
      "tensor([116.3400, 116.3399, 116.3388, 116.3399, 116.3388, 116.3400, 116.3400,\n",
      "        116.3411, 116.3411])\n",
      "[tensor(39.9800), tensor(39.9800)]\n",
      "[tensor(116.3411), tensor(116.3443)]\n",
      "over\n",
      "[(39.98140648799353, 116.33991445203374), (39.982812070789585, 116.33875820843296), (39.98140648799353, 116.33991445203374), (39.98176601295398, 116.33881101147735), (39.98036045400415, 116.33996722906653), (39.98036045400415, 116.33996722906653), (39.98000093834051, 116.34107061135364), (39.98000093834051, 116.34107061135364), (39.98000093834051, 116.34107061135364), (39.98000093834051, 116.34107061135364), (39.98036045400415, 116.33996722906653)]\n",
      "tensor([39.9814, 39.9828, 39.9814, 39.9818, 39.9804, 39.9804, 39.9800, 39.9800,\n",
      "        39.9800])\n",
      "tensor([116.3399, 116.3388, 116.3399, 116.3388, 116.3400, 116.3400, 116.3411,\n",
      "        116.3411, 116.3411])\n",
      "[tensor(39.9800), tensor(39.9804)]\n",
      "[tensor(116.3411), tensor(116.3400)]\n",
      "over\n",
      "[(39.982812070789585, 116.33875820843296), (39.98140648799353, 116.33991445203374), (39.98176601295398, 116.33881101147735), (39.98036045400415, 116.33996722906653), (39.98036045400415, 116.33996722906653), (39.98000093834051, 116.34107061135364), (39.98000093834051, 116.34107061135364), (39.98000093834051, 116.34107061135364), (39.98000093834051, 116.34107061135364), (39.98140648799353, 116.33991445203374), (39.98036045400415, 116.33996722906653)]\n",
      "tensor([39.9828, 39.9814, 39.9818, 39.9804, 39.9804, 39.9800, 39.9800, 39.9800,\n",
      "        39.9800])\n",
      "tensor([116.3388, 116.3399, 116.3388, 116.3400, 116.3400, 116.3411, 116.3411,\n",
      "        116.3411, 116.3411])\n",
      "[tensor(39.9814), tensor(39.9804)]\n",
      "[tensor(116.3399), tensor(116.3400)]\n",
      "over\n",
      "[(39.98140648799353, 116.33991445203374), (39.98176601295398, 116.33881101147735), (39.98036045400415, 116.33996722906653), (39.98036045400415, 116.33996722906653), (39.98000093834051, 116.34107061135364), (39.98000093834051, 116.34107061135364), (39.98000093834051, 116.34107061135364), (39.98000093834051, 116.34107061135364), (39.98140648799353, 116.33991445203374), (39.98140648799353, 116.33991445203374), (39.97964141965984, 116.3421739591838)]\n",
      "tensor([39.9814, 39.9818, 39.9804, 39.9804, 39.9800, 39.9800, 39.9800, 39.9800,\n",
      "        39.9814])\n",
      "tensor([116.3399, 116.3388, 116.3400, 116.3400, 116.3411, 116.3411, 116.3411,\n",
      "        116.3411, 116.3399])\n",
      "[tensor(39.9814), tensor(39.9796)]\n",
      "[tensor(116.3399), tensor(116.3422)]\n",
      "over\n",
      "[(39.98176601295398, 116.33881101147735), (39.98036045400415, 116.33996722906653), (39.98036045400415, 116.33996722906653), (39.98000093834051, 116.34107061135364), (39.98000093834051, 116.34107061135364), (39.98000093834051, 116.34107061135364), (39.98000093834051, 116.34107061135364), (39.98140648799353, 116.33991445203374), (39.98140648799353, 116.33991445203374), (39.98140648799353, 116.33991445203374), (39.980295246504156, 116.34648173537123)]\n",
      "tensor([39.9818, 39.9804, 39.9804, 39.9800, 39.9800, 39.9800, 39.9800, 39.9814,\n",
      "        39.9814])\n",
      "tensor([116.3388, 116.3400, 116.3400, 116.3411, 116.3411, 116.3411, 116.3411,\n",
      "        116.3399, 116.3399])\n",
      "[tensor(39.9814), tensor(39.9803)]\n",
      "[tensor(116.3399), tensor(116.3465)]\n",
      "over\n",
      "[(39.98036045400415, 116.33996722906653), (39.98036045400415, 116.33996722906653), (39.98000093834051, 116.34107061135364), (39.98000093834051, 116.34107061135364), (39.98000093834051, 116.34107061135364), (39.98000093834051, 116.34107061135364), (39.98140648799353, 116.33991445203374), (39.98140648799353, 116.33991445203374), (39.98140648799353, 116.33991445203374), (39.98140648799353, 116.33991445203374), (39.97964141965984, 116.3421739591838)]\n",
      "tensor([39.9804, 39.9804, 39.9800, 39.9800, 39.9800, 39.9800, 39.9814, 39.9814,\n",
      "        39.9814])\n",
      "tensor([116.3400, 116.3400, 116.3411, 116.3411, 116.3411, 116.3411, 116.3399,\n",
      "        116.3399, 116.3399])\n",
      "[tensor(39.9814), tensor(39.9796)]\n",
      "[tensor(116.3399), tensor(116.3422)]\n",
      "over\n",
      "[(39.98036045400415, 116.33996722906653), (39.98000093834051, 116.34107061135364), (39.98000093834051, 116.34107061135364), (39.98000093834051, 116.34107061135364), (39.98000093834051, 116.34107061135364), (39.98140648799353, 116.33991445203374), (39.98140648799353, 116.33991445203374), (39.98140648799353, 116.33991445203374), (39.98140648799353, 116.33991445203374), (39.98140648799353, 116.33991445203374), (39.97964141965984, 116.3421739591838)]\n",
      "tensor([39.9804, 39.9800, 39.9800, 39.9800, 39.9800, 39.9814, 39.9814, 39.9814,\n",
      "        39.9814])\n",
      "tensor([116.3400, 116.3411, 116.3411, 116.3411, 116.3411, 116.3399, 116.3399,\n",
      "        116.3399, 116.3399])\n",
      "[tensor(39.9814), tensor(39.9796)]\n",
      "[tensor(116.3399), tensor(116.3422)]\n",
      "over\n"
     ]
    }
   ],
   "source": [
    "top_k = 5\n",
    "name_id = 1\n",
    "with torch.no_grad():\n",
    "\n",
    "    for i , k in test_dataloader[:-1]:\n",
    "\n",
    "\n",
    "        a = encoder.transform(i.reshape(-1,1))\n",
    "        a =torch.tensor(a).to(torch.float32).to(device)\n",
    "        k = label_encode(k)\n",
    "        k =torch.tensor(k).to(torch.long).to(device)\n",
    "        out = net(a)\n",
    "        loss = loss_function(out,k)\n",
    "        probs = F.softmax(out, dim=1).squeeze()\n",
    "        probs, indices = probs.topk(top_k) # 选取概率最大的前top_k个\n",
    "        indices = indices.cpu().numpy()\n",
    "        probs = probs.cpu().numpy()\n",
    "        char_index = np.random.choice(indices, p = probs / probs.sum()) # 随机选取一个索引\n",
    "        h3_value = label_decode([char_index])\n",
    "        predict = h3_t_geo(h3_value.tolist())\n",
    "        old=h3_t_geo(i.tolist())\n",
    "        total_list = old+predict\n",
    "        # print(total_list)\n",
    "        draw(total_list,name_id,20,10)\n",
    "        name_id+=1\n",
    "\n",
    "\n",
    "\n"
   ],
   "metadata": {
    "collapsed": false,
    "pycharm": {
     "name": "#%%\n"
    }
   }
  },
  {
   "cell_type": "code",
   "execution_count": 7,
   "outputs": [],
   "source": [],
   "metadata": {
    "collapsed": false,
    "pycharm": {
     "name": "#%%\n"
    }
   }
  },
  {
   "cell_type": "code",
   "execution_count": 7,
   "outputs": [],
   "source": [],
   "metadata": {
    "collapsed": false,
    "pycharm": {
     "name": "#%%\n"
    }
   }
  },
  {
   "cell_type": "code",
   "execution_count": 7,
   "outputs": [],
   "source": [],
   "metadata": {
    "collapsed": false,
    "pycharm": {
     "name": "#%%\n"
    }
   }
  }
 ],
 "metadata": {
  "kernelspec": {
   "display_name": "Python 3",
   "language": "python",
   "name": "python3"
  },
  "language_info": {
   "codemirror_mode": {
    "name": "ipython",
    "version": 2
   },
   "file_extension": ".py",
   "mimetype": "text/x-python",
   "name": "python",
   "nbconvert_exporter": "python",
   "pygments_lexer": "ipython2",
   "version": "2.7.6"
  }
 },
 "nbformat": 4,
 "nbformat_minor": 0
}