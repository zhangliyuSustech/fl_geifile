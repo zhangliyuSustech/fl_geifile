{
 "cells": [
  {
   "cell_type": "code",
   "execution_count": 1,
   "metadata": {},
   "outputs": [],
   "source": [
    "import torch\n",
    "import torch.nn as nn\n",
    "import pickle as pk\n",
    "import numpy as np\n",
    "from model import LocalPredictor\n",
    "import random"
   ]
  },
  {
   "cell_type": "code",
   "execution_count": 2,
   "metadata": {
    "scrolled": true
   },
   "outputs": [
    {
     "name": "stdout",
     "output_type": "stream",
     "text": [
      "/data/fan/UsersInTokyoProcessed/20121001_interp_samplingrate01.pk\n",
      "/data/fan/UsersInTokyoProcessed/20121002_interp_samplingrate01.pk\n",
      "/data/fan/UsersInTokyoProcessed/20121003_interp_samplingrate01.pk\n",
      "/data/fan/UsersInTokyoProcessed/20121004_interp_samplingrate01.pk\n",
      "/data/fan/UsersInTokyoProcessed/20121005_interp_samplingrate01.pk\n",
      "/data/fan/UsersInTokyoProcessed/20121006_interp_samplingrate01.pk\n",
      "/data/fan/UsersInTokyoProcessed/20121007_interp_samplingrate01.pk\n",
      "/data/fan/UsersInTokyoProcessed/20121008_interp_samplingrate01.pk\n",
      "/data/fan/UsersInTokyoProcessed/20121009_interp_samplingrate01.pk\n",
      "/data/fan/UsersInTokyoProcessed/20121010_interp_samplingrate01.pk\n",
      "/data/fan/UsersInTokyoProcessed/20121011_interp_samplingrate01.pk\n",
      "/data/fan/UsersInTokyoProcessed/20121012_interp_samplingrate01.pk\n",
      "/data/fan/UsersInTokyoProcessed/20121013_interp_samplingrate01.pk\n",
      "/data/fan/UsersInTokyoProcessed/20121014_interp_samplingrate01.pk\n",
      "/data/fan/UsersInTokyoProcessed/20121015_interp_samplingrate01.pk\n",
      "/data/fan/UsersInTokyoProcessed/20121016_interp_samplingrate01.pk\n",
      "/data/fan/UsersInTokyoProcessed/20121017_interp_samplingrate01.pk\n",
      "/data/fan/UsersInTokyoProcessed/20121018_interp_samplingrate01.pk\n",
      "/data/fan/UsersInTokyoProcessed/20121019_interp_samplingrate01.pk\n",
      "/data/fan/UsersInTokyoProcessed/20121020_interp_samplingrate01.pk\n",
      "/data/fan/UsersInTokyoProcessed/20121021_interp_samplingrate01.pk\n",
      "/data/fan/UsersInTokyoProcessed/20121022_interp_samplingrate01.pk\n",
      "/data/fan/UsersInTokyoProcessed/20121023_interp_samplingrate01.pk\n",
      "/data/fan/UsersInTokyoProcessed/20121024_interp_samplingrate01.pk\n",
      "/data/fan/UsersInTokyoProcessed/20121025_interp_samplingrate01.pk\n",
      "/data/fan/UsersInTokyoProcessed/20121026_interp_samplingrate01.pk\n",
      "/data/fan/UsersInTokyoProcessed/20121027_interp_samplingrate01.pk\n",
      "/data/fan/UsersInTokyoProcessed/20121028_interp_samplingrate01.pk\n"
     ]
    }
   ],
   "source": [
    "data = dict({})\n",
    "for d in range(1, 29):\n",
    "    filename = '/data/fan/UsersInTokyoProcessed/201210{:02d}_interp_samplingrate01.pk'.format(d)\n",
    "    print(filename)\n",
    "    with open(filename, 'rb') as f:\n",
    "        data[d] = pk.load(f)"
   ]
  },
  {
   "cell_type": "code",
   "execution_count": 3,
   "metadata": {},
   "outputs": [
    {
     "name": "stdout",
     "output_type": "stream",
     "text": [
      "/data/fan/UsersInTokyoProcessed/20121001_interp.pk\n",
      "/data/fan/UsersInTokyoProcessed/20121002_interp.pk\n",
      "/data/fan/UsersInTokyoProcessed/20121003_interp.pk\n",
      "/data/fan/UsersInTokyoProcessed/20121004_interp.pk\n",
      "/data/fan/UsersInTokyoProcessed/20121005_interp.pk\n",
      "/data/fan/UsersInTokyoProcessed/20121006_interp.pk\n",
      "/data/fan/UsersInTokyoProcessed/20121007_interp.pk\n",
      "/data/fan/UsersInTokyoProcessed/20121008_interp.pk\n",
      "/data/fan/UsersInTokyoProcessed/20121009_interp.pk\n",
      "/data/fan/UsersInTokyoProcessed/20121010_interp.pk\n",
      "/data/fan/UsersInTokyoProcessed/20121011_interp.pk\n",
      "/data/fan/UsersInTokyoProcessed/20121012_interp.pk\n",
      "/data/fan/UsersInTokyoProcessed/20121013_interp.pk\n",
      "/data/fan/UsersInTokyoProcessed/20121014_interp.pk\n",
      "/data/fan/UsersInTokyoProcessed/20121015_interp.pk\n",
      "/data/fan/UsersInTokyoProcessed/20121016_interp.pk\n",
      "/data/fan/UsersInTokyoProcessed/20121017_interp.pk\n",
      "/data/fan/UsersInTokyoProcessed/20121018_interp.pk\n",
      "/data/fan/UsersInTokyoProcessed/20121019_interp.pk\n",
      "/data/fan/UsersInTokyoProcessed/20121020_interp.pk\n",
      "/data/fan/UsersInTokyoProcessed/20121021_interp.pk\n",
      "/data/fan/UsersInTokyoProcessed/20121022_interp.pk\n",
      "/data/fan/UsersInTokyoProcessed/20121023_interp.pk\n",
      "/data/fan/UsersInTokyoProcessed/20121024_interp.pk\n",
      "/data/fan/UsersInTokyoProcessed/20121025_interp.pk\n",
      "/data/fan/UsersInTokyoProcessed/20121026_interp.pk\n",
      "/data/fan/UsersInTokyoProcessed/20121027_interp.pk\n",
      "/data/fan/UsersInTokyoProcessed/20121028_interp.pk\n"
     ]
    }
   ],
   "source": [
    "data_valid = dict({})\n",
    "for d in range(1, 29):\n",
    "    filename = '/data/fan/UsersInTokyoProcessed/201210{:02d}_interp.pk'.format(d)\n",
    "    print(filename)\n",
    "    with open(filename, 'rb') as f:\n",
    "        data_valid[d] = pk.load(f)"
   ]
  },
  {
   "cell_type": "code",
   "execution_count": 4,
   "metadata": {},
   "outputs": [],
   "source": [
    "uid_sets = dict({})\n",
    "for d in data:\n",
    "    uid_sets[d] = set(list(data[d].keys()))"
   ]
  },
  {
   "cell_type": "code",
   "execution_count": 5,
   "metadata": {},
   "outputs": [],
   "source": [
    "uid_doc_set = set([])\n",
    "for d in range(1, 15):\n",
    "    uid_doc_set = uid_doc_set | uid_sets[d]"
   ]
  },
  {
   "cell_type": "code",
   "execution_count": 6,
   "metadata": {},
   "outputs": [],
   "source": [
    "data_doc = dict({})\n",
    "data_doc_test = dict({})\n",
    "data_qry_train = dict({})\n",
    "data_qry_test = dict({})\n",
    "\n",
    "for d in range(1, 15):\n",
    "    for uid in data[d]:\n",
    "        if uid not in data_doc:\n",
    "            data_doc[uid] = [data[d][uid]]\n",
    "            data_doc_test[uid] = [data_valid[d][uid]]\n",
    "        else:\n",
    "            data_doc[uid].append(data[d][uid])\n",
    "            data_doc_test[uid].append(data_valid[d][uid])\n",
    "\n",
    "for d in range(15, 22):\n",
    "    for uid in data[d]:\n",
    "        if uid not in data_qry_train:\n",
    "            data_qry_train[uid] = [data[d][uid]]\n",
    "        else:\n",
    "            data_qry_train[uid].append(data[d][uid])\n",
    "            \n",
    "for d in range(22, 29):\n",
    "    for uid in data[d]:\n",
    "        if uid not in data_qry_test:\n",
    "            data_qry_test[uid] = [data_valid[d][uid]]\n",
    "        else:\n",
    "            data_qry_test[uid].append(data_valid[d][uid])"
   ]
  },
  {
   "cell_type": "code",
   "execution_count": null,
   "metadata": {},
   "outputs": [],
   "source": []
  },
  {
   "cell_type": "code",
   "execution_count": 7,
   "metadata": {},
   "outputs": [],
   "source": [
    "for uid in data_doc:\n",
    "    data_doc[uid] = torch.LongTensor(data_doc[uid]).cuda(0)\n",
    "    \n",
    "for uid in data_doc_test:\n",
    "    data_doc_test[uid] = torch.LongTensor(data_doc_test[uid]).cuda(0)\n",
    "\n",
    "for uid in data_qry_train:\n",
    "    data_qry_train[uid] = torch.LongTensor(data_qry_train[uid]).cuda(0)\n",
    "    \n",
    "for uid in data_qry_test:\n",
    "    data_qry_test[uid] = torch.LongTensor(data_qry_test[uid]).cuda(0)"
   ]
  },
  {
   "cell_type": "code",
   "execution_count": 8,
   "metadata": {},
   "outputs": [],
   "source": [
    "num_locs = 1600\n",
    "loc_embedding_dim = 128\n",
    "T = 96\n",
    "num_time = T\n",
    "time_embedding_dim = 32\n",
    "hidden_dim = 256\n",
    "latent_dim = 256\n",
    "n_layers = 2"
   ]
  },
  {
   "cell_type": "code",
   "execution_count": 9,
   "metadata": {},
   "outputs": [],
   "source": [
    "dT = 4"
   ]
  },
  {
   "cell_type": "code",
   "execution_count": 10,
   "metadata": {},
   "outputs": [],
   "source": [
    "training_loss = dict({})\n",
    "validation_loss = dict({})"
   ]
  },
  {
   "cell_type": "code",
   "execution_count": 12,
   "metadata": {
    "scrolled": true
   },
   "outputs": [
    {
     "name": "stdout",
     "output_type": "stream",
     "text": [
      "Training Loss = 1.1306\n",
      "Validation Loss = 2.3141\n",
      "Training Loss = 0.8597\n",
      "Validation Loss = 2.1701\n",
      "Training Loss = 0.8340\n",
      "Validation Loss = 2.0689\n",
      "Training Loss = 0.8119\n",
      "Validation Loss = 2.0313\n",
      "Training Loss = 0.8113\n",
      "Validation Loss = 2.0027\n",
      "Training Loss = 0.8005\n",
      "Validation Loss = 2.0105\n",
      "Training Loss = 0.7997\n",
      "Validation Loss = 1.9648\n",
      "Training Loss = 0.7953\n",
      "Validation Loss = 1.9449\n",
      "Training Loss = 0.7999\n",
      "Validation Loss = 1.9537\n",
      "Training Loss = 0.7971\n",
      "Validation Loss = 1.9721\n"
     ]
    }
   ],
   "source": [
    "batch_size = 128\n",
    "user_list_train = list(data_qry_train.keys())\n",
    "\n",
    "\n",
    "local_predictor = LocalPredictor(num_locs, loc_embedding_dim, num_time, time_embedding_dim, hidden_dim, latent_dim, n_layers).cuda(0)\n",
    "\n",
    "optimizer = torch.optim.RMSprop(local_predictor.parameters(), lr=1e-3)\n",
    "\n",
    "for epoch in range(1, 11):\n",
    "    optimizer.zero_grad()\n",
    "\n",
    "    random.shuffle(user_list_train)\n",
    "\n",
    "    avg_loss = 0.0\n",
    "    cnt = 0\n",
    "\n",
    "    for uid in user_list_train:\n",
    "        t = np.random.randint(T - 2 * dT + 1)\n",
    "        x_loc_qry = data_qry_train[uid][:, t: t + dT]\n",
    "        x_t_qry = torch.zeros_like(x_loc_qry) + t\n",
    "        y = data_qry_train[uid][:, t + 2 * dT - 1]\n",
    "\n",
    "        if uid not in data_doc:\n",
    "            loss = local_predictor(x_loc_qry, x_t_qry, None, None, y)\n",
    "        else:\n",
    "            x_loc_doc = []\n",
    "            x_t_doc = []\n",
    "            for j in range(0, 1):\n",
    "                if t + j >= 0 and t + 2 * dT + j <= T:\n",
    "                    tmp = data_doc[uid][:, t + j: t + 2 * dT + j]\n",
    "                    x_loc_doc.append(tmp)\n",
    "                    x_t_doc.append(torch.zeros_like(tmp) + t + j)\n",
    "            loss = local_predictor(x_loc_qry, x_t_qry, torch.cat(x_loc_doc, dim=0), torch.cat(x_t_doc, dim=0), y)\n",
    "\n",
    "        loss.backward()\n",
    "        cnt += data_qry_train[uid].shape[0]\n",
    "        avg_loss += loss.item()\n",
    "\n",
    "        if cnt % batch_size == 0:\n",
    "            optimizer.step()\n",
    "            optimizer.zero_grad()\n",
    "\n",
    "    print('Training Loss = {:.4f}'.format(avg_loss / cnt))\n",
    "\n",
    "    # testing\n",
    "    cnt = 0\n",
    "    avg_loss = 0.0\n",
    "\n",
    "    with torch.no_grad():\n",
    "        for uid in data_qry_test:\n",
    "            t = np.random.randint(T - 2 * dT + 1)\n",
    "            x_loc_qry = data_qry_test[uid][:, t: t + dT]\n",
    "            x_t_qry = torch.zeros_like(x_loc_qry) + t\n",
    "            y = data_qry_test[uid][:, t + 2 * dT - 1]\n",
    "\n",
    "            if uid not in data_doc:\n",
    "                loss = local_predictor(x_loc_qry, x_t_qry, None, None, y)\n",
    "            else:\n",
    "                x_loc_doc = []\n",
    "                x_t_doc = []\n",
    "                for j in range(0, 1):\n",
    "                    if t + j >= 0 and t + 2 * dT + j <= T:\n",
    "                        tmp = data_doc_test[uid][:, t + j: t + 2 * dT + j]\n",
    "                        x_loc_doc.append(tmp)\n",
    "                        x_t_doc.append(torch.zeros_like(tmp) + t + j)\n",
    "                loss = local_predictor(x_loc_qry, x_t_qry, torch.cat(x_loc_doc, dim=0), torch.cat(x_t_doc, dim=0), y)\n",
    "\n",
    "            cnt += data_qry_test[uid].shape[0]\n",
    "            avg_loss += loss.item()\n",
    "\n",
    "    print('Validation Loss = {:.4f}'.format(avg_loss / cnt))"
   ]
  },
  {
   "cell_type": "code",
   "execution_count": 21,
   "metadata": {},
   "outputs": [],
   "source": [
    "import numpy as np"
   ]
  },
  {
   "cell_type": "code",
   "execution_count": 29,
   "metadata": {},
   "outputs": [
    {
     "data": {
      "text/plain": [
       "(1600, 128)"
      ]
     },
     "execution_count": 29,
     "metadata": {},
     "output_type": "execute_result"
    }
   ],
   "source": [
    "list(local_predictor.parameters())[0].detach().cpu().numpy().shape"
   ]
  },
  {
   "cell_type": "code",
   "execution_count": null,
   "metadata": {},
   "outputs": [],
   "source": []
  },
  {
   "cell_type": "code",
   "execution_count": 36,
   "metadata": {},
   "outputs": [
    {
     "data": {
      "text/plain": [
       "array([[ 0.7837  , -0.8535  ,  0.7783  , ...,  0.9575  , -1.404   ,\n",
       "        -2.242   ],\n",
       "       [-1.394   ,  1.734   , -1.588   , ..., -0.657   ,  0.3118  ,\n",
       "         0.01277 ],\n",
       "       [ 0.11224 , -0.0396  , -0.595   , ...,  0.103   ,  0.3794  ,\n",
       "         0.00515 ],\n",
       "       ...,\n",
       "       [-0.1948  , -0.05878 ,  1.078   , ...,  0.4     ,  0.5933  ,\n",
       "        -0.284   ],\n",
       "       [ 0.0762  ,  0.1871  ,  0.2025  , ...,  0.3093  , -0.6455  ,\n",
       "         0.7437  ],\n",
       "       [ 0.7876  ,  0.2144  , -0.3123  , ...,  0.011314, -0.281   ,\n",
       "        -0.3767  ]], dtype=float16)"
      ]
     },
     "execution_count": 36,
     "metadata": {},
     "output_type": "execute_result"
    }
   ],
   "source": [
    "list(local_predictor.parameters())[0].detach().cpu().numpy().astype(np.float16)"
   ]
  },
  {
   "cell_type": "code",
   "execution_count": null,
   "metadata": {},
   "outputs": [],
   "source": [
    "parameters_before_comp = []\n",
    "parameters_after_comp = []\n",
    "for para in local_predictor.parameters():\n",
    "    para = para.detach().cpu().numpy()\n",
    "    parameters_before_comp.append(para)\n",
    "    if len(para.shape) > 1:"
   ]
  },
  {
   "cell_type": "code",
   "execution_count": null,
   "metadata": {},
   "outputs": [],
   "source": []
  }
 ],
 "metadata": {
  "kernelspec": {
   "display_name": "Python 3",
   "language": "python",
   "name": "python3"
  },
  "language_info": {
   "codemirror_mode": {
    "name": "ipython",
    "version": 3
   },
   "file_extension": ".py",
   "mimetype": "text/x-python",
   "name": "python",
   "nbconvert_exporter": "python",
   "pygments_lexer": "ipython3",
   "version": "3.7.4"
  }
 },
 "nbformat": 4,
 "nbformat_minor": 2
}
