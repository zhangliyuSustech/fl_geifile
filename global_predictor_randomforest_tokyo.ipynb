{
 "cells": [
  {
   "cell_type": "code",
   "execution_count": 1,
   "metadata": {},
   "outputs": [],
   "source": [
    "import torch\n",
    "import torch.nn as nn\n",
    "\n",
    "import numpy as np\n",
    "import pickle as pk\n",
    "\n",
    "from sklearn.ensemble import RandomForestClassifier"
   ]
  },
  {
   "cell_type": "code",
   "execution_count": 2,
   "metadata": {},
   "outputs": [
    {
     "name": "stdout",
     "output_type": "stream",
     "text": [
      "/data/fan/UsersInTokyoProcessed/20121015_interp.pk\n",
      "/data/fan/UsersInTokyoProcessed/20121016_interp.pk\n",
      "/data/fan/UsersInTokyoProcessed/20121017_interp.pk\n",
      "/data/fan/UsersInTokyoProcessed/20121018_interp.pk\n",
      "/data/fan/UsersInTokyoProcessed/20121019_interp.pk\n",
      "/data/fan/UsersInTokyoProcessed/20121020_interp.pk\n",
      "/data/fan/UsersInTokyoProcessed/20121021_interp.pk\n"
     ]
    }
   ],
   "source": [
    "data = []\n",
    "for d in range(15, 22):\n",
    "    filename = '/data/fan/UsersInTokyoProcessed/201210{:02d}_interp.pk'.format(d)\n",
    "    print(filename)\n",
    "    with open(filename, 'rb') as f:\n",
    "        data += list(pk.load(f).values())\n",
    "data = np.stack(data, axis=0)"
   ]
  },
  {
   "cell_type": "code",
   "execution_count": 3,
   "metadata": {},
   "outputs": [
    {
     "name": "stdout",
     "output_type": "stream",
     "text": [
      "/data/fan/UsersInTokyoProcessed/20121022_interp.pk\n",
      "/data/fan/UsersInTokyoProcessed/20121023_interp.pk\n",
      "/data/fan/UsersInTokyoProcessed/20121024_interp.pk\n",
      "/data/fan/UsersInTokyoProcessed/20121025_interp.pk\n",
      "/data/fan/UsersInTokyoProcessed/20121026_interp.pk\n",
      "/data/fan/UsersInTokyoProcessed/20121027_interp.pk\n",
      "/data/fan/UsersInTokyoProcessed/20121028_interp.pk\n"
     ]
    }
   ],
   "source": [
    "val_data = []\n",
    "for d in range(22, 29):\n",
    "    filename = '/data/fan/UsersInTokyoProcessed/201210{:02d}_interp.pk'.format(d)\n",
    "    print(filename)\n",
    "    with open(filename, 'rb') as f:\n",
    "        val_data += list(pk.load(f).values())\n",
    "val_data = np.stack(val_data, axis=0)"
   ]
  },
  {
   "cell_type": "code",
   "execution_count": 4,
   "metadata": {},
   "outputs": [
    {
     "data": {
      "text/plain": [
       "(582789, 96)"
      ]
     },
     "execution_count": 4,
     "metadata": {},
     "output_type": "execute_result"
    }
   ],
   "source": [
    "data.shape"
   ]
  },
  {
   "cell_type": "code",
   "execution_count": 5,
   "metadata": {},
   "outputs": [],
   "source": [
    "global_predictor = RandomForestClassifier(n_estimators=200, max_depth=4)"
   ]
  },
  {
   "cell_type": "code",
   "execution_count": 6,
   "metadata": {},
   "outputs": [],
   "source": [
    "T = 96\n",
    "dT = 4\n",
    "num_clusters = 1600"
   ]
  },
  {
   "cell_type": "code",
   "execution_count": 8,
   "metadata": {},
   "outputs": [],
   "source": [
    "data_x = np.zeros((data.shape[0], num_clusters + T))\n",
    "data_y = []\n",
    "for i in range(data.shape[0]):\n",
    "    t = np.random.randint(T - 2 * dT)\n",
    "    data_x[i, t] = 1.\n",
    "    data_x[i, T + data[i, t + 3]] = 1.\n",
    "    data_y.append(data[i, t + 2 * dT - 1])"
   ]
  },
  {
   "cell_type": "code",
   "execution_count": 9,
   "metadata": {},
   "outputs": [
    {
     "data": {
      "text/plain": [
       "RandomForestClassifier(bootstrap=True, class_weight=None, criterion='gini',\n",
       "            max_depth=4, max_features='auto', max_leaf_nodes=None,\n",
       "            min_impurity_decrease=0.0, min_impurity_split=None,\n",
       "            min_samples_leaf=1, min_samples_split=2,\n",
       "            min_weight_fraction_leaf=0.0, n_estimators=200, n_jobs=None,\n",
       "            oob_score=False, random_state=None, verbose=0,\n",
       "            warm_start=False)"
      ]
     },
     "execution_count": 9,
     "metadata": {},
     "output_type": "execute_result"
    }
   ],
   "source": [
    "global_predictor.fit(data_x, data_y)"
   ]
  },
  {
   "cell_type": "code",
   "execution_count": 10,
   "metadata": {},
   "outputs": [],
   "source": [
    "with open('./results_tokyo/global_predictor_randomforest.pk', 'wb') as f:\n",
    "    pk.dump(global_predictor, f)"
   ]
  },
  {
   "cell_type": "code",
   "execution_count": null,
   "metadata": {},
   "outputs": [],
   "source": []
  }
 ],
 "metadata": {
  "kernelspec": {
   "display_name": "Python 3",
   "language": "python",
   "name": "python3"
  },
  "language_info": {
   "codemirror_mode": {
    "name": "ipython",
    "version": 3
   },
   "file_extension": ".py",
   "mimetype": "text/x-python",
   "name": "python",
   "nbconvert_exporter": "python",
   "pygments_lexer": "ipython3",
   "version": "3.6.8"
  }
 },
 "nbformat": 4,
 "nbformat_minor": 2
}
