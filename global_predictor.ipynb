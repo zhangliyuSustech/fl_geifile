{
 "cells": [
  {
   "cell_type": "code",
   "execution_count": 1,
   "metadata": {},
   "outputs": [],
   "source": [
    "import torch\n",
    "import torch.nn as nn\n",
    "import numpy as np\n",
    "import pickle as pk\n",
    "from model import GlobalPredictor"
   ]
  },
  {
   "cell_type": "code",
   "execution_count": 2,
   "metadata": {},
   "outputs": [
    {
     "name": "stdout",
     "output_type": "stream",
     "text": [
      "/data/fan/UsersInOsakaProcessed/20121015_interp.pk\n"
     ]
    },
    {
     "ename": "FileNotFoundError",
     "evalue": "[Errno 2] No such file or directory: '/data/fan/UsersInOsakaProcessed/20121015_interp.pk'",
     "output_type": "error",
     "traceback": [
      "\u001B[1;31m---------------------------------------------------------------------------\u001B[0m",
      "\u001B[1;31mFileNotFoundError\u001B[0m                         Traceback (most recent call last)",
      "Input \u001B[1;32mIn [2]\u001B[0m, in \u001B[0;36m<module>\u001B[1;34m\u001B[0m\n\u001B[0;32m      3\u001B[0m     filename \u001B[38;5;241m=\u001B[39m \u001B[38;5;124m'\u001B[39m\u001B[38;5;124m/data/fan/UsersInOsakaProcessed/201210\u001B[39m\u001B[38;5;132;01m{:02d}\u001B[39;00m\u001B[38;5;124m_interp.pk\u001B[39m\u001B[38;5;124m'\u001B[39m\u001B[38;5;241m.\u001B[39mformat(d)\n\u001B[0;32m      4\u001B[0m     \u001B[38;5;28mprint\u001B[39m(filename)\n\u001B[1;32m----> 5\u001B[0m     \u001B[38;5;28;01mwith\u001B[39;00m \u001B[38;5;28;43mopen\u001B[39;49m\u001B[43m(\u001B[49m\u001B[43mfilename\u001B[49m\u001B[43m,\u001B[49m\u001B[43m \u001B[49m\u001B[38;5;124;43m'\u001B[39;49m\u001B[38;5;124;43mrb\u001B[39;49m\u001B[38;5;124;43m'\u001B[39;49m\u001B[43m)\u001B[49m \u001B[38;5;28;01mas\u001B[39;00m f:\n\u001B[0;32m      6\u001B[0m         data \u001B[38;5;241m+\u001B[39m\u001B[38;5;241m=\u001B[39m \u001B[38;5;28mlist\u001B[39m(pk\u001B[38;5;241m.\u001B[39mload(f)\u001B[38;5;241m.\u001B[39mvalues())\n\u001B[0;32m      7\u001B[0m data \u001B[38;5;241m=\u001B[39m np\u001B[38;5;241m.\u001B[39mstack(data, axis\u001B[38;5;241m=\u001B[39m\u001B[38;5;241m0\u001B[39m)\n",
      "\u001B[1;31mFileNotFoundError\u001B[0m: [Errno 2] No such file or directory: '/data/fan/UsersInOsakaProcessed/20121015_interp.pk'"
     ]
    }
   ],
   "source": [
    "data = []\n",
    "for d in range(15, 22):\n",
    "    filename = '/data/fan/UsersInOsakaProcessed/201210{:02d}_interp.pk'.format(d)\n",
    "    print(filename)\n",
    "    with open(filename, 'rb') as f:\n",
    "        data += list(pk.load(f).values())\n",
    "data = np.stack(data, axis=0)\n",
    "\n"
   ]
  },
  {
   "cell_type": "code",
   "execution_count": null,
   "metadata": {},
   "outputs": [],
   "source": [
    "val_data = []\n",
    "for d in range(22, 29):\n",
    "    filename = '/data/fan/UsersInOsakaProcessed/201210{:02d}_interp.pk'.format(d)\n",
    "    print(filename)\n",
    "    with open(filename, 'rb') as f:\n",
    "        val_data += list(pk.load(f).values())\n",
    "val_data = np.stack(val_data, axis=0)"
   ]
  },
  {
   "cell_type": "code",
   "execution_count": null,
   "metadata": {},
   "outputs": [],
   "source": [
    "data.shape"
   ]
  },
  {
   "cell_type": "code",
   "execution_count": null,
   "metadata": {},
   "outputs": [],
   "source": [
    "data = torch.LongTensor(data).cuda(0)\n",
    "val_data = torch.LongTensor(val_data).cuda(0)"
   ]
  },
  {
   "cell_type": "code",
   "execution_count": null,
   "metadata": {},
   "outputs": [],
   "source": [
    "num_locs = 1600\n",
    "loc_embedding_dim = 128\n",
    "T = 96\n",
    "num_time = T\n",
    "time_embedding_dim = 32\n",
    "hidden_dim = 256\n",
    "latent_dim = 256"
   ]
  },
  {
   "cell_type": "code",
   "execution_count": null,
   "metadata": {},
   "outputs": [],
   "source": [
    "global_predictor = GlobalPredictor(num_locs, loc_embedding_dim, num_time, time_embedding_dim, hidden_dim, latent_dim).cuda(0)"
   ]
  },
  {
   "cell_type": "code",
   "execution_count": null,
   "metadata": {},
   "outputs": [],
   "source": [
    "optimizer = torch.optim.SGD(global_predictor.parameters(), lr=1e-3, momentum=0.8)\n",
    "optimizer_scheduler = torch.optim.lr_scheduler.StepLR(optimizer, step_size=20, gamma=0.5)"
   ]
  },
  {
   "cell_type": "code",
   "execution_count": null,
   "metadata": {},
   "outputs": [],
   "source": [
    "dT = 4"
   ]
  },
  {
   "cell_type": "code",
   "execution_count": null,
   "metadata": {},
   "outputs": [],
   "source": [
    "training_loss = dict({})\n",
    "validation_loss = dict({})"
   ]
  },
  {
   "cell_type": "code",
   "execution_count": null,
   "metadata": {},
   "outputs": [],
   "source": [
    "batch_size = 128\n",
    "\n",
    "for epoch in range(1, 21):\n",
    "    optimizer.zero_grad()\n",
    "    optimizer_scheduler.step()\n",
    "    perm = torch.randperm(data.shape[0])\n",
    "    #返回一个0到n-1的数组\n",
    "    #data.shape = (250770, 96)\n",
    "    #data.shape[0] \n",
    "    \n",
    "    \n",
    "    \n",
    "    avg_loss = 0.0\n",
    "    \n",
    "    cnt = 0\n",
    "    for i in range(0, data.shape[0], batch_size):\n",
    "        data_batch = data[perm[i: i + batch_size]]\n",
    "        t = np.random.randint(T - 2 * dT + 1)\n",
    "        # 在这个区间范围内挑选一个值                \n",
    "        time_batch = torch.zeros_like(data_batch[:, t: t + dT]) + t\n",
    "        loss = global_predictor(data_batch[:, t: t + dT], time_batch, data_batch[:, t + 2 * dT - 1])\n",
    "        \n",
    "        \n",
    "        \n",
    "        loss.backward()\n",
    "        optimizer.step()\n",
    "        optimizer.zero_grad()\n",
    "        avg_loss += loss.item()\n",
    "        print('Epoch {:02d}, avg_loss = {:.4f}'.format(epoch, avg_loss / (i + batch_size)), end='\\r')\n",
    "    training_loss[epoch] = avg_loss / data.shape[0]\n",
    "    print('')\n",
    "    \n",
    "    \n",
    "    \n",
    "    \n",
    "    \n",
    "    \n",
    "    \n",
    "    # testing\n",
    "    avg_loss = 0.0\n",
    "    perm = torch.randperm(val_data.shape[0])\n",
    "    with torch.no_grad():\n",
    "        for i in range(0, val_data.shape[0], batch_size):\n",
    "            data_batch = val_data[perm[i: i + batch_size]]\n",
    "            t = np.random.randint(T - 2 * dT + 1)\n",
    "            time_batch = torch.zeros_like(data_batch[:, t: t + dT]) + t\n",
    "            loss = global_predictor(data_batch[:, t: t + dT], time_batch, data_batch[:, t + 2 * dT - 1])\n",
    "            avg_loss += loss.item()\n",
    "    print('Validation Loss = {:.4f}'.format(avg_loss / val_data.shape[0]))\n",
    "    validation_loss[epoch] = avg_loss / val_data.shape[0]\n",
    "    "
   ]
  },
  {
   "cell_type": "code",
   "execution_count": null,
   "metadata": {},
   "outputs": [],
   "source": []
  },
  {
   "cell_type": "code",
   "execution_count": null,
   "metadata": {},
   "outputs": [],
   "source": []
  },
  {
   "cell_type": "code",
   "execution_count": null,
   "metadata": {},
   "outputs": [],
   "source": []
  },
  {
   "cell_type": "code",
   "execution_count": null,
   "metadata": {},
   "outputs": [],
   "source": [
    "torch.save(global_predictor, './results_osaka/global_predictor.pytorch')"
   ]
  },
  {
   "cell_type": "code",
   "execution_count": null,
   "metadata": {},
   "outputs": [],
   "source": [
    "with open('./results_osaka/centralized_global_predictor_training_loss.pk', 'wb') as f:\n",
    "    pk.dump(training_loss, f)\n",
    "with open('./results_osaka/centralized_global_predictor_validation_loss.pk', 'wb') as f:\n",
    "    pk.dump(validation_loss, f)"
   ]
  }
 ],
 "metadata": {
  "kernelspec": {
   "display_name": "Python 3",
   "language": "python",
   "name": "python3"
  },
  "language_info": {
   "codemirror_mode": {
    "name": "ipython",
    "version": 3
   },
   "file_extension": ".py",
   "mimetype": "text/x-python",
   "name": "python",
   "nbconvert_exporter": "python",
   "pygments_lexer": "ipython3",
   "version": "3.8.8"
  }
 },
 "nbformat": 4,
 "nbformat_minor": 2
}