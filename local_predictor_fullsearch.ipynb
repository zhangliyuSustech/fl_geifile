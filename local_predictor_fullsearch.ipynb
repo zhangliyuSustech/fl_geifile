{
 "cells": [
  {
   "cell_type": "code",
   "execution_count": 1,
   "metadata": {},
   "outputs": [],
   "source": [
    "import torch\n",
    "import torch.nn as nn\n",
    "import pickle as pk\n",
    "import numpy as np\n",
    "from model import LocalPredictorFullSearch\n",
    "import random"
   ]
  },
  {
   "cell_type": "code",
   "execution_count": 2,
   "metadata": {
    "scrolled": true
   },
   "outputs": [
    {
     "name": "stdout",
     "output_type": "stream",
     "text": [
      "/data/fan/UsersInOsakaProcessed/20121001_interp.pk\n",
      "/data/fan/UsersInOsakaProcessed/20121002_interp.pk\n",
      "/data/fan/UsersInOsakaProcessed/20121003_interp.pk\n",
      "/data/fan/UsersInOsakaProcessed/20121004_interp.pk\n",
      "/data/fan/UsersInOsakaProcessed/20121005_interp.pk\n",
      "/data/fan/UsersInOsakaProcessed/20121006_interp.pk\n",
      "/data/fan/UsersInOsakaProcessed/20121007_interp.pk\n",
      "/data/fan/UsersInOsakaProcessed/20121008_interp.pk\n",
      "/data/fan/UsersInOsakaProcessed/20121009_interp.pk\n",
      "/data/fan/UsersInOsakaProcessed/20121010_interp.pk\n",
      "/data/fan/UsersInOsakaProcessed/20121011_interp.pk\n",
      "/data/fan/UsersInOsakaProcessed/20121012_interp.pk\n",
      "/data/fan/UsersInOsakaProcessed/20121013_interp.pk\n",
      "/data/fan/UsersInOsakaProcessed/20121014_interp.pk\n",
      "/data/fan/UsersInOsakaProcessed/20121015_interp.pk\n",
      "/data/fan/UsersInOsakaProcessed/20121016_interp.pk\n",
      "/data/fan/UsersInOsakaProcessed/20121017_interp.pk\n",
      "/data/fan/UsersInOsakaProcessed/20121018_interp.pk\n",
      "/data/fan/UsersInOsakaProcessed/20121019_interp.pk\n",
      "/data/fan/UsersInOsakaProcessed/20121020_interp.pk\n",
      "/data/fan/UsersInOsakaProcessed/20121021_interp.pk\n",
      "/data/fan/UsersInOsakaProcessed/20121022_interp.pk\n",
      "/data/fan/UsersInOsakaProcessed/20121023_interp.pk\n",
      "/data/fan/UsersInOsakaProcessed/20121024_interp.pk\n",
      "/data/fan/UsersInOsakaProcessed/20121025_interp.pk\n",
      "/data/fan/UsersInOsakaProcessed/20121026_interp.pk\n",
      "/data/fan/UsersInOsakaProcessed/20121027_interp.pk\n",
      "/data/fan/UsersInOsakaProcessed/20121028_interp.pk\n"
     ]
    }
   ],
   "source": [
    "data = dict({})\n",
    "for d in range(1, 29):\n",
    "    filename = '/data/fan/UsersInOsakaProcessed/201210{:02d}_interp.pk'.format(d)\n",
    "    print(filename)\n",
    "    with open(filename, 'rb') as f:\n",
    "        data[d] = pk.load(f)"
   ]
  },
  {
   "cell_type": "code",
   "execution_count": 3,
   "metadata": {},
   "outputs": [],
   "source": [
    "uid_sets = dict({})\n",
    "for d in data:\n",
    "    uid_sets[d] = set(list(data[d].keys()))"
   ]
  },
  {
   "cell_type": "code",
   "execution_count": 4,
   "metadata": {},
   "outputs": [],
   "source": [
    "uid_doc_set = set([])\n",
    "for d in range(1, 15):\n",
    "    uid_doc_set = uid_doc_set | uid_sets[d]"
   ]
  },
  {
   "cell_type": "code",
   "execution_count": 5,
   "metadata": {},
   "outputs": [],
   "source": [
    "data_doc = dict({})\n",
    "data_qry_train = dict({})\n",
    "data_qry_test = dict({})\n",
    "\n",
    "for d in range(1, 15):\n",
    "    for uid in data[d]:\n",
    "        if uid not in data_doc:\n",
    "            data_doc[uid] = [data[d][uid]]\n",
    "        else:\n",
    "            data_doc[uid].append(data[d][uid])\n",
    "\n",
    "for d in range(15, 22):\n",
    "    for uid in data[d]:\n",
    "        if uid not in data_qry_train:\n",
    "            data_qry_train[uid] = [data[d][uid]]\n",
    "        else:\n",
    "            data_qry_train[uid].append(data[d][uid])\n",
    "            \n",
    "for d in range(22, 29):\n",
    "    for uid in data[d]:\n",
    "        if uid not in data_qry_test:\n",
    "            data_qry_test[uid] = [data[d][uid]]\n",
    "        else:\n",
    "            data_qry_test[uid].append(data[d][uid])"
   ]
  },
  {
   "cell_type": "code",
   "execution_count": 6,
   "metadata": {},
   "outputs": [],
   "source": [
    "for uid in data_doc:\n",
    "    data_doc[uid] = torch.LongTensor(data_doc[uid]).cuda(1)\n",
    "\n",
    "for uid in data_qry_train:\n",
    "    data_qry_train[uid] = torch.LongTensor(data_qry_train[uid]).cuda(1)\n",
    "    \n",
    "for uid in data_qry_test:\n",
    "    data_qry_test[uid] = torch.LongTensor(data_qry_test[uid]).cuda(1)"
   ]
  },
  {
   "cell_type": "code",
   "execution_count": 7,
   "metadata": {},
   "outputs": [],
   "source": [
    "num_locs = 1600\n",
    "loc_embedding_dim = 128\n",
    "T = 96\n",
    "num_time = T\n",
    "time_embedding_dim = 32\n",
    "hidden_dim = 256\n",
    "latent_dim = 256\n",
    "n_layers = 2"
   ]
  },
  {
   "cell_type": "code",
   "execution_count": 8,
   "metadata": {},
   "outputs": [],
   "source": [
    "local_predictor = LocalPredictorFullSearch(num_locs, loc_embedding_dim, num_time, time_embedding_dim, hidden_dim, latent_dim, n_layers).cuda(1)"
   ]
  },
  {
   "cell_type": "code",
   "execution_count": 9,
   "metadata": {},
   "outputs": [],
   "source": [
    "optimizer = torch.optim.RMSprop(local_predictor.parameters(), lr=1e-3)\n",
    "optimizer_scheduler = torch.optim.lr_scheduler.StepLR(optimizer, step_size=2, gamma=0.5)"
   ]
  },
  {
   "cell_type": "code",
   "execution_count": 10,
   "metadata": {},
   "outputs": [],
   "source": [
    "dT = 4"
   ]
  },
  {
   "cell_type": "code",
   "execution_count": 11,
   "metadata": {},
   "outputs": [],
   "source": [
    "training_loss = dict({})\n",
    "validation_loss = dict({})"
   ]
  },
  {
   "cell_type": "code",
   "execution_count": 12,
   "metadata": {
    "scrolled": true
   },
   "outputs": [
    {
     "name": "stdout",
     "output_type": "stream",
     "text": [
      "Epoch 01, avg_loss = 2.6300\n",
      "Epoch 02, avg_loss = 1.8045\n",
      "Epoch 03, avg_loss = 1.6030\n",
      "Epoch 04, avg_loss = 1.5324\n",
      "Epoch 05, avg_loss = 1.4776\n",
      "Validation Loss = 1.5107\n",
      "Epoch 06, avg_loss = 1.4425\n",
      "Epoch 07, avg_loss = 1.4300\n",
      "Epoch 08, avg_loss = 1.4193\n",
      "Epoch 09, avg_loss = 1.4139\n",
      "Epoch 10, avg_loss = 1.3961\n",
      "Validation Loss = 1.4586\n",
      "Epoch 11, avg_loss = 1.3848\n",
      "Epoch 12, avg_loss = 1.3654\n",
      "Epoch 13, avg_loss = 1.3772\n",
      "Epoch 14, avg_loss = 1.3871\n",
      "Epoch 15, avg_loss = 1.3805\n",
      "Validation Loss = 1.4418\n",
      "Epoch 16, avg_loss = 1.3827\r"
     ]
    },
    {
     "ename": "KeyboardInterrupt",
     "evalue": "",
     "output_type": "error",
     "traceback": [
      "\u001b[0;31m---------------------------------------------------------------------------\u001b[0m",
      "\u001b[0;31mKeyboardInterrupt\u001b[0m                         Traceback (most recent call last)",
      "\u001b[0;32m<ipython-input-12-6e6a859a58df>\u001b[0m in \u001b[0;36m<module>\u001b[0;34m\u001b[0m\n\u001b[1;32m     15\u001b[0m         \u001b[0mx_loc_qry\u001b[0m \u001b[0;34m=\u001b[0m \u001b[0mdata_qry_train\u001b[0m\u001b[0;34m[\u001b[0m\u001b[0muid\u001b[0m\u001b[0;34m]\u001b[0m\u001b[0;34m[\u001b[0m\u001b[0;34m:\u001b[0m\u001b[0;34m,\u001b[0m \u001b[0mt\u001b[0m\u001b[0;34m:\u001b[0m \u001b[0mt\u001b[0m \u001b[0;34m+\u001b[0m \u001b[0mdT\u001b[0m\u001b[0;34m]\u001b[0m\u001b[0;34m\u001b[0m\u001b[0;34m\u001b[0m\u001b[0m\n\u001b[1;32m     16\u001b[0m         \u001b[0mx_t_qry\u001b[0m \u001b[0;34m=\u001b[0m \u001b[0mtorch\u001b[0m\u001b[0;34m.\u001b[0m\u001b[0mzeros_like\u001b[0m\u001b[0;34m(\u001b[0m\u001b[0mx_loc_qry\u001b[0m\u001b[0;34m)\u001b[0m \u001b[0;34m+\u001b[0m \u001b[0mt\u001b[0m\u001b[0;34m\u001b[0m\u001b[0;34m\u001b[0m\u001b[0m\n\u001b[0;32m---> 17\u001b[0;31m         \u001b[0my\u001b[0m \u001b[0;34m=\u001b[0m \u001b[0mdata_qry_train\u001b[0m\u001b[0;34m[\u001b[0m\u001b[0muid\u001b[0m\u001b[0;34m]\u001b[0m\u001b[0;34m[\u001b[0m\u001b[0;34m:\u001b[0m\u001b[0;34m,\u001b[0m \u001b[0mt\u001b[0m \u001b[0;34m+\u001b[0m \u001b[0;36m2\u001b[0m \u001b[0;34m*\u001b[0m \u001b[0mdT\u001b[0m \u001b[0;34m-\u001b[0m \u001b[0;36m1\u001b[0m\u001b[0;34m]\u001b[0m\u001b[0;34m\u001b[0m\u001b[0;34m\u001b[0m\u001b[0m\n\u001b[0m\u001b[1;32m     18\u001b[0m \u001b[0;34m\u001b[0m\u001b[0m\n\u001b[1;32m     19\u001b[0m         \u001b[0;32mif\u001b[0m \u001b[0muid\u001b[0m \u001b[0;32mnot\u001b[0m \u001b[0;32min\u001b[0m \u001b[0mdata_doc\u001b[0m\u001b[0;34m:\u001b[0m\u001b[0;34m\u001b[0m\u001b[0;34m\u001b[0m\u001b[0m\n",
      "\u001b[0;31mKeyboardInterrupt\u001b[0m: "
     ]
    }
   ],
   "source": [
    "batch_size = 128\n",
    "user_list_train = list(data_qry_train.keys())\n",
    "\n",
    "for epoch in range(1, 21):\n",
    "    optimizer.zero_grad()\n",
    "    optimizer_scheduler.step()\n",
    "    \n",
    "    random.shuffle(user_list_train)\n",
    "    \n",
    "    avg_loss = 0.0\n",
    "    cnt = 0\n",
    "    \n",
    "    for uid in user_list_train:\n",
    "        t = np.random.randint(T - 2 * dT + 1)\n",
    "        x_loc_qry = data_qry_train[uid][:, t: t + dT]\n",
    "        x_t_qry = torch.zeros_like(x_loc_qry) + t\n",
    "        y = data_qry_train[uid][:, t + 2 * dT - 1]\n",
    "        \n",
    "        if uid not in data_doc:\n",
    "            loss = local_predictor(x_loc_qry, x_t_qry, None, None, y)\n",
    "        else:\n",
    "            x_loc_doc = data_doc[uid][:, t: t + 2 * dT]\n",
    "            x_t_doc = torch.zeros_like(x_loc_doc) + t\n",
    "            loss = local_predictor(x_loc_qry, x_t_qry, x_loc_doc, x_t_doc, y)\n",
    "        \n",
    "        loss.backward()\n",
    "        cnt += data_qry_train[uid].shape[0]\n",
    "        avg_loss += loss.item()\n",
    "\n",
    "        if cnt % batch_size == 0:\n",
    "            optimizer.step()\n",
    "            optimizer.zero_grad()\n",
    "\n",
    "            print('Epoch {:02d}, avg_loss = {:.4f}'.format(epoch, avg_loss / cnt), end='\\r')\n",
    "    training_loss[epoch] = avg_loss / cnt\n",
    "    print('')\n",
    "    \n",
    "    if epoch % 5 == 0:\n",
    "        # testing\n",
    "        cnt = 0\n",
    "        avg_loss = 0.0\n",
    "\n",
    "        with torch.no_grad():\n",
    "            for uid in data_qry_test:\n",
    "                t = np.random.randint(T - 2 * dT + 1)\n",
    "                x_loc_qry = data_qry_test[uid][:, t: t + dT]\n",
    "                x_t_qry = torch.zeros_like(x_loc_qry) + t\n",
    "                y = data_qry_test[uid][:, t + 2 * dT - 1]\n",
    "\n",
    "                if uid not in data_doc:\n",
    "                    loss = local_predictor(x_loc_qry, x_t_qry, None, None, y)\n",
    "                else:\n",
    "                    x_loc_doc = data_doc[uid][:, max(0, t - dT): t + 3 * dT]\n",
    "                    x_t_doc = torch.zeros_like(x_loc_doc) + t\n",
    "                    loss = local_predictor(x_loc_qry, x_t_qry, x_loc_doc, x_t_doc, y)\n",
    "\n",
    "                cnt += data_qry_test[uid].shape[0]\n",
    "                avg_loss += loss.item()\n",
    "\n",
    "        print('Validation Loss = {:.4f}'.format(avg_loss / cnt))\n",
    "        validation_loss[epoch] = avg_loss / cnt"
   ]
  },
  {
   "cell_type": "code",
   "execution_count": null,
   "metadata": {},
   "outputs": [],
   "source": [
    "torch.save(local_predictor, './results_osaka/local_predictor_full_search.pytorch')"
   ]
  },
  {
   "cell_type": "code",
   "execution_count": null,
   "metadata": {},
   "outputs": [],
   "source": []
  },
  {
   "cell_type": "code",
   "execution_count": null,
   "metadata": {},
   "outputs": [],
   "source": []
  },
  {
   "cell_type": "code",
   "execution_count": null,
   "metadata": {},
   "outputs": [],
   "source": [
    "with open('./results_osaka/centralized_local_predictor_full_search_training_loss.pk', 'wb') as f:\n",
    "    pk.dump(training_loss, f)\n",
    "with open('./results_osaka/centralized_local_predictor_full_search_validation_loss.pk', 'wb') as f:\n",
    "    pk.dump(validation_loss, f)"
   ]
  },
  {
   "cell_type": "code",
   "execution_count": null,
   "metadata": {},
   "outputs": [],
   "source": []
  }
 ],
 "metadata": {
  "kernelspec": {
   "display_name": "Python 3",
   "language": "python",
   "name": "python3"
  },
  "language_info": {
   "codemirror_mode": {
    "name": "ipython",
    "version": 3
   },
   "file_extension": ".py",
   "mimetype": "text/x-python",
   "name": "python",
   "nbconvert_exporter": "python",
   "pygments_lexer": "ipython3",
   "version": "3.6.8"
  }
 },
 "nbformat": 4,
 "nbformat_minor": 2
}
