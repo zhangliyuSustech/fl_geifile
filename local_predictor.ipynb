{
 "cells": [
  {
   "cell_type": "code",
   "execution_count": 1,
   "metadata": {},
   "outputs": [],
   "source": [
    "import torch\n",
    "import torch.nn as nn\n",
    "import pickle as pk\n",
    "import numpy as np\n",
    "from model import LocalPredictor\n",
    "import random"
   ]
  },
  {
   "cell_type": "code",
   "execution_count": 2,
   "metadata": {
    "scrolled": true
   },
   "outputs": [
    {
     "name": "stdout",
     "output_type": "stream",
     "text": [
      "/data/fan/UsersInOsakaProcessed/20121001_interp.pk\n"
     ]
    },
    {
     "ename": "FileNotFoundError",
     "evalue": "[Errno 2] No such file or directory: '/data/fan/UsersInOsakaProcessed/20121001_interp.pk'",
     "output_type": "error",
     "traceback": [
      "\u001B[1;31m---------------------------------------------------------------------------\u001B[0m",
      "\u001B[1;31mFileNotFoundError\u001B[0m                         Traceback (most recent call last)",
      "Input \u001B[1;32mIn [2]\u001B[0m, in \u001B[0;36m<module>\u001B[1;34m\u001B[0m\n\u001B[0;32m      3\u001B[0m filename \u001B[38;5;241m=\u001B[39m \u001B[38;5;124m'\u001B[39m\u001B[38;5;124m/data/fan/UsersInOsakaProcessed/201210\u001B[39m\u001B[38;5;132;01m{:02d}\u001B[39;00m\u001B[38;5;124m_interp.pk\u001B[39m\u001B[38;5;124m'\u001B[39m\u001B[38;5;241m.\u001B[39mformat(d)\n\u001B[0;32m      4\u001B[0m \u001B[38;5;28mprint\u001B[39m(filename)\n\u001B[1;32m----> 5\u001B[0m \u001B[38;5;28;01mwith\u001B[39;00m \u001B[38;5;28;43mopen\u001B[39;49m\u001B[43m(\u001B[49m\u001B[43mfilename\u001B[49m\u001B[43m,\u001B[49m\u001B[43m \u001B[49m\u001B[38;5;124;43m'\u001B[39;49m\u001B[38;5;124;43mrb\u001B[39;49m\u001B[38;5;124;43m'\u001B[39;49m\u001B[43m)\u001B[49m \u001B[38;5;28;01mas\u001B[39;00m f:\n\u001B[0;32m      6\u001B[0m     data[d] \u001B[38;5;241m=\u001B[39m pk\u001B[38;5;241m.\u001B[39mload(f)\n",
      "\u001B[1;31mFileNotFoundError\u001B[0m: [Errno 2] No such file or directory: '/data/fan/UsersInOsakaProcessed/20121001_interp.pk'"
     ]
    }
   ],
   "source": [
    "data = dict({})\n",
    "for d in range(1, 29):\n",
    "    filename = '/data/fan/UsersInOsakaProcessed/201210{:02d}_interp.pk'.format(d)\n",
    "    print(filename)\n",
    "    with open(filename, 'rb') as f:\n",
    "        data[d] = pk.load(f)"
   ]
  },
  {
   "cell_type": "code",
   "execution_count": null,
   "metadata": {},
   "outputs": [],
   "source": [
    "uid_sets = dict({})\n",
    "for d in data:\n",
    "    uid_sets[d] = set(list(data[d].keys()))"
   ]
  },
  {
   "cell_type": "code",
   "execution_count": null,
   "metadata": {},
   "outputs": [],
   "source": [
    "uid_doc_set = set([])\n",
    "for d in range(1, 15):\n",
    "    uid_doc_set = uid_doc_set | uid_sets[d]"
   ]
  },
  {
   "cell_type": "code",
   "execution_count": null,
   "metadata": {},
   "outputs": [],
   "source": [
    "data_doc = dict({})\n",
    "data_qry_train = dict({})\n",
    "data_qry_test = dict({})\n",
    "\n",
    "for d in range(1, 15):\n",
    "    for uid in data[d]:\n",
    "        if uid not in data_doc:\n",
    "            data_doc[uid] = [data[d][uid]]\n",
    "        else:\n",
    "            data_doc[uid].append(data[d][uid])\n",
    "\n",
    "for d in range(15, 22):\n",
    "    for uid in data[d]:\n",
    "        if uid not in data_qry_train:\n",
    "            data_qry_train[uid] = [data[d][uid]]\n",
    "        else:\n",
    "            data_qry_train[uid].append(data[d][uid])\n",
    "            \n",
    "for d in range(22, 29):\n",
    "    for uid in data[d]:\n",
    "        if uid not in data_qry_test:\n",
    "            data_qry_test[uid] = [data[d][uid]]\n",
    "        else:\n",
    "            data_qry_test[uid].append(data[d][uid])"
   ]
  },
  {
   "cell_type": "code",
   "execution_count": null,
   "metadata": {},
   "outputs": [],
   "source": [
    "for uid in data_doc:\n",
    "    data_doc[uid] = torch.LongTensor(data_doc[uid]).cuda(0)\n",
    "\n",
    "for uid in data_qry_train:\n",
    "    data_qry_train[uid] = torch.LongTensor(data_qry_train[uid]).cuda(0)\n",
    "    \n",
    "for uid in data_qry_test:\n",
    "    data_qry_test[uid] = torch.LongTensor(data_qry_test[uid]).cuda(0)"
   ]
  },
  {
   "cell_type": "code",
   "execution_count": null,
   "metadata": {},
   "outputs": [],
   "source": [
    "num_locs = 1600\n",
    "loc_embedding_dim = 128\n",
    "T = 96\n",
    "num_time = T\n",
    "time_embedding_dim = 32\n",
    "hidden_dim = 256\n",
    "latent_dim = 256\n",
    "n_layers = 2"
   ]
  },
  {
   "cell_type": "code",
   "execution_count": null,
   "metadata": {},
   "outputs": [],
   "source": [
    "local_predictor = LocalPredictor(num_locs, loc_embedding_dim, num_time, time_embedding_dim, hidden_dim, latent_dim, n_layers).cuda(0)"
   ]
  },
  {
   "cell_type": "code",
   "execution_count": null,
   "metadata": {},
   "outputs": [],
   "source": [
    "optimizer = torch.optim.RMSprop(local_predictor.parameters(), lr=1e-3)\n",
    "optimizer_scheduler = torch.optim.lr_scheduler.StepLR(optimizer, step_size=2, gamma=0.8)"
   ]
  },
  {
   "cell_type": "code",
   "execution_count": null,
   "metadata": {},
   "outputs": [],
   "source": [
    "dT = 4"
   ]
  },
  {
   "cell_type": "code",
   "execution_count": null,
   "metadata": {},
   "outputs": [],
   "source": [
    "training_loss = dict({})\n",
    "validation_loss = dict({})"
   ]
  },
  {
   "cell_type": "code",
   "execution_count": null,
   "metadata": {
    "scrolled": true
   },
   "outputs": [],
   "source": [
    "batch_size = 128\n",
    "user_list_train = list(data_qry_train.keys())\n",
    "\n",
    "# for perc in range(0, 9)\n",
    "for epoch in range(1, 21):\n",
    "    optimizer.zero_grad()\n",
    "    optimizer_scheduler.step()\n",
    "    \n",
    "    random.shuffle(user_list_train)\n",
    "    \n",
    "    avg_loss = 0.0\n",
    "    cnt = 0\n",
    "    \n",
    "    for uid in user_list_train:\n",
    "        t = np.random.randint(T - 2 * dT + 1)\n",
    "        x_loc_qry = data_qry_train[uid][:, t: t + dT]\n",
    "        x_t_qry = torch.zeros_like(x_loc_qry) + t\n",
    "        y = data_qry_train[uid][:, t + 2 * dT - 1]\n",
    "        \n",
    "        if uid not in data_doc:\n",
    "            loss = local_predictor(x_loc_qry, x_t_qry, None, None, y)\n",
    "        else:\n",
    "            x_loc_doc = data_doc[uid][:, t: t + 2 * dT]\n",
    "            x_t_doc = torch.zeros_like(x_loc_doc) + t\n",
    "            loss = local_predictor(x_loc_qry, x_t_qry, x_loc_doc, x_t_doc, y)\n",
    "        \n",
    "        loss.backward()\n",
    "        cnt += data_qry_train[uid].shape[0]\n",
    "        avg_loss += loss.item()\n",
    "\n",
    "        if cnt % batch_size == 0:\n",
    "            optimizer.step()\n",
    "            optimizer.zero_grad()\n",
    "\n",
    "            print('Epoch {:02d}, avg_loss = {:.4f}'.format(epoch, avg_loss / cnt), end='\\r')\n",
    "    training_loss[epoch] = avg_loss / cnt\n",
    "    print('')\n",
    "    \n",
    "    if epoch % 5 == 0:\n",
    "        # testing\n",
    "        cnt = 0\n",
    "        avg_loss = 0.0\n",
    "\n",
    "        with torch.no_grad():\n",
    "            for uid in data_qry_test:\n",
    "                t = np.random.randint(T - 2 * dT + 1)\n",
    "                x_loc_qry = data_qry_test[uid][:, t: t + dT]\n",
    "                x_t_qry = torch.zeros_like(x_loc_qry) + t\n",
    "                y = data_qry_test[uid][:, t + 2 * dT - 1]\n",
    "\n",
    "                if uid not in data_doc:\n",
    "                    loss = local_predictor(x_loc_qry, x_t_qry, None, None, y)\n",
    "                else:\n",
    "                    x_loc_doc = data_doc[uid][:, t: t + 2 * dT]\n",
    "                    x_t_doc = torch.zeros_like(x_loc_doc) + t\n",
    "                    loss = local_predictor(x_loc_qry, x_t_qry, x_loc_doc, x_t_doc, y)\n",
    "\n",
    "                cnt += data_qry_test[uid].shape[0]\n",
    "                avg_loss += loss.item()\n",
    "\n",
    "        print('Validation Loss = {:.4f}'.format(avg_loss / cnt))\n",
    "        validation_loss[epoch] = avg_loss / cnt"
   ]
  },
  {
   "cell_type": "code",
   "execution_count": null,
   "metadata": {},
   "outputs": [],
   "source": [
    "torch.save(local_predictor, './results_osaka/local_predictor.pytorch')"
   ]
  },
  {
   "cell_type": "code",
   "execution_count": null,
   "metadata": {},
   "outputs": [],
   "source": []
  },
  {
   "cell_type": "code",
   "execution_count": null,
   "metadata": {},
   "outputs": [],
   "source": []
  },
  {
   "cell_type": "code",
   "execution_count": null,
   "metadata": {},
   "outputs": [],
   "source": [
    "with open('./results_osaka/centralized_local_predictor_training_loss.pk', 'wb') as f:\n",
    "    pk.dump(training_loss, f)\n",
    "with open('./results_osaka/centralized_local_predictor_validation_loss.pk', 'wb') as f:\n",
    "    pk.dump(validation_loss, f)"
   ]
  },
  {
   "cell_type": "code",
   "execution_count": null,
   "metadata": {},
   "outputs": [],
   "source": []
  }
 ],
 "metadata": {
  "kernelspec": {
   "display_name": "Python 3",
   "language": "python",
   "name": "python3"
  },
  "language_info": {
   "codemirror_mode": {
    "name": "ipython",
    "version": 3
   },
   "file_extension": ".py",
   "mimetype": "text/x-python",
   "name": "python",
   "nbconvert_exporter": "python",
   "pygments_lexer": "ipython3",
   "version": "3.7.5"
  }
 },
 "nbformat": 4,
 "nbformat_minor": 2
}