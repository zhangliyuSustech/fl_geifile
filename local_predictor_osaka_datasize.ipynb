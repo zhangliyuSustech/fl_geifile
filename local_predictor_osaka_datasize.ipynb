{
 "cells": [
  {
   "cell_type": "code",
   "execution_count": 1,
   "metadata": {},
   "outputs": [],
   "source": [
    "import torch\n",
    "import torch.nn as nn\n",
    "import pickle as pk\n",
    "import numpy as np\n",
    "from model import LocalPredictor\n",
    "import random"
   ]
  },
  {
   "cell_type": "code",
   "execution_count": 2,
   "metadata": {
    "scrolled": true
   },
   "outputs": [
    {
     "name": "stdout",
     "output_type": "stream",
     "text": [
      "/data/fan/UsersInOsakaProcessed/20121001_interp.pk\n",
      "/data/fan/UsersInOsakaProcessed/20121002_interp.pk\n",
      "/data/fan/UsersInOsakaProcessed/20121003_interp.pk\n",
      "/data/fan/UsersInOsakaProcessed/20121004_interp.pk\n",
      "/data/fan/UsersInOsakaProcessed/20121005_interp.pk\n",
      "/data/fan/UsersInOsakaProcessed/20121006_interp.pk\n",
      "/data/fan/UsersInOsakaProcessed/20121007_interp.pk\n",
      "/data/fan/UsersInOsakaProcessed/20121008_interp.pk\n",
      "/data/fan/UsersInOsakaProcessed/20121009_interp.pk\n",
      "/data/fan/UsersInOsakaProcessed/20121010_interp.pk\n",
      "/data/fan/UsersInOsakaProcessed/20121011_interp.pk\n",
      "/data/fan/UsersInOsakaProcessed/20121012_interp.pk\n",
      "/data/fan/UsersInOsakaProcessed/20121013_interp.pk\n",
      "/data/fan/UsersInOsakaProcessed/20121014_interp.pk\n",
      "/data/fan/UsersInOsakaProcessed/20121015_interp.pk\n",
      "/data/fan/UsersInOsakaProcessed/20121016_interp.pk\n",
      "/data/fan/UsersInOsakaProcessed/20121017_interp.pk\n",
      "/data/fan/UsersInOsakaProcessed/20121018_interp.pk\n",
      "/data/fan/UsersInOsakaProcessed/20121019_interp.pk\n",
      "/data/fan/UsersInOsakaProcessed/20121020_interp.pk\n",
      "/data/fan/UsersInOsakaProcessed/20121021_interp.pk\n",
      "/data/fan/UsersInOsakaProcessed/20121022_interp.pk\n",
      "/data/fan/UsersInOsakaProcessed/20121023_interp.pk\n",
      "/data/fan/UsersInOsakaProcessed/20121024_interp.pk\n",
      "/data/fan/UsersInOsakaProcessed/20121025_interp.pk\n",
      "/data/fan/UsersInOsakaProcessed/20121026_interp.pk\n",
      "/data/fan/UsersInOsakaProcessed/20121027_interp.pk\n",
      "/data/fan/UsersInOsakaProcessed/20121028_interp.pk\n"
     ]
    }
   ],
   "source": [
    "data = dict({})\n",
    "for d in range(1, 29):\n",
    "    filename = '/data/fan/UsersInOsakaProcessed/201210{:02d}_interp.pk'.format(d)\n",
    "    print(filename)\n",
    "    with open(filename, 'rb') as f:\n",
    "        data[d] = pk.load(f)"
   ]
  },
  {
   "cell_type": "code",
   "execution_count": 3,
   "metadata": {},
   "outputs": [],
   "source": [
    "uid_sets = dict({})\n",
    "for d in data:\n",
    "    uid_sets[d] = set(list(data[d].keys()))"
   ]
  },
  {
   "cell_type": "code",
   "execution_count": 4,
   "metadata": {},
   "outputs": [],
   "source": [
    "uid_doc_set = set([])\n",
    "for d in range(1, 15):\n",
    "    uid_doc_set = uid_doc_set | uid_sets[d]"
   ]
  },
  {
   "cell_type": "code",
   "execution_count": 5,
   "metadata": {},
   "outputs": [],
   "source": [
    "data_doc = dict({})\n",
    "data_qry_train = dict({})\n",
    "data_qry_test = dict({})\n",
    "\n",
    "for d in range(1, 15):\n",
    "    for uid in data[d]:\n",
    "        if uid not in data_doc:\n",
    "            data_doc[uid] = [data[d][uid]]\n",
    "        else:\n",
    "            data_doc[uid].append(data[d][uid])\n",
    "\n",
    "for d in range(15, 22):\n",
    "    for uid in data[d]:\n",
    "        if uid not in data_qry_train:\n",
    "            data_qry_train[uid] = [data[d][uid]]\n",
    "        else:\n",
    "            data_qry_train[uid].append(data[d][uid])\n",
    "            \n",
    "for d in range(22, 29):\n",
    "    for uid in data[d]:\n",
    "        if uid not in data_qry_test:\n",
    "            data_qry_test[uid] = [data[d][uid]]\n",
    "        else:\n",
    "            data_qry_test[uid].append(data[d][uid])"
   ]
  },
  {
   "cell_type": "code",
   "execution_count": 6,
   "metadata": {},
   "outputs": [],
   "source": [
    "for uid in data_doc:\n",
    "    data_doc[uid] = torch.LongTensor(data_doc[uid]).cuda(1)\n",
    "\n",
    "for uid in data_qry_train:\n",
    "    data_qry_train[uid] = torch.LongTensor(data_qry_train[uid]).cuda(1)\n",
    "    \n",
    "for uid in data_qry_test:\n",
    "    data_qry_test[uid] = torch.LongTensor(data_qry_test[uid]).cuda(1)"
   ]
  },
  {
   "cell_type": "code",
   "execution_count": 18,
   "metadata": {},
   "outputs": [],
   "source": [
    "num_locs = 1600\n",
    "loc_embedding_dim = 128\n",
    "T = 96\n",
    "num_time = T\n",
    "time_embedding_dim = 32\n",
    "hidden_dim = 256\n",
    "latent_dim = 256\n",
    "n_layers = 2"
   ]
  },
  {
   "cell_type": "code",
   "execution_count": 19,
   "metadata": {},
   "outputs": [],
   "source": [
    "dT = 4"
   ]
  },
  {
   "cell_type": "code",
   "execution_count": 20,
   "metadata": {},
   "outputs": [],
   "source": [
    "training_loss = dict({})\n",
    "validation_loss = dict({})"
   ]
  },
  {
   "cell_type": "code",
   "execution_count": 31,
   "metadata": {
    "scrolled": true
   },
   "outputs": [
    {
     "name": "stdout",
     "output_type": "stream",
     "text": [
      "\n",
      "Percentage  1\n",
      "Training Loss = 7.2222\n",
      "Validation Loss = 6.9738\n",
      "Training Loss = 6.2548\n",
      "Validation Loss = 6.6086\n",
      "Training Loss = 5.4910\n",
      "Validation Loss = 6.2876\n",
      "Training Loss = 4.6057\n",
      "Validation Loss = 5.9137\n",
      "Training Loss = 3.8324\n",
      "Validation Loss = 5.6958\n",
      "Training Loss = 3.4515\n",
      "Validation Loss = 5.3949\n",
      "Training Loss = 3.1160\n",
      "Validation Loss = 5.2802\n",
      "Training Loss = 2.8846\n",
      "Validation Loss = 5.0927\n",
      "Training Loss = 2.7535\n",
      "Validation Loss = 4.9916\n",
      "Training Loss = 2.6819\n",
      "Validation Loss = 4.9063\n",
      "Training Loss = 2.4553\n",
      "Validation Loss = 4.8356\n",
      "Training Loss = 2.3888\n",
      "Validation Loss = 4.7593\n",
      "Training Loss = 2.3865\n",
      "Validation Loss = 4.7338\n",
      "Training Loss = 2.1370\n",
      "Validation Loss = 4.7111\n",
      "Training Loss = 2.1458\n",
      "Validation Loss = 4.6682\n",
      "Training Loss = 2.1853\n",
      "Validation Loss = 4.6218\n",
      "Training Loss = 2.1030\n",
      "Validation Loss = 4.5701\n",
      "Training Loss = 2.0235\n",
      "Validation Loss = 4.5573\n",
      "Training Loss = 2.0180\n",
      "Validation Loss = 4.5087\n",
      "Training Loss = 1.9688\n",
      "Validation Loss = 4.4657\n",
      "Training Loss = 1.9077\n",
      "Validation Loss = 4.4427\n",
      "Training Loss = 2.0779\n",
      "Validation Loss = 4.3898\n",
      "Training Loss = 1.8911\n",
      "Validation Loss = 4.3914\n",
      "Training Loss = 1.8580\n",
      "Validation Loss = 4.3948\n",
      "Training Loss = 2.0596\n",
      "Validation Loss = 4.3801\n",
      "Training Loss = 1.9251\n",
      "Validation Loss = 4.3638\n",
      "Training Loss = 1.8154\n",
      "Validation Loss = 4.3197\n",
      "Training Loss = 1.8137\n",
      "Validation Loss = 4.3106\n",
      "Training Loss = 1.8028\n",
      "Validation Loss = 4.2704\n",
      "Training Loss = 1.8358\n",
      "Validation Loss = 4.2763\n",
      "Training Loss = 1.9023\n",
      "Validation Loss = 4.2920\n",
      "Training Loss = 1.7737\n",
      "Validation Loss = 4.2946\n",
      "Training Loss = 1.7551\n",
      "Validation Loss = 4.2693\n",
      "Training Loss = 1.7684\n",
      "Validation Loss = 4.2711\n",
      "Training Loss = 1.7067\n",
      "Validation Loss = 4.2689\n",
      "Training Loss = 1.6045\n",
      "Validation Loss = 4.2757\n",
      "Training Loss = 1.5767\n"
     ]
    },
    {
     "ename": "KeyboardInterrupt",
     "evalue": "",
     "output_type": "error",
     "traceback": [
      "\u001b[0;31m---------------------------------------------------------------------------\u001b[0m",
      "\u001b[0;31mKeyboardInterrupt\u001b[0m                         Traceback (most recent call last)",
      "\u001b[0;32m<ipython-input-31-29d2b7fceed3>\u001b[0m in \u001b[0;36m<module>\u001b[0;34m\u001b[0m\n\u001b[1;32m     67\u001b[0m                     \u001b[0;32mfor\u001b[0m \u001b[0mj\u001b[0m \u001b[0;32min\u001b[0m \u001b[0mrange\u001b[0m\u001b[0;34m(\u001b[0m\u001b[0;36m0\u001b[0m\u001b[0;34m,\u001b[0m \u001b[0;36m1\u001b[0m\u001b[0;34m)\u001b[0m\u001b[0;34m:\u001b[0m\u001b[0;34m\u001b[0m\u001b[0;34m\u001b[0m\u001b[0m\n\u001b[1;32m     68\u001b[0m                         \u001b[0;32mif\u001b[0m \u001b[0mt\u001b[0m \u001b[0;34m+\u001b[0m \u001b[0mj\u001b[0m \u001b[0;34m>=\u001b[0m \u001b[0;36m0\u001b[0m \u001b[0;32mand\u001b[0m \u001b[0mt\u001b[0m \u001b[0;34m+\u001b[0m \u001b[0;36m2\u001b[0m \u001b[0;34m*\u001b[0m \u001b[0mdT\u001b[0m \u001b[0;34m+\u001b[0m \u001b[0mj\u001b[0m \u001b[0;34m<=\u001b[0m \u001b[0mT\u001b[0m\u001b[0;34m:\u001b[0m\u001b[0;34m\u001b[0m\u001b[0;34m\u001b[0m\u001b[0m\n\u001b[0;32m---> 69\u001b[0;31m                             \u001b[0mtmp\u001b[0m \u001b[0;34m=\u001b[0m \u001b[0mdata_doc\u001b[0m\u001b[0;34m[\u001b[0m\u001b[0muid\u001b[0m\u001b[0;34m]\u001b[0m\u001b[0;34m[\u001b[0m\u001b[0;34m:\u001b[0m\u001b[0;34m,\u001b[0m \u001b[0mt\u001b[0m \u001b[0;34m+\u001b[0m \u001b[0mj\u001b[0m\u001b[0;34m:\u001b[0m \u001b[0mt\u001b[0m \u001b[0;34m+\u001b[0m \u001b[0;36m2\u001b[0m \u001b[0;34m*\u001b[0m \u001b[0mdT\u001b[0m \u001b[0;34m+\u001b[0m \u001b[0mj\u001b[0m\u001b[0;34m]\u001b[0m\u001b[0;34m\u001b[0m\u001b[0;34m\u001b[0m\u001b[0m\n\u001b[0m\u001b[1;32m     70\u001b[0m                             \u001b[0mx_loc_doc\u001b[0m\u001b[0;34m.\u001b[0m\u001b[0mappend\u001b[0m\u001b[0;34m(\u001b[0m\u001b[0mtmp\u001b[0m\u001b[0;34m)\u001b[0m\u001b[0;34m\u001b[0m\u001b[0;34m\u001b[0m\u001b[0m\n\u001b[1;32m     71\u001b[0m                             \u001b[0mx_t_doc\u001b[0m\u001b[0;34m.\u001b[0m\u001b[0mappend\u001b[0m\u001b[0;34m(\u001b[0m\u001b[0mtorch\u001b[0m\u001b[0;34m.\u001b[0m\u001b[0mzeros_like\u001b[0m\u001b[0;34m(\u001b[0m\u001b[0mtmp\u001b[0m\u001b[0;34m)\u001b[0m \u001b[0;34m+\u001b[0m \u001b[0mt\u001b[0m \u001b[0;34m+\u001b[0m \u001b[0mj\u001b[0m\u001b[0;34m)\u001b[0m\u001b[0;34m\u001b[0m\u001b[0;34m\u001b[0m\u001b[0m\n",
      "\u001b[0;31mKeyboardInterrupt\u001b[0m: "
     ]
    }
   ],
   "source": [
    "batch_size = 128\n",
    "user_list_train = list(data_qry_train.keys())\n",
    "\n",
    "for perc in [1]:\n",
    "    \n",
    "    print('')\n",
    "    print('Percentage ', perc)\n",
    "    \n",
    "    local_predictor = LocalPredictor(num_locs, loc_embedding_dim, num_time, time_embedding_dim, hidden_dim, latent_dim, n_layers).cuda(1)\n",
    "\n",
    "    optimizer = torch.optim.RMSprop(local_predictor.parameters(), lr=1e-3)\n",
    "    \n",
    "    user_list_train_subset = random.sample(user_list_train, int(len(user_list_train) * perc * 0.01))\n",
    "\n",
    "    for epoch in range(1, 41):\n",
    "        optimizer.zero_grad()\n",
    "\n",
    "        random.shuffle(user_list_train_subset)\n",
    "\n",
    "        avg_loss = 0.0\n",
    "        cnt = 0\n",
    "\n",
    "        for uid in user_list_train_subset:\n",
    "            t = np.random.randint(T - 2 * dT + 1)\n",
    "            x_loc_qry = data_qry_train[uid][:, t: t + dT]\n",
    "            x_t_qry = torch.zeros_like(x_loc_qry) + t\n",
    "            y = data_qry_train[uid][:, t + 2 * dT - 1]\n",
    "\n",
    "            if uid not in data_doc:\n",
    "                loss = local_predictor(x_loc_qry, x_t_qry, None, None, y)\n",
    "            else:\n",
    "                x_loc_doc = []\n",
    "                x_t_doc = []\n",
    "                for j in range(0, 1):\n",
    "                    if t + j >= 0 and t + 2 * dT + j <= T:\n",
    "                        tmp = data_doc[uid][:, t + j: t + 2 * dT + j]\n",
    "                        x_loc_doc.append(tmp)\n",
    "                        x_t_doc.append(torch.zeros_like(tmp) + t + j)\n",
    "                loss = local_predictor(x_loc_qry, x_t_qry, torch.cat(x_loc_doc, dim=0), torch.cat(x_t_doc, dim=0), y)\n",
    "\n",
    "            loss.backward()\n",
    "            cnt += data_qry_train[uid].shape[0]\n",
    "            avg_loss += loss.item()\n",
    "\n",
    "            if cnt % batch_size == 0:\n",
    "                optimizer.step()\n",
    "                optimizer.zero_grad()\n",
    "        \n",
    "        print('Training Loss = {:.4f}'.format(avg_loss / cnt))\n",
    "\n",
    "        # testing\n",
    "        cnt = 0\n",
    "        avg_loss = 0.0\n",
    "\n",
    "        with torch.no_grad():\n",
    "            for uid in data_qry_test:\n",
    "                t = np.random.randint(T - 2 * dT + 1)\n",
    "                x_loc_qry = data_qry_test[uid][:, t: t + dT]\n",
    "                x_t_qry = torch.zeros_like(x_loc_qry) + t\n",
    "                y = data_qry_test[uid][:, t + 2 * dT - 1]\n",
    "\n",
    "                if uid not in data_doc:\n",
    "                    loss = local_predictor(x_loc_qry, x_t_qry, None, None, y)\n",
    "                else:\n",
    "                    x_loc_doc = []\n",
    "                    x_t_doc = []\n",
    "                    for j in range(0, 1):\n",
    "                        if t + j >= 0 and t + 2 * dT + j <= T:\n",
    "                            tmp = data_doc[uid][:, t + j: t + 2 * dT + j]\n",
    "                            x_loc_doc.append(tmp)\n",
    "                            x_t_doc.append(torch.zeros_like(tmp) + t + j)\n",
    "                    loss = local_predictor(x_loc_qry, x_t_qry, torch.cat(x_loc_doc, dim=0), torch.cat(x_t_doc, dim=0), y)\n",
    "\n",
    "                cnt += data_qry_test[uid].shape[0]\n",
    "                avg_loss += loss.item()\n",
    "\n",
    "        print('Validation Loss = {:.4f}'.format(avg_loss / cnt))\n",
    "        \n",
    "        if (perc in validation_loss) and validation_loss[perc] > avg_loss / cnt:\n",
    "            validation_loss[perc] = avg_loss / cnt"
   ]
  },
  {
   "cell_type": "code",
   "execution_count": 25,
   "metadata": {},
   "outputs": [],
   "source": [
    "import matplotlib.pyplot as plt"
   ]
  },
  {
   "cell_type": "code",
   "execution_count": 34,
   "metadata": {},
   "outputs": [],
   "source": [
    "valid_loss = [4.2689, 2.3209, 1.9107, 1.4396, 1.3933]"
   ]
  },
  {
   "cell_type": "code",
   "execution_count": 35,
   "metadata": {},
   "outputs": [
    {
     "data": {
      "text/plain": [
       "Text(0.5, 1.0, 'Osaka')"
      ]
     },
     "execution_count": 35,
     "metadata": {},
     "output_type": "execute_result"
    },
    {
     "data": {
      "image/png": "[encoded data removed]",
      "text/plain": [
       "<Figure size 288x216 with 1 Axes>"
      ]
     },
     "metadata": {
      "needs_background": "light"
     },
     "output_type": "display_data"
    }
   ],
   "source": [
    "plt.figure(figsize=(4, 3))\n",
    "plt.plot(valid_loss)\n",
    "plt.xticks(np.linspace(0, 4, 5), labels=['1%', '%5', '10%', '50%', '100%'])\n",
    "plt.xlabel('Percentage of training set')\n",
    "plt.ylabel('CE loss')\n",
    "plt.title('Osaka')"
   ]
  },
  {
   "cell_type": "code",
   "execution_count": null,
   "metadata": {},
   "outputs": [],
   "source": []
  }
 ],
 "metadata": {
  "kernelspec": {
   "display_name": "Python 3",
   "language": "python",
   "name": "python3"
  }
 },
 "nbformat": 4,
 "nbformat_minor": 2
}
