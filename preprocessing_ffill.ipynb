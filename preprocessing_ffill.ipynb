{
 "cells": [
  {
   "cell_type": "code",
   "execution_count": 1,
   "metadata": {},
   "outputs": [],
   "source": [
    "import pickle as pk\n",
    "import numpy as np"
   ]
  },
  {
   "cell_type": "code",
   "execution_count": 3,
   "metadata": {},
   "outputs": [],
   "source": [
    "T = 96\n",
    "dT = 900"
   ]
  },
  {
   "cell_type": "code",
   "execution_count": 2,
   "metadata": {},
   "outputs": [],
   "source": [
    "with open('./anchor_points_tokyo.pk', 'rb') as f:\n",
    "    anchor_points = pk.load(f)"
   ]
  },
  {
   "cell_type": "code",
   "execution_count": 16,
   "metadata": {},
   "outputs": [
    {
     "name": "stdout",
     "output_type": "stream",
     "text": [
      "/data/fan/UsersInTokyoProcessed/20121001.pk\n",
      "/data/fan/UsersInTokyoProcessed/20121002.pk\n",
      "/data/fan/UsersInTokyoProcessed/20121003.pk\n",
      "/data/fan/UsersInTokyoProcessed/20121004.pk\n",
      "/data/fan/UsersInTokyoProcessed/20121005.pk\n",
      "/data/fan/UsersInTokyoProcessed/20121006.pk\n",
      "/data/fan/UsersInTokyoProcessed/20121007.pk\n",
      "/data/fan/UsersInTokyoProcessed/20121008.pk\n",
      "/data/fan/UsersInTokyoProcessed/20121009.pk\n",
      "/data/fan/UsersInTokyoProcessed/20121010.pk\n",
      "/data/fan/UsersInTokyoProcessed/20121011.pk\n",
      "/data/fan/UsersInTokyoProcessed/20121012.pk\n",
      "/data/fan/UsersInTokyoProcessed/20121013.pk\n",
      "/data/fan/UsersInTokyoProcessed/20121014.pk\n",
      "/data/fan/UsersInTokyoProcessed/20121015.pk\n",
      "/data/fan/UsersInTokyoProcessed/20121016.pk\n",
      "/data/fan/UsersInTokyoProcessed/20121017.pk\n",
      "/data/fan/UsersInTokyoProcessed/20121018.pk\n",
      "/data/fan/UsersInTokyoProcessed/20121019.pk\n",
      "/data/fan/UsersInTokyoProcessed/20121020.pk\n",
      "/data/fan/UsersInTokyoProcessed/20121021.pk\n",
      "/data/fan/UsersInTokyoProcessed/20121022.pk\n",
      "/data/fan/UsersInTokyoProcessed/20121023.pk\n",
      "/data/fan/UsersInTokyoProcessed/20121024.pk\n",
      "/data/fan/UsersInTokyoProcessed/20121025.pk\n",
      "/data/fan/UsersInTokyoProcessed/20121026.pk\n",
      "/data/fan/UsersInTokyoProcessed/20121027.pk\n",
      "/data/fan/UsersInTokyoProcessed/20121028.pk\n",
      "/data/fan/UsersInTokyoProcessed/20121029.pk\n",
      "/data/fan/UsersInTokyoProcessed/20121030.pk\n"
     ]
    }
   ],
   "source": [
    "for d in range(1, 31):\n",
    "    \n",
    "    filename = '/data/fan/UsersInTokyoProcessed/201210{:02d}.pk'.format(d)\n",
    "\n",
    "    print(filename)\n",
    "    with open(filename, 'rb') as f:\n",
    "        data = pk.load(f)\n",
    "        \n",
    "    data_interp = dict({})\n",
    "\n",
    "    for uid in data:\n",
    "        \n",
    "        traj_len = len(data[uid])\n",
    "        \n",
    "        sample_indices = np.sort(np.random.choice(traj_len, max(1, int(traj_len * 0.1)), replace=False)).tolist()\n",
    "            \n",
    "        t_beg = int(data[uid][sample_indices[0]][0]) // dT\n",
    "        lat = data[uid][sample_indices[0]][1]\n",
    "        lon = data[uid][sample_indices[0]][2]\n",
    "        loc = anchor_points.query([[lat, lon]], return_distance=False)[0, 0]\n",
    "        data_interp[uid] = np.zeros(T, dtype=np.int) + loc\n",
    "\n",
    "        for i in range(1, len(sample_indices)):\n",
    "            t_beg = int(data[uid][sample_indices[i]][0]) // dT\n",
    "            lat = data[uid][sample_indices[i]][1]\n",
    "            lon = data[uid][sample_indices[i]][2]\n",
    "            loc = anchor_points.query([[lat, lon]], return_distance=False)[0, 0]\n",
    "            data_interp[uid][t_beg:] = loc\n",
    "\n",
    "    with open('/data/fan/UsersInTokyoProcessed/201210{:02d}_interp_samplingrate01.pk'.format(d), 'wb') as f:\n",
    "        pk.dump(data_interp, f)"
   ]
  },
  {
   "cell_type": "code",
   "execution_count": 17,
   "metadata": {},
   "outputs": [],
   "source": [
    "with open('./anchor_points_osaka.pk', 'rb') as f:\n",
    "    anchor_points = pk.load(f)"
   ]
  },
  {
   "cell_type": "code",
   "execution_count": 18,
   "metadata": {},
   "outputs": [
    {
     "name": "stdout",
     "output_type": "stream",
     "text": [
      "/data/fan/UsersInOsakaProcessed/20121001.pk\n",
      "/data/fan/UsersInOsakaProcessed/20121002.pk\n",
      "/data/fan/UsersInOsakaProcessed/20121003.pk\n",
      "/data/fan/UsersInOsakaProcessed/20121004.pk\n",
      "/data/fan/UsersInOsakaProcessed/20121005.pk\n",
      "/data/fan/UsersInOsakaProcessed/20121006.pk\n",
      "/data/fan/UsersInOsakaProcessed/20121007.pk\n",
      "/data/fan/UsersInOsakaProcessed/20121008.pk\n",
      "/data/fan/UsersInOsakaProcessed/20121009.pk\n",
      "/data/fan/UsersInOsakaProcessed/20121010.pk\n",
      "/data/fan/UsersInOsakaProcessed/20121011.pk\n",
      "/data/fan/UsersInOsakaProcessed/20121012.pk\n",
      "/data/fan/UsersInOsakaProcessed/20121013.pk\n",
      "/data/fan/UsersInOsakaProcessed/20121014.pk\n",
      "/data/fan/UsersInOsakaProcessed/20121015.pk\n",
      "/data/fan/UsersInOsakaProcessed/20121016.pk\n",
      "/data/fan/UsersInOsakaProcessed/20121017.pk\n",
      "/data/fan/UsersInOsakaProcessed/20121018.pk\n",
      "/data/fan/UsersInOsakaProcessed/20121019.pk\n",
      "/data/fan/UsersInOsakaProcessed/20121020.pk\n",
      "/data/fan/UsersInOsakaProcessed/20121021.pk\n",
      "/data/fan/UsersInOsakaProcessed/20121022.pk\n",
      "/data/fan/UsersInOsakaProcessed/20121023.pk\n",
      "/data/fan/UsersInOsakaProcessed/20121024.pk\n",
      "/data/fan/UsersInOsakaProcessed/20121025.pk\n",
      "/data/fan/UsersInOsakaProcessed/20121026.pk\n",
      "/data/fan/UsersInOsakaProcessed/20121027.pk\n",
      "/data/fan/UsersInOsakaProcessed/20121028.pk\n",
      "/data/fan/UsersInOsakaProcessed/20121029.pk\n",
      "/data/fan/UsersInOsakaProcessed/20121030.pk\n"
     ]
    }
   ],
   "source": [
    "for d in range(1, 31):\n",
    "    \n",
    "    filename = '/data/fan/UsersInOsakaProcessed/201210{:02d}.pk'.format(d)\n",
    "\n",
    "    print(filename)\n",
    "    with open(filename, 'rb') as f:\n",
    "        data = pk.load(f)\n",
    "        \n",
    "    data_interp = dict({})\n",
    "\n",
    "    for uid in data:\n",
    "        \n",
    "        traj_len = len(data[uid])\n",
    "        \n",
    "        sample_indices = np.sort(np.random.choice(traj_len, max(1, int(traj_len * 0.1)), replace=False)).tolist()\n",
    "            \n",
    "        t_beg = int(data[uid][sample_indices[0]][0]) // dT\n",
    "        lat = data[uid][sample_indices[0]][1]\n",
    "        lon = data[uid][sample_indices[0]][2]\n",
    "        loc = anchor_points.query([[lat, lon]], return_distance=False)[0, 0]\n",
    "        data_interp[uid] = np.zeros(T, dtype=np.int) + loc\n",
    "\n",
    "        for i in range(1, len(sample_indices)):\n",
    "            t_beg = int(data[uid][sample_indices[i]][0]) // dT\n",
    "            lat = data[uid][sample_indices[i]][1]\n",
    "            lon = data[uid][sample_indices[i]][2]\n",
    "            loc = anchor_points.query([[lat, lon]], return_distance=False)[0, 0]\n",
    "            data_interp[uid][t_beg:] = loc\n",
    "\n",
    "    with open('/data/fan/UsersInOsakaProcessed/201210{:02d}_interp_samplingrate01.pk'.format(d), 'wb') as f:\n",
    "        pk.dump(data_interp, f)"
   ]
  },
  {
   "cell_type": "code",
   "execution_count": null,
   "metadata": {},
   "outputs": [],
   "source": []
  }
 ],
 "metadata": {
  "kernelspec": {
   "display_name": "Python 3",
   "language": "python",
   "name": "python3"
  },
  "language_info": {
   "codemirror_mode": {
    "name": "ipython",
    "version": 3
   },
   "file_extension": ".py",
   "mimetype": "text/x-python",
   "name": "python",
   "nbconvert_exporter": "python",
   "pygments_lexer": "ipython3",
   "version": "3.7.5"
  }
 },
 "nbformat": 4,
 "nbformat_minor": 2
}
