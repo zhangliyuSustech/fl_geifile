{
 "cells": [
  {
   "cell_type": "code",
   "execution_count": 1,
   "metadata": {},
   "outputs": [],
   "source": [
    "import torch\n",
    "import torch.nn as nn\n",
    "from model import LocalPredictorFullSearch"
   ]
  },
  {
   "cell_type": "code",
   "execution_count": 2,
   "metadata": {},
   "outputs": [],
   "source": [
    "import os"
   ]
  },
  {
   "cell_type": "code",
   "execution_count": 3,
   "metadata": {},
   "outputs": [],
   "source": [
    "import pickle as pk"
   ]
  },
  {
   "cell_type": "code",
   "execution_count": 4,
   "metadata": {},
   "outputs": [],
   "source": [
    "import numpy as np"
   ]
  },
  {
   "cell_type": "code",
   "execution_count": 5,
   "metadata": {},
   "outputs": [],
   "source": [
    "local_predictor = torch.load('./results_tokyo/local_predictor_fl_scratch_noise001.pytorch').cuda(1)"
   ]
  },
  {
   "cell_type": "code",
   "execution_count": 6,
   "metadata": {},
   "outputs": [],
   "source": [
    "date_list = [(2012, m, d) for m in range(12, 13) for d in range(1, 32)] + [(2013, m, d) for m in range(1, 3) for d in range(1, 32)]"
   ]
  },
  {
   "cell_type": "code",
   "execution_count": 7,
   "metadata": {},
   "outputs": [],
   "source": [
    "T = 96\n",
    "dT = 4\n",
    "batch_size = 256"
   ]
  },
  {
   "cell_type": "code",
   "execution_count": 8,
   "metadata": {
    "scrolled": true
   },
   "outputs": [
    {
     "name": "stdout",
     "output_type": "stream",
     "text": [
      "/data/fan/UsersInTokyoProcessed/20121101_interp.pk\n",
      "/data/fan/UsersInTokyoProcessed/20121102_interp.pk\n",
      "/data/fan/UsersInTokyoProcessed/20121103_interp.pk\n",
      "/data/fan/UsersInTokyoProcessed/20121104_interp.pk\n",
      "/data/fan/UsersInTokyoProcessed/20121105_interp.pk\n",
      "/data/fan/UsersInTokyoProcessed/20121106_interp.pk\n",
      "/data/fan/UsersInTokyoProcessed/20121107_interp.pk\n",
      "/data/fan/UsersInTokyoProcessed/20121108_interp.pk\n",
      "/data/fan/UsersInTokyoProcessed/20121109_interp.pk\n",
      "/data/fan/UsersInTokyoProcessed/20121110_interp.pk\n",
      "/data/fan/UsersInTokyoProcessed/20121111_interp.pk\n",
      "/data/fan/UsersInTokyoProcessed/20121112_interp.pk\n",
      "/data/fan/UsersInTokyoProcessed/20121113_interp.pk\n",
      "/data/fan/UsersInTokyoProcessed/20121114_interp.pk\n",
      "/data/fan/UsersInTokyoProcessed/20121115_interp.pk\n",
      "/data/fan/UsersInTokyoProcessed/20121116_interp.pk\n",
      "/data/fan/UsersInTokyoProcessed/20121117_interp.pk\n",
      "/data/fan/UsersInTokyoProcessed/20121118_interp.pk\n",
      "/data/fan/UsersInTokyoProcessed/20121119_interp.pk\n",
      "/data/fan/UsersInTokyoProcessed/20121120_interp.pk\n",
      "/data/fan/UsersInTokyoProcessed/20121121_interp.pk\n",
      "/data/fan/UsersInTokyoProcessed/20121122_interp.pk\n",
      "/data/fan/UsersInTokyoProcessed/20121123_interp.pk\n",
      "/data/fan/UsersInTokyoProcessed/20121124_interp.pk\n",
      "/data/fan/UsersInTokyoProcessed/20121125_interp.pk\n",
      "/data/fan/UsersInTokyoProcessed/20121126_interp.pk\n",
      "/data/fan/UsersInTokyoProcessed/20121127_interp.pk\n",
      "/data/fan/UsersInTokyoProcessed/20121128_interp.pk\n"
     ]
    }
   ],
   "source": [
    "data = dict({})\n",
    "for m in range(11, 12):\n",
    "    for d in range(1, 29):\n",
    "        filename = '/data/fan/UsersInTokyoProcessed/2012{:02d}{:02d}_interp.pk'.format(m, d)\n",
    "        print(filename)\n",
    "        with open(filename, 'rb') as f:\n",
    "            data[(m, d)] = pk.load(f)"
   ]
  },
  {
   "cell_type": "code",
   "execution_count": 9,
   "metadata": {},
   "outputs": [],
   "source": [
    "data_doc = dict({})\n",
    "\n",
    "for date in data:\n",
    "    for uid in data[date]:\n",
    "        if uid not in data_doc:\n",
    "            data_doc[uid] = [data[date][uid]]\n",
    "        else:\n",
    "            data_doc[uid].append(data[date][uid])"
   ]
  },
  {
   "cell_type": "code",
   "execution_count": 10,
   "metadata": {},
   "outputs": [],
   "source": [
    "for uid in data_doc:\n",
    "    data_doc[uid] = torch.LongTensor(data_doc[uid]).cuda(1)"
   ]
  },
  {
   "cell_type": "code",
   "execution_count": null,
   "metadata": {},
   "outputs": [],
   "source": []
  },
  {
   "cell_type": "code",
   "execution_count": null,
   "metadata": {},
   "outputs": [
    {
     "name": "stdout",
     "output_type": "stream",
     "text": [
      "/data/fan/UsersInTokyoProcessed/20121201_interp.pk\n"
     ]
    }
   ],
   "source": [
    "avg_loss_dict = dict({})\n",
    "\n",
    "for y, m, d in date_list:\n",
    "    filename = '/data/fan/UsersInTokyoProcessed/{:04d}{:02d}{:02d}_interp.pk'.format(y, m, d)\n",
    "    if not os.path.isfile(filename):\n",
    "        continue\n",
    "    print(filename)\n",
    "    \n",
    "    with open(filename, 'rb') as f:\n",
    "        avg_loss = 0.0\n",
    "        cnt_day = 0\n",
    "        data = pk.load(f)\n",
    "        for uid in data:\n",
    "            data[uid] = torch.LongTensor([data[uid]]).cuda(1)\n",
    "            \n",
    "        with torch.no_grad():\n",
    "            for t in range(T - 2 * dT):\n",
    "                cnt_time = 0\n",
    "                avg_loss_t = 0.0\n",
    "                \n",
    "                for uid in data:\n",
    "                    if np.random.ranf() < 0.05:\n",
    "                        cnt_day += 1\n",
    "                        cnt_time += 1\n",
    "                        data_x = data[uid][:, t: t + dT]\n",
    "                        data_t = torch.zeros_like(data_x) + t\n",
    "                        data_y = data[uid][:, t + 2 * dT - 1]\n",
    "                        if uid in data_doc:\n",
    "                            data_doc_x = data_doc[uid]\n",
    "                            data_doc_t = torch.zeros_like(data_doc_x) + t\n",
    "                            loss = local_predictor(data_x, data_t, data_doc_x, data_doc_t, data_y).item()\n",
    "                        else:\n",
    "                            loss = local_predictor(data_x, data_t, None, None, data_y).item()\n",
    "\n",
    "                        avg_loss += loss\n",
    "                        avg_loss_t += loss\n",
    "\n",
    "                avg_loss_t /= cnt_time\n",
    "                avg_loss_dict[(y, m, d, t)] = avg_loss_t\n",
    "                \n",
    "            avg_loss /= cnt_day\n",
    "            avg_loss_dict[(y, m, d)] = avg_loss\n",
    "            print('Evaluation: {:.4f}'.format(avg_loss))"
   ]
  },
  {
   "cell_type": "code",
   "execution_count": null,
   "metadata": {},
   "outputs": [],
   "source": [
    "with open('./results_tokyo/evaluation_local_nll.pk', 'wb') as f:\n",
    "    pk.dump(avg_loss_dict, f)"
   ]
  },
  {
   "cell_type": "code",
   "execution_count": null,
   "metadata": {},
   "outputs": [],
   "source": []
  }
 ],
 "metadata": {
  "kernelspec": {
   "display_name": "Python 3",
   "language": "python",
   "name": "python3"
  },
  "language_info": {
   "codemirror_mode": {
    "name": "ipython",
    "version": 3
   },
   "file_extension": ".py",
   "mimetype": "text/x-python",
   "name": "python",
   "nbconvert_exporter": "python",
   "pygments_lexer": "ipython3",
   "version": "3.6.8"
  }
 },
 "nbformat": 4,
 "nbformat_minor": 2
}
