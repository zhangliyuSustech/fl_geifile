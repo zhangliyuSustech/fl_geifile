{
 "cells": [
  {
   "cell_type": "code",
   "execution_count": 1,
   "metadata": {},
   "outputs": [],
   "source": [
    "import csv\n",
    "import os"
   ]
  },
  {
   "cell_type": "code",
   "execution_count": 2,
   "metadata": {},
   "outputs": [],
   "source": [
    "def filter_users_in_region(filename, lat_min, lat_max, lon_min, lon_max):\n",
    "    user_set = dict({})\n",
    "    with open(filename, 'r') as f:\n",
    "        for row in csv.reader(f):\n",
    "            uid_str = row[0]\n",
    "            lat_str = row[2]\n",
    "            lon_str = row[3]\n",
    "            uid = int(uid_str)\n",
    "            lat = float(lat_str)\n",
    "            lon = float(lon_str)\n",
    "            if lat > lat_min and lat < lat_max and lon > lon_min and lon < lon_max:\n",
    "                if uid not in user_set:\n",
    "                    user_set[uid] = 1\n",
    "                else:\n",
    "                    user_set[uid] += 1\n",
    "\n",
    "    return user_set"
   ]
  },
  {
   "cell_type": "code",
   "execution_count": 3,
   "metadata": {},
   "outputs": [],
   "source": [
    "def output_traj(full_path, out_folder, out_filename, user_set):\n",
    "    with open(full_path, 'r') as fin:\n",
    "        with open(os.path.join(out_folder, out_filename), 'w') as fout:\n",
    "            for row in csv.reader(fin):\n",
    "                uid_str = row[0]\n",
    "                time_str = row[1]\n",
    "                lat_str = row[2]\n",
    "                lon_str = row[3]\n",
    "                uid = int(uid_str)\n",
    "                if uid in user_set:\n",
    "                    if user_set[uid] > 5:\n",
    "                        fout.write('{},{},{},{}\\n'.format(uid_str, time_str, lat_str, lon_str))\n",
    "                    else:\n",
    "                        del user_set[uid]"
   ]
  },
  {
   "cell_type": "code",
   "execution_count": 8,
   "metadata": {},
   "outputs": [],
   "source": [
    "def filename_generator(folder_path):\n",
    "    filename_fmt = '2013{:02d}{:02d}.csv'\n",
    "    for m in range(1, 3):\n",
    "        for d in range(1, 32):\n",
    "            filename = filename_fmt.format(m, d)\n",
    "            full_path = os.path.join(folder_path, filename)\n",
    "            if os.path.isfile(full_path):\n",
    "                print('Reading {}'.format(full_path))\n",
    "                yield filename, full_path"
   ]
  },
  {
   "cell_type": "code",
   "execution_count": 9,
   "metadata": {},
   "outputs": [],
   "source": [
    "lat_min = 34.4416666667\n",
    "lat_max = 34.8416666667\n",
    "lon_min = 135.3 + 1e-10\n",
    "lon_max = 135.7 + 1e-10\n",
    "folder_path = '/data/public/zdc/2013/MOD_ATF_ITSMONAVI/2013/'"
   ]
  },
  {
   "cell_type": "code",
   "execution_count": 10,
   "metadata": {},
   "outputs": [
    {
     "name": "stdout",
     "output_type": "stream",
     "text": [
      "Reading /data/public/zdc/2013/MOD_ATF_ITSMONAVI/2013/20130101.csv\n",
      "Reading /data/public/zdc/2013/MOD_ATF_ITSMONAVI/2013/20130102.csv\n",
      "Reading /data/public/zdc/2013/MOD_ATF_ITSMONAVI/2013/20130103.csv\n",
      "Reading /data/public/zdc/2013/MOD_ATF_ITSMONAVI/2013/20130104.csv\n",
      "Reading /data/public/zdc/2013/MOD_ATF_ITSMONAVI/2013/20130105.csv\n",
      "Reading /data/public/zdc/2013/MOD_ATF_ITSMONAVI/2013/20130106.csv\n",
      "Reading /data/public/zdc/2013/MOD_ATF_ITSMONAVI/2013/20130107.csv\n",
      "Reading /data/public/zdc/2013/MOD_ATF_ITSMONAVI/2013/20130108.csv\n",
      "Reading /data/public/zdc/2013/MOD_ATF_ITSMONAVI/2013/20130109.csv\n",
      "Reading /data/public/zdc/2013/MOD_ATF_ITSMONAVI/2013/20130110.csv\n",
      "Reading /data/public/zdc/2013/MOD_ATF_ITSMONAVI/2013/20130111.csv\n",
      "Reading /data/public/zdc/2013/MOD_ATF_ITSMONAVI/2013/20130112.csv\n",
      "Reading /data/public/zdc/2013/MOD_ATF_ITSMONAVI/2013/20130113.csv\n",
      "Reading /data/public/zdc/2013/MOD_ATF_ITSMONAVI/2013/20130114.csv\n",
      "Reading /data/public/zdc/2013/MOD_ATF_ITSMONAVI/2013/20130115.csv\n",
      "Reading /data/public/zdc/2013/MOD_ATF_ITSMONAVI/2013/20130116.csv\n",
      "Reading /data/public/zdc/2013/MOD_ATF_ITSMONAVI/2013/20130117.csv\n",
      "Reading /data/public/zdc/2013/MOD_ATF_ITSMONAVI/2013/20130118.csv\n",
      "Reading /data/public/zdc/2013/MOD_ATF_ITSMONAVI/2013/20130119.csv\n",
      "Reading /data/public/zdc/2013/MOD_ATF_ITSMONAVI/2013/20130120.csv\n",
      "Reading /data/public/zdc/2013/MOD_ATF_ITSMONAVI/2013/20130121.csv\n",
      "Reading /data/public/zdc/2013/MOD_ATF_ITSMONAVI/2013/20130122.csv\n",
      "Reading /data/public/zdc/2013/MOD_ATF_ITSMONAVI/2013/20130123.csv\n",
      "Reading /data/public/zdc/2013/MOD_ATF_ITSMONAVI/2013/20130124.csv\n",
      "Reading /data/public/zdc/2013/MOD_ATF_ITSMONAVI/2013/20130125.csv\n",
      "Reading /data/public/zdc/2013/MOD_ATF_ITSMONAVI/2013/20130126.csv\n",
      "Reading /data/public/zdc/2013/MOD_ATF_ITSMONAVI/2013/20130127.csv\n",
      "Reading /data/public/zdc/2013/MOD_ATF_ITSMONAVI/2013/20130128.csv\n",
      "Reading /data/public/zdc/2013/MOD_ATF_ITSMONAVI/2013/20130129.csv\n",
      "Reading /data/public/zdc/2013/MOD_ATF_ITSMONAVI/2013/20130130.csv\n",
      "Reading /data/public/zdc/2013/MOD_ATF_ITSMONAVI/2013/20130131.csv\n",
      "Reading /data/public/zdc/2013/MOD_ATF_ITSMONAVI/2013/20130201.csv\n",
      "Reading /data/public/zdc/2013/MOD_ATF_ITSMONAVI/2013/20130202.csv\n",
      "Reading /data/public/zdc/2013/MOD_ATF_ITSMONAVI/2013/20130203.csv\n",
      "Reading /data/public/zdc/2013/MOD_ATF_ITSMONAVI/2013/20130204.csv\n",
      "Reading /data/public/zdc/2013/MOD_ATF_ITSMONAVI/2013/20130205.csv\n",
      "Reading /data/public/zdc/2013/MOD_ATF_ITSMONAVI/2013/20130206.csv\n",
      "Reading /data/public/zdc/2013/MOD_ATF_ITSMONAVI/2013/20130207.csv\n",
      "Reading /data/public/zdc/2013/MOD_ATF_ITSMONAVI/2013/20130208.csv\n",
      "Reading /data/public/zdc/2013/MOD_ATF_ITSMONAVI/2013/20130209.csv\n",
      "Reading /data/public/zdc/2013/MOD_ATF_ITSMONAVI/2013/20130210.csv\n",
      "Reading /data/public/zdc/2013/MOD_ATF_ITSMONAVI/2013/20130211.csv\n",
      "Reading /data/public/zdc/2013/MOD_ATF_ITSMONAVI/2013/20130212.csv\n",
      "Reading /data/public/zdc/2013/MOD_ATF_ITSMONAVI/2013/20130213.csv\n",
      "Reading /data/public/zdc/2013/MOD_ATF_ITSMONAVI/2013/20130214.csv\n",
      "Reading /data/public/zdc/2013/MOD_ATF_ITSMONAVI/2013/20130215.csv\n",
      "Reading /data/public/zdc/2013/MOD_ATF_ITSMONAVI/2013/20130216.csv\n",
      "Reading /data/public/zdc/2013/MOD_ATF_ITSMONAVI/2013/20130217.csv\n",
      "Reading /data/public/zdc/2013/MOD_ATF_ITSMONAVI/2013/20130218.csv\n",
      "Reading /data/public/zdc/2013/MOD_ATF_ITSMONAVI/2013/20130219.csv\n",
      "Reading /data/public/zdc/2013/MOD_ATF_ITSMONAVI/2013/20130220.csv\n",
      "Reading /data/public/zdc/2013/MOD_ATF_ITSMONAVI/2013/20130221.csv\n",
      "Reading /data/public/zdc/2013/MOD_ATF_ITSMONAVI/2013/20130222.csv\n",
      "Reading /data/public/zdc/2013/MOD_ATF_ITSMONAVI/2013/20130223.csv\n",
      "Reading /data/public/zdc/2013/MOD_ATF_ITSMONAVI/2013/20130224.csv\n",
      "Reading /data/public/zdc/2013/MOD_ATF_ITSMONAVI/2013/20130225.csv\n",
      "Reading /data/public/zdc/2013/MOD_ATF_ITSMONAVI/2013/20130226.csv\n",
      "Reading /data/public/zdc/2013/MOD_ATF_ITSMONAVI/2013/20130227.csv\n",
      "Reading /data/public/zdc/2013/MOD_ATF_ITSMONAVI/2013/20130228.csv\n"
     ]
    }
   ],
   "source": [
    "for filename, full_path in filename_generator(folder_path):\n",
    "    user_set = filter_users_in_region(full_path, lat_min, lat_max, lon_min, lon_max)\n",
    "    out_folder = '../data/UsersInOsaka2012/'\n",
    "    output_traj(full_path, out_folder, filename, user_set)"
   ]
  },
  {
   "cell_type": "code",
   "execution_count": null,
   "metadata": {},
   "outputs": [],
   "source": []
  },
  {
   "cell_type": "code",
   "execution_count": 10,
   "metadata": {
    "scrolled": true
   },
   "outputs": [],
   "source": [
    "filename = '/data/public/zdc/2013/MOD_ATF_ITSMONAVI/2013/20130119.csv'\n",
    "with open(filename, 'r') as f:\n",
    "    cnt = 0\n",
    "    for line in f.readlines():\n",
    "        cnt += 1\n",
    "        if len(line.split(',')) != 6:\n",
    "            break"
   ]
  },
  {
   "cell_type": "code",
   "execution_count": 11,
   "metadata": {},
   "outputs": [
    {
     "data": {
      "text/plain": [
       "14956222"
      ]
     },
     "execution_count": 11,
     "metadata": {},
     "output_type": "execute_result"
    }
   ],
   "source": [
    "cnt"
   ]
  }
 ],
 "metadata": {
  "kernelspec": {
   "display_name": "Python 3",
   "language": "python",
   "name": "python3"
  },
  "language_info": {
   "codemirror_mode": {
    "name": "ipython",
    "version": 3
   },
   "file_extension": ".py",
   "mimetype": "text/x-python",
   "name": "python",
   "nbconvert_exporter": "python",
   "pygments_lexer": "ipython3",
   "version": "3.8.8"
  }
 },
 "nbformat": 4,
 "nbformat_minor": 2
}
