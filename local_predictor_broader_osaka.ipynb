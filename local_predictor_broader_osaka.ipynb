{
 "cells": [
  {
   "cell_type": "code",
   "execution_count": 1,
   "metadata": {},
   "outputs": [],
   "source": [
    "import torch\n",
    "import torch.nn as nn\n",
    "import pickle as pk\n",
    "import numpy as np\n",
    "from model import LocalPredictor\n",
    "import random"
   ]
  },
  {
   "cell_type": "code",
   "execution_count": 2,
   "metadata": {
    "scrolled": true
   },
   "outputs": [
    {
     "name": "stdout",
     "output_type": "stream",
     "text": [
      "/data/fan/UsersInOsakaProcessed/20121001_interp.pk\n",
      "/data/fan/UsersInOsakaProcessed/20121002_interp.pk\n",
      "/data/fan/UsersInOsakaProcessed/20121003_interp.pk\n",
      "/data/fan/UsersInOsakaProcessed/20121004_interp.pk\n",
      "/data/fan/UsersInOsakaProcessed/20121005_interp.pk\n",
      "/data/fan/UsersInOsakaProcessed/20121006_interp.pk\n",
      "/data/fan/UsersInOsakaProcessed/20121007_interp.pk\n",
      "/data/fan/UsersInOsakaProcessed/20121008_interp.pk\n",
      "/data/fan/UsersInOsakaProcessed/20121009_interp.pk\n",
      "/data/fan/UsersInOsakaProcessed/20121010_interp.pk\n",
      "/data/fan/UsersInOsakaProcessed/20121011_interp.pk\n",
      "/data/fan/UsersInOsakaProcessed/20121012_interp.pk\n",
      "/data/fan/UsersInOsakaProcessed/20121013_interp.pk\n",
      "/data/fan/UsersInOsakaProcessed/20121014_interp.pk\n",
      "/data/fan/UsersInOsakaProcessed/20121015_interp.pk\n",
      "/data/fan/UsersInOsakaProcessed/20121016_interp.pk\n",
      "/data/fan/UsersInOsakaProcessed/20121017_interp.pk\n",
      "/data/fan/UsersInOsakaProcessed/20121018_interp.pk\n",
      "/data/fan/UsersInOsakaProcessed/20121019_interp.pk\n",
      "/data/fan/UsersInOsakaProcessed/20121020_interp.pk\n",
      "/data/fan/UsersInOsakaProcessed/20121021_interp.pk\n",
      "/data/fan/UsersInOsakaProcessed/20121022_interp.pk\n",
      "/data/fan/UsersInOsakaProcessed/20121023_interp.pk\n",
      "/data/fan/UsersInOsakaProcessed/20121024_interp.pk\n",
      "/data/fan/UsersInOsakaProcessed/20121025_interp.pk\n",
      "/data/fan/UsersInOsakaProcessed/20121026_interp.pk\n",
      "/data/fan/UsersInOsakaProcessed/20121027_interp.pk\n",
      "/data/fan/UsersInOsakaProcessed/20121028_interp.pk\n"
     ]
    }
   ],
   "source": [
    "data = dict({})\n",
    "for d in range(1, 29):\n",
    "    filename = '/data/fan/UsersInOsakaProcessed/201210{:02d}_interp.pk'.format(d)\n",
    "    print(filename)\n",
    "    with open(filename, 'rb') as f:\n",
    "        data[d] = pk.load(f)"
   ]
  },
  {
   "cell_type": "code",
   "execution_count": 3,
   "metadata": {},
   "outputs": [],
   "source": [
    "uid_sets = dict({})\n",
    "for d in data:\n",
    "    uid_sets[d] = set(list(data[d].keys()))"
   ]
  },
  {
   "cell_type": "code",
   "execution_count": 4,
   "metadata": {},
   "outputs": [],
   "source": [
    "uid_doc_set = set([])\n",
    "for d in range(1, 15):\n",
    "    uid_doc_set = uid_doc_set | uid_sets[d]"
   ]
  },
  {
   "cell_type": "code",
   "execution_count": 5,
   "metadata": {},
   "outputs": [],
   "source": [
    "data_doc = dict({})\n",
    "data_qry_train = dict({})\n",
    "data_qry_test = dict({})\n",
    "\n",
    "for d in range(1, 15):\n",
    "    for uid in data[d]:\n",
    "        if uid not in data_doc:\n",
    "            data_doc[uid] = [data[d][uid]]\n",
    "        else:\n",
    "            data_doc[uid].append(data[d][uid])\n",
    "\n",
    "for d in range(15, 22):\n",
    "    for uid in data[d]:\n",
    "        if uid not in data_qry_train:\n",
    "            data_qry_train[uid] = [data[d][uid]]\n",
    "        else:\n",
    "            data_qry_train[uid].append(data[d][uid])\n",
    "            \n",
    "for d in range(22, 29):\n",
    "    for uid in data[d]:\n",
    "        if uid not in data_qry_test:\n",
    "            data_qry_test[uid] = [data[d][uid]]\n",
    "        else:\n",
    "            data_qry_test[uid].append(data[d][uid])"
   ]
  },
  {
   "cell_type": "code",
   "execution_count": 6,
   "metadata": {},
   "outputs": [],
   "source": [
    "for uid in data_doc:\n",
    "    data_doc[uid] = torch.LongTensor(data_doc[uid]).cuda(1)\n",
    "\n",
    "for uid in data_qry_train:\n",
    "    data_qry_train[uid] = torch.LongTensor(data_qry_train[uid]).cuda(1)\n",
    "    \n",
    "for uid in data_qry_test:\n",
    "    data_qry_test[uid] = torch.LongTensor(data_qry_test[uid]).cuda(1)"
   ]
  },
  {
   "cell_type": "code",
   "execution_count": 7,
   "metadata": {},
   "outputs": [],
   "source": [
    "num_locs = 1600\n",
    "loc_embedding_dim = 128\n",
    "T = 96\n",
    "num_time = T\n",
    "time_embedding_dim = 32\n",
    "hidden_dim = 256\n",
    "latent_dim = 256\n",
    "n_layers = 2"
   ]
  },
  {
   "cell_type": "code",
   "execution_count": 8,
   "metadata": {},
   "outputs": [],
   "source": [
    "local_predictor = LocalPredictor(num_locs, loc_embedding_dim, num_time, time_embedding_dim, hidden_dim, latent_dim, n_layers).cuda(1)"
   ]
  },
  {
   "cell_type": "code",
   "execution_count": 9,
   "metadata": {},
   "outputs": [],
   "source": [
    "optimizer = torch.optim.RMSprop(local_predictor.parameters(), lr=1e-3)\n",
    "optimizer_scheduler = torch.optim.lr_scheduler.StepLR(optimizer, step_size=2, gamma=0.8)"
   ]
  },
  {
   "cell_type": "code",
   "execution_count": 10,
   "metadata": {},
   "outputs": [],
   "source": [
    "dT = 4"
   ]
  },
  {
   "cell_type": "code",
   "execution_count": 11,
   "metadata": {},
   "outputs": [],
   "source": [
    "training_loss = dict({})\n",
    "validation_loss = dict({})"
   ]
  },
  {
   "cell_type": "code",
   "execution_count": 14,
   "metadata": {
    "scrolled": true
   },
   "outputs": [
    {
     "name": "stdout",
     "output_type": "stream",
     "text": [
      "Epoch 01, avg_loss = 1.2566\n",
      "Epoch 02, avg_loss = 1.2526\n",
      "Epoch 03, avg_loss = 1.2577\n",
      "Epoch 04, avg_loss = 1.2528\n",
      "Epoch 05, avg_loss = 1.2510\n",
      "Validation Loss = 1.3123\n",
      "Epoch 06, avg_loss = 1.2425\n",
      "Epoch 07, avg_loss = 1.2422\n",
      "Epoch 08, avg_loss = 1.2456\n",
      "Epoch 09, avg_loss = 1.2544\n",
      "Epoch 10, avg_loss = 1.2529\n",
      "Validation Loss = 1.3051\n"
     ]
    }
   ],
   "source": [
    "batch_size = 128\n",
    "user_list_train = list(data_qry_train.keys())\n",
    "\n",
    "for epoch in range(1, 11):\n",
    "    optimizer.zero_grad()\n",
    "    optimizer_scheduler.step()\n",
    "    \n",
    "    random.shuffle(user_list_train)\n",
    "    \n",
    "    avg_loss = 0.0\n",
    "    cnt = 0\n",
    "    \n",
    "    for uid in user_list_train:\n",
    "        t = np.random.randint(T - 2 * dT + 1)\n",
    "        x_loc_qry = data_qry_train[uid][:, t: t + dT]\n",
    "        x_t_qry = torch.zeros_like(x_loc_qry) + t\n",
    "        y = data_qry_train[uid][:, t + 2 * dT - 1]\n",
    "        \n",
    "        if uid not in data_doc:\n",
    "            loss = local_predictor(x_loc_qry, x_t_qry, None, None, y)\n",
    "        else:\n",
    "            x_loc_doc = []\n",
    "            x_t_doc = []\n",
    "            for j in range(-2, 2):\n",
    "                if t + j >= 0 and t + 2 * dT + j <= T:\n",
    "                    tmp = data_doc[uid][:, t + j: t + 2 * dT + j]\n",
    "                    x_loc_doc.append(tmp)\n",
    "                    x_t_doc.append(torch.zeros_like(tmp) + t + j)\n",
    "            loss = local_predictor(x_loc_qry, x_t_qry, torch.cat(x_loc_doc, dim=0), torch.cat(x_t_doc, dim=0), y)\n",
    "        \n",
    "        loss.backward()\n",
    "        cnt += data_qry_train[uid].shape[0]\n",
    "        avg_loss += loss.item()\n",
    "\n",
    "        if cnt % batch_size == 0:\n",
    "            optimizer.step()\n",
    "            optimizer.zero_grad()\n",
    "\n",
    "            print('Epoch {:02d}, avg_loss = {:.4f}'.format(epoch, avg_loss / cnt), end='\\r')\n",
    "    training_loss[epoch] = avg_loss / cnt\n",
    "    print('')\n",
    "    \n",
    "    if epoch % 5 == 0:\n",
    "        # testing\n",
    "        cnt = 0\n",
    "        avg_loss = 0.0\n",
    "\n",
    "        with torch.no_grad():\n",
    "            for uid in data_qry_test:\n",
    "                t = np.random.randint(T - 2 * dT + 1)\n",
    "                x_loc_qry = data_qry_test[uid][:, t: t + dT]\n",
    "                x_t_qry = torch.zeros_like(x_loc_qry) + t\n",
    "                y = data_qry_test[uid][:, t + 2 * dT - 1]\n",
    "\n",
    "                if uid not in data_doc:\n",
    "                    loss = local_predictor(x_loc_qry, x_t_qry, None, None, y)\n",
    "                else:\n",
    "                    x_loc_doc = []\n",
    "                    x_t_doc = []\n",
    "                    for j in range(-2, 2):\n",
    "                        if t + j >= 0 and t + 2 * dT + j <= T:\n",
    "                            tmp = data_doc[uid][:, t + j: t + 2 * dT + j]\n",
    "                            x_loc_doc.append(tmp)\n",
    "                            x_t_doc.append(torch.zeros_like(tmp) + t + j)\n",
    "                    loss = local_predictor(x_loc_qry, x_t_qry, torch.cat(x_loc_doc, dim=0), torch.cat(x_t_doc, dim=0), y)\n",
    "\n",
    "                cnt += data_qry_test[uid].shape[0]\n",
    "                avg_loss += loss.item()\n",
    "\n",
    "        print('Validation Loss = {:.4f}'.format(avg_loss / cnt))\n",
    "        validation_loss[epoch] = avg_loss / cnt"
   ]
  },
  {
   "cell_type": "code",
   "execution_count": 15,
   "metadata": {},
   "outputs": [],
   "source": [
    "torch.save(local_predictor, './results_osaka/local_predictor_broader_5.pytorch')"
   ]
  },
  {
   "cell_type": "code",
   "execution_count": null,
   "metadata": {},
   "outputs": [],
   "source": []
  },
  {
   "cell_type": "code",
   "execution_count": null,
   "metadata": {},
   "outputs": [],
   "source": []
  },
  {
   "cell_type": "code",
   "execution_count": 14,
   "metadata": {},
   "outputs": [],
   "source": [
    "with open('./results_osaka/centralized_local_predictor_training_loss.pk', 'wb') as f:\n",
    "    pk.dump(training_loss, f)\n",
    "with open('./results_osaka/centralized_local_predictor_validation_loss.pk', 'wb') as f:\n",
    "    pk.dump(validation_loss, f)"
   ]
  },
  {
   "cell_type": "code",
   "execution_count": null,
   "metadata": {},
   "outputs": [],
   "source": []
  }
 ],
 "metadata": {
  "kernelspec": {
   "display_name": "Python 3",
   "language": "python",
   "name": "python3"
  },
  "language_info": {
   "codemirror_mode": {
    "name": "ipython",
    "version": 3
   },
   "file_extension": ".py",
   "mimetype": "text/x-python",
   "name": "python",
   "nbconvert_exporter": "python",
   "pygments_lexer": "ipython3",
   "version": "3.7.4"
  }
 },
 "nbformat": 4,
 "nbformat_minor": 2
}
